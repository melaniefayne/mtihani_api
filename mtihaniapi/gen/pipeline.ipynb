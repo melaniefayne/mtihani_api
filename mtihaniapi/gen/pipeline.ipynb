{
 "cells": [
  {
   "cell_type": "code",
   "execution_count": 1,
   "id": "3e21ab12",
   "metadata": {},
   "outputs": [],
   "source": [
    "from curriculum import get_cbc_grouped_questions, get_rubrics_by_sub_strand\n",
    "from utils import *"
   ]
  },
  {
   "cell_type": "markdown",
   "id": "786b3dd6",
   "metadata": {},
   "source": [
    "## Generate questions"
   ]
  },
  {
   "cell_type": "code",
   "execution_count": 2,
   "id": "8b14605a",
   "metadata": {},
   "outputs": [
    {
     "name": "stdout",
     "output_type": "stream",
     "text": [
      "\n",
      "✅ Question breakdown written to output/question_breakdown.json. Total: 3\n"
     ]
    }
   ],
   "source": [
    "grouped_questions = get_cbc_grouped_questions(\n",
    "    strand_ids=[8,9,10], \n",
    "    question_count=5,\n",
    "    bloom_skill_count=1,\n",
    "    is_debug=True, \n",
    "    curriculum_file=\"data/cbc_data.json\",\n",
    ")"
   ]
  },
  {
   "cell_type": "code",
   "execution_count": 3,
   "id": "99a45f9f",
   "metadata": {},
   "outputs": [
    {
     "name": "stdout",
     "output_type": "stream",
     "text": [
      "\n",
      "Machines =========\n",
      "📝 Input token count (gpt-4o): 715\n",
      "📦 Raw LLM output:\n",
      " content='[{\"question\":\"In a school science project, Amina uses a lever to lift a heavy stone. Explain how the lever makes her work easier and identify the type of simple machine a lever is.\",\"expected_answer\":\"A lever makes work easier by allowing Amina to apply less force over a greater distance to lift the stone, and it is a type of simple machine known as a lever.\"}]' additional_kwargs={'refusal': None} response_metadata={'token_usage': {'completion_tokens': 80, 'prompt_tokens': 722, 'total_tokens': 802, 'completion_tokens_details': {'accepted_prediction_tokens': 0, 'audio_tokens': 0, 'reasoning_tokens': 0, 'rejected_prediction_tokens': 0}, 'prompt_tokens_details': {'audio_tokens': 0, 'cached_tokens': 0}}, 'model_name': 'gpt-4o-2024-08-06', 'system_fingerprint': 'fp_90122d973c', 'id': 'chatcmpl-BWh9O92COKTJptyFHrRXfKt6SfGHg', 'service_tier': 'default', 'finish_reason': 'stop', 'logprobs': None} id='run--928d6170-07f9-4d8b-9c24-fee6bb320a1c-0' usage_metadata={'input_tokens': 722, 'output_tokens': 80, 'total_tokens': 802, 'input_token_details': {'audio': 0, 'cache_read': 0}, 'output_token_details': {'audio': 0, 'reasoning': 0}}\n",
      "📤 Output token count (gpt-4o): 79\n",
      "🔢 Total token usage: 794\n",
      "\n",
      "Pollution =========\n",
      "📝 Input token count (gpt-4o): 710\n",
      "📦 Raw LLM output:\n",
      " content='[{\"question\":\"What are the three main types of pollution commonly found in urban areas like Nairobi?\",\"expected_answer\":\"The three main types of pollution commonly found in urban areas like Nairobi are air pollution, water pollution, and noise pollution.\"},{\"question\":\"During a school trip to Lake Victoria, Amina noticed plastic waste along the shore and wondered about its impact. Evaluate the effectiveness of community clean-up activities in reducing pollution in such areas.\",\"expected_answer\":\"Community clean-up activities can be effective in reducing pollution by removing visible waste, raising awareness, and encouraging responsible waste disposal, but they need to be part of a larger strategy including education and policy changes to have a lasting impact.\"}]' additional_kwargs={'refusal': None} response_metadata={'token_usage': {'completion_tokens': 138, 'prompt_tokens': 717, 'total_tokens': 855, 'completion_tokens_details': {'accepted_prediction_tokens': 0, 'audio_tokens': 0, 'reasoning_tokens': 0, 'rejected_prediction_tokens': 0}, 'prompt_tokens_details': {'audio_tokens': 0, 'cached_tokens': 0}}, 'model_name': 'gpt-4o-2024-08-06', 'system_fingerprint': 'fp_90122d973c', 'id': 'chatcmpl-BWh9RYV36j4a6GiQ7besR4uob44jS', 'service_tier': 'default', 'finish_reason': 'stop', 'logprobs': None} id='run--deb7f8d4-cfa2-416b-99dc-3014249cfc36-0' usage_metadata={'input_tokens': 717, 'output_tokens': 138, 'total_tokens': 855, 'input_token_details': {'audio': 0, 'cache_read': 0}, 'output_token_details': {'audio': 0, 'reasoning': 0}}\n",
      "📤 Output token count (gpt-4o): 137\n",
      "🔢 Total token usage: 847\n",
      "\n",
      "Water Hardness =========\n",
      "📝 Input token count (gpt-4o): 729\n",
      "📦 Raw LLM output:\n",
      " content='[\\n  {\\n    \"question\": \"Amina noticed that her family\\'s soap does not lather well when she uses water from the well, but it lathers easily with rainwater. What is the difference between the well water and rainwater that affects the soap\\'s ability to lather?\",\\n    \"expected_answer\": \"The well water is likely hard water, which contains minerals like calcium and magnesium that prevent soap from lathering well, while rainwater is soft water and does not contain these minerals.\"\\n  },\\n  {\\n    \"question\": \"Brian\\'s teacher asked him to explain why boiling water from the river sometimes makes it easier to form soap lather. What could be the reason for this change in the water\\'s properties?\",\\n    \"expected_answer\": \"Boiling the river water can remove temporary hardness caused by dissolved bicarbonate minerals, making it easier for soap to lather by converting the hard water into soft water.\"\\n  }\\n]' additional_kwargs={'refusal': None} response_metadata={'token_usage': {'completion_tokens': 190, 'prompt_tokens': 736, 'total_tokens': 926, 'completion_tokens_details': {'accepted_prediction_tokens': 0, 'audio_tokens': 0, 'reasoning_tokens': 0, 'rejected_prediction_tokens': 0}, 'prompt_tokens_details': {'audio_tokens': 0, 'cached_tokens': 0}}, 'model_name': 'gpt-4o-2024-08-06', 'system_fingerprint': 'fp_90122d973c', 'id': 'chatcmpl-BWh9UewxgX6LOWbk6KpiPTs0cLGor', 'service_tier': 'default', 'finish_reason': 'stop', 'logprobs': None} id='run--d8ed61c2-0478-4a25-b6e2-ef9e0d776919-0' usage_metadata={'input_tokens': 736, 'output_tokens': 190, 'total_tokens': 926, 'input_token_details': {'audio': 0, 'cache_read': 0}, 'output_token_details': {'audio': 0, 'reasoning': 0}}\n",
      "📤 Output token count (gpt-4o): 189\n",
      "🔢 Total token usage: 918\n",
      "\n",
      "✅ Question list written to output/question_list.json. Total: 5\n"
     ]
    }
   ],
   "source": [
    "all_question_list = generate_llm_question_list(\n",
    "    grouped_question_data=grouped_questions,\n",
    "    is_debug=True,\n",
    ")\n",
    "\n",
    "# If there was a generation error\n",
    "if not isinstance(all_question_list, list):\n",
    "    print(all_question_list)"
   ]
  },
  {
   "cell_type": "code",
   "execution_count": 4,
   "id": "54212919",
   "metadata": {},
   "outputs": [
    {
     "name": "stdout",
     "output_type": "stream",
     "text": [
      "\n",
      "✅ Question list to output/question_list.json. Total: 5\n"
     ]
    }
   ],
   "source": [
    "exam_questions = get_db_question_objects(\n",
    "    all_question_list=all_question_list,\n",
    "    is_debug=True,\n",
    ")"
   ]
  },
  {
   "cell_type": "markdown",
   "id": "57fd1ee3",
   "metadata": {},
   "source": [
    "## Simulate student answers"
   ]
  },
  {
   "cell_type": "code",
   "execution_count": 5,
   "id": "6f955561",
   "metadata": {},
   "outputs": [
    {
     "name": "stdout",
     "output_type": "stream",
     "text": [
      "[{'id': 1, 'question': \"Amina noticed that her family's soap does not lather well when she uses water from the well, but it lathers easily with rainwater. What is the difference between the well water and rainwater that affects the soap's ability to lather?\", 'expected_answer': 'The well water is likely hard water, which contains minerals like calcium and magnesium that prevent soap from lathering well, while rainwater is soft water and does not contain these minerals.'}, {'id': 2, 'question': 'What are the three main types of pollution commonly found in urban areas like Nairobi?', 'expected_answer': 'The three main types of pollution commonly found in urban areas like Nairobi are air pollution, water pollution, and noise pollution.'}, {'id': 3, 'question': 'In a school science project, Amina uses a lever to lift a heavy stone. Explain how the lever makes her work easier and identify the type of simple machine a lever is.', 'expected_answer': 'A lever makes work easier by allowing Amina to apply less force over a greater distance to lift the stone, and it is a type of simple machine known as a lever.'}, {'id': 4, 'question': \"Brian's teacher asked him to explain why boiling water from the river sometimes makes it easier to form soap lather. What could be the reason for this change in the water's properties?\", 'expected_answer': 'Boiling the river water can remove temporary hardness caused by dissolved bicarbonate minerals, making it easier for soap to lather by converting the hard water into soft water.'}, {'id': 5, 'question': 'During a school trip to Lake Victoria, Amina noticed plastic waste along the shore and wondered about its impact. Evaluate the effectiveness of community clean-up activities in reducing pollution in such areas.', 'expected_answer': 'Community clean-up activities can be effective in reducing pollution by removing visible waste, raising awareness, and encouraging responsible waste disposal, but they need to be part of a larger strategy including education and policy changes to have a lasting impact.'}]\n"
     ]
    }
   ],
   "source": [
    "def convert_to_single_qa_list(data):\n",
    "    result = []\n",
    "    for index, item in enumerate(data):\n",
    "        questions = item[\"questions\"]\n",
    "        expected_answers = item[\"expected_answers\"]\n",
    "\n",
    "        if isinstance(questions, str):\n",
    "            questions = [questions]\n",
    "        if isinstance(expected_answers, str):\n",
    "            expected_answers = [expected_answers]\n",
    "\n",
    "        if questions and expected_answers:\n",
    "            result.append({\n",
    "                \"id\": index + 1,\n",
    "                \"question\": questions[0],\n",
    "                \"expected_answer\": expected_answers[0]\n",
    "            })\n",
    "\n",
    "    return result\n",
    "\n",
    "exam_output = convert_to_single_qa_list(exam_questions)\n",
    "print(exam_output)"
   ]
  },
  {
   "cell_type": "code",
   "execution_count": 6,
   "id": "6bfc4208",
   "metadata": {},
   "outputs": [],
   "source": [
    "sample_students = [{'id': 1, 'avg_score': 12}, {'id': 2, 'avg_score': 95}, {\n",
    "    'id': 3, 'avg_score': 54}, {'id': 4, 'avg_score': 71},]"
   ]
  },
  {
   "cell_type": "code",
   "execution_count": 7,
   "id": "42fdf3da",
   "metadata": {},
   "outputs": [
    {
     "name": "stdout",
     "output_type": "stream",
     "text": [
      "📝 Input token count (gpt-4o): 951\n",
      "📦 Raw LLM output:\n",
      " content='```json\\n[\\n  {\\n    \"id\": 1,\\n    \"answers\": [\\n      {\\n        \"question_id\": \"1\",\\n        \"answer\": \"I think the well water has something in it that stops the soap from making bubbles, but rainwater doesn\\'t have that.\"\\n      },\\n      {\\n        \"question_id\": \"2\",\\n        \"answer\": \"In Nairobi, there is a lot of smoke from cars, dirty water, and loud noises.\"\\n      },\\n      {\\n        \"question_id\": \"3\",\\n        \"answer\": \"A lever helps lift things by making it easier to push up the stone.\"\\n      },\\n      {\\n        \"question_id\": \"4\",\\n        \"answer\": \"Boiling the water makes it better for soap because it changes something in the water.\"\\n      },\\n      {\\n        \"question_id\": \"5\",\\n        \"answer\": \"Cleaning up helps make the place look better, but it might not stop all the pollution.\"\\n      }\\n    ]\\n  },\\n  {\\n    \"id\": 2,\\n    \"answers\": [\\n      {\\n        \"question_id\": \"1\",\\n        \"answer\": \"Well water is hard because it has minerals like calcium and magnesium, which stop soap from lathering. Rainwater is soft and doesn\\'t have these minerals.\"\\n      },\\n      {\\n        \"question_id\": \"2\",\\n        \"answer\": \"The main types of pollution in Nairobi are air pollution from vehicles, water pollution from waste, and noise pollution from traffic and industries.\"\\n      },\\n      {\\n        \"question_id\": \"3\",\\n        \"answer\": \"A lever makes work easier by reducing the force needed to lift the stone. It is a simple machine that uses a fulcrum to help lift heavy objects.\"\\n      },\\n      {\\n        \"question_id\": \"4\",\\n        \"answer\": \"Boiling river water removes temporary hardness by getting rid of minerals that make it hard, allowing soap to lather better.\"\\n      },\\n      {\\n        \"question_id\": \"5\",\\n        \"answer\": \"Community clean-ups are effective in reducing visible pollution and raising awareness, but they need to be part of a larger strategy with education and policy changes for lasting impact.\"\\n      }\\n    ]\\n  },\\n  {\\n    \"id\": 3,\\n    \"answers\": [\\n      {\\n        \"question_id\": \"1\",\\n        \"answer\": \"Well water has minerals that stop soap from lathering, but rainwater doesn\\'t have them.\"\\n      },\\n      {\\n        \"question_id\": \"2\",\\n        \"answer\": \"In Nairobi, there is air pollution, water pollution, and noise pollution.\"\\n      },\\n      {\\n        \"question_id\": \"3\",\\n        \"answer\": \"A lever helps by making it easier to lift heavy things. It is a simple machine.\"\\n      },\\n      {\\n        \"question_id\": \"4\",\\n        \"answer\": \"Boiling water can remove some minerals, making it easier for soap to lather.\"\\n      },\\n      {\\n        \"question_id\": \"5\",\\n        \"answer\": \"Community clean-ups help reduce pollution by removing waste and making people aware, but more needs to be done.\"\\n      }\\n    ]\\n  },\\n  {\\n    \"id\": 4,\\n    \"answers\": [\\n      {\\n        \"question_id\": \"1\",\\n        \"answer\": \"The well water has minerals like calcium that make it hard, so soap doesn\\'t lather well. Rainwater is soft and doesn\\'t have these minerals.\"\\n      },\\n      {\\n        \"question_id\": \"2\",\\n        \"answer\": \"The main types of pollution in Nairobi are air pollution, water pollution, and noise pollution.\"\\n      },\\n      {\\n        \"question_id\": \"3\",\\n        \"answer\": \"A lever makes work easier by allowing you to use less force to lift something heavy. It is a type of simple machine.\"\\n      },\\n      {\\n        \"question_id\": \"4\",\\n        \"answer\": \"Boiling river water removes temporary hardness, which helps soap to lather better.\"\\n      },\\n      {\\n        \"question_id\": \"5\",\\n        \"answer\": \"Community clean-ups are effective in reducing pollution by removing waste and raising awareness, but they need to be part of a bigger plan to have a lasting effect.\"\\n      }\\n    ]\\n  }\\n]\\n```' additional_kwargs={'refusal': None} response_metadata={'token_usage': {'completion_tokens': 866, 'prompt_tokens': 904, 'total_tokens': 1770, 'completion_tokens_details': {'accepted_prediction_tokens': 0, 'audio_tokens': 0, 'reasoning_tokens': 0, 'rejected_prediction_tokens': 0}, 'prompt_tokens_details': {'audio_tokens': 0, 'cached_tokens': 0}}, 'model_name': 'gpt-4o-2024-08-06', 'system_fingerprint': 'fp_90122d973c', 'id': 'chatcmpl-BWh9Y8JvcOB06mYwtU9fv6voNgg0r', 'service_tier': 'default', 'finish_reason': 'stop', 'logprobs': None} id='run--370a51b6-c089-4ec0-a660-4c8332a2fdd7-0' usage_metadata={'input_tokens': 904, 'output_tokens': 866, 'total_tokens': 1770, 'input_token_details': {'audio': 0, 'cache_read': 0}, 'output_token_details': {'audio': 0, 'reasoning': 0}}\n",
      "📤 Output token count (gpt-4o): 861\n",
      "🔢 Total token usage: 1812\n",
      "\n",
      "✅ Mocked Answers list written to output/answers_list.json\n"
     ]
    }
   ],
   "source": [
    "parsed_answers = generate_llm_exam_answers_list(\n",
    "    llm=OPENAI_LLM_4O,\n",
    "    exam_data=exam_output,\n",
    "    student_data=sample_students,\n",
    "    is_debug=True,\n",
    ")"
   ]
  },
  {
   "cell_type": "code",
   "execution_count": 8,
   "id": "72fe8ca7",
   "metadata": {},
   "outputs": [],
   "source": [
    "# # ==== DB MOCK ANSWERS\n",
    "# # ====================\n",
    "# exam = []\n",
    "# EXAM_FILE = \"data/exam.json\"\n",
    "\n",
    "# with open(EXAM_FILE, \"r\") as f:\n",
    "#     exam = json.load(f)\n",
    "\n",
    "# print(exam)\n",
    "\n",
    "\n",
    "# students = []\n",
    "# STUDENT_FILE = \"data/classroom.json\"\n",
    "\n",
    "# with open(STUDENT_FILE, \"r\") as f:\n",
    "#     students = json.load(f)\n",
    "\n",
    "# print(students)\n",
    "\n",
    "\n",
    "# parsed_answers = generate_llm_exam_answers_list(\n",
    "#     llm=OPENAI_LLM_4O,\n",
    "#     exam_data=exam,\n",
    "#     student_data=students,\n",
    "#     is_debug=True,\n",
    "# )"
   ]
  },
  {
   "cell_type": "markdown",
   "id": "fafd46fe",
   "metadata": {},
   "source": [
    "## Grade answers"
   ]
  },
  {
   "cell_type": "code",
   "execution_count": 9,
   "id": "509a6026",
   "metadata": {},
   "outputs": [],
   "source": [
    "def get_answers_for_question(target_question_id, start_count):\n",
    "    result = []\n",
    "    count = start_count\n",
    "    for entry in parsed_answers:\n",
    "        for answer in entry[\"answers\"]:\n",
    "            if answer[\"question_id\"] == str(target_question_id):\n",
    "                result.append({\n",
    "                    \"answer_id\": count,\n",
    "                    \"answer\": answer[\"answer\"],\n",
    "                })\n",
    "                count += 1\n",
    "    return result, count\n",
    "\n",
    "\n",
    "grouped_answers_data = []\n",
    "count = 1\n",
    "\n",
    "for idx, q in enumerate(exam_questions):\n",
    "    item = {\n",
    "        \"question\": q[\"description\"],\n",
    "        \"expected_answer\": q[\"expected_answer\"],\n",
    "        \"rubrics\": get_rubrics_by_sub_strand(\n",
    "            sub_strand_name=q[\"sub_strand\"],\n",
    "            curriculum_file=\"data/cbc_data.json\",\n",
    "        )\n",
    "    }\n",
    "    student_answers, count = get_answers_for_question(idx + 1, count)\n",
    "    item[\"student_answers\"] = student_answers\n",
    "\n",
    "    grouped_answers_data.append(item)"
   ]
  },
  {
   "cell_type": "code",
   "execution_count": 10,
   "id": "c78940ca",
   "metadata": {},
   "outputs": [
    {
     "name": "stdout",
     "output_type": "stream",
     "text": [
      "✅ Mocked Answers list written to output/answers_list.json\n"
     ]
    }
   ],
   "source": [
    "ANSWERS_LIST_OUTPUT_FILE = \"output/answers_list.json\"\n",
    "with open(ANSWERS_LIST_OUTPUT_FILE, 'w', encoding='utf-8') as f:\n",
    "    json.dump(grouped_answers_data, f, ensure_ascii=False, indent=4)\n",
    "print(f\"✅ Mocked Answers list written to {ANSWERS_LIST_OUTPUT_FILE}\")"
   ]
  },
  {
   "cell_type": "code",
   "execution_count": 11,
   "id": "c44699d4",
   "metadata": {},
   "outputs": [
    {
     "name": "stdout",
     "output_type": "stream",
     "text": [
      "\n",
      "Amina noticed that her family's soap does not lather well when she uses water from the well, but it lathers easily with rainwater. What is the difference between the well water and rainwater that affects the soap's ability to lather? =========\n",
      "📝 Input token count (gpt-4o): 654\n",
      "📦 Raw LLM output:\n",
      " content='```json\\n[\\n    {\"answer_id\": 1, \"score\": 2},\\n    {\"answer_id\": 2, \"score\": 3},\\n    {\"answer_id\": 3, \"score\": 2},\\n    {\"answer_id\": 4, \"score\": 3}\\n]\\n```' additional_kwargs={'refusal': None} response_metadata={'token_usage': {'completion_tokens': 63, 'prompt_tokens': 661, 'total_tokens': 724, 'completion_tokens_details': {'accepted_prediction_tokens': 0, 'audio_tokens': 0, 'reasoning_tokens': 0, 'rejected_prediction_tokens': 0}, 'prompt_tokens_details': {'audio_tokens': 0, 'cached_tokens': 0}}, 'model_name': 'gpt-4o-2024-08-06', 'system_fingerprint': 'fp_f5bdcc3276', 'id': 'chatcmpl-BWh9lQxE4lPXGwQ6S13DqPTxMBr7H', 'service_tier': 'default', 'finish_reason': 'stop', 'logprobs': None} id='run--d0d72551-a844-421b-bce9-146e71adaf84-0' usage_metadata={'input_tokens': 661, 'output_tokens': 63, 'total_tokens': 724, 'input_token_details': {'audio': 0, 'cache_read': 0}, 'output_token_details': {'audio': 0, 'reasoning': 0}}\n",
      "📤 Output token count (gpt-4o): 58\n",
      "🔢 Total token usage: 712\n",
      "\n",
      "What are the three main types of pollution commonly found in urban areas like Nairobi? =========\n",
      "📝 Input token count (gpt-4o): 597\n",
      "📦 Raw LLM output:\n",
      " content='```json\\n[{\"answer_id\": 5, \"score\": 2}, {\"answer_id\": 6, \"score\": 4}, {\"answer_id\": 7, \"score\": 3}, {\"answer_id\": 8, \"score\": 3}]\\n```' additional_kwargs={'refusal': None} response_metadata={'token_usage': {'completion_tokens': 58, 'prompt_tokens': 604, 'total_tokens': 662, 'completion_tokens_details': {'accepted_prediction_tokens': 0, 'audio_tokens': 0, 'reasoning_tokens': 0, 'rejected_prediction_tokens': 0}, 'prompt_tokens_details': {'audio_tokens': 0, 'cached_tokens': 0}}, 'model_name': 'gpt-4o-2024-08-06', 'system_fingerprint': 'fp_f5bdcc3276', 'id': 'chatcmpl-BWh9mttK9GG2wN5mwNfIoenlWCzGz', 'service_tier': 'default', 'finish_reason': 'stop', 'logprobs': None} id='run--22594e58-c71e-4ad9-9282-318e064909a7-0' usage_metadata={'input_tokens': 604, 'output_tokens': 58, 'total_tokens': 662, 'input_token_details': {'audio': 0, 'cache_read': 0}, 'output_token_details': {'audio': 0, 'reasoning': 0}}\n",
      "📤 Output token count (gpt-4o): 53\n",
      "🔢 Total token usage: 650\n",
      "\n",
      "In a school science project, Amina uses a lever to lift a heavy stone. Explain how the lever makes her work easier and identify the type of simple machine a lever is. =========\n",
      "📝 Input token count (gpt-4o): 633\n",
      "📦 Raw LLM output:\n",
      " content='```json\\n[\\n    {\"answer_id\": 9, \"score\": 2},\\n    {\"answer_id\": 10, \"score\": 4},\\n    {\"answer_id\": 11, \"score\": 2},\\n    {\"answer_id\": 12, \"score\": 3}\\n]\\n```' additional_kwargs={'refusal': None} response_metadata={'token_usage': {'completion_tokens': 63, 'prompt_tokens': 640, 'total_tokens': 703, 'completion_tokens_details': {'accepted_prediction_tokens': 0, 'audio_tokens': 0, 'reasoning_tokens': 0, 'rejected_prediction_tokens': 0}, 'prompt_tokens_details': {'audio_tokens': 0, 'cached_tokens': 0}}, 'model_name': 'gpt-4o-2024-08-06', 'system_fingerprint': 'fp_f5bdcc3276', 'id': 'chatcmpl-BWh9oVvasg3JlZ6i4rN5B9jNNsuvA', 'service_tier': 'default', 'finish_reason': 'stop', 'logprobs': None} id='run--a2f4c99a-9c97-4aba-a6c6-f323792a4885-0' usage_metadata={'input_tokens': 640, 'output_tokens': 63, 'total_tokens': 703, 'input_token_details': {'audio': 0, 'cache_read': 0}, 'output_token_details': {'audio': 0, 'reasoning': 0}}\n",
      "📤 Output token count (gpt-4o): 58\n",
      "🔢 Total token usage: 691\n",
      "\n",
      "Brian's teacher asked him to explain why boiling water from the river sometimes makes it easier to form soap lather. What could be the reason for this change in the water's properties? =========\n",
      "📝 Input token count (gpt-4o): 608\n",
      "📦 Raw LLM output:\n",
      " content='```json\\n[\\n    {\"answer_id\": 13, \"score\": 1},\\n    {\"answer_id\": 14, \"score\": 3},\\n    {\"answer_id\": 15, \"score\": 2},\\n    {\"answer_id\": 16, \"score\": 3}\\n]\\n```' additional_kwargs={'refusal': None} response_metadata={'token_usage': {'completion_tokens': 63, 'prompt_tokens': 615, 'total_tokens': 678, 'completion_tokens_details': {'accepted_prediction_tokens': 0, 'audio_tokens': 0, 'reasoning_tokens': 0, 'rejected_prediction_tokens': 0}, 'prompt_tokens_details': {'audio_tokens': 0, 'cached_tokens': 0}}, 'model_name': 'gpt-4o-2024-08-06', 'system_fingerprint': 'fp_f5bdcc3276', 'id': 'chatcmpl-BWh9pdmwtc7cdnBIxPasAUg2LIUmc', 'service_tier': 'default', 'finish_reason': 'stop', 'logprobs': None} id='run--67a1a911-9215-43ca-b18e-292cb12f9d82-0' usage_metadata={'input_tokens': 615, 'output_tokens': 63, 'total_tokens': 678, 'input_token_details': {'audio': 0, 'cache_read': 0}, 'output_token_details': {'audio': 0, 'reasoning': 0}}\n",
      "📤 Output token count (gpt-4o): 58\n",
      "🔢 Total token usage: 666\n",
      "\n",
      "During a school trip to Lake Victoria, Amina noticed plastic waste along the shore and wondered about its impact. Evaluate the effectiveness of community clean-up activities in reducing pollution in such areas. =========\n",
      "📝 Input token count (gpt-4o): 663\n",
      "📦 Raw LLM output:\n",
      " content='```json\\n[{\"answer_id\": 17, \"score\": 2}, {\"answer_id\": 18, \"score\": 4}, {\"answer_id\": 19, \"score\": 3}, {\"answer_id\": 20, \"score\": 3}]\\n```' additional_kwargs={'refusal': None} response_metadata={'token_usage': {'completion_tokens': 58, 'prompt_tokens': 670, 'total_tokens': 728, 'completion_tokens_details': {'accepted_prediction_tokens': 0, 'audio_tokens': 0, 'reasoning_tokens': 0, 'rejected_prediction_tokens': 0}, 'prompt_tokens_details': {'audio_tokens': 0, 'cached_tokens': 0}}, 'model_name': 'gpt-4o-2024-08-06', 'system_fingerprint': 'fp_f5bdcc3276', 'id': 'chatcmpl-BWh9r9LmoJKI7TSF9T9itvmpd6POY', 'service_tier': 'default', 'finish_reason': 'stop', 'logprobs': None} id='run--4308e94e-a0a0-43ae-86ea-7a26fc83ef3b-0' usage_metadata={'input_tokens': 670, 'output_tokens': 58, 'total_tokens': 728, 'input_token_details': {'audio': 0, 'cache_read': 0}, 'output_token_details': {'audio': 0, 'reasoning': 0}}\n",
      "📤 Output token count (gpt-4o): 53\n",
      "🔢 Total token usage: 716\n",
      "\n",
      "✅ Graded Answers list written to output/grades_list.json\n"
     ]
    }
   ],
   "source": [
    "parsed_grades = generate_llm_answer_grades_list(\n",
    "    llm=OPENAI_LLM_4O,\n",
    "    grouped_answers_data=grouped_answers_data,\n",
    "    is_debug=True,\n",
    ")"
   ]
  }
 ],
 "metadata": {
  "kernelspec": {
   "display_name": ".venv",
   "language": "python",
   "name": "python3"
  },
  "language_info": {
   "codemirror_mode": {
    "name": "ipython",
    "version": 3
   },
   "file_extension": ".py",
   "mimetype": "text/x-python",
   "name": "python",
   "nbconvert_exporter": "python",
   "pygments_lexer": "ipython3",
   "version": "3.11.12"
  }
 },
 "nbformat": 4,
 "nbformat_minor": 5
}
