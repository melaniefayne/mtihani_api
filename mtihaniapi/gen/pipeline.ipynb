{
 "cells": [
  {
   "cell_type": "code",
   "execution_count": 1,
   "id": "3e21ab12",
   "metadata": {},
   "outputs": [],
   "source": [
    "from curriculum import get_exam_curriculum\n",
    "from utils import *\n",
    "import random"
   ]
  },
  {
   "cell_type": "markdown",
   "id": "786b3dd6",
   "metadata": {},
   "source": [
    "## Generate questions"
   ]
  },
  {
   "cell_type": "code",
   "execution_count": 11,
   "id": "ca6a4566",
   "metadata": {},
   "outputs": [],
   "source": [
    "bloom_skill_count = 1"
   ]
  },
  {
   "cell_type": "code",
   "execution_count": 12,
   "id": "8b14605a",
   "metadata": {},
   "outputs": [
    {
     "name": "stdout",
     "output_type": "stream",
     "text": [
      "✅ Question breakdown written to output/question_breakdown.json\n"
     ]
    }
   ],
   "source": [
    "question_brd = get_exam_curriculum(\n",
    "    strand_ids=[1,2,3,4], \n",
    "    question_count=4,\n",
    "    is_debug=True, \n",
    "    curriculum_file=\"data/cbc_data.json\",\n",
    "    bloom_skill_count=bloom_skill_count,\n",
    ")"
   ]
  },
  {
   "cell_type": "code",
   "execution_count": 13,
   "id": "61810cd7",
   "metadata": {},
   "outputs": [],
   "source": [
    "# parsed_output = generate_llm_question_list(\n",
    "#     llm=OPENAI_LLM_4O,\n",
    "#     input_data=question_brd,\n",
    "#     bloom_skill_count=bloom_skill_count,\n",
    "#     is_debug=True,\n",
    "# )\n",
    "parsed_output = [\n",
    "    {\n",
    "        \"questions\": \"Amina notices that her phone helps her communicate with friends and learn new things. How does science play a role in making her phone useful in daily life?\",\n",
    "        \"expected_answers\": \"Science contributes to the development of technology like phones, which help in communication, learning, and accessing information.\"\n",
    "    },\n",
    "    {\n",
    "        \"questions\": \"Brian has a mixture of salt and water. Describe a method he can use to separate the salt from the water.\",\n",
    "        \"expected_answers\": \"Brian can use evaporation to separate the salt from the water. By heating the mixture, the water will evaporate, leaving the salt behind.\"\n",
    "    },\n",
    "    {\n",
    "        \"questions\": \"Zawadi is learning about the human excretory system. Explain the function of the kidneys in this system.\",\n",
    "        \"expected_answers\": \"The kidneys filter waste products and excess water from the blood to form urine, which is then excreted from the body.\"\n",
    "    },\n",
    "    {\n",
    "        \"questions\": \"Musa wants to hang a poster on his metal locker using a magnet. Explain why a magnet is suitable for this task.\",\n",
    "        \"expected_answers\": \"A magnet is suitable because it can attract and hold onto the metal surface of the locker, keeping the poster in place without damaging it.\"\n",
    "    }\n",
    "]\n"
   ]
  },
  {
   "cell_type": "code",
   "execution_count": 14,
   "id": "e25fd417",
   "metadata": {},
   "outputs": [
    {
     "name": "stdout",
     "output_type": "stream",
     "text": [
      "✅ Question list written to output/question_list.json\n"
     ]
    }
   ],
   "source": [
    "QUESTION_LIST_OUTPUT_FILE = \"output/question_list.json\"\n",
    "\n",
    "with open(QUESTION_LIST_OUTPUT_FILE, 'w', encoding='utf-8') as f:\n",
    "    json.dump(parsed_output, f, ensure_ascii=False, indent=4)\n",
    "\n",
    "print(f\"✅ Question list written to {QUESTION_LIST_OUTPUT_FILE}\")"
   ]
  },
  {
   "cell_type": "code",
   "execution_count": 15,
   "id": "6f955561",
   "metadata": {},
   "outputs": [
    {
     "name": "stdout",
     "output_type": "stream",
     "text": [
      "[{'id': 1, 'question': 'Amina notices that her phone helps her communicate with friends and learn new things. How does science play a role in making her phone useful in daily life?', 'expected_answer': 'Science contributes to the development of technology like phones, which help in communication, learning, and accessing information.'}, {'id': 2, 'question': 'Brian has a mixture of salt and water. Describe a method he can use to separate the salt from the water.', 'expected_answer': 'Brian can use evaporation to separate the salt from the water. By heating the mixture, the water will evaporate, leaving the salt behind.'}, {'id': 3, 'question': 'Zawadi is learning about the human excretory system. Explain the function of the kidneys in this system.', 'expected_answer': 'The kidneys filter waste products and excess water from the blood to form urine, which is then excreted from the body.'}, {'id': 4, 'question': 'Musa wants to hang a poster on his metal locker using a magnet. Explain why a magnet is suitable for this task.', 'expected_answer': 'A magnet is suitable because it can attract and hold onto the metal surface of the locker, keeping the poster in place without damaging it.'}]\n"
     ]
    }
   ],
   "source": [
    "def convert_to_single_qa_list(data):\n",
    "    result = []\n",
    "    for index, item in enumerate(data):\n",
    "        questions = item[\"questions\"]\n",
    "        expected_answers = item[\"expected_answers\"]\n",
    "\n",
    "        if isinstance(questions, str):\n",
    "            questions = [questions]\n",
    "        if isinstance(expected_answers, str):\n",
    "            expected_answers = [expected_answers]\n",
    "\n",
    "        if questions and expected_answers:\n",
    "            result.append({\n",
    "                \"id\": index + 1,\n",
    "                \"question\": questions[0],\n",
    "                \"expected_answer\": expected_answers[0]\n",
    "            })\n",
    "\n",
    "    return result\n",
    "\n",
    "exam_output = convert_to_single_qa_list(parsed_output)\n",
    "print(exam_output)"
   ]
  },
  {
   "cell_type": "markdown",
   "id": "57fd1ee3",
   "metadata": {},
   "source": [
    "## Simulate student answers"
   ]
  },
  {
   "cell_type": "code",
   "execution_count": 16,
   "id": "6bfc4208",
   "metadata": {},
   "outputs": [
    {
     "name": "stdout",
     "output_type": "stream",
     "text": [
      "[{'id': 1, 'avg_score': 12}, {'id': 2, 'avg_score': 95}, {'id': 3, 'avg_score': 54}, {'id': 4, 'avg_score': 71}]\n"
     ]
    }
   ],
   "source": [
    "def generate_random_scores(count):\n",
    "    return [{\"id\": i+1, \"avg_score\": random.randint(0, 100)} for i in range(count)]\n",
    "\n",
    "# sample_students = generate_random_scores(4)\n",
    "sample_students = [{'id': 1, 'avg_score': 12}, {'id': 2, 'avg_score': 95}, {'id': 3, 'avg_score': 54}, {'id': 4, 'avg_score': 71}]\n",
    "print(sample_students)"
   ]
  },
  {
   "cell_type": "code",
   "execution_count": 17,
   "id": "42fdf3da",
   "metadata": {},
   "outputs": [],
   "source": [
    "# parsed_answers = generate_llm_exam_answers_list(\n",
    "#     llm=OPENAI_LLM_4O,\n",
    "#     exam_data=exam_output,\n",
    "#     student_data=sample_students,\n",
    "#     is_debug=True,\n",
    "# )\n",
    "parsed_answers = [\n",
    "    {\n",
    "        \"id\": 1,\n",
    "        \"answers\": [\n",
    "            {\n",
    "                \"question_id\": \"1\",\n",
    "                \"answer\": \"Phones are made using science, so they help us talk to friends and learn.\"\n",
    "            },\n",
    "            {\n",
    "                \"question_id\": \"2\",\n",
    "                \"answer\": \"Maybe he can just let the water dry up and the salt will stay.\"\n",
    "            },\n",
    "            {\n",
    "                \"question_id\": \"3\",\n",
    "                \"answer\": \"Kidneys clean the blood and make urine.\"\n",
    "            },\n",
    "            {\n",
    "                \"question_id\": \"4\",\n",
    "                \"answer\": \"Magnets stick to metal, so it can hold the poster.\"\n",
    "            }\n",
    "        ]\n",
    "    },\n",
    "    {\n",
    "        \"id\": 2,\n",
    "        \"answers\": [\n",
    "            {\n",
    "                \"question_id\": \"1\",\n",
    "                \"answer\": \"Science is used to create the technology in phones, allowing us to communicate and learn easily.\"\n",
    "            },\n",
    "            {\n",
    "                \"question_id\": \"2\",\n",
    "                \"answer\": \"Brian can heat the mixture so the water evaporates, leaving the salt behind.\"\n",
    "            },\n",
    "            {\n",
    "                \"question_id\": \"3\",\n",
    "                \"answer\": \"The kidneys filter out waste and extra water from the blood, creating urine to be excreted.\"\n",
    "            },\n",
    "            {\n",
    "                \"question_id\": \"4\",\n",
    "                \"answer\": \"A magnet is suitable because it attracts the metal locker, holding the poster without damage.\"\n",
    "            }\n",
    "        ]\n",
    "    },\n",
    "    {\n",
    "        \"id\": 3,\n",
    "        \"answers\": [\n",
    "            {\n",
    "                \"question_id\": \"1\",\n",
    "                \"answer\": \"Science helps make phones that we use to talk and learn.\"\n",
    "            },\n",
    "            {\n",
    "                \"question_id\": \"2\",\n",
    "                \"answer\": \"He can heat the water so it evaporates and leaves the salt.\"\n",
    "            },\n",
    "            {\n",
    "                \"question_id\": \"3\",\n",
    "                \"answer\": \"Kidneys take out waste from blood and make urine.\"\n",
    "            },\n",
    "            {\n",
    "                \"question_id\": \"4\",\n",
    "                \"answer\": \"Magnets can stick to metal, so they hold the poster.\"\n",
    "            }\n",
    "        ]\n",
    "    },\n",
    "    {\n",
    "        \"id\": 4,\n",
    "        \"answers\": [\n",
    "            {\n",
    "                \"question_id\": \"1\",\n",
    "                \"answer\": \"Science helps in making phones that we use for communication and learning.\"\n",
    "            },\n",
    "            {\n",
    "                \"question_id\": \"2\",\n",
    "                \"answer\": \"He can use evaporation by heating the mixture to get the salt.\"\n",
    "            },\n",
    "            {\n",
    "                \"question_id\": \"3\",\n",
    "                \"answer\": \"The kidneys filter waste from the blood and make urine.\"\n",
    "            },\n",
    "            {\n",
    "                \"question_id\": \"4\",\n",
    "                \"answer\": \"A magnet can hold the poster because it sticks to metal.\"\n",
    "            }\n",
    "        ]\n",
    "    }\n",
    "]"
   ]
  },
  {
   "cell_type": "code",
   "execution_count": null,
   "id": "72fe8ca7",
   "metadata": {},
   "outputs": [
    {
     "name": "stdout",
     "output_type": "stream",
     "text": [
      "[{'id': '51', 'question': 'Amina noticed a broken glass beaker on the laboratory floor. What should she do to ensure safety?', 'expected_answer': 'Amina should inform the teacher immediately and ensure no one steps on the broken glass.'}, {'id': '52', 'question': 'Zawadi is at home and notices a fire starting in the kitchen. How should she decide which fire extinguisher to use?', 'expected_answer': 'Zawadi should identify the type of fire (e.g., grease, electrical) and use the appropriate extinguisher for that class.'}, {'id': '53', 'question': 'Musa is studying the human excretory system. How do the kidneys and skin work together to remove waste from the body?', 'expected_answer': 'The kidneys filter waste from the blood, while the skin removes waste through sweat.'}, {'id': '54', 'question': 'Brian wants to make a simple electric circuit at home. What materials does he need to demonstrate the flow of electric current?', 'expected_answer': 'Brian needs a battery, wires, and a small bulb to make a simple electric circuit.'}, {'id': '55', 'question': 'What is the symbol for a corrosive hazard in the laboratory?', 'expected_answer': 'The symbol for a corrosive hazard is a test tube pouring liquid onto a hand and a surface.'}, {'id': '56', 'question': 'Explain the difference between an element and a compound using water as an example.', 'expected_answer': 'An element is a pure substance made of one type of atom, while a compound is made of two or more elements chemically combined. Water is a compound of hydrogen and oxygen.'}, {'id': '57', 'question': 'How do the kidneys and skin work together to maintain a healthy body?', 'expected_answer': 'The kidneys filter waste from the blood, while the skin removes waste through sweat, both helping to maintain balance.'}, {'id': '58', 'question': 'Zawadi wants to make a simple electric circuit. What components should she use to demonstrate the flow of electricity?', 'expected_answer': 'Zawadi should use a battery, wires, and a bulb to make a simple electric circuit.'}, {'id': '59', 'question': 'Why is it important to evaluate the condition of laboratory apparatus before use?', 'expected_answer': 'Evaluating ensures the apparatus is safe and functional, preventing accidents and ensuring accurate results.'}, {'id': '60', 'question': 'What is the color change of litmus paper when it is dipped in an acid?', 'expected_answer': 'Litmus paper turns red when dipped in an acid.'}, {'id': '61', 'question': 'Musa is planning his daily activities to promote kidney health. What should he include?', 'expected_answer': 'Musa should include drinking plenty of water, eating a balanced diet, and regular exercise.'}, {'id': '62', 'question': 'Zawadi wants to create a simple electric circuit. What materials does she need?', 'expected_answer': 'Zawadi needs a battery, wires, and a bulb to create a simple electric circuit.'}, {'id': '63', 'question': 'Evaluate the importance of science in solving everyday problems.', 'expected_answer': 'Science helps in understanding natural phenomena, improving technology, and solving health and environmental issues.'}, {'id': '64', 'question': 'Why is it important to evaluate the effects of physical and chemical changes in the environment?', 'expected_answer': 'Evaluating helps in understanding environmental impacts and finding ways to mitigate negative effects.'}, {'id': '65', 'question': 'Evaluate the importance of understanding the functions of the reproductive system during adolescence.', 'expected_answer': 'Understanding helps in managing changes, promoting health, and making informed decisions.'}, {'id': '66', 'question': 'Create a simple experiment to demonstrate the properties of a magnet.', 'expected_answer': 'Use a magnet to attract paper clips or iron filings to show magnetic properties.'}, {'id': '67', 'question': 'Why is it important to analyze the causes of common laboratory accidents?', 'expected_answer': 'Analyzing helps in preventing accidents and ensuring a safe working environment.'}, {'id': '68', 'question': 'Why is it important to evaluate the effects of physical and chemical changes on the environment?', 'expected_answer': 'Evaluating helps in understanding environmental impacts and finding ways to mitigate negative effects.'}, {'id': '69', 'question': 'How do the kidneys and skin work together to maintain a healthy body?', 'expected_answer': 'The kidneys filter waste from the blood, while the skin removes waste through sweat, both helping to maintain balance.'}, {'id': '70', 'question': 'Evaluate the importance of using renewable sources of electricity in Kenya.', 'expected_answer': 'Renewable sources reduce pollution, conserve resources, and provide sustainable energy.'}, {'id': '71', 'question': 'What is the function of a thermometer in the laboratory?', 'expected_answer': 'A thermometer measures temperature.'}, {'id': '72', 'question': 'Design a fire safety plan for your school. What should it include?', 'expected_answer': 'Include evacuation routes, fire drills, and locations of fire extinguishers.'}, {'id': '73', 'question': 'What are the main parts of the human urinary system?', 'expected_answer': 'The main parts are the kidneys, ureters, bladder, and urethra.'}, {'id': '74', 'question': 'Design a simple electric circuit to light a bulb. What components do you need?', 'expected_answer': 'You need a battery, wires, and a bulb to design a simple electric circuit.'}, {'id': '75', 'question': 'Evaluate the importance of using laboratory apparatus correctly.', 'expected_answer': 'Correct use ensures accurate results and prevents accidents.'}]\n",
      "[{'id': 7, 'avg_score': 97}, {'id': 4, 'avg_score': 50.2}, {'id': 10, 'avg_score': 44.8}, {'id': 3, 'avg_score': 93.4}, {'id': 1, 'avg_score': 84.2}, {'id': 2, 'avg_score': 65}, {'id': 5, 'avg_score': 86.4}, {'id': 6, 'avg_score': 54.2}, {'id': 9, 'avg_score': 67.2}, {'id': 8, 'avg_score': 75}]\n",
      "📝 Input token count (gpt-4o): 1996\n",
      "📦 Raw LLM output:\n",
      " content='```json\\n[\\n  {\\n    \"id\": 7,\\n    \"answers\": [\\n      {\\n        \"question_id\": \"51\",\\n        \"answer\": \"Amina should tell the teacher right away and make sure no one steps on the broken glass.\"\\n      },\\n      {\\n        \"question_id\": \"52\",\\n        \"answer\": \"Zawadi should check what kind of fire it is, like if it\\'s from oil or electricity, and use the right extinguisher.\"\\n      },\\n      {\\n        \"question_id\": \"53\",\\n        \"answer\": \"The kidneys clean the blood by removing waste, and the skin helps by sweating out some waste.\"\\n      },\\n      {\\n        \"question_id\": \"54\",\\n        \"answer\": \"Brian needs a battery, some wires, and a bulb to show how electricity flows.\"\\n      },\\n      {\\n        \"question_id\": \"55\",\\n        \"answer\": \"The symbol for corrosive hazard is a test tube pouring liquid on a hand and a surface.\"\\n      },\\n      {\\n        \"question_id\": \"56\",\\n        \"answer\": \"An element is made of one type of atom, like hydrogen. A compound has two or more elements, like water which is hydrogen and oxygen.\"\\n      },\\n      {\\n        \"question_id\": \"57\",\\n        \"answer\": \"The kidneys filter waste from the blood, and the skin removes waste through sweat, keeping the body balanced.\"\\n      },\\n      {\\n        \"question_id\": \"58\",\\n        \"answer\": \"Zawadi should use a battery, wires, and a bulb to make a simple electric circuit.\"\\n      },\\n      {\\n        \"question_id\": \"59\",\\n        \"answer\": \"Checking the condition of lab equipment ensures they are safe to use and work properly, preventing accidents.\"\\n      },\\n      {\\n        \"question_id\": \"60\",\\n        \"answer\": \"Litmus paper turns red when it is dipped in an acid.\"\\n      },\\n      {\\n        \"question_id\": \"61\",\\n        \"answer\": \"Musa should drink lots of water, eat a balanced diet, and exercise regularly to keep his kidneys healthy.\"\\n      },\\n      {\\n        \"question_id\": \"62\",\\n        \"answer\": \"Zawadi needs a battery, wires, and a bulb to create a simple electric circuit.\"\\n      },\\n      {\\n        \"question_id\": \"63\",\\n        \"answer\": \"Science helps us understand the world, improve technology, and solve problems like health and environmental issues.\"\\n      },\\n      {\\n        \"question_id\": \"64\",\\n        \"answer\": \"Evaluating these changes helps us understand their impact on the environment and find ways to reduce negative effects.\"\\n      },\\n      {\\n        \"question_id\": \"65\",\\n        \"answer\": \"Understanding the reproductive system helps adolescents manage changes, stay healthy, and make informed choices.\"\\n      },\\n      {\\n        \"question_id\": \"66\",\\n        \"answer\": \"You can use a magnet to pick up paper clips or iron filings to show how magnets attract certain metals.\"\\n      },\\n      {\\n        \"question_id\": \"67\",\\n        \"answer\": \"Analyzing causes of lab accidents helps prevent them and keeps the lab a safe place to work.\"\\n      },\\n      {\\n        \"question_id\": \"68\",\\n        \"answer\": \"Evaluating these changes helps us understand their impact on the environment and find ways to reduce negative effects.\"\\n      },\\n      {\\n        \"question_id\": \"69\",\\n        \"answer\": \"The kidneys filter waste from the blood, and the skin removes waste through sweat, keeping the body balanced.\"\\n      },\\n      {\\n        \"question_id\": \"70\",\\n        \"answer\": \"Using renewable energy reduces pollution, saves resources, and provides sustainable power for the future.\"\\n      },\\n      {\\n        \"question_id\": \"71\",\\n        \"answer\": \"A thermometer is used to measure temperature in the lab.\"\\n      },\\n      {\\n        \"question_id\": \"72\",\\n        \"answer\": \"A fire safety plan should have evacuation routes, regular fire drills, and locations of fire extinguishers.\"\\n      },\\n      {\\n        \"question_id\": \"73\",\\n        \"answer\": \"The main parts of the urinary system are the kidneys, ureters, bladder, and urethra.\"\\n      },\\n      {\\n        \"question_id\": \"74\",\\n        \"answer\": \"You need a battery, wires, and a bulb to design a simple electric circuit.\"\\n      },\\n      {\\n        \"question_id\": \"75\",\\n        \"answer\": \"Using lab equipment correctly ensures accurate results and prevents accidents.\"\\n      }\\n    ]\\n  },\\n  {\\n    \"id\": 4,\\n    \"answers\": [\\n      {\\n        \"question_id\": \"51\",\\n        \"answer\": \"Amina should tell the teacher and make sure no one steps on it.\"\\n      },\\n      {\\n        \"question_id\": \"52\",\\n        \"answer\": \"Zawadi should know the type of fire and use the right extinguisher.\"\\n      },\\n      {\\n        \"question_id\": \"53\",\\n        \"answer\": \"Kidneys clean blood and skin sweats out waste.\"\\n      },\\n      {\\n        \"question_id\": \"54\",\\n        \"answer\": \"Brian needs a battery, wires, and a bulb.\"\\n      },\\n      {\\n        \"question_id\": \"55\",\\n        \"answer\": \"The symbol is a test tube pouring on a hand.\"\\n      },\\n      {\\n        \"question_id\": \"56\",\\n        \"answer\": \"An element is one type of atom, a compound is two or more. Water is hydrogen and oxygen.\"\\n      },\\n      {\\n        \"question_id\": \"57\",\\n        \"answer\": \"Kidneys filter blood and skin sweats waste.\"\\n      },\\n      {\\n        \"question_id\": \"58\",\\n        \"answer\": \"Zawadi needs a battery, wires, and a bulb.\"\\n      },\\n      {\\n        \"question_id\": \"59\",\\n        \"answer\": \"To make sure they are safe and work well.\"\\n      },\\n      {\\n        \"question_id\": \"60\",\\n        \"answer\": \"Litmus paper turns red in acid.\"\\n      },\\n      {\\n        \"question_id\": \"61\",\\n        \"answer\": \"Musa should drink water, eat well, and exercise.\"\\n      },\\n      {\\n        \"question_id\": \"62\",\\n        \"answer\": \"Zawadi needs a battery, wires, and a bulb.\"\\n      },\\n      {\\n        \"question_id\": \"63\",\\n        \"answer\": \"Science helps solve problems and improve life.\"\\n      },\\n      {\\n        \"question_id\": \"64\",\\n        \"answer\": \"To know how they affect the environment.\"\\n      },\\n      {\\n        \"question_id\": \"65\",\\n        \"answer\": \"It helps in understanding changes and staying healthy.\"\\n      },\\n      {\\n        \"question_id\": \"66\",\\n        \"answer\": \"Use a magnet to pick up paper clips.\"\\n      },\\n      {\\n        \"question_id\": \"67\",\\n        \"answer\": \"To prevent accidents in the lab.\"\\n      },\\n      {\\n        \"question_id\": \"68\",\\n        \"answer\": \"To know how they affect the environment.\"\\n      },\\n      {\\n        \"question_id\": \"69\",\\n        \"answer\": \"Kidneys filter blood and skin sweats waste.\"\\n      },\\n      {\\n        \"question_id\": \"70\",\\n        \"answer\": \"Renewable energy is clean and saves resources.\"\\n      },\\n      {\\n        \"question_id\": \"71\",\\n        \"answer\": \"A thermometer measures temperature.\"\\n      },\\n      {\\n        \"question_id\": \"72\",\\n        \"answer\": \"Include evacuation routes and fire drills.\"\\n      },\\n      {\\n        \"question_id\": \"73\",\\n        \"answer\": \"Kidneys, ureters, bladder, and urethra.\"\\n      },\\n      {\\n        \"question_id\": \"74\",\\n        \"answer\": \"You need a battery, wires, and a bulb.\"\\n      },\\n      {\\n        \"question_id\": \"75\",\\n        \"answer\": \"To get correct results and avoid accidents.\"\\n      }\\n    ]\\n  },\\n  {\\n    \"id\": 10,\\n    \"answers\": [\\n      {\\n        \"question_id\": \"51\",\\n        \"answer\": \"Amina should tell the teacher.\"\\n      },\\n      {\\n        \"question_id\": \"52\",\\n        \"answer\": \"Zawadi should use the right extinguisher for the fire.\"\\n      },\\n      {\\n        \"question_id\": \"53\",\\n        \"answer\": \"Kidneys clean blood, skin sweats.\"\\n      },\\n      {\\n        \"question_id\": \"54\",\\n        \"answer\": \"Battery, wires, bulb.\"\\n      },\\n      {\\n        \"question_id\": \"55\",\\n        \"answer\": \"A test tube pouring on a hand.\"\\n      },\\n      {\\n        \"question_id\": \"56\",\\n        \"answer\": \"Element is one atom, compound is more. Water is a compound.\"\\n      },\\n      {\\n        \"question_id\": \"57\",\\n        \"answer\": \"Kidneys clean blood, skin sweats.\"\\n      },\\n      {\\n        \"question_id\": \"58\",\\n        \"answer\": \"Battery, wires, bulb.\"\\n      },\\n      {\\n        \"question_id\": \"59\",\\n        \"answer\": \"To make sure they work.\"\\n      },\\n      {\\n        \"question_id\": \"60\",\\n        \"answer\": \"Turns red in acid.\"\\n      },\\n      {\\n        \"question_id\": \"61\",\\n        \"answer\": \"Drink water, eat well, exercise.\"\\n      },\\n      {\\n        \"question_id\": \"62\",\\n        \"answer\": \"Battery, wires, bulb.\"\\n      },\\n      {\\n        \"question_id\": \"63\",\\n        \"answer\": \"Science helps solve problems.\"\\n      },\\n      {\\n        \"question_id\": \"64\",\\n        \"answer\": \"To know the effects on the environment.\"\\n      },\\n      {\\n        \"question_id\": \"65\",\\n        \"answer\": \"Helps understand changes.\"\\n      },\\n      {\\n        \"question_id\": \"66\",\\n        \"answer\": \"Use a magnet to pick up clips.\"\\n      },\\n      {\\n        \"question_id\": \"67\",\\n        \"answer\": \"To prevent accidents.\"\\n      },\\n      {\\n        \"question_id\": \"68\",\\n        \"answer\": \"To know the effects on the environment.\"\\n      },\\n      {\\n        \"question_id\": \"69\",\\n        \"answer\": \"Kidneys clean blood, skin sweats.\"\\n      },\\n      {\\n        \"question_id\": \"70\",\\n        \"answer\": \"Renewable energy is clean.\"\\n      },\\n      {\\n        \"question_id\": \"71\",\\n        \"answer\": \"Measures temperature.\"\\n      },\\n      {\\n        \"question_id\": \"72\",\\n        \"answer\": \"Evacuation routes and drills.\"\\n      },\\n      {\\n        \"question_id\": \"73\",\\n        \"answer\": \"Kidneys, ureters, bladder, urethra.\"\\n      },\\n      {\\n        \"question_id\": \"74\",\\n        \"answer\": \"Battery, wires, bulb.\"\\n      },\\n      {\\n        \"question_id\": \"75\",\\n        \"answer\": \"To avoid accidents.\"\\n      }\\n    ]\\n  },\\n  {\\n    \"id\": 3,\\n    \"answers\": [\\n      {\\n        \"question_id\": \"51\",\\n        \"answer\": \"Amina should inform the teacher immediately and make sure no one steps on the glass.\"\\n      },\\n      {\\n        \"question_id\": \"52\",\\n        \"answer\": \"Zawadi should identify the type of fire, like grease or electrical, and use the correct extinguisher.\"\\n      },\\n      {\\n        \"question_id\": \"53\",\\n        \"answer\": \"The kidneys filter waste from the blood, and the skin helps remove waste through sweat.\"\\n      },\\n      {\\n        \"question_id\": \"54\",\\n        \"answer\": \"Brian needs a battery, wires, and a bulb to make a simple electric circuit.\"\\n      },\\n      {\\n        \"question_id\": \"55\",\\n        \"answer\": \"The symbol for a corrosive hazard is a test tube pouring liquid onto a hand and a surface.\"\\n      },\\n      {\\n        \"question_id\": \"56\",\\n        \"answer\": \"An element is made of one type of atom, while a compound is made of two or more elements. Water is a compound of hydrogen and oxygen.\"\\n      },\\n      {\\n        \"question_id\": \"57\",\\n        \"answer\": \"The kidneys filter waste from the blood, and the skin removes waste through sweat, helping maintain balance.\"\\n      },\\n      {\\n        \"question_id\": \"58\",\\n        \"answer\": \"Zawadi should use a battery, wires, and a bulb to make a simple electric circuit.\"\\n      },\\n      {\\n        \"question_id\": \"59\",\\n        \"answer\": \"Evaluating ensures the apparatus is safe and functional, preventing accidents and ensuring accurate results.\"\\n      },\\n      {\\n        \"question_id\": \"60\",\\n        \"answer\": \"Litmus paper turns red when dipped in an acid.\"\\n      },\\n      {\\n        \"question_id\": \"61\",\\n        \"answer\": \"Musa should drink plenty of water, eat a balanced diet, and exercise regularly to promote kidney health.\"\\n      },\\n      {\\n        \"question_id\": \"62\",\\n        \"answer\": \"Zawadi needs a battery, wires, and a bulb to create a simple electric circuit.\"\\n      },\\n      {\\n        \"question_id\": \"63\",\\n        \"answer\": \"Science helps us understand natural phenomena, improve technology, and solve health and environmental issues.\"\\n      },\\n      {\\n        \"question_id\": \"64\",\\n        \"answer\": \"Evaluating helps us understand environmental impacts and find ways to mitigate negative effects.\"\\n      },\\n      {\\n        \"question_id\": \"65\",\\n        \"answer\": \"Understanding helps in managing changes, promoting health, and making informed decisions.\"\\n      },\\n      {\\n        \"question_id\": \"66\",\\n        \"answer\": \"Use a magnet to attract paper clips or iron filings to show magnetic properties.\"\\n      },\\n      {\\n        \"question_id\": \"67\",\\n        \"answer\": \"Analyzing helps in preventing accidents and ensuring a safe working environment.\"\\n      },\\n      {\\n        \"question_id\": \"68\",\\n        \"answer\": \"Evaluating helps us understand environmental impacts and find ways to mitigate negative effects.\"\\n      },\\n      {\\n        \"question_id\": \"69\",\\n        \"answer\": \"The kidneys filter waste from the blood, and the skin removes waste through sweat, helping maintain balance.\"\\n      },\\n      {\\n        \"question_id\": \"70\",\\n        \"answer\": \"Renewable sources reduce pollution, conserve resources, and provide sustainable energy.\"\\n      },\\n      {\\n        \"question_id\": \"71\",\\n        \"answer\": \"A thermometer measures temperature.\"\\n      },\\n      {\\n        \"question_id\": \"72\",\\n        \"answer\": \"Include evacuation routes, fire drills, and locations of fire extinguishers.\"\\n      },\\n      {\\n        \"question_id\": \"73\",\\n        \"answer\": \"The main parts are the kidneys, ureters, bladder, and urethra.\"\\n      },\\n      {\\n        \"question_id\": \"74\",\\n        \"answer\": \"You need a battery, wires, and a bulb to design a simple electric circuit.\"\\n      },\\n      {\\n        \"question_id\": \"75\",\\n        \"answer\": \"Correct use ensures accurate results and prevents accidents.\"\\n      }\\n    ]\\n  },\\n  {\\n    \"id\": 1,\\n    \"answers\": [\\n      {\\n        \"question_id\": \"51\",\\n        \"answer\": \"Amina should tell the teacher and make sure no one steps on the glass.\"\\n      },\\n      {\\n        \"question_id\": \"52\",\\n        \"answer\": \"Zawadi should know the type of fire and use the right extinguisher.\"\\n      },\\n      {\\n        \"question_id\": \"53\",\\n        \"answer\": \"Kidneys clean blood and skin sweats out waste.\"\\n      },\\n      {\\n        \"question_id\": \"54\",\\n        \"answer\": \"Brian needs a battery, wires, and a bulb.\"\\n      },\\n      {\\n        \"question_id\": \"55\",\\n        \"answer\": \"The symbol is a test tube pouring on a hand.\"\\n      },\\n      {\\n        \"question_id\": \"56\",\\n        \"answer\": \"An element is one type of atom, a compound is two or more. Water is hydrogen and oxygen.\"\\n      },\\n      {\\n        \"question_id\": \"57\",\\n        \"answer\": \"Kidneys filter blood and skin sweats waste.\"\\n      },\\n      {\\n        \"question_id\": \"58\",\\n        \"answer\": \"Zawadi needs a battery, wires, and a bulb.\"\\n      },\\n      {\\n        \"question_id\": \"59\",\\n        \"answer\": \"To make sure they are safe and work well.\"\\n      },\\n      {\\n        \"question_id\": \"60\",\\n        \"answer\": \"Litmus paper turns red in acid.\"\\n      },\\n      {\\n        \"question_id\": \"61\",\\n        \"answer\": \"Musa should drink water, eat well, and exercise.\"\\n      },\\n      {\\n        \"question_id\": \"62\",\\n        \"answer\": \"Zawadi needs a battery, wires, and a bulb.\"\\n      },\\n      {\\n        \"question_id\": \"63\",\\n        \"answer\": \"Science helps solve problems and improve life.\"\\n      },\\n      {\\n        \"question_id\": \"64\",\\n        \"answer\": \"To know how they affect the environment.\"\\n      },\\n      {\\n        \"question_id\": \"65\",\\n        \"answer\": \"It helps in understanding changes and staying healthy.\"\\n      },\\n      {\\n        \"question_id\": \"66\",\\n        \"answer\": \"Use a magnet to pick up paper clips.\"\\n      },\\n      {\\n        \"question_id\": \"67\",\\n        \"answer\": \"To prevent accidents in the lab.\"\\n      },\\n      {\\n        \"question_id\": \"68\",\\n        \"answer\": \"To know how they affect the environment.\"\\n      },\\n      {\\n        \"question_id\": \"69\",\\n        \"answer\": \"Kidneys filter blood and skin sweats waste.\"\\n      },\\n      {\\n        \"question_id\": \"70\",\\n        \"answer\": \"Renewable energy is clean and saves resources.\"\\n      },\\n      {\\n        \"question_id\": \"71\",\\n        \"answer\": \"A thermometer measures temperature.\"\\n      },\\n      {\\n        \"question_id\": \"72\",\\n        \"answer\": \"Include evacuation routes and fire drills.\"\\n      },\\n      {\\n        \"question_id\": \"73\",\\n        \"answer\": \"Kidneys, ureters, bladder, and urethra.\"\\n      },\\n      {\\n        \"question_id\": \"74\",\\n        \"answer\": \"You need a battery, wires, and a bulb.\"\\n      },\\n      {\\n        \"question_id\": \"75\",\\n        \"answer\": \"To get correct results and avoid accidents.\"\\n      }\\n    ]\\n  },\\n  {\\n    \"id\": 2,\\n    \"answers\": [\\n      {\\n        \"question_id\": \"51\",\\n        \"answer\": \"Amina should tell the teacher and make sure no one steps on it.\"\\n      },\\n      {\\n        \"question_id\": \"52\",\\n        \"answer\": \"Zawadi should know the type of fire and use the right extinguisher.\"\\n      },\\n      {\\n        \"question_id\": \"53\",\\n        \"answer\": \"Kidneys clean blood and skin sweats out waste.\"\\n      },\\n      {\\n        \"question_id\": \"54\",\\n        \"answer\": \"Brian needs a battery, wires, and a bulb.\"\\n      },\\n      {\\n        \"question_id\": \"55\",\\n        \"answer\": \"The symbol is a test tube pouring on a hand.\"\\n      },\\n      {\\n        \"question_id\": \"56\",\\n        \"answer\": \"An element is one type of atom, a compound is two or more. Water is hydrogen and oxygen.\"\\n      },\\n      {\\n        \"question_id\": \"57\",\\n        \"answer\": \"Kidneys filter blood and skin sweats waste.\"\\n      },\\n      {\\n        \"question_id\": \"58\",\\n        \"answer\": \"Zawadi needs a battery, wires, and a bulb.\"\\n      },\\n      {\\n        \"question_id\": \"59\",\\n        \"answer\": \"To make sure they are safe and work well.\"\\n      },\\n      {\\n        \"question_id\": \"60\",\\n        \"answer\": \"Litmus paper turns red in acid.\"\\n      },\\n      {\\n        \"question_id\": \"61\",\\n        \"answer\": \"Musa should drink water, eat well, and exercise.\"\\n      },\\n      {\\n        \"question_id\": \"62\",\\n        \"answer\": \"Zawadi needs a battery, wires, and a bulb.\"\\n      },\\n      {\\n        \"question_id\": \"63\",\\n        \"answer\": \"Science helps solve problems and improve life.\"\\n      },\\n      {\\n        \"question_id\": \"64\",\\n        \"answer\": \"To know how they affect the environment.\"\\n      },\\n      {\\n        \"question_id\": \"65\",\\n        \"answer\": \"It helps in understanding changes and staying healthy.\"\\n      },\\n      {\\n        \"question_id\": \"66\",\\n        \"answer\": \"Use a magnet to pick up paper clips.\"\\n      },\\n      {\\n        \"question_id\": \"67\",\\n        \"answer\": \"To prevent accidents in the lab.\"\\n      },\\n      {\\n        \"question_id\": \"68\",\\n        \"answer\": \"To know how they affect the environment.\"\\n      },\\n      {\\n        \"question_id\": \"69\",\\n        \"answer\": \"Kidneys filter blood and skin sweats waste.\"\\n      },\\n      {\\n        \"question_id\": \"70\",\\n        \"answer\": \"Renewable energy is clean and saves resources.\"\\n      },\\n      {\\n        \"question_id\": \"71\",\\n        \"answer\": \"A thermometer measures temperature.\"\\n      },\\n      {\\n        \"question_id\": \"72\",\\n        \"answer\": \"Include evacuation routes and fire drills.\"\\n      },\\n      {\\n        \"question_id\": \"73\",\\n        \"answer\": \"Kidneys, ureters, bladder, and urethra.\"\\n      },\\n      {\\n        \"question_id\": \"74\",\\n        \"answer\": \"You need a battery, wires, and a bulb.\"\\n      },\\n      {\\n        \"question_id\": \"75\",\\n        \"answer\": \"To get correct results and avoid accidents.\"\\n      }\\n    ]\\n  },\\n  {\\n    \"id\": 5,\\n    \"answers\": [\\n      {\\n        \"question_id\": \"51\",\\n        \"answer\": \"Amina should tell the teacher and make sure no one steps on the glass.\"\\n      },\\n      {\\n        \"question_id\": \"52\",\\n        \"answer\": \"Zawadi should know the type of fire and use the right extinguisher.\"\\n      },\\n      {\\n        \"question_id\": \"53\",\\n        \"answer\": \"Kidneys clean blood and skin sweats out waste.\"\\n      },\\n      {\\n        \"question_id\": \"54\",\\n        \"answer\": \"Brian needs a battery, wires, and a bulb.\"\\n      },\\n      {\\n        \"question_id\": \"55\",\\n        \"answer\": \"The symbol is a test tube pouring on a hand.\"\\n      },\\n      {\\n        \"question_id\": \"56\",\\n        \"answer\": \"An element is one type of atom, a compound is two or more. Water is hydrogen and oxygen.\"\\n      },\\n      {\\n        \"question_id\": \"57\",\\n        \"answer\": \"Kidneys filter blood and skin sweats waste.\"\\n      },\\n      {\\n        \"question_id\": \"58\",\\n        \"answer\": \"Zawadi needs a battery, wires, and a bulb.\"\\n      },\\n      {\\n        \"question_id\": \"59\",\\n        \"answer\": \"To make sure they are safe and work well.\"\\n      },\\n      {\\n        \"question_id\": \"60\",\\n        \"answer\": \"Litmus paper turns red in acid.\"\\n      },\\n      {\\n        \"question_id\": \"61\",\\n        \"answer\": \"Musa should drink water, eat well, and exercise.\"\\n      },\\n      {\\n        \"question_id\": \"62\",\\n        \"answer\": \"Zawadi needs a battery, wires, and a bulb.\"\\n      },\\n      {\\n        \"question_id\": \"63\",\\n        \"answer\": \"Science helps solve problems and improve life.\"\\n      },\\n      {\\n        \"question_id\": \"64\",\\n        \"answer\": \"To know how they affect the environment.\"\\n      },\\n      {\\n        \"question_id\": \"65\",\\n        \"answer\": \"It helps in understanding changes and staying healthy.\"\\n      },\\n      {\\n        \"question_id\": \"66\",\\n        \"answer\": \"Use a magnet to pick up paper clips.\"\\n      },\\n      {\\n        \"question_id\": \"67\",\\n        \"answer\": \"To prevent accidents in the lab.\"\\n      },\\n      {\\n        \"question_id\": \"68\",\\n        \"answer\": \"To know how they affect the environment.\"\\n      },\\n      {\\n        \"question_id\": \"69\",\\n        \"answer\": \"Kidneys filter blood and skin sweats waste.\"\\n      },\\n      {\\n        \"question_id\": \"70\",\\n        \"answer\": \"Renewable energy is clean and saves resources.\"\\n      },\\n      {\\n        \"question_id\": \"71\",\\n        \"answer\": \"A thermometer measures temperature.\"\\n      },\\n      {\\n        \"question_id\": \"72\",\\n        \"answer\": \"Include evacuation routes and fire drills.\"\\n      },\\n      {\\n        \"question_id\": \"73\",\\n        \"answer\": \"Kidneys, ureters, bladder, and urethra.\"\\n      },\\n      {\\n        \"question_id\": \"74\",\\n        \"answer\": \"You need a battery, wires, and a bulb.\"\\n      },\\n      {\\n        \"question_id\": \"75\",\\n        \"answer\": \"To get correct results and avoid accidents.\"\\n      }\\n    ]\\n  },\\n  {\\n    \"id\": 6,\\n    \"answers\": [\\n      {\\n        \"question_id\": \"51\",\\n        \"answer\": \"Amina should tell the teacher and make sure no one steps on it.\"\\n      },\\n      {\\n        \"question_id\": \"52\",\\n        \"answer\": \"Zawadi should know the type of fire and use the right extinguisher.\"\\n      },\\n      {\\n        \"question_id\": \"53\",\\n        \"answer\": \"Kidneys clean blood and skin sweats out waste.\"\\n      },\\n      {\\n        \"question_id\": \"54\",\\n        \"answer\": \"Brian needs a battery, wires, and a bulb.\"\\n      },\\n      {\\n        \"question_id\": \"55\",\\n        \"answer\": \"The symbol is a test tube pouring on a hand.\"\\n      },\\n      {\\n        \"question_id\": \"56\",\\n        \"answer\": \"An element is one type of atom, a compound is two or more. Water is hydrogen and oxygen.\"\\n      },\\n      {\\n        \"question_id\": \"57\",\\n        \"answer\": \"Kidneys filter blood and skin sweats waste.\"\\n      },\\n      {\\n        \"question_id\": \"58\",\\n        \"answer\": \"Zawadi needs a battery, wires, and a bulb.\"\\n      },\\n      {\\n        \"question_id\": \"59\",\\n        \"answer\": \"To make sure they are safe and work well.\"\\n      },\\n      {\\n        \"question_id\": \"60\",\\n        \"answer\": \"Litmus paper turns red in acid.\"\\n      },\\n      {\\n        \"question_id\": \"61\",\\n        \"answer\": \"Musa should drink water, eat well, and exercise.\"\\n      },\\n      {\\n        \"question_id\": \"62\",\\n        \"answer\": \"Zawadi needs a battery, wires, and a bulb.\"\\n      },\\n      {\\n        \"question_id\": \"63\",\\n        \"answer\": \"Science helps solve problems and improve life.\"\\n      },\\n      {\\n        \"question_id\": \"64\",\\n        \"answer\": \"To know how they affect the environment.\"\\n      },\\n      {\\n        \"question_id\": \"65\",\\n        \"answer\": \"It helps in understanding changes and staying healthy.\"\\n      },\\n      {\\n        \"question_id\": \"66\",\\n        \"answer\": \"Use a magnet to pick up paper clips.\"\\n      },\\n      {\\n        \"question_id\": \"67\",\\n        \"answer\": \"To prevent accidents in the lab.\"\\n      },\\n      {\\n        \"question_id\": \"68\",\\n        \"answer\": \"To know how they affect the environment.\"\\n      },\\n      {\\n        \"question_id\": \"69\",\\n        \"answer\": \"Kidneys filter blood and skin sweats waste.\"\\n      },\\n      {\\n        \"question_id\": \"70\",\\n        \"answer\": \"Renewable energy is clean and saves resources.\"\\n      },\\n      {\\n        \"question_id\": \"71\",\\n        \"answer\": \"A thermometer measures temperature.\"\\n      },\\n      {\\n        \"question_id\": \"72\",\\n        \"answer\": \"Include evacuation routes and fire drills.\"\\n      },\\n      {\\n        \"question_id\": \"73\",\\n        \"answer\": \"Kidneys, ureters, bladder, and urethra.\"\\n      },\\n      {\\n        \"question_id\": \"74\",\\n        \"answer\": \"You need a battery, wires, and a bulb.\"\\n      },\\n      {\\n        \"question_id\": \"75\",\\n        \"answer\": \"To get correct results and avoid accidents.\"\\n      }\\n    ]\\n  },\\n  {\\n    \"id\": 9,\\n    \"answers\": [\\n      {\\n        \"question_id\": \"51\",\\n        \"answer\": \"Amina should tell the teacher and make sure no one steps on it.\"\\n      },\\n      {\\n        \"question_id\": \"52\",\\n        \"answer\": \"Zawadi should know the type of fire and use the right extinguisher.\"\\n      },\\n      {\\n        \"question_id\": \"53\",\\n        \"answer\": \"Kidneys clean blood and skin sweats out waste.\"\\n      },\\n      {\\n        \"question_id\": \"54\",\\n        \"answer\": \"Brian needs a battery, wires, and a bulb.\"\\n      },\\n      {\\n        \"question_id\": \"55\",\\n        \"answer\": \"The symbol is a test tube pouring on a hand.\"\\n      },\\n      {\\n        \"question_id\": \"56\",\\n        \"answer\": \"An element is one type of atom, a compound is two or more. Water is hydrogen and oxygen.\"\\n      },\\n      {\\n        \"question_id\": \"57\",\\n        \"answer\": \"Kidneys filter blood and skin sweats waste.\"\\n      },\\n      {\\n        \"question_id\": \"58\",\\n        \"answer\": \"Zawadi needs a battery, wires, and a bulb.\"\\n      },\\n      {\\n        \"question_id\": \"59\",\\n        \"answer\": \"To make sure they are safe and work well.\"\\n      },\\n      {\\n        \"question_id\": \"60\",\\n        \"answer\": \"Litmus paper turns red in acid.\"\\n      },\\n      {\\n        \"question_id\": \"61\",\\n        \"answer\": \"Musa should drink water, eat well, and exercise.\"\\n      },\\n      {\\n        \"question_id\": \"62\",\\n        \"answer\": \"Zawadi needs a battery, wires, and a bulb.\"\\n      },\\n      {\\n        \"question_id\": \"63\",\\n        \"answer\": \"Science helps solve problems and improve life.\"\\n      },\\n      {\\n        \"question_id\": \"64\",\\n        \"answer\": \"To know how they affect the environment.\"\\n      },\\n      {\\n        \"question_id\": \"65\",\\n        \"answer\": \"It helps in understanding changes and staying healthy.\"\\n      },\\n      {\\n        \"question_id\": \"66\",\\n        \"answer\": \"Use a magnet to pick up paper clips.\"\\n      },\\n      {\\n        \"question_id\": \"67\",\\n        \"answer\": \"To prevent accidents in the lab.\"\\n      },\\n      {\\n        \"question_id\": \"68\",\\n        \"answer\": \"To know how they affect the environment.\"\\n      },\\n      {\\n        \"question_id\": \"69\",\\n        \"answer\": \"Kidneys filter blood and skin sweats waste.\"\\n      },\\n      {\\n        \"question_id\": \"70\",\\n        \"answer\": \"Renewable energy is clean and saves resources.\"\\n      },\\n      {\\n        \"question_id\": \"71\",\\n        \"answer\": \"A thermometer measures temperature.\"\\n      },\\n      {\\n        \"question_id\": \"72\",\\n        \"answer\": \"Include evacuation routes and fire drills.\"\\n      },\\n      {\\n        \"question_id\": \"73\",\\n        \"answer\": \"Kidneys, ureters, bladder, and urethra.\"\\n      },\\n      {\\n        \"question_id\": \"74\",\\n        \"answer\": \"You need a battery, wires, and a bulb.\"\\n      },\\n      {\\n        \"question_id\": \"75\",\\n        \"answer\": \"To get correct results and avoid accidents.\"\\n      }\\n    ]\\n  },\\n  {\\n    \"id\": 8,\\n    \"answers\": [\\n      {\\n        \"question_id\": \"51\",\\n        \"answer\": \"Amina should tell the teacher and make sure no one steps on the glass.\"\\n      },\\n      {\\n        \"question_id\": \"52\",\\n        \"answer\": \"Zawadi should know the type of fire and use the right extinguisher.\"\\n      },\\n      {\\n        \"question_id\": \"53\",\\n        \"answer\": \"Kidneys clean blood and skin sweats out waste.\"\\n      },\\n      {\\n        \"question_id\": \"54\",\\n        \"answer\": \"Brian needs a battery, wires, and a bulb.\"\\n      },\\n      {\\n        \"question_id\": \"55\",\\n        \"answer\": \"The symbol is a test tube pouring on a hand.\"\\n      },\\n      {\\n        \"question_id\": \"56\",\\n        \"answer\": \"An element is one type of atom, a compound is two or more. Water is hydrogen and oxygen.\"\\n      },\\n      {\\n        \"question_id\": \"57\",\\n        \"answer\": \"Kidneys filter blood and skin sweats waste.\"\\n      },\\n      {\\n        \"question_id\": \"58\",\\n        \"answer\": \"Zawadi needs a battery, wires, and a bulb.\"\\n      },\\n      {\\n        \"question_id\": \"59\",\\n        \"answer\": \"To make sure they are safe and work well.\"\\n      },\\n      {\\n        \"question_id\": \"60\",\\n        \"answer\": \"Litmus paper turns red in acid.\"\\n      },\\n      {\\n        \"question_id\": \"61\",\\n        \"answer\": \"Musa should drink water, eat well, and exercise.\"\\n      },\\n      {\\n        \"question_id\": \"62\",\\n        \"answer\": \"Zawadi needs a battery, wires, and a bulb.\"\\n      },\\n      {\\n        \"question_id\": \"63\",\\n        \"answer\": \"Science helps solve problems and improve life.\"\\n      },\\n      {\\n        \"question_id\": \"64\",\\n        \"answer\": \"To know how they affect the environment.\"\\n      },\\n      {\\n        \"question_id\": \"65\",\\n        \"answer\": \"It helps in understanding changes and staying healthy.\"\\n      },\\n      {\\n        \"question_id\": \"66\",\\n        \"answer\": \"Use a magnet to pick up paper clips.\"\\n      },\\n      {\\n        \"question_id\": \"67\",\\n        \"answer\": \"To prevent accidents in the lab.\"\\n      },\\n      {\\n        \"question_id\": \"68\",\\n        \"answer\": \"To know how they affect the environment.\"\\n      },\\n      {\\n        \"question_id\": \"69\",\\n        \"answer\": \"Kidneys filter blood and skin sweats waste.\"\\n      },\\n      {\\n        \"question_id\": \"70\",\\n        \"answer\": \"Renewable energy is clean and saves resources.\"\\n      },\\n      {\\n        \"question_id\": \"71\",\\n        \"answer\": \"A thermometer measures temperature.\"\\n      },\\n      {\\n        \"question_id\": \"72\",\\n        \"answer\": \"Include evacuation routes and fire drills.\"\\n      },\\n      {\\n        \"question_id\": \"73\",\\n        \"answer\": \"Kidneys, ureters, bladder, and urethra.\"\\n      },\\n      {\\n        \"question_id\": \"74\",\\n        \"answer\": \"You need a battery, wires, and a bulb.\"\\n      },\\n      {\\n        \"question_id\": \"75\",\\n        \"answer\": \"To get correct results and avoid accidents.\"\\n      }\\n    ]\\n  }\\n]\\n```' additional_kwargs={'refusal': None} response_metadata={'token_usage': {'completion_tokens': 7369, 'prompt_tokens': 1793, 'total_tokens': 9162, 'completion_tokens_details': {'accepted_prediction_tokens': 0, 'audio_tokens': 0, 'reasoning_tokens': 0, 'rejected_prediction_tokens': 0}, 'prompt_tokens_details': {'audio_tokens': 0, 'cached_tokens': 0}}, 'model_name': 'gpt-4o-2024-08-06', 'system_fingerprint': 'fp_f5bdcc3276', 'id': 'chatcmpl-BWJOkQAxbpCcz082ueLiVrQPomCcd', 'service_tier': 'default', 'finish_reason': 'stop', 'logprobs': None} id='run--0e2c13a7-d68c-4a21-b32b-a4c28d437289-0' usage_metadata={'input_tokens': 1793, 'output_tokens': 7369, 'total_tokens': 9162, 'input_token_details': {'audio': 0, 'cache_read': 0}, 'output_token_details': {'audio': 0, 'reasoning': 0}}\n",
      "📤 Output token count (gpt-4o): 7364\n",
      "🔢 Total token usage: 9360\n"
     ]
    }
   ],
   "source": [
    "# # ==== DB MOCK ANSWERS\n",
    "# # ====================\n",
    "# exam = []\n",
    "# EXAM_FILE = \"data/exam.json\"\n",
    "\n",
    "# with open(EXAM_FILE, \"r\") as f:\n",
    "#     exam = json.load(f)\n",
    "\n",
    "# print(exam)\n",
    "\n",
    "\n",
    "# students = []\n",
    "# STUDENT_FILE = \"data/classroom.json\"\n",
    "\n",
    "# with open(STUDENT_FILE, \"r\") as f:\n",
    "#     students = json.load(f)\n",
    "\n",
    "# print(students)\n",
    "\n",
    "\n",
    "# parsed_answers = generate_llm_exam_answers_list(\n",
    "#     llm=OPENAI_LLM_4O,\n",
    "#     exam_data=exam,\n",
    "#     student_data=students,\n",
    "#     is_debug=True,\n",
    "# )"
   ]
  },
  {
   "cell_type": "code",
   "execution_count": 3,
   "id": "6ece5d31",
   "metadata": {},
   "outputs": [
    {
     "name": "stdout",
     "output_type": "stream",
     "text": [
      "✅ Answers list written to output/answers_list.json\n"
     ]
    }
   ],
   "source": [
    "ANSWERS_LIST_OUTPUT_FILE = \"output/answers_list.json\"\n",
    "\n",
    "with open(ANSWERS_LIST_OUTPUT_FILE, 'w', encoding='utf-8') as f:\n",
    "    json.dump(parsed_answers, f, ensure_ascii=False, indent=4)\n",
    "\n",
    "print(f\"✅ Answers list written to {ANSWERS_LIST_OUTPUT_FILE}\")"
   ]
  },
  {
   "cell_type": "markdown",
   "id": "fafd46fe",
   "metadata": {},
   "source": [
    "## Grade answers"
   ]
  }
 ],
 "metadata": {
  "kernelspec": {
   "display_name": ".venv",
   "language": "python",
   "name": "python3"
  },
  "language_info": {
   "codemirror_mode": {
    "name": "ipython",
    "version": 3
   },
   "file_extension": ".py",
   "mimetype": "text/x-python",
   "name": "python",
   "nbconvert_exporter": "python",
   "pygments_lexer": "ipython3",
   "version": "3.11.12"
  }
 },
 "nbformat": 4,
 "nbformat_minor": 5
}
