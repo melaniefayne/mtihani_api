{
 "cells": [
  {
   "cell_type": "code",
   "execution_count": 1,
   "id": "3e21ab12",
   "metadata": {},
   "outputs": [],
   "source": [
    "import sys\n",
    "import os\n",
    "sys.path.insert(0, os.path.abspath(\"..\"))\n",
    "from gen.curriculum import get_cbc_grouped_questions, get_rubrics_by_sub_strand\n",
    "from gen.utils import *"
   ]
  },
  {
   "cell_type": "markdown",
   "id": "786b3dd6",
   "metadata": {},
   "source": [
    "## Generate questions"
   ]
  },
  {
   "cell_type": "code",
   "execution_count": 2,
   "id": "8b14605a",
   "metadata": {},
   "outputs": [
    {
     "name": "stdout",
     "output_type": "stream",
     "text": [
      "\n",
      "✅ Question breakdown written to /Users/melaniefayne/Desktop/mtihani/mtihani_api/mtihaniapi/gen/output/question_breakdown.json. Total: 1\n"
     ]
    }
   ],
   "source": [
    "grouped_questions = get_cbc_grouped_questions(\n",
    "    strand_ids=[1], \n",
    "    question_count=2,\n",
    "    bloom_skill_count=1,\n",
    "    is_debug=True,\n",
    ")"
   ]
  },
  {
   "cell_type": "code",
   "execution_count": 3,
   "id": "99a45f9f",
   "metadata": {},
   "outputs": [
    {
     "name": "stdout",
     "output_type": "stream",
     "text": [
      "\n",
      "Introduction to Integrated Science =========\n",
      "📝 Input token count (gpt-4o): 689\n",
      "📦 Raw LLM output:\n",
      " content='[{\"question\":\"Amina noticed that her phone\\'s battery lasts longer when she reduces the screen brightness. Explain how this observation relates to the importance of science in daily life.\",\"expected_answer\":\"This observation shows how understanding scientific principles, like energy conservation, can help us make practical decisions to improve efficiency and save resources in daily life.\"},{\"question\":\"Brian is planning a science project to demonstrate the water cycle using simple materials at home. Describe how he can creatively combine different components of Integrated Science to effectively illustrate this natural process.\",\"expected_answer\":\"Brian can use biology to explain plant transpiration, chemistry to show evaporation and condensation, and physics to demonstrate the movement of water through different states, integrating these concepts to create a comprehensive model of the water cycle.\"}]' additional_kwargs={'refusal': None} response_metadata={'token_usage': {'completion_tokens': 151, 'prompt_tokens': 696, 'total_tokens': 847, 'completion_tokens_details': {'accepted_prediction_tokens': 0, 'audio_tokens': 0, 'reasoning_tokens': 0, 'rejected_prediction_tokens': 0}, 'prompt_tokens_details': {'audio_tokens': 0, 'cached_tokens': 0}}, 'model_name': 'gpt-4o-2024-08-06', 'system_fingerprint': 'fp_90122d973c', 'id': 'chatcmpl-BWimkwa4RH56UrPjEyg5PC1QKN4AC', 'service_tier': 'default', 'finish_reason': 'stop', 'logprobs': None} id='run--29e9f460-f7d8-4538-b5b6-afd7912b9c03-0' usage_metadata={'input_tokens': 696, 'output_tokens': 151, 'total_tokens': 847, 'input_token_details': {'audio': 0, 'cache_read': 0}, 'output_token_details': {'audio': 0, 'reasoning': 0}}\n",
      "📤 Output token count (gpt-4o): 150\n",
      "🔢 Total token usage: 839\n",
      "\n",
      "✅ Question list written to /Users/melaniefayne/Desktop/mtihani/mtihani_api/mtihaniapi/gen/output/question_list.json. Total: 2\n"
     ]
    }
   ],
   "source": [
    "all_question_list = generate_llm_question_list(\n",
    "    grouped_question_data=grouped_questions,\n",
    "    is_debug=True,\n",
    ")\n",
    "\n",
    "# If there was a generation error\n",
    "if not isinstance(all_question_list, list):\n",
    "    print(all_question_list)"
   ]
  },
  {
   "cell_type": "code",
   "execution_count": 4,
   "id": "54212919",
   "metadata": {},
   "outputs": [
    {
     "name": "stdout",
     "output_type": "stream",
     "text": [
      "\n",
      "✅ Question list to /Users/melaniefayne/Desktop/mtihani/mtihani_api/mtihaniapi/gen/output/question_list.json. Total: 2\n"
     ]
    }
   ],
   "source": [
    "exam_questions = get_db_question_objects(\n",
    "    all_question_list=all_question_list,\n",
    "    is_debug=True,\n",
    ")"
   ]
  },
  {
   "cell_type": "markdown",
   "id": "57fd1ee3",
   "metadata": {},
   "source": [
    "## Simulate student answers"
   ]
  },
  {
   "cell_type": "code",
   "execution_count": 5,
   "id": "6f955561",
   "metadata": {},
   "outputs": [
    {
     "name": "stdout",
     "output_type": "stream",
     "text": [
      "[{'id': 1, 'question': \"Amina noticed that her phone's battery lasts longer when she reduces the screen brightness. Explain how this observation relates to the importance of science in daily life.\", 'expected_answer': 'This observation shows how understanding scientific principles, like energy conservation, can help us make practical decisions to improve efficiency and save resources in daily life.'}, {'id': 2, 'question': 'Brian is planning a science project to demonstrate the water cycle using simple materials at home. Describe how he can creatively combine different components of Integrated Science to effectively illustrate this natural process.', 'expected_answer': 'Brian can use biology to explain plant transpiration, chemistry to show evaporation and condensation, and physics to demonstrate the movement of water through different states, integrating these concepts to create a comprehensive model of the water cycle.'}]\n"
     ]
    }
   ],
   "source": [
    "def convert_to_single_qa_list(data):\n",
    "    result = []\n",
    "    for index, item in enumerate(data):\n",
    "        questions = item[\"questions\"]\n",
    "        expected_answers = item[\"expected_answers\"]\n",
    "\n",
    "        if isinstance(questions, str):\n",
    "            questions = [questions]\n",
    "        if isinstance(expected_answers, str):\n",
    "            expected_answers = [expected_answers]\n",
    "\n",
    "        if questions and expected_answers:\n",
    "            result.append({\n",
    "                \"id\": index + 1,\n",
    "                \"question\": questions[0],\n",
    "                \"expected_answer\": expected_answers[0]\n",
    "            })\n",
    "\n",
    "    return result\n",
    "\n",
    "exam_output = convert_to_single_qa_list(exam_questions)\n",
    "print(exam_output)"
   ]
  },
  {
   "cell_type": "code",
   "execution_count": 6,
   "id": "6bfc4208",
   "metadata": {},
   "outputs": [],
   "source": [
    "sample_students = [{'id': 1, 'avg_score': 12}, {'id': 2, 'avg_score': 95}, {\n",
    "    'id': 3, 'avg_score': 54}, {'id': 4, 'avg_score': 71},]"
   ]
  },
  {
   "cell_type": "code",
   "execution_count": 7,
   "id": "42fdf3da",
   "metadata": {},
   "outputs": [
    {
     "name": "stdout",
     "output_type": "stream",
     "text": [
      "📝 Input token count (gpt-4o): 671\n",
      "📦 Raw LLM output:\n",
      " content='```json\\n[\\n  {\\n    \"id\": 1,\\n    \"answers\": [\\n      {\\n        \"question_id\": \"1\",\\n        \"answer\": \"When Amina makes her phone less bright, the battery lasts longer. This shows that using less energy is good, but I don\\'t know much about why.\"\\n      },\\n      {\\n        \"question_id\": \"2\",\\n        \"answer\": \"Brian can use water and maybe some plants to show how water moves, but I\\'m not sure how to do it exactly.\"\\n      }\\n    ]\\n  },\\n  {\\n    \"id\": 2,\\n    \"answers\": [\\n      {\\n        \"question_id\": \"1\",\\n        \"answer\": \"Amina\\'s observation shows how science helps us save energy. By reducing screen brightness, she uses less battery power, which is a practical application of energy conservation.\"\\n      },\\n      {\\n        \"question_id\": \"2\",\\n        \"answer\": \"Brian can use a bowl of water to show evaporation, a plastic cover to show condensation, and a small plant to demonstrate transpiration. This combines biology, chemistry, and physics to show the water cycle.\"\\n      }\\n    ]\\n  },\\n  {\\n    \"id\": 3,\\n    \"answers\": [\\n      {\\n        \"question_id\": \"1\",\\n        \"answer\": \"Amina sees that her phone battery lasts longer when the screen is not too bright. This is because it uses less energy, which is a science idea.\"\\n      },\\n      {\\n        \"question_id\": \"2\",\\n        \"answer\": \"Brian can use a pot of water to show how it evaporates and then cools down to form drops again. He can also use a plant to show how water moves in nature.\"\\n      }\\n    ]\\n  },\\n  {\\n    \"id\": 4,\\n    \"answers\": [\\n      {\\n        \"question_id\": \"1\",\\n        \"answer\": \"Amina\\'s phone battery lasting longer with lower brightness shows how science helps us save energy by using less power.\"\\n      },\\n      {\\n        \"question_id\": \"2\",\\n        \"answer\": \"Brian can use a glass of water to show evaporation, a lid to show condensation, and a small plant to show transpiration. This way, he uses different science ideas to show the water cycle.\"\\n      }\\n    ]\\n  }\\n]\\n```' additional_kwargs={'refusal': None} response_metadata={'token_usage': {'completion_tokens': 473, 'prompt_tokens': 642, 'total_tokens': 1115, 'completion_tokens_details': {'accepted_prediction_tokens': 0, 'audio_tokens': 0, 'reasoning_tokens': 0, 'rejected_prediction_tokens': 0}, 'prompt_tokens_details': {'audio_tokens': 0, 'cached_tokens': 0}}, 'model_name': 'gpt-4o-2024-08-06', 'system_fingerprint': 'fp_90122d973c', 'id': 'chatcmpl-BWimpR5I17x3pxpLpfOLWO3wqv4jw', 'service_tier': 'default', 'finish_reason': 'stop', 'logprobs': None} id='run--96b80b4f-2cdd-4fd0-9823-7e3a25e9b12b-0' usage_metadata={'input_tokens': 642, 'output_tokens': 473, 'total_tokens': 1115, 'input_token_details': {'audio': 0, 'cache_read': 0}, 'output_token_details': {'audio': 0, 'reasoning': 0}}\n",
      "📤 Output token count (gpt-4o): 468\n",
      "🔢 Total token usage: 1139\n",
      "\n",
      "✅ Mocked Answers list written to /Users/melaniefayne/Desktop/mtihani/mtihani_api/mtihaniapi/gen/output/answers_list.json\n"
     ]
    }
   ],
   "source": [
    "parsed_answers = generate_llm_exam_answers_list(\n",
    "    llm=OPENAI_LLM_4O,\n",
    "    exam_data=exam_output,\n",
    "    student_data=sample_students,\n",
    "    is_debug=True,\n",
    ")"
   ]
  },
  {
   "cell_type": "code",
   "execution_count": 12,
   "id": "72fe8ca7",
   "metadata": {},
   "outputs": [
    {
     "name": "stdout",
     "output_type": "stream",
     "text": [
      "[{'id': 1, 'question': 'During a science class, Amina accidentally spills a chemical on her hand. What immediate First Aid measure should she take to ensure her safety?', 'expected_answer': 'Amina should immediately rinse her hand under running water for at least 15 minutes to remove the chemical and prevent further injury.'}, {'id': 2, 'question': 'Amina noticed that when she left her iron nail outside in the rain, it developed a reddish-brown coating. Evaluate whether this change is physical or chemical and justify your answer.', 'expected_answer': 'This change is chemical because the iron reacts with oxygen and water to form iron oxide, a new substance.'}, {'id': 3, 'question': 'Amina noticed that her voice has started to change and she is growing taller. What are these changes called, and why do they occur during adolescence?', 'expected_answer': 'These changes are called physical changes during adolescence, and they occur due to hormonal changes in the body that prepare individuals for adulthood and reproductive maturity.'}]\n",
      "[{'id': 7, 'avg_score': 97}, {'id': 4, 'avg_score': 50.2}, {'id': 10, 'avg_score': 44.8}, {'id': 3, 'avg_score': 93.4}, {'id': 1, 'avg_score': 84.2}, {'id': 2, 'avg_score': 65}, {'id': 5, 'avg_score': 86.4}, {'id': 6, 'avg_score': 54.2}, {'id': 9, 'avg_score': 67.2}, {'id': 8, 'avg_score': 75}]\n",
      "📝 Input token count (gpt-4o): 853\n",
      "📦 Raw LLM output:\n",
      " content='```json\\n[\\n  {\\n    \"id\": 7,\\n    \"answers\": [\\n      {\\n        \"question_id\": \"1\",\\n        \"answer\": \"Amina should quickly wash her hand with lots of water to get rid of the chemical.\"\\n      },\\n      {\\n        \"question_id\": \"2\",\\n        \"answer\": \"This is a chemical change because the iron has reacted with water and air to form rust, which is a new substance.\"\\n      },\\n      {\\n        \"question_id\": \"3\",\\n        \"answer\": \"These are called physical changes during adolescence. They happen because of hormones that help the body grow and prepare for adulthood.\"\\n      }\\n    ]\\n  },\\n  {\\n    \"id\": 4,\\n    \"answers\": [\\n      {\\n        \"question_id\": \"1\",\\n        \"answer\": \"She should wash her hand with water.\"\\n      },\\n      {\\n        \"question_id\": \"2\",\\n        \"answer\": \"It is a chemical change because the nail rusts.\"\\n      },\\n      {\\n        \"question_id\": \"3\",\\n        \"answer\": \"These changes are called puberty changes and happen because of hormones.\"\\n      }\\n    ]\\n  },\\n  {\\n    \"id\": 10,\\n    \"answers\": [\\n      {\\n        \"question_id\": \"1\",\\n        \"answer\": \"She should wash her hand.\"\\n      },\\n      {\\n        \"question_id\": \"2\",\\n        \"answer\": \"It is a chemical change because it rusts.\"\\n      },\\n      {\\n        \"question_id\": \"3\",\\n        \"answer\": \"These changes are called puberty.\"\\n      }\\n    ]\\n  },\\n  {\\n    \"id\": 3,\\n    \"answers\": [\\n      {\\n        \"question_id\": \"1\",\\n        \"answer\": \"Amina should immediately rinse her hand under running water for at least 15 minutes to remove the chemical.\"\\n      },\\n      {\\n        \"question_id\": \"2\",\\n        \"answer\": \"This is a chemical change because the iron reacts with oxygen and water to form iron oxide, which is rust.\"\\n      },\\n      {\\n        \"question_id\": \"3\",\\n        \"answer\": \"These changes are called physical changes during adolescence. They occur due to hormonal changes that prepare the body for adulthood.\"\\n      }\\n    ]\\n  },\\n  {\\n    \"id\": 1,\\n    \"answers\": [\\n      {\\n        \"question_id\": \"1\",\\n        \"answer\": \"Amina should rinse her hand with running water for a long time to remove the chemical.\"\\n      },\\n      {\\n        \"question_id\": \"2\",\\n        \"answer\": \"This is a chemical change because the iron reacts with water and air to form rust, which is a new substance.\"\\n      },\\n      {\\n        \"question_id\": \"3\",\\n        \"answer\": \"These changes are called physical changes during adolescence, caused by hormones that help the body grow.\"\\n      }\\n    ]\\n  },\\n  {\\n    \"id\": 2,\\n    \"answers\": [\\n      {\\n        \"question_id\": \"1\",\\n        \"answer\": \"She should wash her hand with water to remove the chemical.\"\\n      },\\n      {\\n        \"question_id\": \"2\",\\n        \"answer\": \"It is a chemical change because rust forms on the nail.\"\\n      },\\n      {\\n        \"question_id\": \"3\",\\n        \"answer\": \"These changes are called puberty changes and happen because of hormones.\"\\n      }\\n    ]\\n  },\\n  {\\n    \"id\": 5,\\n    \"answers\": [\\n      {\\n        \"question_id\": \"1\",\\n        \"answer\": \"Amina should rinse her hand under running water for a long time to wash away the chemical.\"\\n      },\\n      {\\n        \"question_id\": \"2\",\\n        \"answer\": \"This is a chemical change because the iron reacts with oxygen and water to form rust, a new substance.\"\\n      },\\n      {\\n        \"question_id\": \"3\",\\n        \"answer\": \"These changes are called physical changes during adolescence, caused by hormonal changes that prepare the body for adulthood.\"\\n      }\\n    ]\\n  },\\n  {\\n    \"id\": 6,\\n    \"answers\": [\\n      {\\n        \"question_id\": \"1\",\\n        \"answer\": \"She should wash her hand with water.\"\\n      },\\n      {\\n        \"question_id\": \"2\",\\n        \"answer\": \"It is a chemical change because the nail rusts.\"\\n      },\\n      {\\n        \"question_id\": \"3\",\\n        \"answer\": \"These changes are called puberty changes and happen because of hormones.\"\\n      }\\n    ]\\n  },\\n  {\\n    \"id\": 9,\\n    \"answers\": [\\n      {\\n        \"question_id\": \"1\",\\n        \"answer\": \"She should wash her hand with a lot of water to remove the chemical.\"\\n      },\\n      {\\n        \"question_id\": \"2\",\\n        \"answer\": \"It is a chemical change because the nail forms rust, which is a new substance.\"\\n      },\\n      {\\n        \"question_id\": \"3\",\\n        \"answer\": \"These changes are called physical changes during adolescence, caused by hormones.\"\\n      }\\n    ]\\n  },\\n  {\\n    \"id\": 8,\\n    \"answers\": [\\n      {\\n        \"question_id\": \"1\",\\n        \"answer\": \"Amina should rinse her hand with running water to remove the chemical.\"\\n      },\\n      {\\n        \"question_id\": \"2\",\\n        \"answer\": \"This is a chemical change because the iron reacts with water and air to form rust.\"\\n      },\\n      {\\n        \"question_id\": \"3\",\\n        \"answer\": \"These changes are called physical changes during adolescence, caused by hormones.\"\\n      }\\n    ]\\n  }\\n]\\n```' additional_kwargs={'refusal': None} response_metadata={'token_usage': {'completion_tokens': 1155, 'prompt_tokens': 782, 'total_tokens': 1937, 'completion_tokens_details': {'accepted_prediction_tokens': 0, 'audio_tokens': 0, 'reasoning_tokens': 0, 'rejected_prediction_tokens': 0}, 'prompt_tokens_details': {'audio_tokens': 0, 'cached_tokens': 0}}, 'model_name': 'gpt-4o-2024-08-06', 'system_fingerprint': 'fp_90122d973c', 'id': 'chatcmpl-BWjNqLzgVWGGaOj1pXwtE6AgE9Z2G', 'service_tier': 'default', 'finish_reason': 'stop', 'logprobs': None} id='run--0c0b0fd3-bd23-4f2f-9c3c-e446c183695e-0' usage_metadata={'input_tokens': 782, 'output_tokens': 1155, 'total_tokens': 1937, 'input_token_details': {'audio': 0, 'cache_read': 0}, 'output_token_details': {'audio': 0, 'reasoning': 0}}\n",
      "📤 Output token count (gpt-4o): 1150\n",
      "🔢 Total token usage: 2003\n",
      "\n",
      "✅ Mocked Answers list written to /Users/melaniefayne/Desktop/mtihani/mtihani_api/mtihaniapi/gen/output/answers_list.json\n"
     ]
    }
   ],
   "source": [
    "# # ==== DB MOCK ANSWERS\n",
    "# # ====================\n",
    "# exam = []\n",
    "# EXAM_FILE = \"data/exam.json\"\n",
    "\n",
    "# with open(EXAM_FILE, \"r\") as f:\n",
    "#     exam = json.load(f)\n",
    "\n",
    "# print(exam)\n",
    "\n",
    "\n",
    "# students = []\n",
    "# STUDENT_FILE = \"data/classroom.json\"\n",
    "\n",
    "# with open(STUDENT_FILE, \"r\") as f:\n",
    "#     students = json.load(f)\n",
    "\n",
    "# print(students)\n",
    "\n",
    "\n",
    "# parsed_answers = generate_llm_exam_answers_list(\n",
    "#     llm=OPENAI_LLM_4O,\n",
    "#     exam_data=exam,\n",
    "#     student_data=students,\n",
    "#     is_debug=True,\n",
    "# )"
   ]
  },
  {
   "cell_type": "markdown",
   "id": "fafd46fe",
   "metadata": {},
   "source": [
    "## Grade answers"
   ]
  },
  {
   "cell_type": "code",
   "execution_count": 9,
   "id": "509a6026",
   "metadata": {},
   "outputs": [],
   "source": [
    "def get_answers_for_question(target_question_id, start_count):\n",
    "    result = []\n",
    "    count = start_count\n",
    "    for entry in parsed_answers:\n",
    "        for answer in entry[\"answers\"]:\n",
    "            if answer[\"question_id\"] == str(target_question_id):\n",
    "                result.append({\n",
    "                    \"answer_id\": count,\n",
    "                    \"answer\": answer[\"answer\"],\n",
    "                })\n",
    "                count += 1\n",
    "    return result, count\n",
    "\n",
    "\n",
    "grouped_answers_data = []\n",
    "count = 1\n",
    "\n",
    "for idx, q in enumerate(exam_questions):\n",
    "    item = {\n",
    "        \"question\": q[\"description\"],\n",
    "        \"expected_answer\": q[\"expected_answer\"],\n",
    "        \"rubrics\": get_rubrics_by_sub_strand(\n",
    "            sub_strand_name=q[\"sub_strand\"],\n",
    "        )\n",
    "    }\n",
    "    student_answers, count = get_answers_for_question(idx + 1, count)\n",
    "    item[\"student_answers\"] = student_answers\n",
    "\n",
    "    grouped_answers_data.append(item)"
   ]
  },
  {
   "cell_type": "code",
   "execution_count": 10,
   "id": "c78940ca",
   "metadata": {},
   "outputs": [
    {
     "name": "stdout",
     "output_type": "stream",
     "text": [
      "✅ Mocked Answers list written to output/answers_list.json\n"
     ]
    }
   ],
   "source": [
    "ANSWERS_LIST_OUTPUT_FILE = \"output/answers_list.json\"\n",
    "with open(ANSWERS_LIST_OUTPUT_FILE, 'w', encoding='utf-8') as f:\n",
    "    json.dump(grouped_answers_data, f, ensure_ascii=False, indent=4)\n",
    "print(f\"✅ Mocked Answers list written to {ANSWERS_LIST_OUTPUT_FILE}\")"
   ]
  },
  {
   "cell_type": "code",
   "execution_count": 11,
   "id": "c44699d4",
   "metadata": {},
   "outputs": [
    {
     "name": "stdout",
     "output_type": "stream",
     "text": [
      "\n",
      "Amina noticed that her phone's battery lasts longer when she reduces the screen brightness. Explain how this observation relates to the importance of science in daily life. =========\n",
      "📝 Input token count (gpt-4o): 546\n",
      "📦 Raw LLM output:\n",
      " content='```json\\n[\\n    {\"answer_id\": 1, \"score\": 1},\\n    {\"answer_id\": 2, \"score\": 4},\\n    {\"answer_id\": 3, \"score\": 2},\\n    {\"answer_id\": 4, \"score\": 3}\\n]\\n```' additional_kwargs={'refusal': None} response_metadata={'token_usage': {'completion_tokens': 63, 'prompt_tokens': 553, 'total_tokens': 616, 'completion_tokens_details': {'accepted_prediction_tokens': 0, 'audio_tokens': 0, 'reasoning_tokens': 0, 'rejected_prediction_tokens': 0}, 'prompt_tokens_details': {'audio_tokens': 0, 'cached_tokens': 0}}, 'model_name': 'gpt-4o-2024-08-06', 'system_fingerprint': 'fp_f5bdcc3276', 'id': 'chatcmpl-BWin0fkD2qxQrUjhZrYXHMGEH5LHd', 'service_tier': 'default', 'finish_reason': 'stop', 'logprobs': None} id='run--2b01feaf-eb37-4498-a3b5-b9d3cdb18b63-0' usage_metadata={'input_tokens': 553, 'output_tokens': 63, 'total_tokens': 616, 'input_token_details': {'audio': 0, 'cache_read': 0}, 'output_token_details': {'audio': 0, 'reasoning': 0}}\n",
      "📤 Output token count (gpt-4o): 58\n",
      "🔢 Total token usage: 604\n",
      "\n",
      "Brian is planning a science project to demonstrate the water cycle using simple materials at home. Describe how he can creatively combine different components of Integrated Science to effectively illustrate this natural process. =========\n",
      "📝 Input token count (gpt-4o): 590\n",
      "📦 Raw LLM output:\n",
      " content='```json\\n[\\n    {\"answer_id\": 5, \"score\": 1},\\n    {\"answer_id\": 6, \"score\": 4},\\n    {\"answer_id\": 7, \"score\": 3},\\n    {\"answer_id\": 8, \"score\": 3}\\n]\\n```' additional_kwargs={'refusal': None} response_metadata={'token_usage': {'completion_tokens': 63, 'prompt_tokens': 597, 'total_tokens': 660, 'completion_tokens_details': {'accepted_prediction_tokens': 0, 'audio_tokens': 0, 'reasoning_tokens': 0, 'rejected_prediction_tokens': 0}, 'prompt_tokens_details': {'audio_tokens': 0, 'cached_tokens': 0}}, 'model_name': 'gpt-4o-2024-08-06', 'system_fingerprint': 'fp_f5bdcc3276', 'id': 'chatcmpl-BWin1z49R3H7PpBLmjc2K7mzXAE16', 'service_tier': 'default', 'finish_reason': 'stop', 'logprobs': None} id='run--b3cf0d97-aa41-4ec9-a33e-05b1475b1945-0' usage_metadata={'input_tokens': 597, 'output_tokens': 63, 'total_tokens': 660, 'input_token_details': {'audio': 0, 'cache_read': 0}, 'output_token_details': {'audio': 0, 'reasoning': 0}}\n",
      "📤 Output token count (gpt-4o): 58\n",
      "🔢 Total token usage: 648\n",
      "\n",
      "✅ Graded Answers list written to /Users/melaniefayne/Desktop/mtihani/mtihani_api/mtihaniapi/gen/output/grades_list.json\n"
     ]
    }
   ],
   "source": [
    "parsed_grades = generate_llm_answer_grades_list(\n",
    "    llm=OPENAI_LLM_4O,\n",
    "    grouped_answers_data=grouped_answers_data,\n",
    "    is_debug=True,\n",
    ")"
   ]
  }
 ],
 "metadata": {
  "kernelspec": {
   "display_name": ".venv",
   "language": "python",
   "name": "python3"
  },
  "language_info": {
   "codemirror_mode": {
    "name": "ipython",
    "version": 3
   },
   "file_extension": ".py",
   "mimetype": "text/x-python",
   "name": "python",
   "nbconvert_exporter": "python",
   "pygments_lexer": "ipython3",
   "version": "3.11.12"
  }
 },
 "nbformat": 4,
 "nbformat_minor": 5
}
