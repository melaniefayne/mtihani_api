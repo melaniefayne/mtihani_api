{
 "cells": [
  {
   "cell_type": "code",
   "execution_count": 1,
   "id": "3e21ab12",
   "metadata": {},
   "outputs": [],
   "source": [
    "import sys\n",
    "import os\n",
    "sys.path.insert(0, os.path.abspath(\"..\"))\n",
    "from gen.curriculum import get_cbc_grouped_questions, get_rubrics_by_sub_strand, get_all_strand_names\n",
    "from gen.utils import *"
   ]
  },
  {
   "cell_type": "code",
   "execution_count": 2,
   "id": "39374e23",
   "metadata": {},
   "outputs": [
    {
     "name": "stdout",
     "output_type": "stream",
     "text": [
      "[\"Scientific Investigation\", \"Introduction to Integrated Science\", \"Laboratory Safety\", \"Laboratory Apparatus and Instruments\", \"Mixtures, Elements and Compounds\", \"Mixtures\", \"Acids, Bases and Indicators\", \"Living Things and Their Environment\", \"Human Reproductive System\", \"Human Excretory System\", \"Force and Energy\", \"Electrical Energy\", \"Magnetism\", \"Mixtures, Elements and Compounds\", \"Elements and Compounds\", \"Physical and Chemical Changes\", \"Classes of Fire\", \"Living Things and the Environment\", \"The Cell\", \"Movement of Materials In and Out of the Cell\", \"Reproduction in Human Beings\", \"Force and Energy\", \"Transformation of Energy\", \"Pressure\", \"Mixtures, Elements and Compounds\", \"Structure of the Atom\", \"Metals and Alloys\", \"Water Hardness\", \"Living Things and Their Environment\", \"Pollution\", \"Conservation of the Environment\", \"Force and Energy\", \"Friction\", \"Machines\"]\n"
     ]
    }
   ],
   "source": [
    "names = get_all_strand_names()\n",
    "print(json.dumps(names))"
   ]
  },
  {
   "cell_type": "markdown",
   "id": "786b3dd6",
   "metadata": {},
   "source": [
    "## Generate questions"
   ]
  },
  {
   "cell_type": "code",
   "execution_count": 5,
   "id": "8b14605a",
   "metadata": {},
   "outputs": [
    {
     "name": "stdout",
     "output_type": "stream",
     "text": [
      "\n",
      "✅ Question breakdown written to /Users/melaniefayne/Desktop/mtihani/mtihani_api/mtihaniapi/gen/output/question_breakdown.json. Total: 3\n"
     ]
    }
   ],
   "source": [
    "grouped_questions = get_cbc_grouped_questions(\n",
    "    strand_ids=[1], \n",
    "    question_count=5,\n",
    "    bloom_skill_count=2,\n",
    "    is_debug=True,\n",
    ")"
   ]
  },
  {
   "cell_type": "code",
   "execution_count": 6,
   "id": "99a45f9f",
   "metadata": {},
   "outputs": [
    {
     "name": "stdout",
     "output_type": "stream",
     "text": [
      "\n",
      "Introduction to Integrated Science =========\n",
      "📝 Input token count (gpt-4o): 686\n",
      "📦 Raw LLM output:\n",
      " content='[{\"question\":\"Amina noticed that her plants grow better when she waters them with rainwater instead of tap water. Using your knowledge of Integrated Science, explain why rainwater might be more beneficial for plant growth.\",\"expected_answer\":\"Rainwater is often more beneficial for plant growth because it is naturally soft and free of chemicals like chlorine, which are present in tap water. It also contains dissolved nitrogen compounds that can act as a natural fertilizer.\"},{\"question\":\"Brian is trying to decide whether to use a solar cooker or a charcoal stove for cooking at home. Evaluate the benefits of using a solar cooker over a charcoal stove in terms of environmental impact and cost.\",\"expected_answer\":\"Using a solar cooker is more environmentally friendly because it does not produce smoke or carbon emissions, unlike a charcoal stove. It also reduces the cost of buying charcoal and is sustainable as it uses free solar energy.\"}]' additional_kwargs={'refusal': None} response_metadata={'token_usage': {'completion_tokens': 176, 'prompt_tokens': 693, 'total_tokens': 869, 'completion_tokens_details': {'accepted_prediction_tokens': 0, 'audio_tokens': 0, 'reasoning_tokens': 0, 'rejected_prediction_tokens': 0}, 'prompt_tokens_details': {'audio_tokens': 0, 'cached_tokens': 0}}, 'model_name': 'gpt-4o-2024-08-06', 'system_fingerprint': 'fp_90122d973c', 'id': 'chatcmpl-BXRUThP3oV02L5q4QcOy5jpxyr5Wz', 'service_tier': 'default', 'finish_reason': 'stop', 'logprobs': None} id='run--5c66795c-3251-4f32-8bd4-d62fda197f27-0' usage_metadata={'input_tokens': 693, 'output_tokens': 176, 'total_tokens': 869, 'input_token_details': {'audio': 0, 'cache_read': 0}, 'output_token_details': {'audio': 0, 'reasoning': 0}}\n",
      "📤 Output token count (gpt-4o): 176\n",
      "🔢 Total token usage: 862\n",
      "\n",
      "Laboratory Apparatus and Instruments =========\n",
      "📝 Input token count (gpt-4o): 718\n",
      "📦 Raw LLM output:\n",
      " content='[\\n  {\\n    \"question\": \"In the science laboratory, Amina observes that a beaker is used to measure liquids, but she is unsure about its accuracy compared to a graduated cylinder. What is the primary reason a graduated cylinder is preferred for precise measurements?\",\\n    \"expected_answer\": \"A graduated cylinder is preferred for precise measurements because it has more accurate and finer measurement markings than a beaker.\"\\n  },\\n  {\\n    \"question\": \"Brian is tasked with designing a simple experiment to measure the boiling point of water using available laboratory apparatus. Describe the steps he should take to ensure accurate results.\",\\n    \"expected_answer\": \"Brian should set up a heat source under a beaker of water, use a thermometer to measure the temperature, and record the temperature when the water starts to boil, ensuring the thermometer is not touching the beaker\\'s sides.\"\\n  },\\n  {\\n    \"question\": \"Zawadi wants to create a device that can measure the volume of irregularly shaped objects using water displacement. Explain how she can construct and use this device with common laboratory apparatus.\",\\n    \"expected_answer\": \"Zawadi can use a graduated cylinder filled with water, submerge the object, and measure the change in water level to determine the object\\'s volume by displacement.\"\\n  },\\n  {\\n    \"question\": \"Musa notices that when using a Bunsen burner, the flame sometimes changes color. Analyze what factors might cause this change and how it affects the experiment.\",\\n    \"expected_answer\": \"The flame color change can be caused by impurities in the gas or incomplete combustion, which may affect the experiment by altering the heat output and potentially introducing contaminants.\"\\n  }\\n]' additional_kwargs={'refusal': None} response_metadata={'token_usage': {'completion_tokens': 336, 'prompt_tokens': 725, 'total_tokens': 1061, 'completion_tokens_details': {'accepted_prediction_tokens': 0, 'audio_tokens': 0, 'reasoning_tokens': 0, 'rejected_prediction_tokens': 0}, 'prompt_tokens_details': {'audio_tokens': 0, 'cached_tokens': 0}}, 'model_name': 'gpt-4o-2024-08-06', 'system_fingerprint': 'fp_90122d973c', 'id': 'chatcmpl-BXRUYxsUJEkgVZKuvafWypUQP39tq', 'service_tier': 'default', 'finish_reason': 'stop', 'logprobs': None} id='run--f23dc4b1-e263-4611-802c-6f83a2a86d50-0' usage_metadata={'input_tokens': 725, 'output_tokens': 336, 'total_tokens': 1061, 'input_token_details': {'audio': 0, 'cache_read': 0}, 'output_token_details': {'audio': 0, 'reasoning': 0}}\n",
      "📤 Output token count (gpt-4o): 336\n",
      "🔢 Total token usage: 1054\n",
      "\n",
      "Laboratory Safety =========\n",
      "📝 Input token count (gpt-4o): 722\n",
      "📦 Raw LLM output:\n",
      " content='[{\"question\":\"During a science fair, Amina and Brian are tasked with creating a poster that highlights the importance of laboratory safety. What key elements should they include to effectively communicate the significance of safety in the laboratory?\",\"expected_answer\":\"They should include common hazards and their symbols, causes of accidents, first aid measures, and the benefits of a safe working environment.\"},{\"question\":\"While conducting an experiment in the school laboratory, Musa accidentally spills a chemical on his hand. What immediate first aid measures should Musa take to ensure his safety?\",\"expected_answer\":\"Musa should immediately rinse his hand under running water for at least 15 minutes and inform the teacher for further assistance.\"},{\"question\":\"Zawadi notices that her classmates often ignore safety rules during experiments. Evaluate the potential consequences of this behavior and suggest ways to improve adherence to safety protocols.\",\"expected_answer\":\"Ignoring safety rules can lead to accidents, injuries, or exposure to harmful substances. To improve adherence, the class could have regular safety briefings and display safety rules prominently in the lab.\"},{\"question\":\"In a science class, the teacher shows various symbols used in the laboratory. What does the symbol with a flame inside a triangle represent, and why is it important for students to recognize it?\",\"expected_answer\":\"The symbol represents flammable materials. Recognizing it is important to prevent fires and ensure safe handling of such substances.\"}]' additional_kwargs={'refusal': None} response_metadata={'token_usage': {'completion_tokens': 280, 'prompt_tokens': 729, 'total_tokens': 1009, 'completion_tokens_details': {'accepted_prediction_tokens': 0, 'audio_tokens': 0, 'reasoning_tokens': 0, 'rejected_prediction_tokens': 0}, 'prompt_tokens_details': {'audio_tokens': 0, 'cached_tokens': 0}}, 'model_name': 'gpt-4o-2024-08-06', 'system_fingerprint': 'fp_90122d973c', 'id': 'chatcmpl-BXRUfOOMMh92SPzF3W1HO3c1ujwf9', 'service_tier': 'default', 'finish_reason': 'stop', 'logprobs': None} id='run--b0d9c531-e7a7-4f06-a504-58a371070116-0' usage_metadata={'input_tokens': 729, 'output_tokens': 280, 'total_tokens': 1009, 'input_token_details': {'audio': 0, 'cache_read': 0}, 'output_token_details': {'audio': 0, 'reasoning': 0}}\n",
      "📤 Output token count (gpt-4o): 279\n",
      "🔢 Total token usage: 1001\n",
      "\n",
      "✅ Question list written to /Users/melaniefayne/Desktop/mtihani/mtihani_api/mtihaniapi/gen/output/question_list.json. Total: 10\n"
     ]
    }
   ],
   "source": [
    "all_question_list = generate_llm_question_list(\n",
    "    grouped_question_data=grouped_questions,\n",
    "    is_debug=True,\n",
    ")\n",
    "\n",
    "# If there was a generation error\n",
    "if not isinstance(all_question_list, list):\n",
    "    print(all_question_list)"
   ]
  },
  {
   "cell_type": "code",
   "execution_count": 7,
   "id": "54212919",
   "metadata": {},
   "outputs": [
    {
     "name": "stdout",
     "output_type": "stream",
     "text": [
      "\n",
      "✅ Question list to /Users/melaniefayne/Desktop/mtihani/mtihani_api/mtihaniapi/gen/output/question_list.json. Total: 5\n"
     ]
    }
   ],
   "source": [
    "exam_questions = get_db_question_objects(\n",
    "    all_question_list=all_question_list,\n",
    "    is_debug=True,\n",
    ")"
   ]
  },
  {
   "cell_type": "markdown",
   "id": "57fd1ee3",
   "metadata": {},
   "source": [
    "## Simulate student answers"
   ]
  },
  {
   "cell_type": "code",
   "execution_count": 8,
   "id": "6f955561",
   "metadata": {},
   "outputs": [
    {
     "name": "stdout",
     "output_type": "stream",
     "text": [
      "[{'id': 1, 'question': 'In the science laboratory, Amina observes that a beaker is used to measure liquids, but she is unsure about its accuracy compared to a graduated cylinder. What is the primary reason a graduated cylinder is preferred for precise measurements?', 'expected_answer': 'A graduated cylinder is preferred for precise measurements because it has more accurate and finer measurement markings than a beaker.'}, {'id': 2, 'question': 'During a science fair, Amina and Brian are tasked with creating a poster that highlights the importance of laboratory safety. What key elements should they include to effectively communicate the significance of safety in the laboratory?', 'expected_answer': 'They should include common hazards and their symbols, causes of accidents, first aid measures, and the benefits of a safe working environment.'}, {'id': 3, 'question': 'Amina noticed that her plants grow better when she waters them with rainwater instead of tap water. Using your knowledge of Integrated Science, explain why rainwater might be more beneficial for plant growth.', 'expected_answer': 'Rainwater is often more beneficial for plant growth because it is naturally soft and free of chemicals like chlorine, which are present in tap water. It also contains dissolved nitrogen compounds that can act as a natural fertilizer.'}, {'id': 4, 'question': 'Zawadi wants to create a device that can measure the volume of irregularly shaped objects using water displacement. Explain how she can construct and use this device with common laboratory apparatus.', 'expected_answer': \"Zawadi can use a graduated cylinder filled with water, submerge the object, and measure the change in water level to determine the object's volume by displacement.\"}, {'id': 5, 'question': 'Zawadi notices that her classmates often ignore safety rules during experiments. Evaluate the potential consequences of this behavior and suggest ways to improve adherence to safety protocols.', 'expected_answer': 'Ignoring safety rules can lead to accidents, injuries, or exposure to harmful substances. To improve adherence, the class could have regular safety briefings and display safety rules prominently in the lab.'}]\n"
     ]
    }
   ],
   "source": [
    "def convert_to_single_qa_list(data):\n",
    "    result = []\n",
    "    for index, item in enumerate(data):\n",
    "        questions = item[\"questions\"]\n",
    "        expected_answers = item[\"expected_answers\"]\n",
    "\n",
    "        if isinstance(questions, str):\n",
    "            questions = [questions]\n",
    "        if isinstance(expected_answers, str):\n",
    "            expected_answers = [expected_answers]\n",
    "\n",
    "        if questions and expected_answers:\n",
    "            result.append({\n",
    "                \"id\": index + 1,\n",
    "                \"question\": questions[0],\n",
    "                \"expected_answer\": expected_answers[0]\n",
    "            })\n",
    "\n",
    "    return result\n",
    "\n",
    "exam_output = convert_to_single_qa_list(exam_questions)\n",
    "print(exam_output)"
   ]
  },
  {
   "cell_type": "code",
   "execution_count": 9,
   "id": "6bfc4208",
   "metadata": {},
   "outputs": [],
   "source": [
    "sample_students = [{'id': 1, 'avg_score': 12}, {'id': 2, 'avg_score': 95}, {\n",
    "    'id': 3, 'avg_score': 54}, {'id': 4, 'avg_score': 71},]"
   ]
  },
  {
   "cell_type": "code",
   "execution_count": 10,
   "id": "42fdf3da",
   "metadata": {},
   "outputs": [
    {
     "name": "stdout",
     "output_type": "stream",
     "text": [
      "📝 Input token count (gpt-4o): 951\n",
      "📦 Raw LLM output:\n",
      " content='```json\\n[\\n  {\\n    \"id\": 1,\\n    \"answers\": [\\n      {\\n        \"question_id\": \"1\",\\n        \"answer\": \"A beaker is not as good as a graduated cylinder because it doesn\\'t measure well.\"\\n      },\\n      {\\n        \"question_id\": \"2\",\\n        \"answer\": \"They should say don\\'t run and wear goggles.\"\\n      },\\n      {\\n        \"question_id\": \"3\",\\n        \"answer\": \"Rainwater is better because it is natural.\"\\n      },\\n      {\\n        \"question_id\": \"4\",\\n        \"answer\": \"Use a cup with water and see how much it goes up.\"\\n      },\\n      {\\n        \"question_id\": \"5\",\\n        \"answer\": \"If you don\\'t follow rules, you can get hurt. We should be careful.\"\\n      }\\n    ]\\n  },\\n  {\\n    \"id\": 2,\\n    \"answers\": [\\n      {\\n        \"question_id\": \"1\",\\n        \"answer\": \"A graduated cylinder is preferred because it has more precise markings than a beaker, making it more accurate for measuring liquids.\"\\n      },\\n      {\\n        \"question_id\": \"2\",\\n        \"answer\": \"They should include safety symbols, common hazards, first aid tips, and why safety is important in the lab.\"\\n      },\\n      {\\n        \"question_id\": \"3\",\\n        \"answer\": \"Rainwater is better for plants because it doesn\\'t have chemicals like chlorine found in tap water and may contain nutrients that help plants grow.\"\\n      },\\n      {\\n        \"question_id\": \"4\",\\n        \"answer\": \"Zawadi can use a graduated cylinder, fill it with water, and then put the object in. The water level will rise, and the difference is the volume of the object.\"\\n      },\\n      {\\n        \"question_id\": \"5\",\\n        \"answer\": \"Ignoring safety rules can cause accidents and injuries. To improve safety, we should have regular safety talks and put up safety signs in the lab.\"\\n      }\\n    ]\\n  },\\n  {\\n    \"id\": 3,\\n    \"answers\": [\\n      {\\n        \"question_id\": \"1\",\\n        \"answer\": \"A graduated cylinder is better because it has more accurate lines for measuring.\"\\n      },\\n      {\\n        \"question_id\": \"2\",\\n        \"answer\": \"They should put safety signs, what to do if there\\'s an accident, and why safety is important.\"\\n      },\\n      {\\n        \"question_id\": \"3\",\\n        \"answer\": \"Rainwater is good for plants because it doesn\\'t have chemicals like tap water.\"\\n      },\\n      {\\n        \"question_id\": \"4\",\\n        \"answer\": \"She can use a cylinder with water, put the object in, and see how much the water goes up.\"\\n      },\\n      {\\n        \"question_id\": \"5\",\\n        \"answer\": \"Not following safety rules can cause accidents. We should have safety reminders and posters.\"\\n      }\\n    ]\\n  },\\n  {\\n    \"id\": 4,\\n    \"answers\": [\\n      {\\n        \"question_id\": \"1\",\\n        \"answer\": \"A graduated cylinder is used because it has more precise measurement lines than a beaker.\"\\n      },\\n      {\\n        \"question_id\": \"2\",\\n        \"answer\": \"They should include safety symbols, common lab hazards, and first aid measures.\"\\n      },\\n      {\\n        \"question_id\": \"3\",\\n        \"answer\": \"Rainwater is better for plants because it doesn\\'t have chlorine and might have nutrients that help plants grow.\"\\n      },\\n      {\\n        \"question_id\": \"4\",\\n        \"answer\": \"Zawadi can use a graduated cylinder, fill it with water, and put the object in. The water level change shows the volume.\"\\n      },\\n      {\\n        \"question_id\": \"5\",\\n        \"answer\": \"Ignoring safety rules can lead to accidents. To improve safety, we can have safety briefings and put up safety posters.\"\\n      }\\n    ]\\n  }\\n]\\n```' additional_kwargs={'refusal': None} response_metadata={'token_usage': {'completion_tokens': 810, 'prompt_tokens': 904, 'total_tokens': 1714, 'completion_tokens_details': {'accepted_prediction_tokens': 0, 'audio_tokens': 0, 'reasoning_tokens': 0, 'rejected_prediction_tokens': 0}, 'prompt_tokens_details': {'audio_tokens': 0, 'cached_tokens': 0}}, 'model_name': 'gpt-4o-2024-08-06', 'system_fingerprint': 'fp_90122d973c', 'id': 'chatcmpl-BXRUlR5JJutCZw7xo20dkZLBWeL6O', 'service_tier': 'default', 'finish_reason': 'stop', 'logprobs': None} id='run--462fe19a-df31-49a3-bc36-42538bc260b3-0' usage_metadata={'input_tokens': 904, 'output_tokens': 810, 'total_tokens': 1714, 'input_token_details': {'audio': 0, 'cache_read': 0}, 'output_token_details': {'audio': 0, 'reasoning': 0}}\n",
      "📤 Output token count (gpt-4o): 806\n",
      "🔢 Total token usage: 1757\n",
      "\n",
      "✅ Mocked Answers list written to /Users/melaniefayne/Desktop/mtihani/mtihani_api/mtihaniapi/gen/output/answers_list.json\n"
     ]
    }
   ],
   "source": [
    "parsed_answers = generate_llm_exam_answers_list(\n",
    "    llm=OPENAI_LLM_4O,\n",
    "    exam_data=exam_output,\n",
    "    student_data=sample_students,\n",
    "    is_debug=True,\n",
    ")"
   ]
  },
  {
   "cell_type": "code",
   "execution_count": null,
   "id": "72fe8ca7",
   "metadata": {},
   "outputs": [
    {
     "name": "stdout",
     "output_type": "stream",
     "text": [
      "[{'id': 1, 'question': 'In a science class, Amina observes that a beaker is used to measure liquids, while a test tube is used for mixing small amounts of substances. What is the main difference in the use of these two laboratory apparatus?', 'expected_answer': 'A beaker is primarily used for measuring and holding larger volumes of liquids, while a test tube is used for mixing and observing reactions in smaller quantities.'}, {'id': 2, 'question': 'What is the function of the ovaries in the female reproductive system?', 'expected_answer': 'The ovaries produce eggs and secrete hormones such as estrogen and progesterone.'}, {'id': 3, 'question': 'In a small village in Kenya, Amina notices that her family uses different types of materials for cooking, cleaning, and farming. Evaluate how understanding the properties of these materials through Integrated Science can improve their daily life and suggest one way it can be applied to solve a common problem in the village.', 'expected_answer': \"Understanding the properties of materials can help Amina's family choose the most efficient and safe materials for cooking, cleaning, and farming, leading to better health and productivity. For example, using heat-resistant pots can prevent accidents in the kitchen.\"}]\n",
      "[{'id': 7, 'avg_score': 94}, {'id': 4, 'avg_score': 46.4}, {'id': 10, 'avg_score': 27}, {'id': 3, 'avg_score': 97}, {'id': 1, 'avg_score': 90}, {'id': 2, 'avg_score': 65.2}, {'id': 5, 'avg_score': 84.6}, {'id': 6, 'avg_score': 56}, {'id': 11, 'avg_score': 20}, {'id': 9, 'avg_score': 36}, {'id': 8, 'avg_score': 72}]\n",
      "📝 Input token count (gpt-4o): 1077\n",
      "📦 Raw LLM output:\n",
      " content='```json\\n[\\n  {\\n    \"id\": 7,\\n    \"answers\": [\\n      {\\n        \"question_id\": \"1\",\\n        \"answer\": \"A beaker is used for measuring and holding larger amounts of liquids, while a test tube is for mixing and observing reactions in smaller quantities.\"\\n      },\\n      {\\n        \"question_id\": \"2\",\\n        \"answer\": \"The ovaries produce eggs and release hormones like estrogen and progesterone.\"\\n      },\\n      {\\n        \"question_id\": \"3\",\\n        \"answer\": \"Understanding material properties helps in choosing the right tools for tasks, improving efficiency and safety. For example, using non-stick pans can make cooking easier and healthier.\"\\n      }\\n    ]\\n  },\\n  {\\n    \"id\": 4,\\n    \"answers\": [\\n      {\\n        \"question_id\": \"1\",\\n        \"answer\": \"Beaker is for liquids, test tube for mixing small things.\"\\n      },\\n      {\\n        \"question_id\": \"2\",\\n        \"answer\": \"Ovaries make eggs and hormones.\"\\n      },\\n      {\\n        \"question_id\": \"3\",\\n        \"answer\": \"Knowing materials helps in daily work. Like using strong pots for cooking.\"\\n      }\\n    ]\\n  },\\n  {\\n    \"id\": 10,\\n    \"answers\": [\\n      {\\n        \"question_id\": \"1\",\\n        \"answer\": \"Beaker is for liquid, test tube mix.\"\\n      },\\n      {\\n        \"question_id\": \"2\",\\n        \"answer\": \"Ovaries make eggs.\"\\n      },\\n      {\\n        \"question_id\": \"3\",\\n        \"answer\": \"Materials help in life. Use good pots.\"\\n      }\\n    ]\\n  },\\n  {\\n    \"id\": 3,\\n    \"answers\": [\\n      {\\n        \"question_id\": \"1\",\\n        \"answer\": \"A beaker is primarily used for measuring and holding larger volumes of liquids, whereas a test tube is used for mixing and observing reactions in smaller quantities.\"\\n      },\\n      {\\n        \"question_id\": \"2\",\\n        \"answer\": \"The ovaries are responsible for producing eggs and secreting hormones such as estrogen and progesterone.\"\\n      },\\n      {\\n        \"question_id\": \"3\",\\n        \"answer\": \"Understanding the properties of materials allows Amina\\'s family to select the most efficient and safe materials for various tasks, enhancing health and productivity. For instance, using heat-resistant pots can prevent kitchen accidents.\"\\n      }\\n    ]\\n  },\\n  {\\n    \"id\": 1,\\n    \"answers\": [\\n      {\\n        \"question_id\": \"1\",\\n        \"answer\": \"Beakers are used for measuring and holding larger volumes of liquids, while test tubes are used for mixing and observing reactions in smaller quantities.\"\\n      },\\n      {\\n        \"question_id\": \"2\",\\n        \"answer\": \"Ovaries produce eggs and secrete hormones like estrogen and progesterone.\"\\n      },\\n      {\\n        \"question_id\": \"3\",\\n        \"answer\": \"By understanding material properties, Amina\\'s family can choose the best materials for tasks, improving safety and efficiency. For example, using heat-resistant pots can prevent kitchen accidents.\"\\n      }\\n    ]\\n  },\\n  {\\n    \"id\": 2,\\n    \"answers\": [\\n      {\\n        \"question_id\": \"1\",\\n        \"answer\": \"Beakers are for measuring liquids, test tubes for mixing small amounts.\"\\n      },\\n      {\\n        \"question_id\": \"2\",\\n        \"answer\": \"Ovaries produce eggs and hormones.\"\\n      },\\n      {\\n        \"question_id\": \"3\",\\n        \"answer\": \"Knowing material properties helps in choosing the right tools, like using strong pots for cooking.\"\\n      }\\n    ]\\n  },\\n  {\\n    \"id\": 5,\\n    \"answers\": [\\n      {\\n        \"question_id\": \"1\",\\n        \"answer\": \"Beakers are used for measuring and holding larger volumes of liquids, while test tubes are used for mixing and observing reactions in smaller quantities.\"\\n      },\\n      {\\n        \"question_id\": \"2\",\\n        \"answer\": \"The ovaries produce eggs and secrete hormones such as estrogen and progesterone.\"\\n      },\\n      {\\n        \"question_id\": \"3\",\\n        \"answer\": \"Understanding material properties helps in selecting the best materials for tasks, improving safety and efficiency. For example, using heat-resistant pots can prevent kitchen accidents.\"\\n      }\\n    ]\\n  },\\n  {\\n    \"id\": 6,\\n    \"answers\": [\\n      {\\n        \"question_id\": \"1\",\\n        \"answer\": \"Beakers measure liquids, test tubes mix small amounts.\"\\n      },\\n      {\\n        \"question_id\": \"2\",\\n        \"answer\": \"Ovaries make eggs and hormones.\"\\n      },\\n      {\\n        \"question_id\": \"3\",\\n        \"answer\": \"Knowing materials helps in daily tasks, like using strong pots for cooking.\"\\n      }\\n    ]\\n  },\\n  {\\n    \"id\": 11,\\n    \"answers\": [\\n      {\\n        \"question_id\": \"1\",\\n        \"answer\": \"Beaker for liquid, test tube mix.\"\\n      },\\n      {\\n        \"question_id\": \"2\",\\n        \"answer\": \"Ovaries make eggs.\"\\n      },\\n      {\\n        \"question_id\": \"3\",\\n        \"answer\": \"Materials help in life. Use good pots.\"\\n      }\\n    ]\\n  },\\n  {\\n    \"id\": 9,\\n    \"answers\": [\\n      {\\n        \"question_id\": \"1\",\\n        \"answer\": \"Beaker is for liquid, test tube for mixing.\"\\n      },\\n      {\\n        \"question_id\": \"2\",\\n        \"answer\": \"Ovaries make eggs and hormones.\"\\n      },\\n      {\\n        \"question_id\": \"3\",\\n        \"answer\": \"Knowing materials helps in daily tasks, like using strong pots for cooking.\"\\n      }\\n    ]\\n  },\\n  {\\n    \"id\": 8,\\n    \"answers\": [\\n      {\\n        \"question_id\": \"1\",\\n        \"answer\": \"Beakers are used for measuring liquids, while test tubes are for mixing small amounts.\"\\n      },\\n      {\\n        \"question_id\": \"2\",\\n        \"answer\": \"Ovaries produce eggs and hormones.\"\\n      },\\n      {\\n        \"question_id\": \"3\",\\n        \"answer\": \"Understanding material properties helps in choosing the right tools, like using strong pots for cooking.\"\\n      }\\n    ]\\n  }\\n]\\n```' additional_kwargs={'refusal': None} response_metadata={'token_usage': {'completion_tokens': 1305, 'prompt_tokens': 1000, 'total_tokens': 2305, 'completion_tokens_details': {'accepted_prediction_tokens': 0, 'audio_tokens': 0, 'reasoning_tokens': 0, 'rejected_prediction_tokens': 0}, 'prompt_tokens_details': {'audio_tokens': 0, 'cached_tokens': 0}}, 'model_name': 'gpt-4o-2024-08-06', 'system_fingerprint': 'fp_a288987b44', 'id': 'chatcmpl-BjWSOHzvMCOvYLFIuihd19Rf3w3pA', 'service_tier': 'default', 'finish_reason': 'stop', 'logprobs': None} id='run--ad3fd2bb-0c87-4b7d-a10a-214694631518-0' usage_metadata={'input_tokens': 1000, 'output_tokens': 1305, 'total_tokens': 2305, 'input_token_details': {'audio': 0, 'cache_read': 0}, 'output_token_details': {'audio': 0, 'reasoning': 0}}\n",
      "📤 Output token count (gpt-4o): 1301\n",
      "🔢 Total token usage: 2378\n",
      "\n",
      "✅ Mocked Answers list written to /Users/melaniefayne/Desktop/mtihani/mtihani_api/mtihaniapi/gen/output/answers_list.json\n"
     ]
    }
   ],
   "source": [
    "import sys\n",
    "import os\n",
    "sys.path.insert(0, os.path.abspath(\"..\"))\n",
    "from gen.curriculum import get_cbc_grouped_questions, get_rubrics_by_sub_strand, get_all_strand_names\n",
    "from gen.utils import *\n",
    "\n",
    "# # ==== DB MOCK ANSWERS\n",
    "# # ====================\n",
    "exam = []\n",
    "EXAM_FILE = \"data/exam.json\"\n",
    "\n",
    "with open(EXAM_FILE, \"r\") as f:\n",
    "    exam = json.load(f)\n",
    "\n",
    "print(exam)\n",
    "\n",
    "\n",
    "students = []\n",
    "STUDENT_FILE = \"data/classroom.json\"\n",
    "\n",
    "with open(STUDENT_FILE, \"r\") as f:\n",
    "    students = json.load(f)\n",
    "\n",
    "print(students)\n",
    "\n",
    "\n",
    "parsed_answers = generate_llm_exam_answers_list(\n",
    "    llm=OPENAI_LLM_4O,\n",
    "    exam_data=exam,\n",
    "    student_data=students,\n",
    "    is_debug=True,\n",
    ")"
   ]
  },
  {
   "cell_type": "markdown",
   "id": "fafd46fe",
   "metadata": {},
   "source": [
    "## Grade answers"
   ]
  },
  {
   "cell_type": "code",
   "execution_count": 12,
   "id": "509a6026",
   "metadata": {},
   "outputs": [],
   "source": [
    "def get_answers_for_question(target_question_id, start_count):\n",
    "    result = []\n",
    "    count = start_count\n",
    "    for entry in parsed_answers:\n",
    "        for answer in entry[\"answers\"]:\n",
    "            if answer[\"question_id\"] == str(target_question_id):\n",
    "                result.append({\n",
    "                    \"answer_id\": count,\n",
    "                    \"answer\": answer[\"answer\"],\n",
    "                })\n",
    "                count += 1\n",
    "    return result, count\n",
    "\n",
    "\n",
    "grouped_answers_data = []\n",
    "count = 1\n",
    "\n",
    "for idx, q in enumerate(exam_questions):\n",
    "    item = {\n",
    "        \"question\": q[\"description\"],\n",
    "        \"expected_answer\": q[\"expected_answer\"],\n",
    "        \"rubrics\": get_rubrics_by_sub_strand(\n",
    "            sub_strand_name=q[\"sub_strand\"],\n",
    "        )\n",
    "    }\n",
    "    student_answers, count = get_answers_for_question(idx + 1, count)\n",
    "    item[\"student_answers\"] = student_answers\n",
    "\n",
    "    grouped_answers_data.append(item)"
   ]
  },
  {
   "cell_type": "code",
   "execution_count": 13,
   "id": "c78940ca",
   "metadata": {},
   "outputs": [
    {
     "name": "stdout",
     "output_type": "stream",
     "text": [
      "✅ Mocked Answers list written to output/answers_list.json\n"
     ]
    }
   ],
   "source": [
    "ANSWERS_LIST_OUTPUT_FILE = \"output/answers_list.json\"\n",
    "with open(ANSWERS_LIST_OUTPUT_FILE, 'w', encoding='utf-8') as f:\n",
    "    json.dump(grouped_answers_data, f, ensure_ascii=False, indent=4)\n",
    "print(f\"✅ Mocked Answers list written to {ANSWERS_LIST_OUTPUT_FILE}\")"
   ]
  },
  {
   "cell_type": "code",
   "execution_count": 14,
   "id": "c44699d4",
   "metadata": {},
   "outputs": [
    {
     "name": "stdout",
     "output_type": "stream",
     "text": [
      "\n",
      "In the science laboratory, Amina observes that a beaker is used to measure liquids, but she is unsure about its accuracy compared to a graduated cylinder. What is the primary reason a graduated cylinder is preferred for precise measurements? =========\n",
      "📝 Input token count (gpt-4o): 519\n",
      "📦 Raw LLM output:\n",
      " content='```json\\n[\\n    {\"answer_id\": 1, \"score\": 2},\\n    {\"answer_id\": 2, \"score\": 4},\\n    {\"answer_id\": 3, \"score\": 3},\\n    {\"answer_id\": 4, \"score\": 3}\\n]\\n```' additional_kwargs={'refusal': None} response_metadata={'token_usage': {'completion_tokens': 62, 'prompt_tokens': 526, 'total_tokens': 588, 'completion_tokens_details': {'accepted_prediction_tokens': 0, 'audio_tokens': 0, 'reasoning_tokens': 0, 'rejected_prediction_tokens': 0}, 'prompt_tokens_details': {'audio_tokens': 0, 'cached_tokens': 0}}, 'model_name': 'gpt-4o-2024-08-06', 'system_fingerprint': 'fp_90122d973c', 'id': 'chatcmpl-BXRUzaS4azLq0FyzEXs8d1vmdi0tc', 'service_tier': 'default', 'finish_reason': 'stop', 'logprobs': None} id='run--79c8d569-8fa6-41d1-904d-2c040ddde759-0' usage_metadata={'input_tokens': 526, 'output_tokens': 62, 'total_tokens': 588, 'input_token_details': {'audio': 0, 'cache_read': 0}, 'output_token_details': {'audio': 0, 'reasoning': 0}}\n",
      "📤 Output token count (gpt-4o): 58\n",
      "🔢 Total token usage: 577\n",
      "\n",
      "During a science fair, Amina and Brian are tasked with creating a poster that highlights the importance of laboratory safety. What key elements should they include to effectively communicate the significance of safety in the laboratory? =========\n",
      "📝 Input token count (gpt-4o): 624\n",
      "📦 Raw LLM output:\n",
      " content='```json\\n[\\n    {\"answer_id\": 5, \"score\": 1},\\n    {\"answer_id\": 6, \"score\": 4},\\n    {\"answer_id\": 7, \"score\": 3},\\n    {\"answer_id\": 8, \"score\": 3}\\n]\\n```' additional_kwargs={'refusal': None} response_metadata={'token_usage': {'completion_tokens': 62, 'prompt_tokens': 631, 'total_tokens': 693, 'completion_tokens_details': {'accepted_prediction_tokens': 0, 'audio_tokens': 0, 'reasoning_tokens': 0, 'rejected_prediction_tokens': 0}, 'prompt_tokens_details': {'audio_tokens': 0, 'cached_tokens': 0}}, 'model_name': 'gpt-4o-2024-08-06', 'system_fingerprint': 'fp_90122d973c', 'id': 'chatcmpl-BXRV1s7ChonKusAcPgcusM5FP4utK', 'service_tier': 'default', 'finish_reason': 'stop', 'logprobs': None} id='run--1adca7cd-342a-4ec3-9815-dd06f00e3b31-0' usage_metadata={'input_tokens': 631, 'output_tokens': 62, 'total_tokens': 693, 'input_token_details': {'audio': 0, 'cache_read': 0}, 'output_token_details': {'audio': 0, 'reasoning': 0}}\n",
      "📤 Output token count (gpt-4o): 58\n",
      "🔢 Total token usage: 682\n",
      "\n",
      "Amina noticed that her plants grow better when she waters them with rainwater instead of tap water. Using your knowledge of Integrated Science, explain why rainwater might be more beneficial for plant growth. =========\n",
      "📝 Input token count (gpt-4o): 522\n",
      "📦 Raw LLM output:\n",
      " content='```json\\n[\\n    {\"answer_id\": 9, \"score\": 2},\\n    {\"answer_id\": 10, \"score\": 4},\\n    {\"answer_id\": 11, \"score\": 3},\\n    {\"answer_id\": 12, \"score\": 4}\\n]\\n```' additional_kwargs={'refusal': None} response_metadata={'token_usage': {'completion_tokens': 62, 'prompt_tokens': 529, 'total_tokens': 591, 'completion_tokens_details': {'accepted_prediction_tokens': 0, 'audio_tokens': 0, 'reasoning_tokens': 0, 'rejected_prediction_tokens': 0}, 'prompt_tokens_details': {'audio_tokens': 0, 'cached_tokens': 0}}, 'model_name': 'gpt-4o-2024-08-06', 'system_fingerprint': 'fp_90122d973c', 'id': 'chatcmpl-BXRV2kkAZh3HwEHb4xBsq2UAdu6n1', 'service_tier': 'default', 'finish_reason': 'stop', 'logprobs': None} id='run--4fe12bbf-a1f2-492a-bf70-3b3cea8a5cac-0' usage_metadata={'input_tokens': 529, 'output_tokens': 62, 'total_tokens': 591, 'input_token_details': {'audio': 0, 'cache_read': 0}, 'output_token_details': {'audio': 0, 'reasoning': 0}}\n",
      "📤 Output token count (gpt-4o): 58\n",
      "🔢 Total token usage: 580\n",
      "\n",
      "Zawadi wants to create a device that can measure the volume of irregularly shaped objects using water displacement. Explain how she can construct and use this device with common laboratory apparatus. =========\n",
      "📝 Input token count (gpt-4o): 548\n",
      "📦 Raw LLM output:\n",
      " content='```json\\n[{\"answer_id\": 13, \"score\": 1}, {\"answer_id\": 14, \"score\": 4}, {\"answer_id\": 15, \"score\": 2}, {\"answer_id\": 16, \"score\": 3}]\\n```' additional_kwargs={'refusal': None} response_metadata={'token_usage': {'completion_tokens': 58, 'prompt_tokens': 555, 'total_tokens': 613, 'completion_tokens_details': {'accepted_prediction_tokens': 0, 'audio_tokens': 0, 'reasoning_tokens': 0, 'rejected_prediction_tokens': 0}, 'prompt_tokens_details': {'audio_tokens': 0, 'cached_tokens': 0}}, 'model_name': 'gpt-4o-2024-08-06', 'system_fingerprint': 'fp_90122d973c', 'id': 'chatcmpl-BXRV4wPuEeGcuedyfWuEf3THaFPGM', 'service_tier': 'default', 'finish_reason': 'stop', 'logprobs': None} id='run--3be7f8ad-6e29-467a-9c63-db33ffa7d9c5-0' usage_metadata={'input_tokens': 555, 'output_tokens': 58, 'total_tokens': 613, 'input_token_details': {'audio': 0, 'cache_read': 0}, 'output_token_details': {'audio': 0, 'reasoning': 0}}\n",
      "📤 Output token count (gpt-4o): 53\n",
      "🔢 Total token usage: 601\n",
      "\n",
      "Zawadi notices that her classmates often ignore safety rules during experiments. Evaluate the potential consequences of this behavior and suggest ways to improve adherence to safety protocols. =========\n",
      "📝 Input token count (gpt-4o): 644\n",
      "📦 Raw LLM output:\n",
      " content='```json\\n[\\n    {\"answer_id\": 17, \"score\": 1},\\n    {\"answer_id\": 18, \"score\": 3},\\n    {\"answer_id\": 19, \"score\": 2},\\n    {\"answer_id\": 20, \"score\": 3}\\n]\\n```' additional_kwargs={'refusal': None} response_metadata={'token_usage': {'completion_tokens': 62, 'prompt_tokens': 651, 'total_tokens': 713, 'completion_tokens_details': {'accepted_prediction_tokens': 0, 'audio_tokens': 0, 'reasoning_tokens': 0, 'rejected_prediction_tokens': 0}, 'prompt_tokens_details': {'audio_tokens': 0, 'cached_tokens': 0}}, 'model_name': 'gpt-4o-2024-08-06', 'system_fingerprint': 'fp_90122d973c', 'id': 'chatcmpl-BXRV6xtFBAY4LJREYjJcZUoLsKtkF', 'service_tier': 'default', 'finish_reason': 'stop', 'logprobs': None} id='run--1ca14dbc-3092-498b-87a1-7ec5a9f6a38f-0' usage_metadata={'input_tokens': 651, 'output_tokens': 62, 'total_tokens': 713, 'input_token_details': {'audio': 0, 'cache_read': 0}, 'output_token_details': {'audio': 0, 'reasoning': 0}}\n",
      "📤 Output token count (gpt-4o): 58\n",
      "🔢 Total token usage: 702\n",
      "\n",
      "✅ Graded Answers list written to /Users/melaniefayne/Desktop/mtihani/mtihani_api/mtihaniapi/gen/output/grades_list.json\n"
     ]
    }
   ],
   "source": [
    "parsed_grades = generate_llm_answer_grades_list(\n",
    "    llm=OPENAI_LLM_4O,\n",
    "    grouped_answers_data=grouped_answers_data,\n",
    "    is_debug=True,\n",
    ")"
   ]
  },
  {
   "cell_type": "markdown",
   "id": "91ea6353",
   "metadata": {},
   "source": [
    "## Create Insights"
   ]
  },
  {
   "cell_type": "code",
   "execution_count": 1,
   "id": "6c0da47e",
   "metadata": {},
   "outputs": [],
   "source": [
    "import sys\n",
    "import os\n",
    "sys.path.insert(0, os.path.abspath(\"..\"))\n",
    "from gen.utils import *"
   ]
  },
  {
   "cell_type": "code",
   "execution_count": 2,
   "id": "81a33cc5",
   "metadata": {},
   "outputs": [],
   "source": [
    "# strand_performance_data = [\n",
    "#     {\n",
    "#         \"strand_name\": \"Mixtures (G7)\",\n",
    "#         \"strand_grade\": 7,\n",
    "#         \"avg_score\": 74.5,\n",
    "#         \"avg_expectation_level\": \"Meets\",\n",
    "#         \"bloom_skill_scores\": [],\n",
    "#         \"score_variance\": {\"min\": 40.0, \"max\": 99.0, \"std_dev\": 10.2},\n",
    "#         \"sub_strand_scores\": [\n",
    "#             {\"name\": \"Elements and Compounds\", \"percentage\": 81.2, \"strand_difference\": 6.7,\n",
    "#              \"strand_difference_descriptor\": \"Above Strand Average\"},\n",
    "#             {\"name\": \"Physical and Chemical Changes\", \"percentage\": 66.5,\n",
    "#              \"strand_difference\": -8.0, \"strand_difference_descriptor\": \"Below Strand Average\"}\n",
    "#         ],\n",
    "#         \"top_students\": [\n",
    "#             {\"student_name\": \"Akinyi\", \"avg_score\": 98.2,\n",
    "#                 \"avg_expectation_level\": \"Exceeds\", \"exam_id\": 10, \"student_id\": 3}\n",
    "#         ],\n",
    "#         \"bottom_students\": [\n",
    "#             {\"student_name\": \"Wanjiru\", \"avg_score\": 44.5,\n",
    "#                 \"avg_expectation_level\": \"Below\", \"exam_id\": 10, \"student_id\": 9}\n",
    "#         ]\n",
    "#     }\n",
    "# ]\n",
    "\n",
    "# insights_data = generate_llm_strand_insights(\n",
    "#     strand_performance_data=strand_performance_data,\n",
    "#     is_debug=True,\n",
    "# )"
   ]
  },
  {
   "cell_type": "code",
   "execution_count": 3,
   "id": "bdc517e2",
   "metadata": {},
   "outputs": [],
   "source": [
    "# sub_strand_correlations = [\n",
    "#     {\n",
    "#         \"name\": \"Elements and Compounds\",\n",
    "#         \"average_correlation\": -0.48,\n",
    "#         \"strongest_negative_pair\": \"Acids, Bases and Indicators\",\n",
    "#         \"correlation\": -0.67\n",
    "#     }\n",
    "# ]\n",
    "# insights_data = generate_llm_sub_strand_corr_insights(\n",
    "#     sub_strand_correlations=sub_strand_correlations,\n",
    "#     is_debug=True,\n",
    "# )"
   ]
  },
  {
   "cell_type": "code",
   "execution_count": 4,
   "id": "6a004a82",
   "metadata": {},
   "outputs": [
    {
     "name": "stdout",
     "output_type": "stream",
     "text": [
      "📝 Input token count (gpt-4o): 443\n",
      "📦 Raw LLM output:\n",
      " content='```json\\n[\\n    \"The average score of 74.1% indicates that the class is generally performing at a satisfactory level, with most students meeting expectations.\",\\n    \"The majority of students fall into the \\'Meets\\' expectation level, accounting for 60% of the class, which aligns with the average expectation level.\",\\n    \"A notable strength is the high performance in \\'Synthesis\\' and \\'Knowledge\\' skills, with scores of 81.67% and 81.0% respectively, suggesting strong capabilities in these areas.\",\\n    \"The \\'Evaluation\\' skill shows the lowest performance at 65.0%, indicating a potential area for improvement in critical thinking and judgment.\",\\n    \"The score distribution reveals a wide range of performance, from 40 to 99, with a standard deviation of 10.2, suggesting variability in student understanding and mastery.\",\\n    \"A small percentage of students (5%) are performing \\'Below\\' expectations, which may require targeted interventions to support these learners.\",\\n    \"The \\'Exceeds\\' category comprises 20% of the class, highlighting a group of high achievers who may benefit from advanced challenges to further their learning.\",\\n    \"The concentration of scores between 70 and 80 suggests that most students are consistently achieving at a level that meets expectations, but there is room for growth to push more students into the \\'Exceeds\\' category.\",\\n    \"The \\'Analysis\\' and \\'Evaluation\\' skills, with scores of 68.5% and 65.0% respectively, could be areas of focus for instructional improvement to enhance students\\' higher-order thinking skills.\"\\n]\\n```' additional_kwargs={'refusal': None} response_metadata={'token_usage': {'completion_tokens': 327, 'prompt_tokens': 450, 'total_tokens': 777, 'completion_tokens_details': {'accepted_prediction_tokens': 0, 'audio_tokens': 0, 'reasoning_tokens': 0, 'rejected_prediction_tokens': 0}, 'prompt_tokens_details': {'audio_tokens': 0, 'cached_tokens': 0}}, 'model_name': 'gpt-4o-2024-08-06', 'system_fingerprint': 'fp_07871e2ad8', 'id': 'chatcmpl-Bdx9IUyEKyDKSkUMXD9hSIByHb6rU', 'service_tier': 'default', 'finish_reason': 'stop', 'logprobs': None} id='run--541059b6-d63a-4970-bab1-2e6e8eb0b924-0' usage_metadata={'input_tokens': 450, 'output_tokens': 327, 'total_tokens': 777, 'input_token_details': {'audio': 0, 'cache_read': 0}, 'output_token_details': {'audio': 0, 'reasoning': 0}}\n",
      "📤 Output token count (gpt-4o): 323\n",
      "🔢 Total token usage: 766\n"
     ]
    }
   ],
   "source": [
    "class_performance_data = {\n",
    "    \"average_score\": 74.1,\n",
    "    \"average_expectation_level\": \"Meets\",\n",
    "    \"score_distribution\": \"Scores range from 40 to 99, with most students scoring between 70 and 80. Standard deviation is 10.2.\",\n",
    "    \"expectation_level_distribution\": \"Exceeds: 20%, Meets: 60%, Approaching: 15%, Below: 5%\",\n",
    "    \"bloom_skill_scores\":\n",
    "    [{\"name\": \"Synthesis\", \"percentage\": 81.67}, {\"name\": \"Knowledge\", \"percentage\": 81.0}, {\"name\": \"Application\", \"percentage\": 73.44}, {\n",
    "        \"name\": \"Analysis\", \"percentage\": 68.5}, {\"name\": \"Comprehension\", \"percentage\": 71.25}, {\"name\": \"Evaluation\", \"percentage\": 65.0}],\n",
    "}\n",
    "\n",
    "insights_data = generate_llm_class_perf_insights(\n",
    "    class_performance_data=class_performance_data,\n",
    "    is_debug=True,\n",
    ")"
   ]
  },
  {
   "cell_type": "code",
   "execution_count": 5,
   "id": "7480b525",
   "metadata": {},
   "outputs": [
    {
     "name": "stdout",
     "output_type": "stream",
     "text": [
      "✅ Insights written to output/insights_lits.json\n"
     ]
    }
   ],
   "source": [
    "INSIGHTS_OUTPUT_FILE = \"output/insights_lits.json\"\n",
    "with open(INSIGHTS_OUTPUT_FILE, 'w', encoding='utf-8') as f:\n",
    "    json.dump(insights_data, f, ensure_ascii=False, indent=4)\n",
    "print(f\"✅ Insights written to {INSIGHTS_OUTPUT_FILE}\")"
   ]
  },
  {
   "cell_type": "markdown",
   "id": "42636de3",
   "metadata": {},
   "source": [
    "## Create Follow Up Quizzes"
   ]
  },
  {
   "cell_type": "code",
   "execution_count": 1,
   "id": "3645509e",
   "metadata": {},
   "outputs": [],
   "source": [
    "import sys\n",
    "import os\n",
    "sys.path.insert(0, os.path.abspath(\"..\"))\n",
    "from gen.utils import *"
   ]
  },
  {
   "cell_type": "code",
   "execution_count": 2,
   "id": "999aa958",
   "metadata": {},
   "outputs": [],
   "source": [
    "exam_questions = [\n",
    "    {\n",
    "        \"id\": \"3\",\n",
    "        \"question\": \"List three safety rules you must observe in a science laboratory.\",\n",
    "        \"expected_answer\": \"Do not eat or drink in the laboratory; wear safety goggles; report spills immediately.\",\n",
    "        \"strand\": \"Scientific Investigation (G7)\",\n",
    "        \"sub_strand\": \"Laboratory Safety\",\n",
    "        \"bloom_skill\": \"Knowledge\"\n",
    "    },\n",
    "    {\n",
    "        \"id\": \"1\",\n",
    "        \"question\": \"Differentiate between a mixture and a compound with examples.\",\n",
    "        \"expected_answer\": \"A mixture is a combination of substances that can be separated physically (e.g., sand and salt). A compound is a chemical combination of elements with fixed properties (e.g., water).\",\n",
    "        \"strand\": \"Mixtures, Elements and Compounds (G7)\",\n",
    "        \"sub_strand\": \"Mixtures\",\n",
    "        \"bloom_skill\": \"Analysis\"\n",
    "    },\n",
    "    {\n",
    "        \"id\": \"2\",\n",
    "        \"question\": \"State the function of the cell membrane.\",\n",
    "        \"expected_answer\": \"The cell membrane controls the movement of substances in and out of the cell.\",\n",
    "        \"strand\": \"Living Things and Their Environment (G7)\",\n",
    "        \"sub_strand\": \"The Cell\",\n",
    "        \"bloom_skill\": \"Comprehension\"\n",
    "    },\n",
    "    {\n",
    "        \"id\": \"4\",\n",
    "        \"question\": \"Explain how you would test for the presence of starch in a leaf.\",\n",
    "        \"expected_answer\": \"Boil the leaf in water, then in alcohol, rinse, and add iodine solution. A blue-black color shows starch is present.\",\n",
    "        \"strand\": \"Living Things and Their Environment (G7)\",\n",
    "        \"sub_strand\": \"The Cell\",\n",
    "        \"bloom_skill\": \"Application\"\n",
    "    }\n",
    "]\n",
    "\n",
    "cluster_performance = {\n",
    "    \"cluster_label\": \"Cluster B\",\n",
    "    \"avg_score\": 56.7,\n",
    "    \"cluster_size\": 12,\n",
    "    \"avg_expectation_level\": \"Approaching\",\n",
    "    \"score_variance\": {\"min\": 47.5, \"max\": 64.0, \"std_dev\": 5.2},\n",
    "    \"bloom_skill_scores\": [\n",
    "        {\"name\": \"Knowledge\", \"percentage\": 62.1},\n",
    "        {\"name\": \"Comprehension\", \"percentage\": 54.2},\n",
    "        {\"name\": \"Application\", \"percentage\": 49.8},\n",
    "        {\"name\": \"Analysis\", \"percentage\": 52.3},\n",
    "        {\"name\": \"Synthesis\", \"percentage\": 45.0},\n",
    "        {\"name\": \"Evaluation\", \"percentage\": 48.7}\n",
    "    ],\n",
    "    \"strand_scores\": [\n",
    "        {\n",
    "            \"name\": \"Scientific Investigation (G7)\",\n",
    "            \"percentage\": 60.5,\n",
    "            \"sub_strands\": [\n",
    "                {\"name\": \"Laboratory Safety\", \"percentage\": 57.0},\n",
    "                {\"name\": \"Laboratory Apparatus and Instruments\", \"percentage\": 63.0}\n",
    "            ]\n",
    "        },\n",
    "        {\n",
    "            \"name\": \"Mixtures, Elements and Compounds (G7)\",\n",
    "            \"percentage\": 49.0,\n",
    "            \"sub_strands\": [\n",
    "                {\"name\": \"Mixtures\", \"percentage\": 45.5},\n",
    "                {\"name\": \"Elements and Compounds\", \"percentage\": 52.5}\n",
    "            ]\n",
    "        },\n",
    "        {\n",
    "            \"name\": \"Living Things and Their Environment (G7)\",\n",
    "            \"percentage\": 52.0,\n",
    "            \"sub_strands\": [\n",
    "                {\"name\": \"The Cell\", \"percentage\": 53.0},\n",
    "                {\"name\": \"Human Reproductive System\", \"percentage\": 50.0}\n",
    "            ]\n",
    "        }\n",
    "    ],\n",
    "    \"top_best_question_ids\": [3, 1],\n",
    "    \"top_worst_question_ids\": [2, 4]\n",
    "}\n",
    "\n",
    "question_count = 5"
   ]
  },
  {
   "cell_type": "code",
   "execution_count": 3,
   "id": "05e037de",
   "metadata": {},
   "outputs": [
    {
     "name": "stdout",
     "output_type": "stream",
     "text": [
      "📝 Input token count (gpt-4o): 953\n",
      "📦 Raw LLM output:\n",
      " content='```json\\n[\\n  {\\n    \"question\": \"Why is it important to wear a lab coat when conducting experiments, and what could happen if you don\\'t?\",\\n    \"expected_answer\": \"Wearing a lab coat protects your skin and clothing from spills and splashes of chemicals. Without it, you risk skin irritation or damage to your clothes.\",\\n    \"grade\": \"7\",\\n    \"strand\": \"Scientific Investigation (G7)\",\\n    \"sub_strand\": \"Laboratory Safety\",\\n    \"bloom_skill\": \"Comprehension\"\\n  },\\n  {\\n    \"question\": \"Imagine you have a salad with oil and vinegar. How would you describe this combination, and why is it considered a mixture?\",\\n    \"expected_answer\": \"The salad with oil and vinegar is a mixture because the oil and vinegar can be physically separated and do not chemically combine.\",\\n    \"grade\": \"7\",\\n    \"strand\": \"Mixtures, Elements and Compounds (G7)\",\\n    \"sub_strand\": \"Mixtures\",\\n    \"bloom_skill\": \"Comprehension\"\\n  },\\n  {\\n    \"question\": \"If you were to design an experiment to separate sand from salt, what steps would you take?\",\\n    \"expected_answer\": \"First, add water to dissolve the salt. Then, filter the mixture to separate the sand. Finally, evaporate the water to retrieve the salt.\",\\n    \"grade\": \"7\",\\n    \"strand\": \"Mixtures, Elements and Compounds (G7)\",\\n    \"sub_strand\": \"Mixtures\",\\n    \"bloom_skill\": \"Application\"\\n  },\\n  {\\n    \"question\": \"How does the cell membrane help a plant cell survive in a dry environment?\",\\n    \"expected_answer\": \"The cell membrane regulates water loss by controlling the movement of water in and out of the cell, helping the plant retain moisture.\",\\n    \"grade\": \"7\",\\n    \"strand\": \"Living Things and Their Environment (G7)\",\\n    \"sub_strand\": \"The Cell\",\\n    \"bloom_skill\": \"Application\"\\n  },\\n  {\\n    \"question\": \"Consider a leaf that has been left in the dark for a week. Predict what would happen if you tested it for starch and explain why.\",\\n    \"expected_answer\": \"The leaf would likely not show a blue-black color with iodine because it hasn\\'t been photosynthesizing in the dark, so starch would not be present.\",\\n    \"grade\": \"7\",\\n    \"strand\": \"Living Things and Their Environment (G7)\",\\n    \"sub_strand\": \"The Cell\",\\n    \"bloom_skill\": \"Analysis\"\\n  }\\n]\\n```' additional_kwargs={'refusal': None} response_metadata={'token_usage': {'completion_tokens': 536, 'prompt_tokens': 960, 'total_tokens': 1496, 'completion_tokens_details': {'accepted_prediction_tokens': 0, 'audio_tokens': 0, 'reasoning_tokens': 0, 'rejected_prediction_tokens': 0}, 'prompt_tokens_details': {'audio_tokens': 0, 'cached_tokens': 0}}, 'model_name': 'gpt-4o-2024-08-06', 'system_fingerprint': 'fp_07871e2ad8', 'id': 'chatcmpl-BeK5mrbS2w7rSgyYJNuft6IjyhVpk', 'service_tier': 'default', 'finish_reason': 'stop', 'logprobs': None} id='run--25944078-3bb9-4c4e-b423-4dd34144b094-0' usage_metadata={'input_tokens': 960, 'output_tokens': 536, 'total_tokens': 1496, 'input_token_details': {'audio': 0, 'cache_read': 0}, 'output_token_details': {'audio': 0, 'reasoning': 0}}\n",
      "📤 Output token count (gpt-4o): 532\n",
      "🔢 Total token usage: 1485\n"
     ]
    }
   ],
   "source": [
    "follow_up_quiz = generate_llm_follow_up_quiz(\n",
    "    exam_questions=exam_questions,\n",
    "    cluster_performance=cluster_performance,\n",
    "    question_count=question_count,\n",
    "    is_debug=True,\n",
    ")"
   ]
  },
  {
   "cell_type": "code",
   "execution_count": 4,
   "id": "0fca287b",
   "metadata": {},
   "outputs": [
    {
     "name": "stdout",
     "output_type": "stream",
     "text": [
      "✅ Follow up quiz written to output/follow_up_list.json\n"
     ]
    }
   ],
   "source": [
    "FOLLOW_UP_OUTPUT_FILE = \"output/follow_up_list.json\"\n",
    "with open(FOLLOW_UP_OUTPUT_FILE, 'w', encoding='utf-8') as f:\n",
    "    json.dump(follow_up_quiz, f, ensure_ascii=False, indent=4)\n",
    "print(f\"✅ Follow up quiz written to {FOLLOW_UP_OUTPUT_FILE}\")"
   ]
  }
 ],
 "metadata": {
  "kernelspec": {
   "display_name": ".venv",
   "language": "python",
   "name": "python3"
  },
  "language_info": {
   "codemirror_mode": {
    "name": "ipython",
    "version": 3
   },
   "file_extension": ".py",
   "mimetype": "text/x-python",
   "name": "python",
   "nbconvert_exporter": "python",
   "pygments_lexer": "ipython3",
   "version": "3.11.12"
  }
 },
 "nbformat": 4,
 "nbformat_minor": 5
}
