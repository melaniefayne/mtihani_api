{
 "cells": [
  {
   "cell_type": "code",
   "execution_count": 10,
   "id": "3e21ab12",
   "metadata": {},
   "outputs": [],
   "source": [
    "from curriculum import get_exam_curriculum\n",
    "from utils import *\n",
    "import random"
   ]
  },
  {
   "cell_type": "markdown",
   "id": "786b3dd6",
   "metadata": {},
   "source": [
    "## Generate questions"
   ]
  },
  {
   "cell_type": "code",
   "execution_count": 11,
   "id": "ca6a4566",
   "metadata": {},
   "outputs": [],
   "source": [
    "bloom_skill_count = 1"
   ]
  },
  {
   "cell_type": "code",
   "execution_count": 12,
   "id": "8b14605a",
   "metadata": {},
   "outputs": [
    {
     "name": "stdout",
     "output_type": "stream",
     "text": [
      "✅ Question breakdown written to output/question_breakdown.json\n"
     ]
    }
   ],
   "source": [
    "question_brd = get_exam_curriculum(\n",
    "    strand_ids=[1,2,3,4], \n",
    "    question_count=4,\n",
    "    is_debug=True, \n",
    "    curriculum_file=\"data/cbc_data.json\",\n",
    "    bloom_skill_count=bloom_skill_count,\n",
    ")"
   ]
  },
  {
   "cell_type": "code",
   "execution_count": 13,
   "id": "61810cd7",
   "metadata": {},
   "outputs": [],
   "source": [
    "# parsed_output = generate_llm_question_list(\n",
    "#     llm=OPENAI_LLM_4O,\n",
    "#     input_data=question_brd,\n",
    "#     bloom_skill_count=bloom_skill_count,\n",
    "#     is_debug=True,\n",
    "# )\n",
    "parsed_output = [\n",
    "    {\n",
    "        \"questions\": \"Amina notices that her phone helps her communicate with friends and learn new things. How does science play a role in making her phone useful in daily life?\",\n",
    "        \"expected_answers\": \"Science contributes to the development of technology like phones, which help in communication, learning, and accessing information.\"\n",
    "    },\n",
    "    {\n",
    "        \"questions\": \"Brian has a mixture of salt and water. Describe a method he can use to separate the salt from the water.\",\n",
    "        \"expected_answers\": \"Brian can use evaporation to separate the salt from the water. By heating the mixture, the water will evaporate, leaving the salt behind.\"\n",
    "    },\n",
    "    {\n",
    "        \"questions\": \"Zawadi is learning about the human excretory system. Explain the function of the kidneys in this system.\",\n",
    "        \"expected_answers\": \"The kidneys filter waste products and excess water from the blood to form urine, which is then excreted from the body.\"\n",
    "    },\n",
    "    {\n",
    "        \"questions\": \"Musa wants to hang a poster on his metal locker using a magnet. Explain why a magnet is suitable for this task.\",\n",
    "        \"expected_answers\": \"A magnet is suitable because it can attract and hold onto the metal surface of the locker, keeping the poster in place without damaging it.\"\n",
    "    }\n",
    "]\n"
   ]
  },
  {
   "cell_type": "code",
   "execution_count": 14,
   "id": "e25fd417",
   "metadata": {},
   "outputs": [
    {
     "name": "stdout",
     "output_type": "stream",
     "text": [
      "✅ Question list written to output/question_list.json\n"
     ]
    }
   ],
   "source": [
    "QUESTION_LIST_OUTPUT_FILE = \"output/question_list.json\"\n",
    "\n",
    "with open(QUESTION_LIST_OUTPUT_FILE, 'w', encoding='utf-8') as f:\n",
    "    json.dump(parsed_output, f, ensure_ascii=False, indent=4)\n",
    "\n",
    "print(f\"✅ Question list written to {QUESTION_LIST_OUTPUT_FILE}\")"
   ]
  },
  {
   "cell_type": "code",
   "execution_count": 15,
   "id": "6f955561",
   "metadata": {},
   "outputs": [
    {
     "name": "stdout",
     "output_type": "stream",
     "text": [
      "[{'id': 1, 'question': 'Amina notices that her phone helps her communicate with friends and learn new things. How does science play a role in making her phone useful in daily life?', 'expected_answer': 'Science contributes to the development of technology like phones, which help in communication, learning, and accessing information.'}, {'id': 2, 'question': 'Brian has a mixture of salt and water. Describe a method he can use to separate the salt from the water.', 'expected_answer': 'Brian can use evaporation to separate the salt from the water. By heating the mixture, the water will evaporate, leaving the salt behind.'}, {'id': 3, 'question': 'Zawadi is learning about the human excretory system. Explain the function of the kidneys in this system.', 'expected_answer': 'The kidneys filter waste products and excess water from the blood to form urine, which is then excreted from the body.'}, {'id': 4, 'question': 'Musa wants to hang a poster on his metal locker using a magnet. Explain why a magnet is suitable for this task.', 'expected_answer': 'A magnet is suitable because it can attract and hold onto the metal surface of the locker, keeping the poster in place without damaging it.'}]\n"
     ]
    }
   ],
   "source": [
    "def convert_to_single_qa_list(data):\n",
    "    result = []\n",
    "    for index, item in enumerate(data):\n",
    "        questions = item[\"questions\"]\n",
    "        expected_answers = item[\"expected_answers\"]\n",
    "\n",
    "        if isinstance(questions, str):\n",
    "            questions = [questions]\n",
    "        if isinstance(expected_answers, str):\n",
    "            expected_answers = [expected_answers]\n",
    "\n",
    "        if questions and expected_answers:\n",
    "            result.append({\n",
    "                \"id\": index + 1,\n",
    "                \"question\": questions[0],\n",
    "                \"expected_answer\": expected_answers[0]\n",
    "            })\n",
    "\n",
    "    return result\n",
    "\n",
    "exam_output = convert_to_single_qa_list(parsed_output)\n",
    "print(exam_output)"
   ]
  },
  {
   "cell_type": "markdown",
   "id": "57fd1ee3",
   "metadata": {},
   "source": [
    "## Simulate student answers"
   ]
  },
  {
   "cell_type": "code",
   "execution_count": 16,
   "id": "6bfc4208",
   "metadata": {},
   "outputs": [
    {
     "name": "stdout",
     "output_type": "stream",
     "text": [
      "[{'id': 1, 'avg_score': 12}, {'id': 2, 'avg_score': 95}, {'id': 3, 'avg_score': 54}, {'id': 4, 'avg_score': 71}]\n"
     ]
    }
   ],
   "source": [
    "def generate_random_scores(count):\n",
    "    return [{\"id\": i+1, \"avg_score\": random.randint(0, 100)} for i in range(count)]\n",
    "\n",
    "# sample_students = generate_random_scores(4)\n",
    "sample_students = [{'id': 1, 'avg_score': 12}, {'id': 2, 'avg_score': 95}, {'id': 3, 'avg_score': 54}, {'id': 4, 'avg_score': 71}]\n",
    "print(sample_students)"
   ]
  },
  {
   "cell_type": "code",
   "execution_count": 17,
   "id": "42fdf3da",
   "metadata": {},
   "outputs": [],
   "source": [
    "# parsed_answers = generate_llm_exam_answers_list(\n",
    "#     llm=OPENAI_LLM_4O,\n",
    "#     exam_data=exam_output,\n",
    "#     student_data=sample_students,\n",
    "#     is_debug=True,\n",
    "# )\n",
    "parsed_answers = [\n",
    "    {\n",
    "        \"id\": 1,\n",
    "        \"answers\": [\n",
    "            {\n",
    "                \"question_id\": \"1\",\n",
    "                \"answer\": \"Phones are made using science, so they help us talk to friends and learn.\"\n",
    "            },\n",
    "            {\n",
    "                \"question_id\": \"2\",\n",
    "                \"answer\": \"Maybe he can just let the water dry up and the salt will stay.\"\n",
    "            },\n",
    "            {\n",
    "                \"question_id\": \"3\",\n",
    "                \"answer\": \"Kidneys clean the blood and make urine.\"\n",
    "            },\n",
    "            {\n",
    "                \"question_id\": \"4\",\n",
    "                \"answer\": \"Magnets stick to metal, so it can hold the poster.\"\n",
    "            }\n",
    "        ]\n",
    "    },\n",
    "    {\n",
    "        \"id\": 2,\n",
    "        \"answers\": [\n",
    "            {\n",
    "                \"question_id\": \"1\",\n",
    "                \"answer\": \"Science is used to create the technology in phones, allowing us to communicate and learn easily.\"\n",
    "            },\n",
    "            {\n",
    "                \"question_id\": \"2\",\n",
    "                \"answer\": \"Brian can heat the mixture so the water evaporates, leaving the salt behind.\"\n",
    "            },\n",
    "            {\n",
    "                \"question_id\": \"3\",\n",
    "                \"answer\": \"The kidneys filter out waste and extra water from the blood, creating urine to be excreted.\"\n",
    "            },\n",
    "            {\n",
    "                \"question_id\": \"4\",\n",
    "                \"answer\": \"A magnet is suitable because it attracts the metal locker, holding the poster without damage.\"\n",
    "            }\n",
    "        ]\n",
    "    },\n",
    "    {\n",
    "        \"id\": 3,\n",
    "        \"answers\": [\n",
    "            {\n",
    "                \"question_id\": \"1\",\n",
    "                \"answer\": \"Science helps make phones that we use to talk and learn.\"\n",
    "            },\n",
    "            {\n",
    "                \"question_id\": \"2\",\n",
    "                \"answer\": \"He can heat the water so it evaporates and leaves the salt.\"\n",
    "            },\n",
    "            {\n",
    "                \"question_id\": \"3\",\n",
    "                \"answer\": \"Kidneys take out waste from blood and make urine.\"\n",
    "            },\n",
    "            {\n",
    "                \"question_id\": \"4\",\n",
    "                \"answer\": \"Magnets can stick to metal, so they hold the poster.\"\n",
    "            }\n",
    "        ]\n",
    "    },\n",
    "    {\n",
    "        \"id\": 4,\n",
    "        \"answers\": [\n",
    "            {\n",
    "                \"question_id\": \"1\",\n",
    "                \"answer\": \"Science helps in making phones that we use for communication and learning.\"\n",
    "            },\n",
    "            {\n",
    "                \"question_id\": \"2\",\n",
    "                \"answer\": \"He can use evaporation by heating the mixture to get the salt.\"\n",
    "            },\n",
    "            {\n",
    "                \"question_id\": \"3\",\n",
    "                \"answer\": \"The kidneys filter waste from the blood and make urine.\"\n",
    "            },\n",
    "            {\n",
    "                \"question_id\": \"4\",\n",
    "                \"answer\": \"A magnet can hold the poster because it sticks to metal.\"\n",
    "            }\n",
    "        ]\n",
    "    }\n",
    "]"
   ]
  },
  {
   "cell_type": "code",
   "execution_count": 18,
   "id": "6ece5d31",
   "metadata": {},
   "outputs": [
    {
     "name": "stdout",
     "output_type": "stream",
     "text": [
      "✅ Answers list written to output/answers_list.json\n"
     ]
    }
   ],
   "source": [
    "ANSWERS_LIST_OUTPUT_FILE = \"output/answers_list.json\"\n",
    "\n",
    "with open(ANSWERS_LIST_OUTPUT_FILE, 'w', encoding='utf-8') as f:\n",
    "    json.dump(parsed_answers, f, ensure_ascii=False, indent=4)\n",
    "\n",
    "print(f\"✅ Answers list written to {ANSWERS_LIST_OUTPUT_FILE}\")"
   ]
  },
  {
   "cell_type": "markdown",
   "id": "fafd46fe",
   "metadata": {},
   "source": [
    "## Grade answers"
   ]
  }
 ],
 "metadata": {
  "kernelspec": {
   "display_name": ".venv",
   "language": "python",
   "name": "python3"
  },
  "language_info": {
   "codemirror_mode": {
    "name": "ipython",
    "version": 3
   },
   "file_extension": ".py",
   "mimetype": "text/x-python",
   "name": "python",
   "nbconvert_exporter": "python",
   "pygments_lexer": "ipython3",
   "version": "3.11.12"
  }
 },
 "nbformat": 4,
 "nbformat_minor": 5
}
