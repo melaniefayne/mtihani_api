{
 "cells": [
  {
   "cell_type": "code",
   "execution_count": null,
   "id": "3e21ab12",
   "metadata": {},
   "outputs": [],
   "source": [
    "from curriculum import get_cbc_grouped_questions, get_rubrics_by_sub_strand\n",
    "from utils import *"
   ]
  },
  {
   "cell_type": "markdown",
   "id": "786b3dd6",
   "metadata": {},
   "source": [
    "## Generate questions"
   ]
  },
  {
   "cell_type": "code",
   "execution_count": 2,
   "id": "8b14605a",
   "metadata": {},
   "outputs": [
    {
     "name": "stdout",
     "output_type": "stream",
     "text": [
      "\n",
      "✅ Question breakdown written to output/question_breakdown.json. Total: 5\n"
     ]
    }
   ],
   "source": [
    "grouped_questions = get_cbc_grouped_questions(\n",
    "    strand_ids=[8,9,10], \n",
    "    question_count=5,\n",
    "    is_debug=True, \n",
    "    curriculum_file=\"data/cbc_data.json\",\n",
    "    bloom_skill_count=3,\n",
    ")"
   ]
  },
  {
   "cell_type": "code",
   "execution_count": 3,
   "id": "99a45f9f",
   "metadata": {},
   "outputs": [
    {
     "name": "stdout",
     "output_type": "stream",
     "text": [
      "\n",
      "Conservation of the Environment =========\n",
      "📝 Input token count (gpt-4o): 707\n",
      "📦 Raw LLM output:\n",
      " content='[{\"question\":\"Amina noticed that the river near her village has become polluted with plastic waste, affecting the fish population. Analyze the situation and suggest two methods that could be used to conserve the river environment.\",\"expected_answer\":\"The situation indicates pollution from plastic waste harming aquatic life. Two methods to conserve the river environment include organizing community clean-up events to remove plastic waste and implementing educational programs to raise awareness about proper waste disposal.\"},{\"question\":\"Why is it important to conserve forests in Kenya?\",\"expected_answer\":\"Conserving forests is important because they provide habitat for wildlife, help regulate the climate by absorbing carbon dioxide, and are a source of resources like timber and medicinal plants.\"},{\"question\":\"What is environmental conservation?\",\"expected_answer\":\"Environmental conservation is the practice of protecting and preserving natural resources and the environment to ensure their sustainability for future generations.\"}]' additional_kwargs={'refusal': None} response_metadata={'token_usage': {'completion_tokens': 172, 'prompt_tokens': 714, 'total_tokens': 886, 'completion_tokens_details': {'accepted_prediction_tokens': 0, 'audio_tokens': 0, 'reasoning_tokens': 0, 'rejected_prediction_tokens': 0}, 'prompt_tokens_details': {'audio_tokens': 0, 'cached_tokens': 0}}, 'model_name': 'gpt-4o-2024-08-06', 'system_fingerprint': 'fp_90122d973c', 'id': 'chatcmpl-BWguH5MXJze4NXHocAGhGnbSnwdD4', 'service_tier': 'default', 'finish_reason': 'stop', 'logprobs': None} id='run--5a91f683-3160-43b0-8780-7902ebceb5fd-0' usage_metadata={'input_tokens': 714, 'output_tokens': 172, 'total_tokens': 886, 'input_token_details': {'audio': 0, 'cache_read': 0}, 'output_token_details': {'audio': 0, 'reasoning': 0}}\n",
      "📤 Output token count (gpt-4o): 171\n",
      "🔢 Total token usage: 878\n",
      "\n",
      "Friction =========\n",
      "📝 Input token count (gpt-4o): 706\n",
      "📦 Raw LLM output:\n",
      " content='[{\"question\":\"Amina noticed that her bicycle tires were slipping on the wet road. She decided to change the tires to ones with deeper treads. Explain how this change affects the friction between the tires and the road.\",\"expected_answer\":\"Deeper treads increase the friction between the tires and the road by providing more grip, reducing slipping.\"},{\"question\":\"Brian observed that his shoes wore out quickly when he played football on a rough surface. Evaluate the role of friction in this situation and suggest whether it is advantageous or disadvantageous.\",\"expected_answer\":\"Friction causes the shoes to wear out quickly, which is disadvantageous as it leads to frequent replacements.\"},{\"question\":\"Zawadi is helping her mother in the kitchen and notices that the chopping board slides around when she cuts vegetables. Suggest a practical way to increase friction and prevent the board from sliding.\",\"expected_answer\":\"Placing a damp cloth or non-slip mat under the chopping board can increase friction and prevent it from sliding.\"}]' additional_kwargs={'refusal': None} response_metadata={'token_usage': {'completion_tokens': 198, 'prompt_tokens': 713, 'total_tokens': 911, 'completion_tokens_details': {'accepted_prediction_tokens': 0, 'audio_tokens': 0, 'reasoning_tokens': 0, 'rejected_prediction_tokens': 0}, 'prompt_tokens_details': {'audio_tokens': 0, 'cached_tokens': 0}}, 'model_name': 'gpt-4o-2024-08-06', 'system_fingerprint': 'fp_90122d973c', 'id': 'chatcmpl-BWguMXFQGmOUBGRYAL2QQ8wqE6WBg', 'service_tier': 'default', 'finish_reason': 'stop', 'logprobs': None} id='run--45068f14-760f-463b-828d-83ad21ee5246-0' usage_metadata={'input_tokens': 713, 'output_tokens': 198, 'total_tokens': 911, 'input_token_details': {'audio': 0, 'cache_read': 0}, 'output_token_details': {'audio': 0, 'reasoning': 0}}\n",
      "📤 Output token count (gpt-4o): 197\n",
      "🔢 Total token usage: 903\n",
      "\n",
      "Metals and Alloys =========\n",
      "📝 Input token count (gpt-4o): 725\n",
      "📦 Raw LLM output:\n",
      " content='[{\"question\":\"Amina noticed that the metal gate at her home has started to rust after the rainy season. Explain how she can prevent further rusting of the gate using methods that are commonly available at home.\",\"expected_answer\":\"Amina can prevent further rusting by applying a coat of paint or oil to the gate, which acts as a barrier to moisture and oxygen, or by using rust-resistant materials like stainless steel.\"},{\"question\":\"Brian is conducting an experiment in his science class to compare the durability of different metals and alloys. After observing that some metals rust faster than others, evaluate why alloys like stainless steel are often preferred for making kitchen utensils over pure iron.\",\"expected_answer\":\"Alloys like stainless steel are preferred because they are more resistant to rust and corrosion than pure iron, making them more durable and suitable for kitchen environments where moisture is present.\"},{\"question\":\"Zawadi is designing a new bicycle and wants to choose the best materials for different parts. Synthesize a plan for selecting metals and alloys for the bicycle frame and gears, considering factors like strength, weight, and resistance to rust.\",\"expected_answer\":\"For the bicycle frame, Zawadi should choose lightweight and strong alloys like aluminum or titanium to ensure ease of handling and durability. For the gears, she should use stainless steel to provide strength and resistance to rust, ensuring longevity and smooth operation.\"}]' additional_kwargs={'refusal': None} response_metadata={'token_usage': {'completion_tokens': 275, 'prompt_tokens': 732, 'total_tokens': 1007, 'completion_tokens_details': {'accepted_prediction_tokens': 0, 'audio_tokens': 0, 'reasoning_tokens': 0, 'rejected_prediction_tokens': 0}, 'prompt_tokens_details': {'audio_tokens': 0, 'cached_tokens': 0}}, 'model_name': 'gpt-4o-2024-08-06', 'system_fingerprint': 'fp_90122d973c', 'id': 'chatcmpl-BWguRgHeQBnCRz3ANO2ufTp0LIhtX', 'service_tier': 'default', 'finish_reason': 'stop', 'logprobs': None} id='run--f087656c-b80e-4c65-bc61-7f5882e9f155-0' usage_metadata={'input_tokens': 732, 'output_tokens': 275, 'total_tokens': 1007, 'input_token_details': {'audio': 0, 'cache_read': 0}, 'output_token_details': {'audio': 0, 'reasoning': 0}}\n",
      "📤 Output token count (gpt-4o): 274\n",
      "🔢 Total token usage: 999\n",
      "\n",
      "Pollution =========\n",
      "📝 Input token count (gpt-4o): 714\n",
      "📦 Raw LLM output:\n",
      " content='[{\"question\":\"What are the four main types of pollution that affect our environment?\",\"expected_answer\":\"The four main types of pollution are air pollution, water pollution, soil pollution, and noise pollution.\"},{\"question\":\"Amina noticed that the river near her village has become polluted with plastic waste. Suggest a plan she could propose to her community to reduce this pollution and prevent it from happening in the future.\",\"expected_answer\":\"Amina could propose organizing regular community clean-up events, setting up recycling bins, educating the community about the importance of reducing plastic use, and advocating for policies that limit plastic production and use.\"},{\"question\":\"Brian observed that the air quality in his town has worsened due to increased vehicle emissions. Analyze how this type of pollution could affect the health of the residents and the local environment.\",\"expected_answer\":\"Increased vehicle emissions can lead to respiratory problems, such as asthma and bronchitis, in residents and contribute to environmental issues like acid rain and the greenhouse effect, which harm plants and wildlife.\"}]' additional_kwargs={'refusal': None} response_metadata={'token_usage': {'completion_tokens': 205, 'prompt_tokens': 721, 'total_tokens': 926, 'completion_tokens_details': {'accepted_prediction_tokens': 0, 'audio_tokens': 0, 'reasoning_tokens': 0, 'rejected_prediction_tokens': 0}, 'prompt_tokens_details': {'audio_tokens': 0, 'cached_tokens': 0}}, 'model_name': 'gpt-4o-2024-08-06', 'system_fingerprint': 'fp_90122d973c', 'id': 'chatcmpl-BWguXTWI0NmqpGfXLbJ9ghRLPzzaj', 'service_tier': 'default', 'finish_reason': 'stop', 'logprobs': None} id='run--6a8b64f8-bb7e-4197-ac84-251f78fed932-0' usage_metadata={'input_tokens': 721, 'output_tokens': 205, 'total_tokens': 926, 'input_token_details': {'audio': 0, 'cache_read': 0}, 'output_token_details': {'audio': 0, 'reasoning': 0}}\n",
      "📤 Output token count (gpt-4o): 204\n",
      "🔢 Total token usage: 918\n",
      "\n",
      "Water Hardness =========\n",
      "📝 Input token count (gpt-4o): 728\n",
      "📦 Raw LLM output:\n",
      " content='[{\"question\":\"What are the two main types of water hardness?\",\"expected_answer\":\"The two main types of water hardness are temporary hardness and permanent hardness.\"},{\"question\":\"In a science class, Amina and Brian are given samples of water from different sources. They observe that one sample forms lather easily with soap while the other does not. Analyze the possible reasons for this difference in water behavior.\",\"expected_answer\":\"The sample that forms lather easily is likely soft water, which does not contain high levels of calcium or magnesium ions. The sample that does not form lather easily is likely hard water, which contains high levels of these ions, preventing soap from lathering.\"},{\"question\":\"At home, Zawadi notices that the kettle has a white, chalky deposit inside after boiling water. She wants to use a method to soften this water for better tea preparation. Suggest a practical method she can use and explain how it works.\",\"expected_answer\":\"Zawadi can use boiling to soften the water. Boiling causes the calcium bicarbonate in temporary hard water to decompose into calcium carbonate, which precipitates out, thus softening the water.\"}]' additional_kwargs={'refusal': None} response_metadata={'token_usage': {'completion_tokens': 235, 'prompt_tokens': 735, 'total_tokens': 970, 'completion_tokens_details': {'accepted_prediction_tokens': 0, 'audio_tokens': 0, 'reasoning_tokens': 0, 'rejected_prediction_tokens': 0}, 'prompt_tokens_details': {'audio_tokens': 0, 'cached_tokens': 0}}, 'model_name': 'gpt-4o-2024-08-06', 'system_fingerprint': 'fp_90122d973c', 'id': 'chatcmpl-BWgubZ1dTeL0Zoo6MTwkqL6E9JOYU', 'service_tier': 'default', 'finish_reason': 'stop', 'logprobs': None} id='run--44e119ae-5b2b-4238-bf93-b2cc82e05508-0' usage_metadata={'input_tokens': 735, 'output_tokens': 235, 'total_tokens': 970, 'input_token_details': {'audio': 0, 'cache_read': 0}, 'output_token_details': {'audio': 0, 'reasoning': 0}}\n",
      "📤 Output token count (gpt-4o): 234\n",
      "🔢 Total token usage: 962\n",
      "\n",
      "✅ Question list written to output/question_list.json. Total: 15\n"
     ]
    }
   ],
   "source": [
    "all_question_list = generate_llm_question_list(\n",
    "    grouped_question_data=grouped_questions,\n",
    "    is_debug=True,\n",
    ")\n",
    "\n",
    "# If there was a generation error\n",
    "if not isinstance(all_question_list, list):\n",
    "    print(all_question_list)"
   ]
  },
  {
   "cell_type": "code",
   "execution_count": 4,
   "id": "54212919",
   "metadata": {},
   "outputs": [
    {
     "name": "stdout",
     "output_type": "stream",
     "text": [
      "\n",
      "✅ Question list to output/question_list.json. Total: 5\n"
     ]
    }
   ],
   "source": [
    "exam_questions = get_db_question_objects(\n",
    "    all_question_list=all_question_list,\n",
    "    is_debug=True,\n",
    ")"
   ]
  },
  {
   "cell_type": "markdown",
   "id": "57fd1ee3",
   "metadata": {},
   "source": [
    "## Simulate student answers"
   ]
  },
  {
   "cell_type": "code",
   "execution_count": 5,
   "id": "6f955561",
   "metadata": {},
   "outputs": [
    {
     "name": "stdout",
     "output_type": "stream",
     "text": [
      "[{'id': 1, 'question': 'What are the two main types of water hardness?', 'expected_answer': 'The two main types of water hardness are temporary hardness and permanent hardness.'}, {'id': 2, 'question': 'Amina noticed that the river near her village has become polluted with plastic waste, affecting the fish population. Analyze the situation and suggest two methods that could be used to conserve the river environment.', 'expected_answer': 'The situation indicates pollution from plastic waste harming aquatic life. Two methods to conserve the river environment include organizing community clean-up events to remove plastic waste and implementing educational programs to raise awareness about proper waste disposal.'}, {'id': 3, 'question': 'Amina noticed that her bicycle tires were slipping on the wet road. She decided to change the tires to ones with deeper treads. Explain how this change affects the friction between the tires and the road.', 'expected_answer': 'Deeper treads increase the friction between the tires and the road by providing more grip, reducing slipping.'}, {'id': 4, 'question': 'Amina noticed that the metal gate at her home has started to rust after the rainy season. Explain how she can prevent further rusting of the gate using methods that are commonly available at home.', 'expected_answer': 'Amina can prevent further rusting by applying a coat of paint or oil to the gate, which acts as a barrier to moisture and oxygen, or by using rust-resistant materials like stainless steel.'}, {'id': 5, 'question': 'What are the four main types of pollution that affect our environment?', 'expected_answer': 'The four main types of pollution are air pollution, water pollution, soil pollution, and noise pollution.'}]\n"
     ]
    }
   ],
   "source": [
    "def convert_to_single_qa_list(data):\n",
    "    result = []\n",
    "    for index, item in enumerate(data):\n",
    "        questions = item[\"questions\"]\n",
    "        expected_answers = item[\"expected_answers\"]\n",
    "\n",
    "        if isinstance(questions, str):\n",
    "            questions = [questions]\n",
    "        if isinstance(expected_answers, str):\n",
    "            expected_answers = [expected_answers]\n",
    "\n",
    "        if questions and expected_answers:\n",
    "            result.append({\n",
    "                \"id\": index + 1,\n",
    "                \"question\": questions[0],\n",
    "                \"expected_answer\": expected_answers[0]\n",
    "            })\n",
    "\n",
    "    return result\n",
    "\n",
    "exam_output = convert_to_single_qa_list(exam_questions)\n",
    "print(exam_output)"
   ]
  },
  {
   "cell_type": "code",
   "execution_count": 6,
   "id": "6bfc4208",
   "metadata": {},
   "outputs": [],
   "source": [
    "sample_students = [{'id': 1, 'avg_score': 12}, {'id': 2, 'avg_score': 95}, {\n",
    "    'id': 3, 'avg_score': 54}, {'id': 4, 'avg_score': 71},]"
   ]
  },
  {
   "cell_type": "code",
   "execution_count": 7,
   "id": "42fdf3da",
   "metadata": {},
   "outputs": [
    {
     "name": "stdout",
     "output_type": "stream",
     "text": [
      "📝 Input token count (gpt-4o): 876\n",
      "📦 Raw LLM output:\n",
      " content='```json\\n[\\n  {\\n    \"id\": 1,\\n    \"answers\": [\\n      {\\n        \"question_id\": \"1\",\\n        \"answer\": \"I think there are two types of water hardness but I\\'m not sure what they are.\"\\n      },\\n      {\\n        \"question_id\": \"2\",\\n        \"answer\": \"The river is dirty with plastic. Maybe we can clean it up and tell people not to throw plastic.\"\\n      },\\n      {\\n        \"question_id\": \"3\",\\n        \"answer\": \"Changing tires to ones with deeper treads might help with slipping.\"\\n      },\\n      {\\n        \"question_id\": \"4\",\\n        \"answer\": \"To stop rust, maybe paint the gate.\"\\n      },\\n      {\\n        \"question_id\": \"5\",\\n        \"answer\": \"Pollution types are air, water, soil, and noise.\"\\n      }\\n    ]\\n  },\\n  {\\n    \"id\": 2,\\n    \"answers\": [\\n      {\\n        \"question_id\": \"1\",\\n        \"answer\": \"The two main types of water hardness are temporary hardness and permanent hardness.\"\\n      },\\n      {\\n        \"question_id\": \"2\",\\n        \"answer\": \"The river is polluted with plastic, which harms fish. We can organize clean-ups and educate people on proper waste disposal to conserve the river.\"\\n      },\\n      {\\n        \"question_id\": \"3\",\\n        \"answer\": \"Deeper treads on tires increase friction by providing better grip on the road, which reduces slipping.\"\\n      },\\n      {\\n        \"question_id\": \"4\",\\n        \"answer\": \"Amina can prevent rust by painting the gate or applying oil to create a barrier against moisture.\"\\n      },\\n      {\\n        \"question_id\": \"5\",\\n        \"answer\": \"The four main types of pollution are air, water, soil, and noise pollution.\"\\n      }\\n    ]\\n  },\\n  {\\n    \"id\": 3,\\n    \"answers\": [\\n      {\\n        \"question_id\": \"1\",\\n        \"answer\": \"There are two types of water hardness: temporary and permanent.\"\\n      },\\n      {\\n        \"question_id\": \"2\",\\n        \"answer\": \"The river is polluted with plastic. We can clean it and teach people about not throwing plastic.\"\\n      },\\n      {\\n        \"question_id\": \"3\",\\n        \"answer\": \"Deeper treads help the tires grip the road better, so they don\\'t slip as much.\"\\n      },\\n      {\\n        \"question_id\": \"4\",\\n        \"answer\": \"To stop rust, Amina can paint the gate or use oil.\"\\n      },\\n      {\\n        \"question_id\": \"5\",\\n        \"answer\": \"The main types of pollution are air, water, soil, and noise.\"\\n      }\\n    ]\\n  },\\n  {\\n    \"id\": 4,\\n    \"answers\": [\\n      {\\n        \"question_id\": \"1\",\\n        \"answer\": \"The two main types of water hardness are temporary and permanent hardness.\"\\n      },\\n      {\\n        \"question_id\": \"2\",\\n        \"answer\": \"The river is polluted with plastic waste. We can clean it up and educate people about proper waste disposal.\"\\n      },\\n      {\\n        \"question_id\": \"3\",\\n        \"answer\": \"Deeper treads on tires increase friction, which helps prevent slipping on wet roads.\"\\n      },\\n      {\\n        \"question_id\": \"4\",\\n        \"answer\": \"Amina can paint the gate or use oil to prevent rusting.\"\\n      },\\n      {\\n        \"question_id\": \"5\",\\n        \"answer\": \"The four main types of pollution are air, water, soil, and noise pollution.\"\\n      }\\n    ]\\n  }\\n]\\n```' additional_kwargs={'refusal': None} response_metadata={'token_usage': {'completion_tokens': 751, 'prompt_tokens': 829, 'total_tokens': 1580, 'completion_tokens_details': {'accepted_prediction_tokens': 0, 'audio_tokens': 0, 'reasoning_tokens': 0, 'rejected_prediction_tokens': 0}, 'prompt_tokens_details': {'audio_tokens': 0, 'cached_tokens': 0}}, 'model_name': 'gpt-4o-2024-08-06', 'system_fingerprint': 'fp_90122d973c', 'id': 'chatcmpl-BWguhXD2IFnIIpWHaT5IBPjPivJ5p', 'service_tier': 'default', 'finish_reason': 'stop', 'logprobs': None} id='run--963dfd0f-e0d2-4013-9f12-5163f60a8ecc-0' usage_metadata={'input_tokens': 829, 'output_tokens': 751, 'total_tokens': 1580, 'input_token_details': {'audio': 0, 'cache_read': 0}, 'output_token_details': {'audio': 0, 'reasoning': 0}}\n",
      "📤 Output token count (gpt-4o): 746\n",
      "🔢 Total token usage: 1622\n",
      "\n",
      "✅ Mocked Answers list written to output/answers_list.json\n"
     ]
    }
   ],
   "source": [
    "parsed_answers = generate_llm_exam_answers_list(\n",
    "    llm=OPENAI_LLM_4O,\n",
    "    exam_data=exam_output,\n",
    "    student_data=sample_students,\n",
    "    is_debug=True,\n",
    ")"
   ]
  },
  {
   "cell_type": "code",
   "execution_count": 8,
   "id": "72fe8ca7",
   "metadata": {},
   "outputs": [],
   "source": [
    "# # ==== DB MOCK ANSWERS\n",
    "# # ====================\n",
    "# exam = []\n",
    "# EXAM_FILE = \"data/exam.json\"\n",
    "\n",
    "# with open(EXAM_FILE, \"r\") as f:\n",
    "#     exam = json.load(f)\n",
    "\n",
    "# print(exam)\n",
    "\n",
    "\n",
    "# students = []\n",
    "# STUDENT_FILE = \"data/classroom.json\"\n",
    "\n",
    "# with open(STUDENT_FILE, \"r\") as f:\n",
    "#     students = json.load(f)\n",
    "\n",
    "# print(students)\n",
    "\n",
    "\n",
    "# parsed_answers = generate_llm_exam_answers_list(\n",
    "#     llm=OPENAI_LLM_4O,\n",
    "#     exam_data=exam,\n",
    "#     student_data=students,\n",
    "#     is_debug=True,\n",
    "# )"
   ]
  },
  {
   "cell_type": "markdown",
   "id": "fafd46fe",
   "metadata": {},
   "source": [
    "## Grade answers"
   ]
  },
  {
   "cell_type": "code",
   "execution_count": 9,
   "id": "509a6026",
   "metadata": {},
   "outputs": [],
   "source": [
    "def get_answers_for_question(target_question_id, start_count):\n",
    "    result = []\n",
    "    count = start_count\n",
    "    for entry in parsed_answers:\n",
    "        for answer in entry[\"answers\"]:\n",
    "            if answer[\"question_id\"] == str(target_question_id):\n",
    "                result.append({\n",
    "                    \"answer_id\": count,\n",
    "                    \"answer\": answer[\"answer\"],\n",
    "                })\n",
    "                count += 1\n",
    "    return result, count\n",
    "\n",
    "\n",
    "grouped_answers_data = []\n",
    "count = 1\n",
    "\n",
    "for idx, q in enumerate(exam_questions):\n",
    "    item = {\n",
    "        \"question\": q[\"description\"],\n",
    "        \"expected_answer\": q[\"expected_answer\"],\n",
    "        \"rubrics\": get_rubrics_by_sub_strand(\n",
    "            sub_strand_name=q[\"sub_strand\"],\n",
    "            curriculum_file=\"data/cbc_data.json\",\n",
    "        )\n",
    "    }\n",
    "    student_answers, count = get_answers_for_question(idx + 1, count)\n",
    "    item[\"student_answers\"] = student_answers\n",
    "\n",
    "    grouped_answers_data.append(item)"
   ]
  },
  {
   "cell_type": "code",
   "execution_count": 10,
   "id": "c78940ca",
   "metadata": {},
   "outputs": [
    {
     "name": "stdout",
     "output_type": "stream",
     "text": [
      "✅ Mocked Answers list written to output/answers_list.json\n"
     ]
    }
   ],
   "source": [
    "ANSWERS_LIST_OUTPUT_FILE = \"output/answers_list.json\"\n",
    "with open(ANSWERS_LIST_OUTPUT_FILE, 'w', encoding='utf-8') as f:\n",
    "    json.dump(grouped_answers_data, f, ensure_ascii=False, indent=4)\n",
    "print(f\"✅ Mocked Answers list written to {ANSWERS_LIST_OUTPUT_FILE}\")"
   ]
  },
  {
   "cell_type": "code",
   "execution_count": 11,
   "id": "c44699d4",
   "metadata": {},
   "outputs": [
    {
     "name": "stdout",
     "output_type": "stream",
     "text": [
      "\n",
      "What are the two main types of water hardness? =========\n",
      "📝 Input token count (gpt-4o): 544\n",
      "📦 Raw LLM output:\n",
      " content='```json\\n[{\"answer_id\": 1, \"score\": 1}, {\"answer_id\": 2, \"score\": 4}, {\"answer_id\": 3, \"score\": 4}, {\"answer_id\": 4, \"score\": 4}]\\n```' additional_kwargs={'refusal': None} response_metadata={'token_usage': {'completion_tokens': 58, 'prompt_tokens': 551, 'total_tokens': 609, 'completion_tokens_details': {'accepted_prediction_tokens': 0, 'audio_tokens': 0, 'reasoning_tokens': 0, 'rejected_prediction_tokens': 0}, 'prompt_tokens_details': {'audio_tokens': 0, 'cached_tokens': 0}}, 'model_name': 'gpt-4o-2024-08-06', 'system_fingerprint': 'fp_90122d973c', 'id': 'chatcmpl-BWguuBRh4cI4Soa8hVQEODFjjB83e', 'service_tier': 'default', 'finish_reason': 'stop', 'logprobs': None} id='run--c46b1a27-4cf4-4890-80dd-0a820a69a043-0' usage_metadata={'input_tokens': 551, 'output_tokens': 58, 'total_tokens': 609, 'input_token_details': {'audio': 0, 'cache_read': 0}, 'output_token_details': {'audio': 0, 'reasoning': 0}}\n",
      "📤 Output token count (gpt-4o): 53\n",
      "🔢 Total token usage: 597\n",
      "\n",
      "Amina noticed that the river near her village has become polluted with plastic waste, affecting the fish population. Analyze the situation and suggest two methods that could be used to conserve the river environment. =========\n",
      "📝 Input token count (gpt-4o): 634\n",
      "📦 Raw LLM output:\n",
      " content='```json\\n[{\"answer_id\": 5, \"score\": 2}, {\"answer_id\": 6, \"score\": 4}, {\"answer_id\": 7, \"score\": 3}, {\"answer_id\": 8, \"score\": 3}]\\n```' additional_kwargs={'refusal': None} response_metadata={'token_usage': {'completion_tokens': 58, 'prompt_tokens': 641, 'total_tokens': 699, 'completion_tokens_details': {'accepted_prediction_tokens': 0, 'audio_tokens': 0, 'reasoning_tokens': 0, 'rejected_prediction_tokens': 0}, 'prompt_tokens_details': {'audio_tokens': 0, 'cached_tokens': 0}}, 'model_name': 'gpt-4o-2024-08-06', 'system_fingerprint': 'fp_f5bdcc3276', 'id': 'chatcmpl-BWguvYOSB2luNmNNM6CjuaGsRVTNG', 'service_tier': 'default', 'finish_reason': 'stop', 'logprobs': None} id='run--e5bdff92-1d87-4c69-8d6e-461af3ea0c02-0' usage_metadata={'input_tokens': 641, 'output_tokens': 58, 'total_tokens': 699, 'input_token_details': {'audio': 0, 'cache_read': 0}, 'output_token_details': {'audio': 0, 'reasoning': 0}}\n",
      "📤 Output token count (gpt-4o): 53\n",
      "🔢 Total token usage: 687\n",
      "\n",
      "Amina noticed that her bicycle tires were slipping on the wet road. She decided to change the tires to ones with deeper treads. Explain how this change affects the friction between the tires and the road. =========\n",
      "📝 Input token count (gpt-4o): 612\n",
      "📦 Raw LLM output:\n",
      " content='```json\\n[\\n    {\"answer_id\": 9, \"score\": 2},\\n    {\"answer_id\": 10, \"score\": 3},\\n    {\"answer_id\": 11, \"score\": 3},\\n    {\"answer_id\": 12, \"score\": 3}\\n]\\n```' additional_kwargs={'refusal': None} response_metadata={'token_usage': {'completion_tokens': 63, 'prompt_tokens': 619, 'total_tokens': 682, 'completion_tokens_details': {'accepted_prediction_tokens': 0, 'audio_tokens': 0, 'reasoning_tokens': 0, 'rejected_prediction_tokens': 0}, 'prompt_tokens_details': {'audio_tokens': 0, 'cached_tokens': 0}}, 'model_name': 'gpt-4o-2024-08-06', 'system_fingerprint': 'fp_f5bdcc3276', 'id': 'chatcmpl-BWguxBKgyCcP0oZoBRRy5Wwbj0tip', 'service_tier': 'default', 'finish_reason': 'stop', 'logprobs': None} id='run--6461574f-3e6a-4f41-b567-4a0bc2e2df0b-0' usage_metadata={'input_tokens': 619, 'output_tokens': 63, 'total_tokens': 682, 'input_token_details': {'audio': 0, 'cache_read': 0}, 'output_token_details': {'audio': 0, 'reasoning': 0}}\n",
      "📤 Output token count (gpt-4o): 58\n",
      "🔢 Total token usage: 670\n",
      "\n",
      "Amina noticed that the metal gate at her home has started to rust after the rainy season. Explain how she can prevent further rusting of the gate using methods that are commonly available at home. =========\n",
      "📝 Input token count (gpt-4o): 612\n",
      "📦 Raw LLM output:\n",
      " content='```json\\n[\\n    {\"answer_id\": 13, \"score\": 2},\\n    {\"answer_id\": 14, \"score\": 3},\\n    {\"answer_id\": 15, \"score\": 3},\\n    {\"answer_id\": 16, \"score\": 3}\\n]\\n```' additional_kwargs={'refusal': None} response_metadata={'token_usage': {'completion_tokens': 63, 'prompt_tokens': 619, 'total_tokens': 682, 'completion_tokens_details': {'accepted_prediction_tokens': 0, 'audio_tokens': 0, 'reasoning_tokens': 0, 'rejected_prediction_tokens': 0}, 'prompt_tokens_details': {'audio_tokens': 0, 'cached_tokens': 0}}, 'model_name': 'gpt-4o-2024-08-06', 'system_fingerprint': 'fp_f5bdcc3276', 'id': 'chatcmpl-BWguzf0zZjXTzazuxxRNdb5ETSS72', 'service_tier': 'default', 'finish_reason': 'stop', 'logprobs': None} id='run--1018d6a6-aeb3-4ab1-885d-9773b8a47798-0' usage_metadata={'input_tokens': 619, 'output_tokens': 63, 'total_tokens': 682, 'input_token_details': {'audio': 0, 'cache_read': 0}, 'output_token_details': {'audio': 0, 'reasoning': 0}}\n",
      "📤 Output token count (gpt-4o): 58\n",
      "🔢 Total token usage: 670\n",
      "\n",
      "What are the four main types of pollution that affect our environment? =========\n",
      "📝 Input token count (gpt-4o): 574\n",
      "📦 Raw LLM output:\n",
      " content='```json\\n[\\n    {\"answer_id\": 17, \"score\": 3},\\n    {\"answer_id\": 18, \"score\": 3},\\n    {\"answer_id\": 19, \"score\": 3},\\n    {\"answer_id\": 20, \"score\": 3}\\n]\\n```' additional_kwargs={'refusal': None} response_metadata={'token_usage': {'completion_tokens': 63, 'prompt_tokens': 581, 'total_tokens': 644, 'completion_tokens_details': {'accepted_prediction_tokens': 0, 'audio_tokens': 0, 'reasoning_tokens': 0, 'rejected_prediction_tokens': 0}, 'prompt_tokens_details': {'audio_tokens': 0, 'cached_tokens': 0}}, 'model_name': 'gpt-4o-2024-08-06', 'system_fingerprint': 'fp_f5bdcc3276', 'id': 'chatcmpl-BWgv0m5lhXw6qNk5bmhfnFVOixsji', 'service_tier': 'default', 'finish_reason': 'stop', 'logprobs': None} id='run--fd64a871-af1f-401d-b56a-e7099313b52c-0' usage_metadata={'input_tokens': 581, 'output_tokens': 63, 'total_tokens': 644, 'input_token_details': {'audio': 0, 'cache_read': 0}, 'output_token_details': {'audio': 0, 'reasoning': 0}}\n",
      "📤 Output token count (gpt-4o): 58\n",
      "🔢 Total token usage: 632\n",
      "\n",
      "✅ Graded Answers list written to output/grades_list.json\n"
     ]
    }
   ],
   "source": [
    "parsed_grades = generate_llm_answer_grades_list(\n",
    "    llm=OPENAI_LLM_4O,\n",
    "    grouped_answers_data=grouped_answers_data,\n",
    "    is_debug=True,\n",
    ")"
   ]
  }
 ],
 "metadata": {
  "kernelspec": {
   "display_name": ".venv",
   "language": "python",
   "name": "python3"
  },
  "language_info": {
   "codemirror_mode": {
    "name": "ipython",
    "version": 3
   },
   "file_extension": ".py",
   "mimetype": "text/x-python",
   "name": "python",
   "nbconvert_exporter": "python",
   "pygments_lexer": "ipython3",
   "version": "3.11.12"
  }
 },
 "nbformat": 4,
 "nbformat_minor": 5
}
