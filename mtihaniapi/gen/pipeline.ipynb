{
 "cells": [
  {
   "cell_type": "code",
   "execution_count": null,
   "id": "3e21ab12",
   "metadata": {},
   "outputs": [],
   "source": [
    "import sys\n",
    "import os\n",
    "sys.path.insert(0, os.path.abspath(\"..\"))\n",
    "from gen.curriculum import get_cbc_grouped_questions, get_rubrics_by_sub_strand, get_all_strand_names\n",
    "from gen.utils import *"
   ]
  },
  {
   "cell_type": "code",
   "execution_count": 2,
   "id": "39374e23",
   "metadata": {},
   "outputs": [
    {
     "name": "stdout",
     "output_type": "stream",
     "text": [
      "[\"Scientific Investigation\", \"Introduction to Integrated Science\", \"Laboratory Safety\", \"Laboratory Apparatus and Instruments\", \"Mixtures, Elements and Compounds\", \"Mixtures\", \"Acids, Bases and Indicators\", \"Living Things and Their Environment\", \"Human Reproductive System\", \"Human Excretory System\", \"Force and Energy\", \"Electrical Energy\", \"Magnetism\", \"Mixtures, Elements and Compounds\", \"Elements and Compounds\", \"Physical and Chemical Changes\", \"Classes of Fire\", \"Living Things and the Environment\", \"The Cell\", \"Movement of Materials In and Out of the Cell\", \"Reproduction in Human Beings\", \"Force and Energy\", \"Transformation of Energy\", \"Pressure\", \"Mixtures, Elements and Compounds\", \"Structure of the Atom\", \"Metals and Alloys\", \"Water Hardness\", \"Living Things and Their Environment\", \"Pollution\", \"Conservation of the Environment\", \"Force and Energy\", \"Friction\", \"Machines\"]\n"
     ]
    }
   ],
   "source": [
    "names = get_all_strand_names()\n",
    "print(json.dumps(names))"
   ]
  },
  {
   "cell_type": "markdown",
   "id": "786b3dd6",
   "metadata": {},
   "source": [
    "## Generate questions"
   ]
  },
  {
   "cell_type": "markdown",
   "id": "d69e4521",
   "metadata": {},
   "source": [
    "**get_cbc_grouped_questions**\n",
    "- Generates {x} number of questions grouped by sub_strands\n",
    "- Uses **round robin algorithm** to ensure fair distribution of both sub strands and bloom skills in the question plan (each appears a least once before repeating the selection cycle)."
   ]
  },
  {
   "cell_type": "code",
   "execution_count": 3,
   "id": "8b14605a",
   "metadata": {},
   "outputs": [
    {
     "name": "stdout",
     "output_type": "stream",
     "text": [
      "\n",
      "✅ Question breakdown written to /Users/melaniefayne/Desktop/mtihani/mtihani_api/mtihaniapi/gen/output/question_breakdown.json. Total: 9\n"
     ]
    }
   ],
   "source": [
    "grouped_questions = get_cbc_grouped_questions(\n",
    "    strand_ids=[1,2,3,4], \n",
    "    question_count=10,\n",
    "    bloom_skill_count=2,\n",
    "    is_debug=True,\n",
    ")"
   ]
  },
  {
   "cell_type": "markdown",
   "id": "cdcc40ca",
   "metadata": {},
   "source": [
    "**generate_llm_question_list**\n",
    "- Takes a list of grouped cbc question plans (by sub_strand) and generates a list of questions for each specified bloom skill in each sub_strand.\n",
    "- Uses the CREATE_EXAM_PROMPT_TEXT prompt\n",
    "- Generating by sub_strand is for enhanced context."
   ]
  },
  {
   "cell_type": "code",
   "execution_count": 4,
   "id": "99a45f9f",
   "metadata": {},
   "outputs": [
    {
     "name": "stdout",
     "output_type": "stream",
     "text": [
      "\n",
      "Acids, Bases and Indicators =========\n",
      "📝 Input token count (gpt-4o): 715\n",
      "📦 Raw LLM output:\n",
      " content='[{\"question\":\"In a school laboratory, Amina observes that lemon juice turns blue litmus paper red. Evaluate whether lemon juice is an acid or a base and explain your reasoning.\",\"expected_answer\":\"Lemon juice is an acid because it turns blue litmus paper red, which is a characteristic reaction of acids.\"},{\"question\":\"Imagine you are tasked with creating a natural indicator for a science project using local plants. Describe the steps you would take to prepare an acid-base indicator from hibiscus flowers.\",\"expected_answer\":\"To prepare an indicator from hibiscus flowers, crush the flowers to extract the juice, then filter the juice to remove solid particles, and use the filtered liquid as an indicator to test for acids and bases.\"},{\"question\":\"What is the color change observed when red litmus paper is dipped into a basic solution?\",\"expected_answer\":\"The red litmus paper turns blue when dipped into a basic solution.\"},{\"question\":\"Explain why vinegar is commonly used in household cleaning, considering its chemical properties as an acid.\",\"expected_answer\":\"Vinegar is used in cleaning because it is an acid that can dissolve mineral deposits, grease, and grime, making it effective for removing stains and disinfecting surfaces.\"}]' additional_kwargs={'refusal': None} response_metadata={'token_usage': {'completion_tokens': 242, 'prompt_tokens': 722, 'total_tokens': 964, 'completion_tokens_details': {'accepted_prediction_tokens': 0, 'audio_tokens': 0, 'reasoning_tokens': 0, 'rejected_prediction_tokens': 0}, 'prompt_tokens_details': {'audio_tokens': 0, 'cached_tokens': 0}}, 'model_name': 'gpt-4o-2024-08-06', 'system_fingerprint': 'fp_07871e2ad8', 'id': 'chatcmpl-BlEGsmTRrc1MWmfCQpRSWTtRKa8zj', 'service_tier': 'default', 'finish_reason': 'stop', 'logprobs': None} id='run--2be932a1-2e99-4150-a1a1-e0947cccc423-0' usage_metadata={'input_tokens': 722, 'output_tokens': 242, 'total_tokens': 964, 'input_token_details': {'audio': 0, 'cache_read': 0}, 'output_token_details': {'audio': 0, 'reasoning': 0}}\n",
      "📤 Output token count (gpt-4o): 242\n",
      "🔢 Total token usage: 957\n",
      "\n",
      "Electrical Energy =========\n",
      "📝 Input token count (gpt-4o): 716\n",
      "📦 Raw LLM output:\n",
      " content='[{\"question\":\"Amina noticed that her phone was not charging even though it was plugged into the wall socket. She checked the charger and found it was damaged. Explain how she could safely test if the wall socket is working using another electrical appliance.\",\"expected_answer\":\"Amina could safely test the wall socket by plugging in a different, undamaged electrical appliance, such as a lamp, to see if it turns on, ensuring she handles the plug with dry hands and stands on a dry surface.\"},{\"question\":\"During a science class, Mr. Kamau asked his students to observe the flow of electric current in a simple circuit using a battery, wires, and a bulb. Analyze why the bulb might not light up even when the circuit is connected.\",\"expected_answer\":\"The bulb might not light up if the battery is dead, the wires are not properly connected, the bulb is faulty, or there is a break in the circuit preventing the flow of electric current.\"}]' additional_kwargs={'refusal': None} response_metadata={'token_usage': {'completion_tokens': 193, 'prompt_tokens': 723, 'total_tokens': 916, 'completion_tokens_details': {'accepted_prediction_tokens': 0, 'audio_tokens': 0, 'reasoning_tokens': 0, 'rejected_prediction_tokens': 0}, 'prompt_tokens_details': {'audio_tokens': 0, 'cached_tokens': 0}}, 'model_name': 'gpt-4o-2024-08-06', 'system_fingerprint': 'fp_07871e2ad8', 'id': 'chatcmpl-BlEGz5J9CLZ3kg3zfmXC9E7TAchpa', 'service_tier': 'default', 'finish_reason': 'stop', 'logprobs': None} id='run--7a30ae8c-927f-4601-8f22-10c6ab1df509-0' usage_metadata={'input_tokens': 723, 'output_tokens': 193, 'total_tokens': 916, 'input_token_details': {'audio': 0, 'cache_read': 0}, 'output_token_details': {'audio': 0, 'reasoning': 0}}\n",
      "📤 Output token count (gpt-4o): 193\n",
      "🔢 Total token usage: 909\n",
      "\n",
      "Human Excretory System =========\n",
      "📝 Input token count (gpt-4o): 720\n",
      "📦 Raw LLM output:\n",
      " content='[{\"question\":\"What are the main parts of the human urinary system and their functions?\",\"expected_answer\":\"The main parts of the human urinary system are the kidneys, ureters, bladder, and urethra. The kidneys filter waste from the blood, the ureters transport urine from the kidneys to the bladder, the bladder stores urine, and the urethra expels urine from the body.\"},{\"question\":\"Amina noticed that her skin becomes dry and itchy during the dry season. Explain why maintaining proper hydration is important for skin health and how it relates to the excretory system.\",\"expected_answer\":\"Proper hydration is important for skin health because it helps maintain skin moisture and elasticity, preventing dryness and irritation. The excretory system, particularly the kidneys, regulates water balance in the body, ensuring that enough water is available to keep the skin hydrated.\"}]' additional_kwargs={'refusal': None} response_metadata={'token_usage': {'completion_tokens': 174, 'prompt_tokens': 727, 'total_tokens': 901, 'completion_tokens_details': {'accepted_prediction_tokens': 0, 'audio_tokens': 0, 'reasoning_tokens': 0, 'rejected_prediction_tokens': 0}, 'prompt_tokens_details': {'audio_tokens': 0, 'cached_tokens': 0}}, 'model_name': 'gpt-4o-2024-08-06', 'system_fingerprint': 'fp_07871e2ad8', 'id': 'chatcmpl-BlEH297yQ5z6uqbI9pj0L1Rxr6b3Z', 'service_tier': 'default', 'finish_reason': 'stop', 'logprobs': None} id='run--579586cf-3e9b-4708-ae6b-69dcdd2a5c73-0' usage_metadata={'input_tokens': 727, 'output_tokens': 174, 'total_tokens': 901, 'input_token_details': {'audio': 0, 'cache_read': 0}, 'output_token_details': {'audio': 0, 'reasoning': 0}}\n",
      "📤 Output token count (gpt-4o): 174\n",
      "🔢 Total token usage: 894\n",
      "\n",
      "Human Reproductive System =========\n",
      "📝 Input token count (gpt-4o): 723\n",
      "📦 Raw LLM output:\n",
      " content='[{\"question\":\"During a school health club meeting, Amina and her friends discuss the importance of understanding the functions of the male and female reproductive systems. Evaluate why it is essential for adolescents to have this knowledge and how it can impact their health decisions.\",\"expected_answer\":\"Understanding the functions of the reproductive systems helps adolescents make informed health decisions, promotes responsible behavior, and aids in recognizing normal and abnormal changes, thus preventing health issues.\"},{\"question\":\"In a life skills class, Mr. Kamau asks his students to create a plan to manage the challenges they face during adolescence, such as mood swings and peer pressure. Develop a simple plan that includes strategies to handle these challenges effectively.\",\"expected_answer\":\"A plan could include strategies like maintaining open communication with trusted adults, engaging in regular physical activities, practicing relaxation techniques, and setting personal goals to stay focused and positive.\"}]' additional_kwargs={'refusal': None} response_metadata={'token_usage': {'completion_tokens': 173, 'prompt_tokens': 730, 'total_tokens': 903, 'completion_tokens_details': {'accepted_prediction_tokens': 0, 'audio_tokens': 0, 'reasoning_tokens': 0, 'rejected_prediction_tokens': 0}, 'prompt_tokens_details': {'audio_tokens': 0, 'cached_tokens': 0}}, 'model_name': 'gpt-4o-2024-08-06', 'system_fingerprint': 'fp_07871e2ad8', 'id': 'chatcmpl-BlEHA9tJ5DLn681dFAJ9ess1z58f5', 'service_tier': 'default', 'finish_reason': 'stop', 'logprobs': None} id='run--d7958b14-a07c-4a2a-a6d3-607a7a39558c-0' usage_metadata={'input_tokens': 730, 'output_tokens': 173, 'total_tokens': 903, 'input_token_details': {'audio': 0, 'cache_read': 0}, 'output_token_details': {'audio': 0, 'reasoning': 0}}\n",
      "📤 Output token count (gpt-4o): 173\n",
      "🔢 Total token usage: 896\n",
      "\n",
      "Introduction to Integrated Science =========\n",
      "📝 Input token count (gpt-4o): 670\n",
      "📦 Raw LLM output:\n",
      " content='[{\"question\":\"What are the three main components of Integrated Science as a field of study?\",\"expected_answer\":\"The three main components of Integrated Science are biology, chemistry, and physics.\"},{\"question\":\"Amina noticed that her phone\\'s battery lasts longer when she reduces the screen brightness. Explain how this observation relates to the importance of science in daily life.\",\"expected_answer\":\"This observation relates to the importance of science in daily life as it demonstrates how understanding energy consumption and conservation can help in making devices more efficient and prolong their usage.\"}]' additional_kwargs={'refusal': None} response_metadata={'token_usage': {'completion_tokens': 108, 'prompt_tokens': 677, 'total_tokens': 785, 'completion_tokens_details': {'accepted_prediction_tokens': 0, 'audio_tokens': 0, 'reasoning_tokens': 0, 'rejected_prediction_tokens': 0}, 'prompt_tokens_details': {'audio_tokens': 0, 'cached_tokens': 0}}, 'model_name': 'gpt-4o-2024-08-06', 'system_fingerprint': 'fp_07871e2ad8', 'id': 'chatcmpl-BlEHElIrLEOZRtlmDLszzvKZRWDUl', 'service_tier': 'default', 'finish_reason': 'stop', 'logprobs': None} id='run--c9d5c8fa-dec0-40fe-a547-94e9e1a9774e-0' usage_metadata={'input_tokens': 677, 'output_tokens': 108, 'total_tokens': 785, 'input_token_details': {'audio': 0, 'cache_read': 0}, 'output_token_details': {'audio': 0, 'reasoning': 0}}\n",
      "📤 Output token count (gpt-4o): 108\n",
      "🔢 Total token usage: 778\n",
      "\n",
      "Laboratory Apparatus and Instruments =========\n",
      "📝 Input token count (gpt-4o): 692\n",
      "📦 Raw LLM output:\n",
      " content='[{\"question\":\"During a science class, Amina noticed that the thermometer in the lab was not giving accurate readings. What steps should she take to evaluate the condition of the thermometer and ensure it is functioning properly?\",\"expected_answer\":\"Amina should first check if the thermometer is calibrated correctly, inspect it for any physical damage, ensure it is clean, and compare its readings with a known accurate thermometer.\"},{\"question\":\"Imagine you are tasked with designing a simple experiment to measure the boiling point of water using available laboratory apparatus. Describe the steps you would create to ensure accurate and safe measurements.\",\"expected_answer\":\"Set up a beaker with water on a tripod stand over a Bunsen burner, use a thermometer to measure the temperature, ensure the thermometer bulb is fully immersed but not touching the beaker, and record the temperature when the water starts boiling, ensuring all safety precautions are followed.\"}]' additional_kwargs={'refusal': None} response_metadata={'token_usage': {'completion_tokens': 179, 'prompt_tokens': 699, 'total_tokens': 878, 'completion_tokens_details': {'accepted_prediction_tokens': 0, 'audio_tokens': 0, 'reasoning_tokens': 0, 'rejected_prediction_tokens': 0}, 'prompt_tokens_details': {'audio_tokens': 0, 'cached_tokens': 0}}, 'model_name': 'gpt-4o-2024-08-06', 'system_fingerprint': 'fp_07871e2ad8', 'id': 'chatcmpl-BlEHIylaCMd0k0sfh9cg1TaHNNCiY', 'service_tier': 'default', 'finish_reason': 'stop', 'logprobs': None} id='run--c80531b3-252e-4e4d-b016-9977e401b9bc-0' usage_metadata={'input_tokens': 699, 'output_tokens': 179, 'total_tokens': 878, 'input_token_details': {'audio': 0, 'cache_read': 0}, 'output_token_details': {'audio': 0, 'reasoning': 0}}\n",
      "📤 Output token count (gpt-4o): 179\n",
      "🔢 Total token usage: 871\n",
      "\n",
      "Laboratory Safety =========\n",
      "📝 Input token count (gpt-4o): 698\n",
      "📦 Raw LLM output:\n",
      " content='[{\"question\":\"During a science experiment at school, Amina accidentally spills a chemical on her hand. What immediate First Aid measure should she take to ensure her safety?\",\"expected_answer\":\"Amina should immediately rinse her hand under running water for at least 15 minutes to remove the chemical and prevent further injury.\"},{\"question\":\"In the school laboratory, John notices a bottle with a symbol of a flame and a line underneath it. Analyze what this symbol indicates and explain why it is important for John to handle this substance with care.\",\"expected_answer\":\"The symbol indicates that the substance is flammable. It is important for John to handle it with care to prevent accidental ignition, which could lead to a fire or explosion in the laboratory.\"}]' additional_kwargs={'refusal': None} response_metadata={'token_usage': {'completion_tokens': 148, 'prompt_tokens': 705, 'total_tokens': 853, 'completion_tokens_details': {'accepted_prediction_tokens': 0, 'audio_tokens': 0, 'reasoning_tokens': 0, 'rejected_prediction_tokens': 0}, 'prompt_tokens_details': {'audio_tokens': 0, 'cached_tokens': 0}}, 'model_name': 'gpt-4o-2024-08-06', 'system_fingerprint': 'fp_07871e2ad8', 'id': 'chatcmpl-BlEHNBIZ3bBAB7AEFK0ZqtWUfQixx', 'service_tier': 'default', 'finish_reason': 'stop', 'logprobs': None} id='run--24d6b032-905e-4833-a623-e2ee8730525a-0' usage_metadata={'input_tokens': 705, 'output_tokens': 148, 'total_tokens': 853, 'input_token_details': {'audio': 0, 'cache_read': 0}, 'output_token_details': {'audio': 0, 'reasoning': 0}}\n",
      "📤 Output token count (gpt-4o): 148\n",
      "🔢 Total token usage: 846\n",
      "\n",
      "Magnetism =========\n",
      "📝 Input token count (gpt-4o): 692\n",
      "📦 Raw LLM output:\n",
      " content='[{\"question\":\"What are two properties of a magnet that you can observe when you bring it close to iron nails?\",\"expected_answer\":\"A magnet attracts iron nails and can also repel or attract another magnet depending on the poles.\"},{\"question\":\"In a classroom experiment, Amina noticed that a magnet could pick up some metal objects but not others. Explain why some metals are attracted to magnets while others are not.\",\"expected_answer\":\"Some metals, like iron, cobalt, and nickel, are magnetic and are attracted to magnets, while others, like copper and aluminum, are non-magnetic and are not attracted to magnets.\"}]' additional_kwargs={'refusal': None} response_metadata={'token_usage': {'completion_tokens': 125, 'prompt_tokens': 699, 'total_tokens': 824, 'completion_tokens_details': {'accepted_prediction_tokens': 0, 'audio_tokens': 0, 'reasoning_tokens': 0, 'rejected_prediction_tokens': 0}, 'prompt_tokens_details': {'audio_tokens': 0, 'cached_tokens': 0}}, 'model_name': 'gpt-4o-2024-08-06', 'system_fingerprint': 'fp_07871e2ad8', 'id': 'chatcmpl-BlEHQtBbC9uFlcQNWx5hUoKKjZcbo', 'service_tier': 'default', 'finish_reason': 'stop', 'logprobs': None} id='run--501a5aa5-b496-4ead-b603-9b1ef1969da3-0' usage_metadata={'input_tokens': 699, 'output_tokens': 125, 'total_tokens': 824, 'input_token_details': {'audio': 0, 'cache_read': 0}, 'output_token_details': {'audio': 0, 'reasoning': 0}}\n",
      "📤 Output token count (gpt-4o): 125\n",
      "🔢 Total token usage: 817\n",
      "\n",
      "Mixtures =========\n",
      "📝 Input token count (gpt-4o): 675\n",
      "📦 Raw LLM output:\n",
      " content='[{\"question\":\"In a school science experiment, Amina mixed salt with water to create a solution. Describe the method she should use to separate the salt from the water and explain why this method is appropriate.\",\"expected_answer\":\"Amina should use evaporation to separate the salt from the water. This method is appropriate because when the water is heated, it evaporates, leaving the salt behind as a solid.\"},{\"question\":\"At home, James accidentally mixed sugar with fine sand while preparing to bake. Analyze the situation and suggest a method to separate the sugar from the sand, explaining your reasoning.\",\"expected_answer\":\"James should use the method of dissolving and filtration. He can dissolve the sugar in water, then filter the mixture to separate the sand. The sugar will dissolve in the water, allowing the sand to be filtered out as a residue.\"}]' additional_kwargs={'refusal': None} response_metadata={'token_usage': {'completion_tokens': 169, 'prompt_tokens': 682, 'total_tokens': 851, 'completion_tokens_details': {'accepted_prediction_tokens': 0, 'audio_tokens': 0, 'reasoning_tokens': 0, 'rejected_prediction_tokens': 0}, 'prompt_tokens_details': {'audio_tokens': 0, 'cached_tokens': 0}}, 'model_name': 'gpt-4o-2024-08-06', 'system_fingerprint': 'fp_07871e2ad8', 'id': 'chatcmpl-BlEHWzNIIQHUCm1atOl299F6kZx9H', 'service_tier': 'default', 'finish_reason': 'stop', 'logprobs': None} id='run--e917c1b7-2ac5-49e9-8f41-851664c7d67c-0' usage_metadata={'input_tokens': 682, 'output_tokens': 169, 'total_tokens': 851, 'input_token_details': {'audio': 0, 'cache_read': 0}, 'output_token_details': {'audio': 0, 'reasoning': 0}}\n",
      "📤 Output token count (gpt-4o): 169\n",
      "🔢 Total token usage: 844\n",
      "\n",
      "✅ Question list written to /Users/melaniefayne/Desktop/mtihani/mtihani_api/mtihaniapi/gen/output/question_list.json. Total: 20\n"
     ]
    }
   ],
   "source": [
    "all_question_list = generate_llm_question_list(\n",
    "    grouped_question_data=grouped_questions,\n",
    "    is_debug=True,\n",
    ")\n",
    "\n",
    "# If there was a generation error\n",
    "if not isinstance(all_question_list, list):\n",
    "    print(all_question_list)"
   ]
  },
  {
   "cell_type": "code",
   "execution_count": 5,
   "id": "54212919",
   "metadata": {},
   "outputs": [
    {
     "name": "stdout",
     "output_type": "stream",
     "text": [
      "\n",
      "✅ Question list to /Users/melaniefayne/Desktop/mtihani/mtihani_api/mtihaniapi/gen/output/question_list.json. Total: 10\n"
     ]
    }
   ],
   "source": [
    "exam_questions = get_db_question_objects(\n",
    "    all_question_list=all_question_list,\n",
    "    is_debug=True,\n",
    ")"
   ]
  },
  {
   "cell_type": "markdown",
   "id": "57fd1ee3",
   "metadata": {},
   "source": [
    "## Simulate student answers"
   ]
  },
  {
   "cell_type": "code",
   "execution_count": 6,
   "id": "6f955561",
   "metadata": {},
   "outputs": [
    {
     "name": "stdout",
     "output_type": "stream",
     "text": [
      "[{'id': 1, 'question': 'What are the three main components of Integrated Science as a field of study?', 'expected_answer': 'The three main components of Integrated Science are biology, chemistry, and physics.'}, {'id': 2, 'question': 'In a school science experiment, Amina mixed salt with water to create a solution. Describe the method she should use to separate the salt from the water and explain why this method is appropriate.', 'expected_answer': 'Amina should use evaporation to separate the salt from the water. This method is appropriate because when the water is heated, it evaporates, leaving the salt behind as a solid.'}, {'id': 3, 'question': 'During a school health club meeting, Amina and her friends discuss the importance of understanding the functions of the male and female reproductive systems. Evaluate why it is essential for adolescents to have this knowledge and how it can impact their health decisions.', 'expected_answer': 'Understanding the functions of the reproductive systems helps adolescents make informed health decisions, promotes responsible behavior, and aids in recognizing normal and abnormal changes, thus preventing health issues.'}, {'id': 4, 'question': 'What are two properties of a magnet that you can observe when you bring it close to iron nails?', 'expected_answer': 'A magnet attracts iron nails and can also repel or attract another magnet depending on the poles.'}, {'id': 5, 'question': 'During a science experiment at school, Amina accidentally spills a chemical on her hand. What immediate First Aid measure should she take to ensure her safety?', 'expected_answer': 'Amina should immediately rinse her hand under running water for at least 15 minutes to remove the chemical and prevent further injury.'}, {'id': 6, 'question': 'In a school laboratory, Amina observes that lemon juice turns blue litmus paper red. Evaluate whether lemon juice is an acid or a base and explain your reasoning.', 'expected_answer': 'Lemon juice is an acid because it turns blue litmus paper red, which is a characteristic reaction of acids.'}, {'id': 7, 'question': 'What are the main parts of the human urinary system and their functions?', 'expected_answer': 'The main parts of the human urinary system are the kidneys, ureters, bladder, and urethra. The kidneys filter waste from the blood, the ureters transport urine from the kidneys to the bladder, the bladder stores urine, and the urethra expels urine from the body.'}, {'id': 8, 'question': 'Amina noticed that her phone was not charging even though it was plugged into the wall socket. She checked the charger and found it was damaged. Explain how she could safely test if the wall socket is working using another electrical appliance.', 'expected_answer': 'Amina could safely test the wall socket by plugging in a different, undamaged electrical appliance, such as a lamp, to see if it turns on, ensuring she handles the plug with dry hands and stands on a dry surface.'}, {'id': 9, 'question': 'During a science class, Amina noticed that the thermometer in the lab was not giving accurate readings. What steps should she take to evaluate the condition of the thermometer and ensure it is functioning properly?', 'expected_answer': 'Amina should first check if the thermometer is calibrated correctly, inspect it for any physical damage, ensure it is clean, and compare its readings with a known accurate thermometer.'}, {'id': 10, 'question': 'What is the color change observed when red litmus paper is dipped into a basic solution?', 'expected_answer': 'The red litmus paper turns blue when dipped into a basic solution.'}]\n"
     ]
    }
   ],
   "source": [
    "def convert_to_single_qa_list(data):\n",
    "    result = []\n",
    "    for index, item in enumerate(data):\n",
    "        questions = item[\"questions\"]\n",
    "        expected_answers = item[\"expected_answers\"]\n",
    "\n",
    "        if isinstance(questions, str):\n",
    "            questions = [questions]\n",
    "        if isinstance(expected_answers, str):\n",
    "            expected_answers = [expected_answers]\n",
    "\n",
    "        if questions and expected_answers:\n",
    "            result.append({\n",
    "                \"id\": index + 1,\n",
    "                \"question\": questions[0],\n",
    "                \"expected_answer\": expected_answers[0]\n",
    "            })\n",
    "\n",
    "    return result\n",
    "\n",
    "exam_output = convert_to_single_qa_list(exam_questions)\n",
    "print(exam_output)"
   ]
  },
  {
   "cell_type": "code",
   "execution_count": 7,
   "id": "6bfc4208",
   "metadata": {},
   "outputs": [],
   "source": [
    "sample_students = [{'id': 1, 'avg_score': 12}, {'id': 2, 'avg_score': 95}, {\n",
    "    'id': 3, 'avg_score': 54}, {'id': 4, 'avg_score': 71},]"
   ]
  },
  {
   "cell_type": "markdown",
   "id": "a614b016",
   "metadata": {},
   "source": [
    "**generate_llm_exam_answers_list**\n",
    "- Takes a list of questions and students and generates sample answers for each as per the student's average score\n",
    "- Uses the MOCK_EXAM_ANSWERS_PROMPT_TEXT prompt"
   ]
  },
  {
   "cell_type": "code",
   "execution_count": 8,
   "id": "42fdf3da",
   "metadata": {},
   "outputs": [
    {
     "name": "stdout",
     "output_type": "stream",
     "text": [
      "📝 Input token count (gpt-4o): 1483\n",
      "📦 Raw LLM output:\n",
      " content='```json\\n[\\n  {\\n    \"id\": 1,\\n    \"answers\": [\\n      {\\n        \"question_id\": \"1\",\\n        \"answer\": \"Science is about things like biology, chemistry, and physics, but I am not sure.\"\\n      },\\n      {\\n        \"question_id\": \"2\",\\n        \"answer\": \"Amina can maybe use heat to get salt back, but I don\\'t know why.\"\\n      },\\n      {\\n        \"question_id\": \"3\",\\n        \"answer\": \"Knowing about body is good for health, but I don\\'t know much.\"\\n      },\\n      {\\n        \"question_id\": \"4\",\\n        \"answer\": \"Magnet can stick to nails.\"\\n      },\\n      {\\n        \"question_id\": \"5\",\\n        \"answer\": \"Wash hand with water.\"\\n      },\\n      {\\n        \"question_id\": \"6\",\\n        \"answer\": \"Lemon juice is acid because it changes color.\"\\n      },\\n      {\\n        \"question_id\": \"7\",\\n        \"answer\": \"Kidneys and bladder are parts, but I don\\'t know functions.\"\\n      },\\n      {\\n        \"question_id\": \"8\",\\n        \"answer\": \"Try another thing in socket.\"\\n      },\\n      {\\n        \"question_id\": \"9\",\\n        \"answer\": \"Check if thermometer is broken.\"\\n      },\\n      {\\n        \"question_id\": \"10\",\\n        \"answer\": \"Red paper turns blue in base.\"\\n      }\\n    ]\\n  },\\n  {\\n    \"id\": 2,\\n    \"answers\": [\\n      {\\n        \"question_id\": \"1\",\\n        \"answer\": \"The three main components of Integrated Science are biology, chemistry, and physics. These fields together provide a comprehensive understanding of natural phenomena.\"\\n      },\\n      {\\n        \"question_id\": \"2\",\\n        \"answer\": \"Amina should use the evaporation method to separate the salt from the water. By heating the solution, the water will evaporate, leaving the salt behind. This method is effective because it exploits the different boiling points of water and salt.\"\\n      },\\n      {\\n        \"question_id\": \"3\",\\n        \"answer\": \"It is crucial for adolescents to understand the functions of the reproductive systems as it empowers them to make informed health decisions, encourages responsible behavior, and helps them recognize normal and abnormal changes, thus preventing potential health issues.\"\\n      },\\n      {\\n        \"question_id\": \"4\",\\n        \"answer\": \"When a magnet is brought close to iron nails, it exhibits the property of attraction. Additionally, if another magnet is nearby, it can either attract or repel depending on the orientation of the poles.\"\\n      },\\n      {\\n        \"question_id\": \"5\",\\n        \"answer\": \"Amina should immediately rinse her hand under running water for at least 15 minutes to remove the chemical and prevent further injury. This is a standard first aid procedure for chemical spills on the skin.\"\\n      },\\n      {\\n        \"question_id\": \"6\",\\n        \"answer\": \"Lemon juice is an acid because it turns blue litmus paper red. This color change is a characteristic reaction of acids, indicating the presence of hydrogen ions.\"\\n      },\\n      {\\n        \"question_id\": \"7\",\\n        \"answer\": \"The main parts of the human urinary system include the kidneys, which filter waste from the blood; the ureters, which transport urine to the bladder; the bladder, which stores urine; and the urethra, which expels urine from the body.\"\\n      },\\n      {\\n        \"question_id\": \"8\",\\n        \"answer\": \"To safely test if the wall socket is working, Amina could plug in another electrical appliance, such as a lamp, ensuring she handles the plug with dry hands and stands on a dry surface to avoid electric shock.\"\\n      },\\n      {\\n        \"question_id\": \"9\",\\n        \"answer\": \"Amina should first check if the thermometer is calibrated correctly by comparing its readings with a known accurate thermometer. She should also inspect it for any physical damage and ensure it is clean.\"\\n      },\\n      {\\n        \"question_id\": \"10\",\\n        \"answer\": \"When red litmus paper is dipped into a basic solution, it turns blue. This color change indicates the presence of hydroxide ions, which are characteristic of bases.\"\\n      }\\n    ]\\n  },\\n  {\\n    \"id\": 3,\\n    \"answers\": [\\n      {\\n        \"question_id\": \"1\",\\n        \"answer\": \"Integrated Science includes biology, chemistry, and physics. These are the main parts.\"\\n      },\\n      {\\n        \"question_id\": \"2\",\\n        \"answer\": \"Amina should use evaporation to separate salt from water. Heating the solution makes water evaporate, leaving salt behind.\"\\n      },\\n      {\\n        \"question_id\": \"3\",\\n        \"answer\": \"Knowing about reproductive systems helps adolescents make better health decisions and understand changes in their bodies.\"\\n      },\\n      {\\n        \"question_id\": \"4\",\\n        \"answer\": \"A magnet attracts iron nails and can also attract or repel another magnet.\"\\n      },\\n      {\\n        \"question_id\": \"5\",\\n        \"answer\": \"Amina should wash her hand with water immediately to remove the chemical.\"\\n      },\\n      {\\n        \"question_id\": \"6\",\\n        \"answer\": \"Lemon juice is an acid because it turns blue litmus paper red.\"\\n      },\\n      {\\n        \"question_id\": \"7\",\\n        \"answer\": \"The urinary system has kidneys, ureters, bladder, and urethra. Kidneys filter blood, ureters carry urine, bladder stores it, and urethra expels it.\"\\n      },\\n      {\\n        \"question_id\": \"8\",\\n        \"answer\": \"Amina can test the socket by plugging in another appliance like a lamp to see if it works.\"\\n      },\\n      {\\n        \"question_id\": \"9\",\\n        \"answer\": \"Amina should check if the thermometer is calibrated and compare it with another thermometer.\"\\n      },\\n      {\\n        \"question_id\": \"10\",\\n        \"answer\": \"Red litmus paper turns blue in a basic solution.\"\\n      }\\n    ]\\n  },\\n  {\\n    \"id\": 4,\\n    \"answers\": [\\n      {\\n        \"question_id\": \"1\",\\n        \"answer\": \"The main components of Integrated Science are biology, chemistry, and physics. These areas help us understand the natural world.\"\\n      },\\n      {\\n        \"question_id\": \"2\",\\n        \"answer\": \"Amina should use evaporation to separate the salt from the water. By heating the solution, the water will evaporate, leaving the salt behind.\"\\n      },\\n      {\\n        \"question_id\": \"3\",\\n        \"answer\": \"Understanding the reproductive systems is important for adolescents as it helps them make informed health decisions and understand changes in their bodies.\"\\n      },\\n      {\\n        \"question_id\": \"4\",\\n        \"answer\": \"A magnet attracts iron nails and can also repel or attract another magnet depending on the poles.\"\\n      },\\n      {\\n        \"question_id\": \"5\",\\n        \"answer\": \"Amina should rinse her hand under running water for at least 15 minutes to remove the chemical.\"\\n      },\\n      {\\n        \"question_id\": \"6\",\\n        \"answer\": \"Lemon juice is an acid because it turns blue litmus paper red.\"\\n      },\\n      {\\n        \"question_id\": \"7\",\\n        \"answer\": \"The urinary system includes the kidneys, ureters, bladder, and urethra. The kidneys filter waste, ureters transport urine, the bladder stores it, and the urethra expels it.\"\\n      },\\n      {\\n        \"question_id\": \"8\",\\n        \"answer\": \"Amina can test the wall socket by plugging in another appliance, like a lamp, to see if it works.\"\\n      },\\n      {\\n        \"question_id\": \"9\",\\n        \"answer\": \"Amina should check if the thermometer is calibrated correctly and compare its readings with another accurate thermometer.\"\\n      },\\n      {\\n        \"question_id\": \"10\",\\n        \"answer\": \"Red litmus paper turns blue when dipped into a basic solution.\"\\n      }\\n    ]\\n  }\\n]\\n```' additional_kwargs={'refusal': None} response_metadata={'token_usage': {'completion_tokens': 1657, 'prompt_tokens': 1406, 'total_tokens': 3063, 'completion_tokens_details': {'accepted_prediction_tokens': 0, 'audio_tokens': 0, 'reasoning_tokens': 0, 'rejected_prediction_tokens': 0}, 'prompt_tokens_details': {'audio_tokens': 0, 'cached_tokens': 0}}, 'model_name': 'gpt-4o-2024-08-06', 'system_fingerprint': 'fp_a288987b44', 'id': 'chatcmpl-BlESOZrPularYi6cRPKGeaWwBpZpm', 'service_tier': 'default', 'finish_reason': 'stop', 'logprobs': None} id='run--5aca7adf-dd87-4d08-9999-1c413fb7174f-0' usage_metadata={'input_tokens': 1406, 'output_tokens': 1657, 'total_tokens': 3063, 'input_token_details': {'audio': 0, 'cache_read': 0}, 'output_token_details': {'audio': 0, 'reasoning': 0}}\n",
      "📤 Output token count (gpt-4o): 1653\n",
      "🔢 Total token usage: 3136\n",
      "\n",
      "✅ Mocked Answers list written to /Users/melaniefayne/Desktop/mtihani/mtihani_api/mtihaniapi/gen/output/answers_list.json\n"
     ]
    }
   ],
   "source": [
    "parsed_answers = generate_llm_exam_answers_list(\n",
    "    llm=OPENAI_LLM_4O,\n",
    "    exam_data=exam_output,\n",
    "    student_data=sample_students,\n",
    "    is_debug=True,\n",
    ")"
   ]
  },
  {
   "cell_type": "markdown",
   "id": "fafd46fe",
   "metadata": {},
   "source": [
    "## Grade answers"
   ]
  },
  {
   "cell_type": "code",
   "execution_count": 9,
   "id": "509a6026",
   "metadata": {},
   "outputs": [],
   "source": [
    "def get_answers_for_question(target_question_id, start_count):\n",
    "    result = []\n",
    "    count = start_count\n",
    "    for entry in parsed_answers:\n",
    "        for answer in entry[\"answers\"]:\n",
    "            if answer[\"question_id\"] == str(target_question_id):\n",
    "                result.append({\n",
    "                    \"answer_id\": count,\n",
    "                    \"answer\": answer[\"answer\"],\n",
    "                })\n",
    "                count += 1\n",
    "    return result, count\n",
    "\n",
    "\n",
    "grouped_answers_data = []\n",
    "count = 1\n",
    "\n",
    "for idx, q in enumerate(exam_questions):\n",
    "    item = {\n",
    "        \"question\": q[\"description\"],\n",
    "        \"expected_answer\": q[\"expected_answer\"],\n",
    "        \"rubrics\": get_rubrics_by_sub_strand(\n",
    "            sub_strand_name=q[\"sub_strand\"],\n",
    "        )\n",
    "    }\n",
    "    student_answers, count = get_answers_for_question(idx + 1, count)\n",
    "    item[\"student_answers\"] = student_answers\n",
    "\n",
    "    grouped_answers_data.append(item)"
   ]
  },
  {
   "cell_type": "code",
   "execution_count": 10,
   "id": "c78940ca",
   "metadata": {},
   "outputs": [
    {
     "name": "stdout",
     "output_type": "stream",
     "text": [
      "✅ Mocked Answers list written to output/answers_list.json\n"
     ]
    }
   ],
   "source": [
    "ANSWERS_LIST_OUTPUT_FILE = \"output/answers_list.json\"\n",
    "with open(ANSWERS_LIST_OUTPUT_FILE, 'w', encoding='utf-8') as f:\n",
    "    json.dump(grouped_answers_data, f, ensure_ascii=False, indent=4)\n",
    "print(f\"✅ Mocked Answers list written to {ANSWERS_LIST_OUTPUT_FILE}\")"
   ]
  },
  {
   "cell_type": "markdown",
   "id": "c743b338",
   "metadata": {},
   "source": [
    "**generate_llm_answer_grades_list**\n",
    "- Takes a list of questions with assessment context from the cbc data file\n",
    "- Each question has the the list of student answers to be graded\n",
    "- Uses the GRADE_ANSWERS_PROMPT_TEXT prompt\n",
    "- It grades per question for defined context"
   ]
  },
  {
   "cell_type": "code",
   "execution_count": 11,
   "id": "c44699d4",
   "metadata": {},
   "outputs": [
    {
     "name": "stdout",
     "output_type": "stream",
     "text": [
      "\n",
      "What are the three main components of Integrated Science as a field of study? =========\n",
      "📝 Input token count (gpt-4o): 484\n",
      "📦 Raw LLM output:\n",
      " content='```json\\n[\\n    {\"answer_id\": 1, \"score\": 1},\\n    {\"answer_id\": 2, \"score\": 4},\\n    {\"answer_id\": 3, \"score\": 3},\\n    {\"answer_id\": 4, \"score\": 3}\\n]\\n```' additional_kwargs={'refusal': None} response_metadata={'token_usage': {'completion_tokens': 62, 'prompt_tokens': 491, 'total_tokens': 553, 'completion_tokens_details': {'accepted_prediction_tokens': 0, 'audio_tokens': 0, 'reasoning_tokens': 0, 'rejected_prediction_tokens': 0}, 'prompt_tokens_details': {'audio_tokens': 0, 'cached_tokens': 0}}, 'model_name': 'gpt-4o-2024-08-06', 'system_fingerprint': 'fp_a288987b44', 'id': 'chatcmpl-BlEZAfAGnkvFZLebt08bjN2BgFrLE', 'service_tier': 'default', 'finish_reason': 'stop', 'logprobs': None} id='run--973ec780-6f4c-4a57-9bc3-03933c2c88af-0' usage_metadata={'input_tokens': 491, 'output_tokens': 62, 'total_tokens': 553, 'input_token_details': {'audio': 0, 'cache_read': 0}, 'output_token_details': {'audio': 0, 'reasoning': 0}}\n",
      "📤 Output token count (gpt-4o): 58\n",
      "🔢 Total token usage: 542\n",
      "\n",
      "In a school science experiment, Amina mixed salt with water to create a solution. Describe the method she should use to separate the salt from the water and explain why this method is appropriate. =========\n",
      "📝 Input token count (gpt-4o): 557\n",
      "📦 Raw LLM output:\n",
      " content='```json\\n[\\n    {\"answer_id\": 5, \"score\": 1},\\n    {\"answer_id\": 6, \"score\": 4},\\n    {\"answer_id\": 7, \"score\": 3},\\n    {\"answer_id\": 8, \"score\": 3}\\n]\\n```' additional_kwargs={'refusal': None} response_metadata={'token_usage': {'completion_tokens': 62, 'prompt_tokens': 564, 'total_tokens': 626, 'completion_tokens_details': {'accepted_prediction_tokens': 0, 'audio_tokens': 0, 'reasoning_tokens': 0, 'rejected_prediction_tokens': 0}, 'prompt_tokens_details': {'audio_tokens': 0, 'cached_tokens': 0}}, 'model_name': 'gpt-4o-2024-08-06', 'system_fingerprint': 'fp_a288987b44', 'id': 'chatcmpl-BlEZCcnlQKf9nhSg01swNNqt8o6Au', 'service_tier': 'default', 'finish_reason': 'stop', 'logprobs': None} id='run--406dd96f-c36e-4642-b508-95e1c97195f7-0' usage_metadata={'input_tokens': 564, 'output_tokens': 62, 'total_tokens': 626, 'input_token_details': {'audio': 0, 'cache_read': 0}, 'output_token_details': {'audio': 0, 'reasoning': 0}}\n",
      "📤 Output token count (gpt-4o): 58\n",
      "🔢 Total token usage: 615\n",
      "\n",
      "During a school health club meeting, Amina and her friends discuss the importance of understanding the functions of the male and female reproductive systems. Evaluate why it is essential for adolescents to have this knowledge and how it can impact their health decisions. =========\n",
      "📝 Input token count (gpt-4o): 677\n",
      "📦 Raw LLM output:\n",
      " content='```json\\n[\\n    {\"answer_id\": 9, \"score\": 1},\\n    {\"answer_id\": 10, \"score\": 4},\\n    {\"answer_id\": 11, \"score\": 3},\\n    {\"answer_id\": 12, \"score\": 3}\\n]\\n```' additional_kwargs={'refusal': None} response_metadata={'token_usage': {'completion_tokens': 62, 'prompt_tokens': 684, 'total_tokens': 746, 'completion_tokens_details': {'accepted_prediction_tokens': 0, 'audio_tokens': 0, 'reasoning_tokens': 0, 'rejected_prediction_tokens': 0}, 'prompt_tokens_details': {'audio_tokens': 0, 'cached_tokens': 0}}, 'model_name': 'gpt-4o-2024-08-06', 'system_fingerprint': 'fp_07871e2ad8', 'id': 'chatcmpl-BlEZEDSVUwbAd6NvqOqYnqkrJqI3K', 'service_tier': 'default', 'finish_reason': 'stop', 'logprobs': None} id='run--8c8633a3-057b-40e7-a1df-2fa0fa20a658-0' usage_metadata={'input_tokens': 684, 'output_tokens': 62, 'total_tokens': 746, 'input_token_details': {'audio': 0, 'cache_read': 0}, 'output_token_details': {'audio': 0, 'reasoning': 0}}\n",
      "📤 Output token count (gpt-4o): 58\n",
      "🔢 Total token usage: 735\n",
      "\n",
      "What are two properties of a magnet that you can observe when you bring it close to iron nails? =========\n",
      "📝 Input token count (gpt-4o): 609\n",
      "📦 Raw LLM output:\n",
      " content='```json\\n[{\"answer_id\": 13, \"score\": 1}, {\"answer_id\": 14, \"score\": 4}, {\"answer_id\": 15, \"score\": 3}, {\"answer_id\": 16, \"score\": 3}]\\n```' additional_kwargs={'refusal': None} response_metadata={'token_usage': {'completion_tokens': 57, 'prompt_tokens': 616, 'total_tokens': 673, 'completion_tokens_details': {'accepted_prediction_tokens': 0, 'audio_tokens': 0, 'reasoning_tokens': 0, 'rejected_prediction_tokens': 0}, 'prompt_tokens_details': {'audio_tokens': 0, 'cached_tokens': 0}}, 'model_name': 'gpt-4o-2024-08-06', 'system_fingerprint': 'fp_07871e2ad8', 'id': 'chatcmpl-BlEZGeUBSJyl28B2Y5Dhw1u4UFYsu', 'service_tier': 'default', 'finish_reason': 'stop', 'logprobs': None} id='run--1ba9e4c1-682e-49a3-a346-da808046e4be-0' usage_metadata={'input_tokens': 616, 'output_tokens': 57, 'total_tokens': 673, 'input_token_details': {'audio': 0, 'cache_read': 0}, 'output_token_details': {'audio': 0, 'reasoning': 0}}\n",
      "📤 Output token count (gpt-4o): 53\n",
      "🔢 Total token usage: 662\n",
      "\n",
      "During a science experiment at school, Amina accidentally spills a chemical on her hand. What immediate First Aid measure should she take to ensure her safety? =========\n",
      "📝 Input token count (gpt-4o): 625\n",
      "📦 Raw LLM output:\n",
      " content='```json\\n[{\"answer_id\": 17, \"score\": 2}, {\"answer_id\": 18, \"score\": 4}, {\"answer_id\": 19, \"score\": 3}, {\"answer_id\": 20, \"score\": 3}]\\n```' additional_kwargs={'refusal': None} response_metadata={'token_usage': {'completion_tokens': 57, 'prompt_tokens': 632, 'total_tokens': 689, 'completion_tokens_details': {'accepted_prediction_tokens': 0, 'audio_tokens': 0, 'reasoning_tokens': 0, 'rejected_prediction_tokens': 0}, 'prompt_tokens_details': {'audio_tokens': 0, 'cached_tokens': 0}}, 'model_name': 'gpt-4o-2024-08-06', 'system_fingerprint': 'fp_07871e2ad8', 'id': 'chatcmpl-BlEZImQen1ONpESF4xBDLSTRT1sfd', 'service_tier': 'default', 'finish_reason': 'stop', 'logprobs': None} id='run--d11cd0fc-e8d1-4962-9393-d7f22961eaf9-0' usage_metadata={'input_tokens': 632, 'output_tokens': 57, 'total_tokens': 689, 'input_token_details': {'audio': 0, 'cache_read': 0}, 'output_token_details': {'audio': 0, 'reasoning': 0}}\n",
      "📤 Output token count (gpt-4o): 53\n",
      "🔢 Total token usage: 678\n",
      "\n",
      "In a school laboratory, Amina observes that lemon juice turns blue litmus paper red. Evaluate whether lemon juice is an acid or a base and explain your reasoning. =========\n",
      "📝 Input token count (gpt-4o): 617\n",
      "📦 Raw LLM output:\n",
      " content='```json\\n[\\n    {\"answer_id\": 21, \"score\": 1},\\n    {\"answer_id\": 22, \"score\": 4},\\n    {\"answer_id\": 23, \"score\": 3},\\n    {\"answer_id\": 24, \"score\": 3}\\n]\\n```' additional_kwargs={'refusal': None} response_metadata={'token_usage': {'completion_tokens': 62, 'prompt_tokens': 624, 'total_tokens': 686, 'completion_tokens_details': {'accepted_prediction_tokens': 0, 'audio_tokens': 0, 'reasoning_tokens': 0, 'rejected_prediction_tokens': 0}, 'prompt_tokens_details': {'audio_tokens': 0, 'cached_tokens': 0}}, 'model_name': 'gpt-4o-2024-08-06', 'system_fingerprint': 'fp_07871e2ad8', 'id': 'chatcmpl-BlEZLQRLAn81xsI1woKzREaiIWs4h', 'service_tier': 'default', 'finish_reason': 'stop', 'logprobs': None} id='run--45d8ff15-30a6-44b0-b665-db38708d7aa3-0' usage_metadata={'input_tokens': 624, 'output_tokens': 62, 'total_tokens': 686, 'input_token_details': {'audio': 0, 'cache_read': 0}, 'output_token_details': {'audio': 0, 'reasoning': 0}}\n",
      "📤 Output token count (gpt-4o): 58\n",
      "🔢 Total token usage: 675\n",
      "\n",
      "What are the main parts of the human urinary system and their functions? =========\n",
      "📝 Input token count (gpt-4o): 745\n",
      "📦 Raw LLM output:\n",
      " content='```json\\n[{\"answer_id\": 25, \"score\": 1}, {\"answer_id\": 26, \"score\": 4}, {\"answer_id\": 27, \"score\": 3}, {\"answer_id\": 28, \"score\": 3}]\\n```' additional_kwargs={'refusal': None} response_metadata={'token_usage': {'completion_tokens': 57, 'prompt_tokens': 752, 'total_tokens': 809, 'completion_tokens_details': {'accepted_prediction_tokens': 0, 'audio_tokens': 0, 'reasoning_tokens': 0, 'rejected_prediction_tokens': 0}, 'prompt_tokens_details': {'audio_tokens': 0, 'cached_tokens': 0}}, 'model_name': 'gpt-4o-2024-08-06', 'system_fingerprint': 'fp_a288987b44', 'id': 'chatcmpl-BlEZMOjo0U8Ei7pOJUteDPPphWDhG', 'service_tier': 'default', 'finish_reason': 'stop', 'logprobs': None} id='run--36d83af3-65b0-478a-9fcd-3a10bde6c30a-0' usage_metadata={'input_tokens': 752, 'output_tokens': 57, 'total_tokens': 809, 'input_token_details': {'audio': 0, 'cache_read': 0}, 'output_token_details': {'audio': 0, 'reasoning': 0}}\n",
      "📤 Output token count (gpt-4o): 53\n",
      "🔢 Total token usage: 798\n",
      "\n",
      "Amina noticed that her phone was not charging even though it was plugged into the wall socket. She checked the charger and found it was damaged. Explain how she could safely test if the wall socket is working using another electrical appliance. =========\n",
      "📝 Input token count (gpt-4o): 789\n",
      "📦 Raw LLM output:\n",
      " content='```json\\n[\\n    {\"answer_id\": 29, \"score\": 1},\\n    {\"answer_id\": 30, \"score\": 4},\\n    {\"answer_id\": 31, \"score\": 2},\\n    {\"answer_id\": 32, \"score\": 2}\\n]\\n```' additional_kwargs={'refusal': None} response_metadata={'token_usage': {'completion_tokens': 62, 'prompt_tokens': 796, 'total_tokens': 858, 'completion_tokens_details': {'accepted_prediction_tokens': 0, 'audio_tokens': 0, 'reasoning_tokens': 0, 'rejected_prediction_tokens': 0}, 'prompt_tokens_details': {'audio_tokens': 0, 'cached_tokens': 0}}, 'model_name': 'gpt-4o-2024-08-06', 'system_fingerprint': 'fp_07871e2ad8', 'id': 'chatcmpl-BlEZNcYn3Hdyv8LOKRX6MRGlBXBOf', 'service_tier': 'default', 'finish_reason': 'stop', 'logprobs': None} id='run--e1554f33-3f3c-41b2-9001-28aa7cc75124-0' usage_metadata={'input_tokens': 796, 'output_tokens': 62, 'total_tokens': 858, 'input_token_details': {'audio': 0, 'cache_read': 0}, 'output_token_details': {'audio': 0, 'reasoning': 0}}\n",
      "📤 Output token count (gpt-4o): 58\n",
      "🔢 Total token usage: 847\n",
      "\n",
      "During a science class, Amina noticed that the thermometer in the lab was not giving accurate readings. What steps should she take to evaluate the condition of the thermometer and ensure it is functioning properly? =========\n",
      "📝 Input token count (gpt-4o): 530\n",
      "📦 Raw LLM output:\n",
      " content='```json\\n[\\n    {\"answer_id\": 33, \"score\": 1},\\n    {\"answer_id\": 34, \"score\": 4},\\n    {\"answer_id\": 35, \"score\": 3},\\n    {\"answer_id\": 36, \"score\": 3}\\n]\\n```' additional_kwargs={'refusal': None} response_metadata={'token_usage': {'completion_tokens': 62, 'prompt_tokens': 537, 'total_tokens': 599, 'completion_tokens_details': {'accepted_prediction_tokens': 0, 'audio_tokens': 0, 'reasoning_tokens': 0, 'rejected_prediction_tokens': 0}, 'prompt_tokens_details': {'audio_tokens': 0, 'cached_tokens': 0}}, 'model_name': 'gpt-4o-2024-08-06', 'system_fingerprint': 'fp_a288987b44', 'id': 'chatcmpl-BlEZPSFWjtpeXIDQDuAW3zRRmXv4Q', 'service_tier': 'default', 'finish_reason': 'stop', 'logprobs': None} id='run--6eeb7fd6-9f7f-4a6a-9839-c14ccd79dded-0' usage_metadata={'input_tokens': 537, 'output_tokens': 62, 'total_tokens': 599, 'input_token_details': {'audio': 0, 'cache_read': 0}, 'output_token_details': {'audio': 0, 'reasoning': 0}}\n",
      "📤 Output token count (gpt-4o): 58\n",
      "🔢 Total token usage: 588\n",
      "\n",
      "What is the color change observed when red litmus paper is dipped into a basic solution? =========\n",
      "📝 Input token count (gpt-4o): 585\n",
      "📦 Raw LLM output:\n",
      " content='```json\\n[\\n    {\"answer_id\": 37, \"score\": 3},\\n    {\"answer_id\": 38, \"score\": 4},\\n    {\"answer_id\": 39, \"score\": 4},\\n    {\"answer_id\": 40, \"score\": 4}\\n]\\n```' additional_kwargs={'refusal': None} response_metadata={'token_usage': {'completion_tokens': 62, 'prompt_tokens': 592, 'total_tokens': 654, 'completion_tokens_details': {'accepted_prediction_tokens': 0, 'audio_tokens': 0, 'reasoning_tokens': 0, 'rejected_prediction_tokens': 0}, 'prompt_tokens_details': {'audio_tokens': 0, 'cached_tokens': 0}}, 'model_name': 'gpt-4o-2024-08-06', 'system_fingerprint': 'fp_07871e2ad8', 'id': 'chatcmpl-BlEZQMQWPSLDEhNIR5LTiy2kQ87XZ', 'service_tier': 'default', 'finish_reason': 'stop', 'logprobs': None} id='run--0152187d-fed0-48d7-9239-8df6cb2459ef-0' usage_metadata={'input_tokens': 592, 'output_tokens': 62, 'total_tokens': 654, 'input_token_details': {'audio': 0, 'cache_read': 0}, 'output_token_details': {'audio': 0, 'reasoning': 0}}\n",
      "📤 Output token count (gpt-4o): 58\n",
      "🔢 Total token usage: 643\n",
      "\n",
      "✅ Graded Answers list written to /Users/melaniefayne/Desktop/mtihani/mtihani_api/mtihaniapi/gen/output/grades_list.json\n"
     ]
    }
   ],
   "source": [
    "parsed_grades = generate_llm_answer_grades_list(\n",
    "    llm=OPENAI_LLM_4O,\n",
    "    grouped_answers_data=grouped_answers_data,\n",
    "    is_debug=True,\n",
    ")"
   ]
  },
  {
   "cell_type": "markdown",
   "id": "91ea6353",
   "metadata": {},
   "source": [
    "## Create Insights"
   ]
  },
  {
   "cell_type": "code",
   "execution_count": null,
   "id": "6c0da47e",
   "metadata": {},
   "outputs": [],
   "source": [
    "# import sys\n",
    "# import os\n",
    "# sys.path.insert(0, os.path.abspath(\"..\"))\n",
    "# from gen.utils import *"
   ]
  },
  {
   "cell_type": "code",
   "execution_count": 2,
   "id": "81a33cc5",
   "metadata": {},
   "outputs": [],
   "source": [
    "# strand_performance_data = [\n",
    "#     {\n",
    "#         \"strand_name\": \"Mixtures (G7)\",\n",
    "#         \"strand_grade\": 7,\n",
    "#         \"avg_score\": 74.5,\n",
    "#         \"avg_expectation_level\": \"Meets\",\n",
    "#         \"bloom_skill_scores\": [],\n",
    "#         \"score_variance\": {\"min\": 40.0, \"max\": 99.0, \"std_dev\": 10.2},\n",
    "#         \"sub_strand_scores\": [\n",
    "#             {\"name\": \"Elements and Compounds\", \"percentage\": 81.2, \"strand_difference\": 6.7,\n",
    "#              \"strand_difference_descriptor\": \"Above Strand Average\"},\n",
    "#             {\"name\": \"Physical and Chemical Changes\", \"percentage\": 66.5,\n",
    "#              \"strand_difference\": -8.0, \"strand_difference_descriptor\": \"Below Strand Average\"}\n",
    "#         ],\n",
    "#         \"top_students\": [\n",
    "#             {\"student_name\": \"Akinyi\", \"avg_score\": 98.2,\n",
    "#                 \"avg_expectation_level\": \"Exceeds\", \"exam_id\": 10, \"student_id\": 3}\n",
    "#         ],\n",
    "#         \"bottom_students\": [\n",
    "#             {\"student_name\": \"Wanjiru\", \"avg_score\": 44.5,\n",
    "#                 \"avg_expectation_level\": \"Below\", \"exam_id\": 10, \"student_id\": 9}\n",
    "#         ]\n",
    "#     }\n",
    "# ]\n",
    "\n",
    "# insights_data = generate_llm_strand_insights(\n",
    "#     strand_performance_data=strand_performance_data,\n",
    "#     is_debug=True,\n",
    "# )"
   ]
  },
  {
   "cell_type": "code",
   "execution_count": 3,
   "id": "bdc517e2",
   "metadata": {},
   "outputs": [],
   "source": [
    "# sub_strand_correlations = [\n",
    "#     {\n",
    "#         \"name\": \"Elements and Compounds\",\n",
    "#         \"average_correlation\": -0.48,\n",
    "#         \"strongest_negative_pair\": \"Acids, Bases and Indicators\",\n",
    "#         \"correlation\": -0.67\n",
    "#     }\n",
    "# ]\n",
    "# insights_data = generate_llm_sub_strand_corr_insights(\n",
    "#     sub_strand_correlations=sub_strand_correlations,\n",
    "#     is_debug=True,\n",
    "# )"
   ]
  },
  {
   "cell_type": "code",
   "execution_count": null,
   "id": "6a004a82",
   "metadata": {},
   "outputs": [
    {
     "name": "stdout",
     "output_type": "stream",
     "text": [
      "📝 Input token count (gpt-4o): 430\n",
      "📦 Raw LLM output:\n",
      " content='```json\\n[\\n    \"The average score of 74.1% indicates that the class generally performs at a satisfactory level, aligning with the \\'Meets\\' expectation category.\",\\n    \"A significant majority of students (60%) are meeting expectations, with 20% exceeding them, which is a positive indicator of overall class performance.\",\\n    \"The score distribution shows a wide range from 40 to 99, but most students score between 70 and 80, suggesting a concentration of students around the average score.\",\\n    \"The standard deviation of 10.2 indicates a moderate spread in scores, suggesting some variability in student performance.\",\\n    \"Only 5% of students are below expectations, which is a relatively small portion of the class, indicating that most students are performing at or above the expected level.\",\\n    \"The \\'Exceeds\\' category, with 20% of students, is a point of pride, showing that a notable portion of the class is performing at a high level.\",\\n    \"Bloom skill scores reveal strengths in \\'Synthesis\\' and \\'Knowledge\\', with percentages of 81.67% and 81.0% respectively, indicating strong higher-order thinking and recall abilities.\",\\n    \"Areas for improvement include \\'Evaluation\\' and \\'Analysis\\', with scores of 65.0% and 68.5%, suggesting a need for enhanced critical thinking and analytical skills.\",\\n    \"The \\'Approaching\\' category, with 15% of students, highlights a group that may benefit from targeted support to reach the \\'Meets\\' level.\"\\n]\\n```' additional_kwargs={'refusal': None} response_metadata={'token_usage': {'completion_tokens': 315, 'prompt_tokens': 437, 'total_tokens': 752, 'completion_tokens_details': {'accepted_prediction_tokens': 0, 'audio_tokens': 0, 'reasoning_tokens': 0, 'rejected_prediction_tokens': 0}, 'prompt_tokens_details': {'audio_tokens': 0, 'cached_tokens': 0}}, 'model_name': 'gpt-4o-2024-08-06', 'system_fingerprint': 'fp_07871e2ad8', 'id': 'chatcmpl-BlEcy48GEtjFBYSqk4bfevE0sqFnk', 'service_tier': 'default', 'finish_reason': 'stop', 'logprobs': None} id='run--25baf1d9-d1f5-4b4c-8c52-9132161c6641-0' usage_metadata={'input_tokens': 437, 'output_tokens': 315, 'total_tokens': 752, 'input_token_details': {'audio': 0, 'cache_read': 0}, 'output_token_details': {'audio': 0, 'reasoning': 0}}\n",
      "📤 Output token count (gpt-4o): 311\n",
      "🔢 Total token usage: 741\n"
     ]
    }
   ],
   "source": [
    "# class_performance_data = {\n",
    "#     \"average_score\": 74.1,\n",
    "#     \"average_expectation_level\": \"Meets\",\n",
    "#     \"score_distribution\": \"Scores range from 40 to 99, with most students scoring between 70 and 80. Standard deviation is 10.2.\",\n",
    "#     \"expectation_level_distribution\": \"Exceeds: 20%, Meets: 60%, Approaching: 15%, Below: 5%\",\n",
    "#     \"bloom_skill_scores\":\n",
    "#     [{\"name\": \"Synthesis\", \"percentage\": 81.67}, {\"name\": \"Knowledge\", \"percentage\": 81.0}, {\"name\": \"Application\", \"percentage\": 73.44}, {\n",
    "#         \"name\": \"Analysis\", \"percentage\": 68.5}, {\"name\": \"Comprehension\", \"percentage\": 71.25}, {\"name\": \"Evaluation\", \"percentage\": 65.0}],\n",
    "# }\n",
    "\n",
    "# insights_data = generate_llm_class_perf_insights(\n",
    "#     class_performance_data=class_performance_data,\n",
    "#     is_debug=True,\n",
    "# )"
   ]
  },
  {
   "cell_type": "code",
   "execution_count": null,
   "id": "7480b525",
   "metadata": {},
   "outputs": [
    {
     "name": "stdout",
     "output_type": "stream",
     "text": [
      "✅ Insights written to output/insights_lits.json\n"
     ]
    }
   ],
   "source": [
    "# INSIGHTS_OUTPUT_FILE = \"output/insights_lits.json\"\n",
    "# with open(INSIGHTS_OUTPUT_FILE, 'w', encoding='utf-8') as f:\n",
    "#     json.dump(insights_data, f, ensure_ascii=False, indent=4)\n",
    "# print(f\"✅ Insights written to {INSIGHTS_OUTPUT_FILE}\")"
   ]
  },
  {
   "cell_type": "markdown",
   "id": "42636de3",
   "metadata": {},
   "source": [
    "## Create Follow Up Quizzes"
   ]
  },
  {
   "cell_type": "code",
   "execution_count": 13,
   "id": "3645509e",
   "metadata": {},
   "outputs": [],
   "source": [
    "import sys\n",
    "import os\n",
    "sys.path.insert(0, os.path.abspath(\"..\"))\n",
    "from gen.utils import *"
   ]
  },
  {
   "cell_type": "code",
   "execution_count": 14,
   "id": "999aa958",
   "metadata": {},
   "outputs": [],
   "source": [
    "exam_questions = [\n",
    "    {\n",
    "        \"id\": \"3\",\n",
    "        \"question\": \"List three safety rules you must observe in a science laboratory.\",\n",
    "        \"expected_answer\": \"Do not eat or drink in the laboratory; wear safety goggles; report spills immediately.\",\n",
    "        \"strand\": \"Scientific Investigation (G7)\",\n",
    "        \"sub_strand\": \"Laboratory Safety\",\n",
    "        \"bloom_skill\": \"Knowledge\"\n",
    "    },\n",
    "    {\n",
    "        \"id\": \"1\",\n",
    "        \"question\": \"Differentiate between a mixture and a compound with examples.\",\n",
    "        \"expected_answer\": \"A mixture is a combination of substances that can be separated physically (e.g., sand and salt). A compound is a chemical combination of elements with fixed properties (e.g., water).\",\n",
    "        \"strand\": \"Mixtures, Elements and Compounds (G7)\",\n",
    "        \"sub_strand\": \"Mixtures\",\n",
    "        \"bloom_skill\": \"Analysis\"\n",
    "    },\n",
    "    {\n",
    "        \"id\": \"2\",\n",
    "        \"question\": \"State the function of the cell membrane.\",\n",
    "        \"expected_answer\": \"The cell membrane controls the movement of substances in and out of the cell.\",\n",
    "        \"strand\": \"Living Things and Their Environment (G7)\",\n",
    "        \"sub_strand\": \"The Cell\",\n",
    "        \"bloom_skill\": \"Comprehension\"\n",
    "    },\n",
    "    {\n",
    "        \"id\": \"4\",\n",
    "        \"question\": \"Explain how you would test for the presence of starch in a leaf.\",\n",
    "        \"expected_answer\": \"Boil the leaf in water, then in alcohol, rinse, and add iodine solution. A blue-black color shows starch is present.\",\n",
    "        \"strand\": \"Living Things and Their Environment (G7)\",\n",
    "        \"sub_strand\": \"The Cell\",\n",
    "        \"bloom_skill\": \"Application\"\n",
    "    }\n",
    "]\n",
    "\n",
    "cluster_performance = {\n",
    "    \"cluster_label\": \"Cluster B\",\n",
    "    \"avg_score\": 56.7,\n",
    "    \"cluster_size\": 12,\n",
    "    \"avg_expectation_level\": \"Approaching\",\n",
    "    \"score_variance\": {\"min\": 47.5, \"max\": 64.0, \"std_dev\": 5.2},\n",
    "    \"bloom_skill_scores\": [\n",
    "        {\"name\": \"Knowledge\", \"percentage\": 62.1},\n",
    "        {\"name\": \"Comprehension\", \"percentage\": 54.2},\n",
    "        {\"name\": \"Application\", \"percentage\": 49.8},\n",
    "        {\"name\": \"Analysis\", \"percentage\": 52.3},\n",
    "        {\"name\": \"Synthesis\", \"percentage\": 45.0},\n",
    "        {\"name\": \"Evaluation\", \"percentage\": 48.7}\n",
    "    ],\n",
    "    \"strand_scores\": [\n",
    "        {\n",
    "            \"name\": \"Scientific Investigation (G7)\",\n",
    "            \"percentage\": 60.5,\n",
    "            \"sub_strands\": [\n",
    "                {\"name\": \"Laboratory Safety\", \"percentage\": 57.0},\n",
    "                {\"name\": \"Laboratory Apparatus and Instruments\", \"percentage\": 63.0}\n",
    "            ]\n",
    "        },\n",
    "        {\n",
    "            \"name\": \"Mixtures, Elements and Compounds (G7)\",\n",
    "            \"percentage\": 49.0,\n",
    "            \"sub_strands\": [\n",
    "                {\"name\": \"Mixtures\", \"percentage\": 45.5},\n",
    "                {\"name\": \"Elements and Compounds\", \"percentage\": 52.5}\n",
    "            ]\n",
    "        },\n",
    "        {\n",
    "            \"name\": \"Living Things and Their Environment (G7)\",\n",
    "            \"percentage\": 52.0,\n",
    "            \"sub_strands\": [\n",
    "                {\"name\": \"The Cell\", \"percentage\": 53.0},\n",
    "                {\"name\": \"Human Reproductive System\", \"percentage\": 50.0}\n",
    "            ]\n",
    "        }\n",
    "    ],\n",
    "    \"top_best_question_ids\": [3, 1],\n",
    "    \"top_worst_question_ids\": [2, 4]\n",
    "}\n",
    "\n",
    "question_count = 5"
   ]
  },
  {
   "cell_type": "code",
   "execution_count": 15,
   "id": "05e037de",
   "metadata": {},
   "outputs": [
    {
     "name": "stdout",
     "output_type": "stream",
     "text": [
      "📝 Input token count (gpt-4o): 956\n",
      "📦 Raw LLM output:\n",
      " content='```json\\n[\\n  {\\n    \"question\": \"Why is it important for the cell membrane to be selectively permeable, and how does this relate to everyday life?\",\\n    \"expected_answer\": \"The cell membrane\\'s selective permeability allows essential nutrients to enter the cell while keeping harmful substances out, similar to how a security system protects a house by allowing only authorized people to enter.\",\\n    \"grade\": 7,\\n    \"strand\": \"Living Things and Their Environment (G7)\",\\n    \"sub_strand\": \"The Cell\",\\n    \"bloom_skill\": \"Comprehension\"\\n  },\\n  {\\n    \"question\": \"Describe a simple experiment you could conduct at home to observe the process of diffusion using common kitchen items.\",\\n    \"expected_answer\": \"Place a drop of food coloring in a glass of water and observe how the color spreads without stirring, demonstrating diffusion.\",\\n    \"grade\": 7,\\n    \"strand\": \"Living Things and Their Environment (G7)\",\\n    \"sub_strand\": \"The Cell\",\\n    \"bloom_skill\": \"Application\"\\n  },\\n  {\\n    \"question\": \"Explain how the structure of a cell membrane is similar to a school gate and its function.\",\\n    \"expected_answer\": \"Like a school gate that controls who enters and exits the school, the cell membrane regulates the movement of substances in and out of the cell.\",\\n    \"grade\": 7,\\n    \"strand\": \"Living Things and Their Environment (G7)\",\\n    \"sub_strand\": \"The Cell\",\\n    \"bloom_skill\": \"Analysis\"\\n  },\\n  {\\n    \"question\": \"How can you demonstrate the presence of carbon dioxide in your breath using a simple home experiment?\",\\n    \"expected_answer\": \"Blow into a glass of lime water; if it turns cloudy, it indicates the presence of carbon dioxide.\",\\n    \"grade\": 7,\\n    \"strand\": \"Living Things and Their Environment (G7)\",\\n    \"sub_strand\": \"The Cell\",\\n    \"bloom_skill\": \"Application\"\\n  },\\n  {\\n    \"question\": \"Discuss how the concept of a cell membrane can be related to the packaging of food items in a supermarket.\",\\n    \"expected_answer\": \"Just as a cell membrane protects the cell and controls what enters and exits, food packaging protects the contents and controls exposure to air and contaminants.\",\\n    \"grade\": 7,\\n    \"strand\": \"Living Things and Their Environment (G7)\",\\n    \"sub_strand\": \"The Cell\",\\n    \"bloom_skill\": \"Synthesis\"\\n  }\\n]\\n```' additional_kwargs={'refusal': None} response_metadata={'token_usage': {'completion_tokens': 521, 'prompt_tokens': 963, 'total_tokens': 1484, 'completion_tokens_details': {'accepted_prediction_tokens': 0, 'audio_tokens': 0, 'reasoning_tokens': 0, 'rejected_prediction_tokens': 0}, 'prompt_tokens_details': {'audio_tokens': 0, 'cached_tokens': 0}}, 'model_name': 'gpt-4o-2024-08-06', 'system_fingerprint': 'fp_07871e2ad8', 'id': 'chatcmpl-BlEewSg47vPV1o3gg1QOKEpi9rs48', 'service_tier': 'default', 'finish_reason': 'stop', 'logprobs': None} id='run--03ebe5ef-0996-4990-aefb-4dbfa68921e3-0' usage_metadata={'input_tokens': 963, 'output_tokens': 521, 'total_tokens': 1484, 'input_token_details': {'audio': 0, 'cache_read': 0}, 'output_token_details': {'audio': 0, 'reasoning': 0}}\n",
      "📤 Output token count (gpt-4o): 517\n",
      "🔢 Total token usage: 1473\n"
     ]
    }
   ],
   "source": [
    "follow_up_quiz = generate_llm_follow_up_quiz(\n",
    "    exam_questions=exam_questions,\n",
    "    cluster_performance=cluster_performance,\n",
    "    question_count=question_count,\n",
    "    is_debug=True,\n",
    ")"
   ]
  },
  {
   "cell_type": "code",
   "execution_count": 16,
   "id": "0fca287b",
   "metadata": {},
   "outputs": [
    {
     "name": "stdout",
     "output_type": "stream",
     "text": [
      "✅ Follow up quiz written to output/follow_up_list.json\n"
     ]
    }
   ],
   "source": [
    "FOLLOW_UP_OUTPUT_FILE = \"output/follow_up_list.json\"\n",
    "with open(FOLLOW_UP_OUTPUT_FILE, 'w', encoding='utf-8') as f:\n",
    "    json.dump(follow_up_quiz, f, ensure_ascii=False, indent=4)\n",
    "print(f\"✅ Follow up quiz written to {FOLLOW_UP_OUTPUT_FILE}\")"
   ]
  },
  {
   "cell_type": "markdown",
   "id": "f9e70cbe",
   "metadata": {},
   "source": [
    "# DB Mock-ups"
   ]
  },
  {
   "cell_type": "code",
   "execution_count": 1,
   "id": "72fe8ca7",
   "metadata": {},
   "outputs": [
    {
     "name": "stdout",
     "output_type": "stream",
     "text": [
      "[{'id': 97, 'question': 'What is the function of a Bunsen burner in a science laboratory?', 'expected_answer': 'A Bunsen burner is used to heat substances during experiments.'}, {'id': 98, 'question': 'In a school science experiment, Amina mixed salt with water to create a solution. Describe how she can separate the salt from the water to obtain dry salt again.', 'expected_answer': 'Amina can separate the salt from the water by heating the solution until the water evaporates, leaving the dry salt behind.'}, {'id': 99, 'question': \"Amina noticed that her younger brother's voice has started to deepen and he is growing facial hair. What are the social and reproductive implications of these changes during adolescence?\", 'expected_answer': 'These changes indicate that her brother is going through puberty, which can lead to increased social interactions and awareness of reproductive responsibilities.'}, {'id': 100, 'question': 'What are the two poles of a magnet called?', 'expected_answer': 'The two poles of a magnet are called the north pole and the south pole.'}, {'id': 101, 'question': 'During a school science fair, James observed that a solar panel generates more electricity on sunny days than on cloudy days. Analyse why this happens and how it demonstrates the importance of science in daily life.', 'expected_answer': 'This happens because solar panels convert sunlight into electricity, and more sunlight on sunny days means more energy is produced. This demonstrates the importance of science in developing renewable energy solutions for sustainable living.'}, {'id': 102, 'question': 'In a school laboratory, Amina observes that lemon juice turns blue litmus paper red. Evaluate whether lemon juice is an acid or a base and explain your reasoning.', 'expected_answer': 'Lemon juice is an acid because it turns blue litmus paper red, which is a characteristic reaction of acids.'}, {'id': 103, 'question': 'List two main functions of the ovaries in the female reproductive system.', 'expected_answer': 'The ovaries produce eggs (ova) and secrete hormones such as estrogen and progesterone.'}, {'id': 104, 'question': 'Amina noticed that her phone battery was low, so she plugged it into a wall socket to charge. Explain how the electric current flows from the wall socket to charge her phone.', 'expected_answer': 'The electric current flows from the wall socket through the charging cable into the phone, providing energy to recharge the battery.'}, {'id': 105, 'question': \"Mary is considering whether to use a traditional charcoal stove or a modern gas cooker for her family's cooking needs. Evaluate the advantages and disadvantages of each option in terms of science and daily life.\", 'expected_answer': 'The charcoal stove is cheaper and uses locally available resources, but it produces smoke and is less efficient. The gas cooker is cleaner and more efficient, but it requires a reliable gas supply and is more expensive. Science helps us weigh these factors for better decision-making.'}, {'id': 106, 'question': 'What is the color change observed when red litmus paper is dipped into a basic solution?', 'expected_answer': 'The red litmus paper turns blue when dipped into a basic solution.'}]\n",
      "[{'id': 29, 'avg_score': 68}, {'id': 25, 'avg_score': 65}, {'id': 23, 'avg_score': 72}, {'id': 27, 'avg_score': 48}, {'id': 24, 'avg_score': 90}, {'id': 31, 'avg_score': 24}, {'id': 30, 'avg_score': 78}, {'id': 26, 'avg_score': 42}, {'id': 22, 'avg_score': 84}, {'id': 28, 'avg_score': 36}]\n",
      "📝 Input token count (gpt-4o): 1509\n",
      "📦 Raw LLM output:\n",
      " content='```json\\n[\\n    {\\n        \"id\": 29,\\n        \"answers\": [\\n            {\\n                \"question_id\": \"97\",\\n                \"answer\": \"A Bunsen burner is used to heat things in the lab.\"\\n            },\\n            {\\n                \"question_id\": \"98\",\\n                \"answer\": \"Amina can heat the solution so the water evaporates and leaves the salt.\"\\n            },\\n            {\\n                \"question_id\": \"99\",\\n                \"answer\": \"Her brother is going through puberty, which means he is growing up and might start to interact more socially and understand more about reproduction.\"\\n            },\\n            {\\n                \"question_id\": \"100\",\\n                \"answer\": \"The poles of a magnet are north and south.\"\\n            },\\n            {\\n                \"question_id\": \"101\",\\n                \"answer\": \"Solar panels work better on sunny days because they need sunlight to make electricity. This shows how science helps us use renewable energy.\"\\n            },\\n            {\\n                \"question_id\": \"102\",\\n                \"answer\": \"Lemon juice is an acid because it turns blue litmus paper red.\"\\n            },\\n            {\\n                \"question_id\": \"103\",\\n                \"answer\": \"Ovaries make eggs and hormones like estrogen.\"\\n            },\\n            {\\n                \"question_id\": \"104\",\\n                \"answer\": \"The electric current goes from the socket through the cable to charge the phone.\"\\n            },\\n            {\\n                \"question_id\": \"105\",\\n                \"answer\": \"Charcoal stoves are cheaper but smoky. Gas cookers are cleaner but need gas and cost more. Science helps us decide which is better.\"\\n            },\\n            {\\n                \"question_id\": \"106\",\\n                \"answer\": \"Red litmus paper turns blue in a basic solution.\"\\n            }\\n        ]\\n    },\\n    {\\n        \"id\": 25,\\n        \"answers\": [\\n            {\\n                \"question_id\": \"97\",\\n                \"answer\": \"A Bunsen burner is used to heat substances in experiments.\"\\n            },\\n            {\\n                \"question_id\": \"98\",\\n                \"answer\": \"Amina can heat the water until it evaporates, leaving the salt.\"\\n            },\\n            {\\n                \"question_id\": \"99\",\\n                \"answer\": \"Her brother is in puberty, which means he is growing up and might have more social interactions and learn about reproduction.\"\\n            },\\n            {\\n                \"question_id\": \"100\",\\n                \"answer\": \"The poles of a magnet are called north and south.\"\\n            },\\n            {\\n                \"question_id\": \"101\",\\n                \"answer\": \"Solar panels make more electricity on sunny days because they need sunlight. This shows science helps us with renewable energy.\"\\n            },\\n            {\\n                \"question_id\": \"102\",\\n                \"answer\": \"Lemon juice is an acid because it turns blue litmus paper red.\"\\n            },\\n            {\\n                \"question_id\": \"103\",\\n                \"answer\": \"Ovaries produce eggs and hormones like estrogen.\"\\n            },\\n            {\\n                \"question_id\": \"104\",\\n                \"answer\": \"Electric current flows from the socket through the cable to charge the phone.\"\\n            },\\n            {\\n                \"question_id\": \"105\",\\n                \"answer\": \"Charcoal stoves are cheaper but smoky. Gas cookers are cleaner but need gas. Science helps us choose.\"\\n            },\\n            {\\n                \"question_id\": \"106\",\\n                \"answer\": \"Red litmus paper turns blue in a basic solution.\"\\n            }\\n        ]\\n    },\\n    {\\n        \"id\": 23,\\n        \"answers\": [\\n            {\\n                \"question_id\": \"97\",\\n                \"answer\": \"A Bunsen burner is used to heat substances during experiments in the lab.\"\\n            },\\n            {\\n                \"question_id\": \"98\",\\n                \"answer\": \"Amina can heat the solution until the water evaporates, leaving the salt behind.\"\\n            },\\n            {\\n                \"question_id\": \"99\",\\n                \"answer\": \"Her brother is experiencing puberty, which means he will have more social interactions and learn about reproductive responsibilities.\"\\n            },\\n            {\\n                \"question_id\": \"100\",\\n                \"answer\": \"The two poles of a magnet are called the north pole and the south pole.\"\\n            },\\n            {\\n                \"question_id\": \"101\",\\n                \"answer\": \"Solar panels generate more electricity on sunny days because they need sunlight. This shows the importance of science in renewable energy.\"\\n            },\\n            {\\n                \"question_id\": \"102\",\\n                \"answer\": \"Lemon juice is an acid because it turns blue litmus paper red.\"\\n            },\\n            {\\n                \"question_id\": \"103\",\\n                \"answer\": \"The ovaries produce eggs and secrete hormones like estrogen.\"\\n            },\\n            {\\n                \"question_id\": \"104\",\\n                \"answer\": \"Electric current flows from the socket through the cable to charge the phone.\"\\n            },\\n            {\\n                \"question_id\": \"105\",\\n                \"answer\": \"Charcoal stoves are cheaper but produce smoke. Gas cookers are cleaner but need gas. Science helps us decide.\"\\n            },\\n            {\\n                \"question_id\": \"106\",\\n                \"answer\": \"Red litmus paper turns blue in a basic solution.\"\\n            }\\n        ]\\n    },\\n    {\\n        \"id\": 27,\\n        \"answers\": [\\n            {\\n                \"question_id\": \"97\",\\n                \"answer\": \"Bunsen burner is for heating.\"\\n            },\\n            {\\n                \"question_id\": \"98\",\\n                \"answer\": \"Heat the water to get salt.\"\\n            },\\n            {\\n                \"question_id\": \"99\",\\n                \"answer\": \"Brother is growing up, changes happen.\"\\n            },\\n            {\\n                \"question_id\": \"100\",\\n                \"answer\": \"North and south.\"\\n            },\\n            {\\n                \"question_id\": \"101\",\\n                \"answer\": \"More sun, more electricity.\"\\n            },\\n            {\\n                \"question_id\": \"102\",\\n                \"answer\": \"Lemon juice is acid, turns blue paper red.\"\\n            },\\n            {\\n                \"question_id\": \"103\",\\n                \"answer\": \"Ovaries make eggs and hormones.\"\\n            },\\n            {\\n                \"question_id\": \"104\",\\n                \"answer\": \"Electric goes from socket to phone.\"\\n            },\\n            {\\n                \"question_id\": \"105\",\\n                \"answer\": \"Charcoal is cheap, gas is clean.\"\\n            },\\n            {\\n                \"question_id\": \"106\",\\n                \"answer\": \"Red paper turns blue in base.\"\\n            }\\n        ]\\n    },\\n    {\\n        \"id\": 24,\\n        \"answers\": [\\n            {\\n                \"question_id\": \"97\",\\n                \"answer\": \"A Bunsen burner is used to heat substances in a science laboratory, providing a controlled flame for various experiments.\"\\n            },\\n            {\\n                \"question_id\": \"98\",\\n                \"answer\": \"Amina can separate the salt from the water by heating the solution until the water evaporates completely, leaving the dry salt behind.\"\\n            },\\n            {\\n                \"question_id\": \"99\",\\n                \"answer\": \"Her brother is undergoing puberty, which involves physical changes like a deeper voice and facial hair. Socially, he may become more aware of his interactions and responsibilities, including reproductive health.\"\\n            },\\n            {\\n                \"question_id\": \"100\",\\n                \"answer\": \"The two poles of a magnet are called the north pole and the south pole, which are the points where the magnetic force is strongest.\"\\n            },\\n            {\\n                \"question_id\": \"101\",\\n                \"answer\": \"Solar panels generate more electricity on sunny days because they convert sunlight into electricity. This highlights the importance of science in harnessing renewable energy for sustainable living.\"\\n            },\\n            {\\n                \"question_id\": \"102\",\\n                \"answer\": \"Lemon juice is an acid because it turns blue litmus paper red, which is a characteristic reaction of acids.\"\\n            },\\n            {\\n                \"question_id\": \"103\",\\n                \"answer\": \"The ovaries have two main functions: they produce eggs (ova) and secrete hormones such as estrogen and progesterone, which are crucial for reproductive health.\"\\n            },\\n            {\\n                \"question_id\": \"104\",\\n                \"answer\": \"The electric current flows from the wall socket through the charging cable into the phone, providing energy to recharge the battery.\"\\n            },\\n            {\\n                \"question_id\": \"105\",\\n                \"answer\": \"The charcoal stove is cost-effective and uses locally available resources, but it produces smoke and is less efficient. The gas cooker is cleaner and more efficient, but it requires a reliable gas supply and is more expensive. Science helps us evaluate these options for better decision-making.\"\\n            },\\n            {\\n                \"question_id\": \"106\",\\n                \"answer\": \"The red litmus paper turns blue when dipped into a basic solution, indicating the presence of a base.\"\\n            }\\n        ]\\n    },\\n    {\\n        \"id\": 31,\\n        \"answers\": [\\n            {\\n                \"question_id\": \"97\",\\n                \"answer\": \"Bunsen burner heats things.\"\\n            },\\n            {\\n                \"question_id\": \"98\",\\n                \"answer\": \"Heat water, salt stays.\"\\n            },\\n            {\\n                \"question_id\": \"99\",\\n                \"answer\": \"Brother changes, puberty.\"\\n            },\\n            {\\n                \"question_id\": \"100\",\\n                \"answer\": \"North and south.\"\\n            },\\n            {\\n                \"question_id\": \"101\",\\n                \"answer\": \"Sunny more power.\"\\n            },\\n            {\\n                \"question_id\": \"102\",\\n                \"answer\": \"Lemon is acid, turns red.\"\\n            },\\n            {\\n                \"question_id\": \"103\",\\n                \"answer\": \"Ovaries make eggs, hormones.\"\\n            },\\n            {\\n                \"question_id\": \"104\",\\n                \"answer\": \"Electric goes to phone.\"\\n            },\\n            {\\n                \"question_id\": \"105\",\\n                \"answer\": \"Charcoal cheap, gas clean.\"\\n            },\\n            {\\n                \"question_id\": \"106\",\\n                \"answer\": \"Red turns blue in base.\"\\n            }\\n        ]\\n    },\\n    {\\n        \"id\": 30,\\n        \"answers\": [\\n            {\\n                \"question_id\": \"97\",\\n                \"answer\": \"A Bunsen burner is used to heat substances in the lab.\"\\n            },\\n            {\\n                \"question_id\": \"98\",\\n                \"answer\": \"Amina can heat the solution until the water evaporates, leaving the salt.\"\\n            },\\n            {\\n                \"question_id\": \"99\",\\n                \"answer\": \"Her brother is going through puberty, which means he will have more social interactions and learn about reproductive responsibilities.\"\\n            },\\n            {\\n                \"question_id\": \"100\",\\n                \"answer\": \"The two poles of a magnet are called the north pole and the south pole.\"\\n            },\\n            {\\n                \"question_id\": \"101\",\\n                \"answer\": \"Solar panels generate more electricity on sunny days because they need sunlight. This shows the importance of science in renewable energy.\"\\n            },\\n            {\\n                \"question_id\": \"102\",\\n                \"answer\": \"Lemon juice is an acid because it turns blue litmus paper red.\"\\n            },\\n            {\\n                \"question_id\": \"103\",\\n                \"answer\": \"The ovaries produce eggs and secrete hormones like estrogen.\"\\n            },\\n            {\\n                \"question_id\": \"104\",\\n                \"answer\": \"Electric current flows from the socket through the cable to charge the phone.\"\\n            },\\n            {\\n                \"question_id\": \"105\",\\n                \"answer\": \"Charcoal stoves are cheaper but produce smoke. Gas cookers are cleaner but need gas. Science helps us decide.\"\\n            },\\n            {\\n                \"question_id\": \"106\",\\n                \"answer\": \"Red litmus paper turns blue in a basic solution.\"\\n            }\\n        ]\\n    },\\n    {\\n        \"id\": 26,\\n        \"answers\": [\\n            {\\n                \"question_id\": \"97\",\\n                \"answer\": \"Bunsen burner heats things.\"\\n            },\\n            {\\n                \"question_id\": \"98\",\\n                \"answer\": \"Heat water, salt stays.\"\\n            },\\n            {\\n                \"question_id\": \"99\",\\n                \"answer\": \"Brother changes, puberty.\"\\n            },\\n            {\\n                \"question_id\": \"100\",\\n                \"answer\": \"North and south.\"\\n            },\\n            {\\n                \"question_id\": \"101\",\\n                \"answer\": \"Sunny more power.\"\\n            },\\n            {\\n                \"question_id\": \"102\",\\n                \"answer\": \"Lemon is acid, turns red.\"\\n            },\\n            {\\n                \"question_id\": \"103\",\\n                \"answer\": \"Ovaries make eggs, hormones.\"\\n            },\\n            {\\n                \"question_id\": \"104\",\\n                \"answer\": \"Electric goes to phone.\"\\n            },\\n            {\\n                \"question_id\": \"105\",\\n                \"answer\": \"Charcoal cheap, gas clean.\"\\n            },\\n            {\\n                \"question_id\": \"106\",\\n                \"answer\": \"Red turns blue in base.\"\\n            }\\n        ]\\n    },\\n    {\\n        \"id\": 22,\\n        \"answers\": [\\n            {\\n                \"question_id\": \"97\",\\n                \"answer\": \"A Bunsen burner is used to heat substances in a science laboratory, providing a controlled flame for various experiments.\"\\n            },\\n            {\\n                \"question_id\": \"98\",\\n                \"answer\": \"Amina can separate the salt from the water by heating the solution until the water evaporates completely, leaving the dry salt behind.\"\\n            },\\n            {\\n                \"question_id\": \"99\",\\n                \"answer\": \"Her brother is undergoing puberty, which involves physical changes like a deeper voice and facial hair. Socially, he may become more aware of his interactions and responsibilities, including reproductive health.\"\\n            },\\n            {\\n                \"question_id\": \"100\",\\n                \"answer\": \"The two poles of a magnet are called the north pole and the south pole, which are the points where the magnetic force is strongest.\"\\n            },\\n            {\\n                \"question_id\": \"101\",\\n                \"answer\": \"Solar panels generate more electricity on sunny days because they convert sunlight into electricity. This highlights the importance of science in harnessing renewable energy for sustainable living.\"\\n            },\\n            {\\n                \"question_id\": \"102\",\\n                \"answer\": \"Lemon juice is an acid because it turns blue litmus paper red, which is a characteristic reaction of acids.\"\\n            },\\n            {\\n                \"question_id\": \"103\",\\n                \"answer\": \"The ovaries have two main functions: they produce eggs (ova) and secrete hormones such as estrogen and progesterone, which are crucial for reproductive health.\"\\n            },\\n            {\\n                \"question_id\": \"104\",\\n                \"answer\": \"The electric current flows from the wall socket through the charging cable into the phone, providing energy to recharge the battery.\"\\n            },\\n            {\\n                \"question_id\": \"105\",\\n                \"answer\": \"The charcoal stove is cost-effective and uses locally available resources, but it produces smoke and is less efficient. The gas cooker is cleaner and more efficient, but it requires a reliable gas supply and is more expensive. Science helps us evaluate these options for better decision-making.\"\\n            },\\n            {\\n                \"question_id\": \"106\",\\n                \"answer\": \"The red litmus paper turns blue when dipped into a basic solution, indicating the presence of a base.\"\\n            }\\n        ]\\n    },\\n    {\\n        \"id\": 28,\\n        \"answers\": [\\n            {\\n                \"question_id\": \"97\",\\n                \"answer\": \"Bunsen burner heats things.\"\\n            },\\n            {\\n                \"question_id\": \"98\",\\n                \"answer\": \"Heat water, salt stays.\"\\n            },\\n            {\\n                \"question_id\": \"99\",\\n                \"answer\": \"Brother changes, puberty.\"\\n            },\\n            {\\n                \"question_id\": \"100\",\\n                \"answer\": \"North and south.\"\\n            },\\n            {\\n                \"question_id\": \"101\",\\n                \"answer\": \"Sunny more power.\"\\n            },\\n            {\\n                \"question_id\": \"102\",\\n                \"answer\": \"Lemon is acid, turns red.\"\\n            },\\n            {\\n                \"question_id\": \"103\",\\n                \"answer\": \"Ovaries make eggs, hormones.\"\\n            },\\n            {\\n                \"question_id\": \"104\",\\n                \"answer\": \"Electric goes to phone.\"\\n            },\\n            {\\n                \"question_id\": \"105\",\\n                \"answer\": \"Charcoal cheap, gas clean.\"\\n            },\\n            {\\n                \"question_id\": \"106\",\\n                \"answer\": \"Red turns blue in base.\"\\n            }\\n        ]\\n    }\\n]\\n```' additional_kwargs={'refusal': None} response_metadata={'token_usage': {'completion_tokens': 3391, 'prompt_tokens': 1396, 'total_tokens': 4787, 'completion_tokens_details': {'accepted_prediction_tokens': 0, 'audio_tokens': 0, 'reasoning_tokens': 0, 'rejected_prediction_tokens': 0}, 'prompt_tokens_details': {'audio_tokens': 0, 'cached_tokens': 0}}, 'model_name': 'gpt-4o-2024-08-06', 'system_fingerprint': 'fp_a288987b44', 'id': 'chatcmpl-BlFgDzz3FAiBAK9CkxHZakUDUep8Q', 'service_tier': 'default', 'finish_reason': 'stop', 'logprobs': None} id='run--2c751df1-6ce7-476f-92e0-b8281b5d6e15-0' usage_metadata={'input_tokens': 1396, 'output_tokens': 3391, 'total_tokens': 4787, 'input_token_details': {'audio': 0, 'cache_read': 0}, 'output_token_details': {'audio': 0, 'reasoning': 0}}\n",
      "📤 Output token count (gpt-4o): 3387\n",
      "🔢 Total token usage: 4896\n",
      "\n",
      "✅ Mocked Answers list written to /Users/melaniefayne/Desktop/mtihani/mtihani_api/mtihaniapi/gen/output/answers_list.json\n"
     ]
    }
   ],
   "source": [
    "import sys\n",
    "import os\n",
    "sys.path.insert(0, os.path.abspath(\"..\"))\n",
    "from gen.utils import *\n",
    "\n",
    "# # ==== DB MOCK ANSWERS\n",
    "# # ====================\n",
    "exam = []\n",
    "EXAM_FILE = \"data/exam.json\"\n",
    "\n",
    "with open(EXAM_FILE, \"r\") as f:\n",
    "    exam = json.load(f)\n",
    "\n",
    "print(exam)\n",
    "\n",
    "\n",
    "students = []\n",
    "STUDENT_FILE = \"data/classroom.json\"\n",
    "\n",
    "with open(STUDENT_FILE, \"r\") as f:\n",
    "    students = json.load(f)\n",
    "\n",
    "print(students)\n",
    "\n",
    "\n",
    "parsed_answers = generate_llm_exam_answers_list(\n",
    "    llm=OPENAI_LLM_4O,\n",
    "    exam_data=exam,\n",
    "    student_data=students,\n",
    "    is_debug=True,\n",
    ")"
   ]
  }
 ],
 "metadata": {
  "kernelspec": {
   "display_name": ".venv",
   "language": "python",
   "name": "python3"
  },
  "language_info": {
   "codemirror_mode": {
    "name": "ipython",
    "version": 3
   },
   "file_extension": ".py",
   "mimetype": "text/x-python",
   "name": "python",
   "nbconvert_exporter": "python",
   "pygments_lexer": "ipython3",
   "version": "3.11.12"
  }
 },
 "nbformat": 4,
 "nbformat_minor": 5
}
