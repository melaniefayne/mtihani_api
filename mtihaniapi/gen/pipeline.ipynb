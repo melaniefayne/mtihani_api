{
 "cells": [
  {
   "cell_type": "code",
   "execution_count": 1,
   "id": "3e21ab12",
   "metadata": {},
   "outputs": [],
   "source": [
    "from curriculum import get_exam_curriculum, get_rubrics_by_sub_strand\n",
    "from utils import *\n",
    "import random"
   ]
  },
  {
   "cell_type": "markdown",
   "id": "786b3dd6",
   "metadata": {},
   "source": [
    "## Generate questions"
   ]
  },
  {
   "cell_type": "code",
   "execution_count": 2,
   "id": "ca6a4566",
   "metadata": {},
   "outputs": [],
   "source": [
    "bloom_skill_count = 3"
   ]
  },
  {
   "cell_type": "code",
   "execution_count": 3,
   "id": "8b14605a",
   "metadata": {},
   "outputs": [
    {
     "name": "stdout",
     "output_type": "stream",
     "text": [
      "✅ Question breakdown written to output/question_breakdown.json\n"
     ]
    }
   ],
   "source": [
    "question_brd = get_exam_curriculum(\n",
    "    strand_ids=[1,2,3,4,5,6,7,8,9,10], \n",
    "    question_count=25,\n",
    "    is_debug=True, \n",
    "    curriculum_file=\"data/cbc_data.json\",\n",
    "    bloom_skill_count=bloom_skill_count,\n",
    ")"
   ]
  },
  {
   "cell_type": "code",
   "execution_count": 4,
   "id": "61810cd7",
   "metadata": {},
   "outputs": [],
   "source": [
    "# parsed_output = generate_llm_question_list(\n",
    "#     llm=OPENAI_LLM_4O,\n",
    "#     input_data=question_brd,\n",
    "#     bloom_skill_count=bloom_skill_count,\n",
    "#     is_debug=True,\n",
    "# )\n",
    "parsed_output = [\n",
    "    {\n",
    "        \"questions\": \"Amina notices that her phone helps her communicate with friends and learn new things. How does science play a role in making her phone useful in daily life?\",\n",
    "        \"expected_answers\": \"Science contributes to the development of technology like phones, which help in communication, learning, and accessing information.\"\n",
    "    },\n",
    "    {\n",
    "        \"questions\": \"Brian has a mixture of salt and water. Describe a method he can use to separate the salt from the water.\",\n",
    "        \"expected_answers\": \"Brian can use evaporation to separate the salt from the water. By heating the mixture, the water will evaporate, leaving the salt behind.\"\n",
    "    },\n",
    "    {\n",
    "        \"questions\": \"Zawadi is learning about the human excretory system. Explain the function of the kidneys in this system.\",\n",
    "        \"expected_answers\": \"The kidneys filter waste products and excess water from the blood to form urine, which is then excreted from the body.\"\n",
    "    },\n",
    "    {\n",
    "        \"questions\": \"Musa wants to hang a poster on his metal locker using a magnet. Explain why a magnet is suitable for this task.\",\n",
    "        \"expected_answers\": \"A magnet is suitable because it can attract and hold onto the metal surface of the locker, keeping the poster in place without damaging it.\"\n",
    "    }\n",
    "]\n"
   ]
  },
  {
   "cell_type": "code",
   "execution_count": 5,
   "id": "e25fd417",
   "metadata": {},
   "outputs": [
    {
     "name": "stdout",
     "output_type": "stream",
     "text": [
      "✅ Question list written to output/question_list.json\n"
     ]
    }
   ],
   "source": [
    "QUESTION_LIST_OUTPUT_FILE = \"output/question_list.json\"\n",
    "\n",
    "with open(QUESTION_LIST_OUTPUT_FILE, 'w', encoding='utf-8') as f:\n",
    "    json.dump(parsed_output, f, ensure_ascii=False, indent=4)\n",
    "\n",
    "print(f\"✅ Question list written to {QUESTION_LIST_OUTPUT_FILE}\")"
   ]
  },
  {
   "cell_type": "code",
   "execution_count": 6,
   "id": "6f955561",
   "metadata": {},
   "outputs": [
    {
     "name": "stdout",
     "output_type": "stream",
     "text": [
      "[{'id': 1, 'question': 'Amina notices that her phone helps her communicate with friends and learn new things. How does science play a role in making her phone useful in daily life?', 'expected_answer': 'Science contributes to the development of technology like phones, which help in communication, learning, and accessing information.'}, {'id': 2, 'question': 'Brian has a mixture of salt and water. Describe a method he can use to separate the salt from the water.', 'expected_answer': 'Brian can use evaporation to separate the salt from the water. By heating the mixture, the water will evaporate, leaving the salt behind.'}, {'id': 3, 'question': 'Zawadi is learning about the human excretory system. Explain the function of the kidneys in this system.', 'expected_answer': 'The kidneys filter waste products and excess water from the blood to form urine, which is then excreted from the body.'}, {'id': 4, 'question': 'Musa wants to hang a poster on his metal locker using a magnet. Explain why a magnet is suitable for this task.', 'expected_answer': 'A magnet is suitable because it can attract and hold onto the metal surface of the locker, keeping the poster in place without damaging it.'}]\n"
     ]
    }
   ],
   "source": [
    "def convert_to_single_qa_list(data):\n",
    "    result = []\n",
    "    for index, item in enumerate(data):\n",
    "        questions = item[\"questions\"]\n",
    "        expected_answers = item[\"expected_answers\"]\n",
    "\n",
    "        if isinstance(questions, str):\n",
    "            questions = [questions]\n",
    "        if isinstance(expected_answers, str):\n",
    "            expected_answers = [expected_answers]\n",
    "\n",
    "        if questions and expected_answers:\n",
    "            result.append({\n",
    "                \"id\": index + 1,\n",
    "                \"question\": questions[0],\n",
    "                \"expected_answer\": expected_answers[0]\n",
    "            })\n",
    "\n",
    "    return result\n",
    "\n",
    "exam_output = convert_to_single_qa_list(parsed_output)\n",
    "print(exam_output)"
   ]
  },
  {
   "cell_type": "markdown",
   "id": "57fd1ee3",
   "metadata": {},
   "source": [
    "## Simulate student answers"
   ]
  },
  {
   "cell_type": "code",
   "execution_count": 7,
   "id": "6bfc4208",
   "metadata": {},
   "outputs": [
    {
     "name": "stdout",
     "output_type": "stream",
     "text": [
      "[{'id': 1, 'avg_score': 12}, {'id': 2, 'avg_score': 95}, {'id': 3, 'avg_score': 54}, {'id': 4, 'avg_score': 71}]\n"
     ]
    }
   ],
   "source": [
    "def generate_random_scores(count):\n",
    "    return [{\"id\": i+1, \"avg_score\": random.randint(0, 100)} for i in range(count)]\n",
    "\n",
    "# sample_students = generate_random_scores(4)\n",
    "sample_students = [{'id': 1, 'avg_score': 12}, {'id': 2, 'avg_score': 95}, {'id': 3, 'avg_score': 54}, {'id': 4, 'avg_score': 71}]\n",
    "print(sample_students)"
   ]
  },
  {
   "cell_type": "code",
   "execution_count": 8,
   "id": "42fdf3da",
   "metadata": {},
   "outputs": [],
   "source": [
    "# parsed_answers = generate_llm_exam_answers_list(\n",
    "#     llm=OPENAI_LLM_4O,\n",
    "#     exam_data=exam_output,\n",
    "#     student_data=sample_students,\n",
    "#     is_debug=True,\n",
    "# )\n",
    "parsed_answers = [\n",
    "    {\n",
    "        \"id\": 1,\n",
    "        \"answers\": [\n",
    "            {\n",
    "                \"question_id\": \"1\",\n",
    "                \"answer\": \"Phones are made using science, so they help us talk to friends and learn.\"\n",
    "            },\n",
    "            {\n",
    "                \"question_id\": \"2\",\n",
    "                \"answer\": \"Maybe he can just let the water dry up and the salt will stay.\"\n",
    "            },\n",
    "            {\n",
    "                \"question_id\": \"3\",\n",
    "                \"answer\": \"Kidneys clean the blood and make urine.\"\n",
    "            },\n",
    "            {\n",
    "                \"question_id\": \"4\",\n",
    "                \"answer\": \"Magnets stick to metal, so it can hold the poster.\"\n",
    "            }\n",
    "        ]\n",
    "    },\n",
    "    {\n",
    "        \"id\": 2,\n",
    "        \"answers\": [\n",
    "            {\n",
    "                \"question_id\": \"1\",\n",
    "                \"answer\": \"Science is used to create the technology in phones, allowing us to communicate and learn easily.\"\n",
    "            },\n",
    "            {\n",
    "                \"question_id\": \"2\",\n",
    "                \"answer\": \"Brian can heat the mixture so the water evaporates, leaving the salt behind.\"\n",
    "            },\n",
    "            {\n",
    "                \"question_id\": \"3\",\n",
    "                \"answer\": \"The kidneys filter out waste and extra water from the blood, creating urine to be excreted.\"\n",
    "            },\n",
    "            {\n",
    "                \"question_id\": \"4\",\n",
    "                \"answer\": \"A magnet is suitable because it attracts the metal locker, holding the poster without damage.\"\n",
    "            }\n",
    "        ]\n",
    "    },\n",
    "    {\n",
    "        \"id\": 3,\n",
    "        \"answers\": [\n",
    "            {\n",
    "                \"question_id\": \"1\",\n",
    "                \"answer\": \"Science helps make phones that we use to talk and learn.\"\n",
    "            },\n",
    "            {\n",
    "                \"question_id\": \"2\",\n",
    "                \"answer\": \"He can heat the water so it evaporates and leaves the salt.\"\n",
    "            },\n",
    "            {\n",
    "                \"question_id\": \"3\",\n",
    "                \"answer\": \"Kidneys take out waste from blood and make urine.\"\n",
    "            },\n",
    "            {\n",
    "                \"question_id\": \"4\",\n",
    "                \"answer\": \"Magnets can stick to metal, so they hold the poster.\"\n",
    "            }\n",
    "        ]\n",
    "    },\n",
    "    {\n",
    "        \"id\": 4,\n",
    "        \"answers\": [\n",
    "            {\n",
    "                \"question_id\": \"1\",\n",
    "                \"answer\": \"Science helps in making phones that we use for communication and learning.\"\n",
    "            },\n",
    "            {\n",
    "                \"question_id\": \"2\",\n",
    "                \"answer\": \"He can use evaporation by heating the mixture to get the salt.\"\n",
    "            },\n",
    "            {\n",
    "                \"question_id\": \"3\",\n",
    "                \"answer\": \"The kidneys filter waste from the blood and make urine.\"\n",
    "            },\n",
    "            {\n",
    "                \"question_id\": \"4\",\n",
    "                \"answer\": \"A magnet can hold the poster because it sticks to metal.\"\n",
    "            }\n",
    "        ]\n",
    "    }\n",
    "]"
   ]
  },
  {
   "cell_type": "code",
   "execution_count": 9,
   "id": "72fe8ca7",
   "metadata": {},
   "outputs": [],
   "source": [
    "# # ==== DB MOCK ANSWERS\n",
    "# # ====================\n",
    "# exam = []\n",
    "# EXAM_FILE = \"data/exam.json\"\n",
    "\n",
    "# with open(EXAM_FILE, \"r\") as f:\n",
    "#     exam = json.load(f)\n",
    "\n",
    "# print(exam)\n",
    "\n",
    "\n",
    "# students = []\n",
    "# STUDENT_FILE = \"data/classroom.json\"\n",
    "\n",
    "# with open(STUDENT_FILE, \"r\") as f:\n",
    "#     students = json.load(f)\n",
    "\n",
    "# print(students)\n",
    "\n",
    "\n",
    "# parsed_answers = generate_llm_exam_answers_list(\n",
    "#     llm=OPENAI_LLM_4O,\n",
    "#     exam_data=exam,\n",
    "#     student_data=students,\n",
    "#     is_debug=True,\n",
    "# )"
   ]
  },
  {
   "cell_type": "code",
   "execution_count": 10,
   "id": "6ece5d31",
   "metadata": {},
   "outputs": [
    {
     "name": "stdout",
     "output_type": "stream",
     "text": [
      "✅ Answers list written to output/answers_list.json\n"
     ]
    }
   ],
   "source": [
    "ANSWERS_LIST_OUTPUT_FILE = \"output/answers_list.json\"\n",
    "\n",
    "with open(ANSWERS_LIST_OUTPUT_FILE, 'w', encoding='utf-8') as f:\n",
    "    json.dump(parsed_answers, f, ensure_ascii=False, indent=4)\n",
    "\n",
    "print(f\"✅ Answers list written to {ANSWERS_LIST_OUTPUT_FILE}\")"
   ]
  },
  {
   "cell_type": "markdown",
   "id": "fafd46fe",
   "metadata": {},
   "source": [
    "## Grade answers"
   ]
  },
  {
   "cell_type": "code",
   "execution_count": 11,
   "id": "16455c02",
   "metadata": {},
   "outputs": [
    {
     "name": "stdout",
     "output_type": "stream",
     "text": [
      "[{'question_id': 51, 'question_description': 'Amina noticed a broken glass beaker on the laboratory floor. What should she do to ensure safety?', 'expected_answer': 'Amina should inform the teacher immediately and ensure no one steps on the broken glass.', 'sub_strand': 'Laboratory Safety', 'answers': [{'answer_id': 1, 'description': 'Amina should tell the teacher right away and make sure no one steps on the broken glass.'}, {'answer_id': 26, 'description': 'Amina should tell the teacher and make sure no one steps on it.'}, {'answer_id': 51, 'description': 'Amina should tell the teacher.'}, {'answer_id': 76, 'description': 'Amina should inform the teacher immediately and make sure no one steps on the glass.'}, {'answer_id': 101, 'description': 'Amina should tell the teacher and make sure no one steps on the glass.'}, {'answer_id': 126, 'description': 'Amina should tell the teacher and make sure no one steps on it.'}, {'answer_id': 151, 'description': 'Amina should tell the teacher and make sure no one steps on the glass.'}, {'answer_id': 176, 'description': 'Amina should tell the teacher and make sure no one steps on it.'}, {'answer_id': 201, 'description': 'Amina should tell the teacher and make sure no one steps on it.'}, {'answer_id': 226, 'description': 'Amina should tell the teacher and make sure no one steps on the glass.'}], 'rubrics': [{'skill': 'Ability to demonstrate First Aid measures for common laboratory accidents', 'rubrics': [{'expectation': 'Exceeds', 'description': 'Demonstrates First Aid measures for common laboratory accidents consistently'}, {'expectation': 'Meets', 'description': 'Demonstrates First Aid measures for common laboratory accidents'}, {'expectation': 'Approaches', 'description': 'Demonstrates some First Aid measures for common laboratory accidents'}, {'expectation': 'Below', 'description': 'Demonstrates some First Aid measures for common laboratory accidents with assistance'}]}, {'skill': 'Ability to identify common hazards and their symbols in the laboratory', 'rubrics': [{'expectation': 'Exceeds', 'description': 'Identifies common hazards and their symbols in the laboratory consistently'}, {'expectation': 'Meets', 'description': 'Identifies common hazards and their symbols in the laboratory'}, {'expectation': 'Approaches', 'description': 'Identifies some common hazards and their symbols in the laboratory'}, {'expectation': 'Below', 'description': 'Identifies some common hazards and their symbols in the laboratory with prompts'}]}]}, {'question_id': 52, 'question_description': 'Zawadi is at home and notices a fire starting in the kitchen. How should she decide which fire extinguisher to use?', 'expected_answer': 'Zawadi should identify the type of fire (e.g., grease, electrical) and use the appropriate extinguisher for that class.', 'sub_strand': 'Classes of Fire', 'answers': [{'answer_id': 2, 'description': \"Zawadi should check what kind of fire it is, like if it's from oil or electricity, and use the right extinguisher.\"}, {'answer_id': 27, 'description': 'Zawadi should know the type of fire and use the right extinguisher.'}, {'answer_id': 52, 'description': 'Zawadi should use the right extinguisher for the fire.'}, {'answer_id': 77, 'description': 'Zawadi should identify the type of fire, like grease or electrical, and use the correct extinguisher.'}, {'answer_id': 102, 'description': 'Zawadi should know the type of fire and use the right extinguisher.'}, {'answer_id': 127, 'description': 'Zawadi should know the type of fire and use the right extinguisher.'}, {'answer_id': 152, 'description': 'Zawadi should know the type of fire and use the right extinguisher.'}, {'answer_id': 177, 'description': 'Zawadi should know the type of fire and use the right extinguisher.'}, {'answer_id': 202, 'description': 'Zawadi should know the type of fire and use the right extinguisher.'}, {'answer_id': 227, 'description': 'Zawadi should know the type of fire and use the right extinguisher.'}], 'rubrics': [{'skill': 'Ability to identify fire classes and use appropriate extinguishing methods', 'rubrics': [{'expectation': 'Exceeds', 'description': 'Identifies all fire classes and confidently matches them with the correct extinguishers and safety actions'}, {'expectation': 'Meets', 'description': 'Identifies most fire classes with correct extinguishers and provides suitable responses'}, {'expectation': 'Approaches', 'description': 'Identifies some fire classes and matches some extinguishers with guidance'}, {'expectation': 'Below', 'description': 'Identifies fire classes and extinguishers with prompts and limited accuracy'}]}]}, {'question_id': 53, 'question_description': 'Musa is studying the human excretory system. How do the kidneys and skin work together to remove waste from the body?', 'expected_answer': 'The kidneys filter waste from the blood, while the skin removes waste through sweat.', 'sub_strand': 'Human Excretory System', 'answers': [{'answer_id': 3, 'description': 'The kidneys clean the blood by removing waste, and the skin helps by sweating out some waste.'}, {'answer_id': 28, 'description': 'Kidneys clean blood and skin sweats out waste.'}, {'answer_id': 53, 'description': 'Kidneys clean blood, skin sweats.'}, {'answer_id': 78, 'description': 'The kidneys filter waste from the blood, and the skin helps remove waste through sweat.'}, {'answer_id': 103, 'description': 'Kidneys clean blood and skin sweats out waste.'}, {'answer_id': 128, 'description': 'Kidneys clean blood and skin sweats out waste.'}, {'answer_id': 153, 'description': 'Kidneys clean blood and skin sweats out waste.'}, {'answer_id': 178, 'description': 'Kidneys clean blood and skin sweats out waste.'}, {'answer_id': 203, 'description': 'Kidneys clean blood and skin sweats out waste.'}, {'answer_id': 228, 'description': 'Kidneys clean blood and skin sweats out waste.'}], 'rubrics': [{'skill': 'Ability to develop and maintain a daily log on activities that promote skin and kidney health', 'rubrics': [{'expectation': 'Exceeds', 'description': 'Develops and maintains a purposeful daily log on activities that promote skin and kidney health'}, {'expectation': 'Meets', 'description': 'Develops and maintain a daily log on activities that promote skin and kidney health'}, {'expectation': 'Approaches', 'description': 'Develops and maintain a simple daily log on activities that promote skin and kidney health'}, {'expectation': 'Below', 'description': 'Develops and maintain a haphazard daily log on activities that promote skin and kidney health'}]}, {'skill': 'Ability to identify parts of the excretory system and their functions', 'rubrics': [{'expectation': 'Exceeds', 'description': 'Identifies parts of the excretory system and their functions comprehensively'}, {'expectation': 'Meets', 'description': 'Identifies parts of the excretory system and their functions'}, {'expectation': 'Approaches', 'description': 'Identifies parts of the excretory system and their functions partially'}, {'expectation': 'Below', 'description': 'Identifies parts of the excretory system and their functions partially with prompts'}]}]}, {'question_id': 54, 'question_description': 'Brian wants to make a simple electric circuit at home. What materials does he need to demonstrate the flow of electric current?', 'expected_answer': 'Brian needs a battery, wires, and a small bulb to make a simple electric circuit.', 'sub_strand': 'Electrical Energy', 'answers': [{'answer_id': 4, 'description': 'Brian needs a battery, some wires, and a bulb to show how electricity flows.'}, {'answer_id': 29, 'description': 'Brian needs a battery, wires, and a bulb.'}, {'answer_id': 54, 'description': 'Battery, wires, bulb.'}, {'answer_id': 79, 'description': 'Brian needs a battery, wires, and a bulb to make a simple electric circuit.'}, {'answer_id': 104, 'description': 'Brian needs a battery, wires, and a bulb.'}, {'answer_id': 129, 'description': 'Brian needs a battery, wires, and a bulb.'}, {'answer_id': 154, 'description': 'Brian needs a battery, wires, and a bulb.'}, {'answer_id': 179, 'description': 'Brian needs a battery, wires, and a bulb.'}, {'answer_id': 204, 'description': 'Brian needs a battery, wires, and a bulb.'}, {'answer_id': 229, 'description': 'Brian needs a battery, wires, and a bulb.'}], 'rubrics': [{'skill': 'Ability to identify common electrical appliances used in day-to-day life', 'rubrics': [{'expectation': 'Exceeds', 'description': 'Identifies common electrical appliances used in day-to-day life extensively'}, {'expectation': 'Meets', 'description': 'Identifies common electrical appliances used in day-to-day life sufficiently'}, {'expectation': 'Approaches', 'description': 'Identifies some common electrical appliances used in day-to-day life'}, {'expectation': 'Below', 'description': 'Identifies some common electrical appliances used in day-to-day life with prompts'}]}, {'skill': 'Ability to identify safety measures observed when handling electrical appliances', 'rubrics': [{'expectation': 'Exceeds', 'description': 'Extensively identifies safety measures observed when handling electrical appliances'}, {'expectation': 'Meets', 'description': 'Sufficiently identifies safety measures observed when handling electrical appliances'}, {'expectation': 'Approaches', 'description': 'Identifies some safety measures observed when handling electrical appliances correctly'}, {'expectation': 'Below', 'description': 'Identifies some safety measures observed when handling electrical appliances with prompt'}]}, {'skill': 'Ability to identify sources of electricity in the environment', 'rubrics': [{'expectation': 'Exceeds', 'description': 'Identifies sources of electricity in the environment extensively'}, {'expectation': 'Meets', 'description': 'Identifies sources of electricity in the environment sufficiently'}, {'expectation': 'Approaches', 'description': 'Identifies some sources of electricity in the environment'}, {'expectation': 'Below', 'description': 'Identifies some sources of electricity in the environment with prompt'}]}]}, {'question_id': 55, 'question_description': 'What is the symbol for a corrosive hazard in the laboratory?', 'expected_answer': 'The symbol for a corrosive hazard is a test tube pouring liquid onto a hand and a surface.', 'sub_strand': 'Laboratory Safety', 'answers': [{'answer_id': 5, 'description': 'The symbol for corrosive hazard is a test tube pouring liquid on a hand and a surface.'}, {'answer_id': 30, 'description': 'The symbol is a test tube pouring on a hand.'}, {'answer_id': 55, 'description': 'A test tube pouring on a hand.'}, {'answer_id': 80, 'description': 'The symbol for a corrosive hazard is a test tube pouring liquid onto a hand and a surface.'}, {'answer_id': 105, 'description': 'The symbol is a test tube pouring on a hand.'}, {'answer_id': 130, 'description': 'The symbol is a test tube pouring on a hand.'}, {'answer_id': 155, 'description': 'The symbol is a test tube pouring on a hand.'}, {'answer_id': 180, 'description': 'The symbol is a test tube pouring on a hand.'}, {'answer_id': 205, 'description': 'The symbol is a test tube pouring on a hand.'}, {'answer_id': 230, 'description': 'The symbol is a test tube pouring on a hand.'}], 'rubrics': [{'skill': 'Ability to demonstrate First Aid measures for common laboratory accidents', 'rubrics': [{'expectation': 'Exceeds', 'description': 'Demonstrates First Aid measures for common laboratory accidents consistently'}, {'expectation': 'Meets', 'description': 'Demonstrates First Aid measures for common laboratory accidents'}, {'expectation': 'Approaches', 'description': 'Demonstrates some First Aid measures for common laboratory accidents'}, {'expectation': 'Below', 'description': 'Demonstrates some First Aid measures for common laboratory accidents with assistance'}]}, {'skill': 'Ability to identify common hazards and their symbols in the laboratory', 'rubrics': [{'expectation': 'Exceeds', 'description': 'Identifies common hazards and their symbols in the laboratory consistently'}, {'expectation': 'Meets', 'description': 'Identifies common hazards and their symbols in the laboratory'}, {'expectation': 'Approaches', 'description': 'Identifies some common hazards and their symbols in the laboratory'}, {'expectation': 'Below', 'description': 'Identifies some common hazards and their symbols in the laboratory with prompts'}]}]}, {'question_id': 56, 'question_description': 'Explain the difference between an element and a compound using water as an example.', 'expected_answer': 'An element is a pure substance made of one type of atom, while a compound is made of two or more elements chemically combined. Water is a compound of hydrogen and oxygen.', 'sub_strand': 'Elements and Compounds', 'answers': [{'answer_id': 6, 'description': 'An element is made of one type of atom, like hydrogen. A compound has two or more elements, like water which is hydrogen and oxygen.'}, {'answer_id': 31, 'description': 'An element is one type of atom, a compound is two or more. Water is hydrogen and oxygen.'}, {'answer_id': 56, 'description': 'Element is one atom, compound is more. Water is a compound.'}, {'answer_id': 81, 'description': 'An element is made of one type of atom, while a compound is made of two or more elements. Water is a compound of hydrogen and oxygen.'}, {'answer_id': 106, 'description': 'An element is one type of atom, a compound is two or more. Water is hydrogen and oxygen.'}, {'answer_id': 131, 'description': 'An element is one type of atom, a compound is two or more. Water is hydrogen and oxygen.'}, {'answer_id': 156, 'description': 'An element is one type of atom, a compound is two or more. Water is hydrogen and oxygen.'}, {'answer_id': 181, 'description': 'An element is one type of atom, a compound is two or more. Water is hydrogen and oxygen.'}, {'answer_id': 206, 'description': 'An element is one type of atom, a compound is two or more. Water is hydrogen and oxygen.'}, {'answer_id': 231, 'description': 'An element is one type of atom, a compound is two or more. Water is hydrogen and oxygen.'}], 'rubrics': [{'skill': 'Ability to differentiate between elements and compounds', 'rubrics': [{'expectation': 'Exceeds', 'description': 'Clearly and consistently differentiates between elements and compounds with examples'}, {'expectation': 'Meets', 'description': 'Correctly differentiates between elements and compounds'}, {'expectation': 'Approaches', 'description': 'Partially differentiates between elements and compounds'}, {'expectation': 'Below', 'description': 'Attempts to differentiate with prompts'}]}]}, {'question_id': 57, 'question_description': 'How do the kidneys and skin work together to maintain a healthy body?', 'expected_answer': 'The kidneys filter waste from the blood, while the skin removes waste through sweat, both helping to maintain balance.', 'sub_strand': 'Human Excretory System', 'answers': [{'answer_id': 7, 'description': 'The kidneys filter waste from the blood, and the skin removes waste through sweat, keeping the body balanced.'}, {'answer_id': 32, 'description': 'Kidneys filter blood and skin sweats waste.'}, {'answer_id': 57, 'description': 'Kidneys clean blood, skin sweats.'}, {'answer_id': 82, 'description': 'The kidneys filter waste from the blood, and the skin removes waste through sweat, helping maintain balance.'}, {'answer_id': 107, 'description': 'Kidneys filter blood and skin sweats waste.'}, {'answer_id': 132, 'description': 'Kidneys filter blood and skin sweats waste.'}, {'answer_id': 157, 'description': 'Kidneys filter blood and skin sweats waste.'}, {'answer_id': 182, 'description': 'Kidneys filter blood and skin sweats waste.'}, {'answer_id': 207, 'description': 'Kidneys filter blood and skin sweats waste.'}, {'answer_id': 232, 'description': 'Kidneys filter blood and skin sweats waste.'}], 'rubrics': [{'skill': 'Ability to develop and maintain a daily log on activities that promote skin and kidney health', 'rubrics': [{'expectation': 'Exceeds', 'description': 'Develops and maintains a purposeful daily log on activities that promote skin and kidney health'}, {'expectation': 'Meets', 'description': 'Develops and maintain a daily log on activities that promote skin and kidney health'}, {'expectation': 'Approaches', 'description': 'Develops and maintain a simple daily log on activities that promote skin and kidney health'}, {'expectation': 'Below', 'description': 'Develops and maintain a haphazard daily log on activities that promote skin and kidney health'}]}, {'skill': 'Ability to identify parts of the excretory system and their functions', 'rubrics': [{'expectation': 'Exceeds', 'description': 'Identifies parts of the excretory system and their functions comprehensively'}, {'expectation': 'Meets', 'description': 'Identifies parts of the excretory system and their functions'}, {'expectation': 'Approaches', 'description': 'Identifies parts of the excretory system and their functions partially'}, {'expectation': 'Below', 'description': 'Identifies parts of the excretory system and their functions partially with prompts'}]}]}, {'question_id': 58, 'question_description': 'Zawadi wants to make a simple electric circuit. What components should she use to demonstrate the flow of electricity?', 'expected_answer': 'Zawadi should use a battery, wires, and a bulb to make a simple electric circuit.', 'sub_strand': 'Electrical Energy', 'answers': [{'answer_id': 8, 'description': 'Zawadi should use a battery, wires, and a bulb to make a simple electric circuit.'}, {'answer_id': 33, 'description': 'Zawadi needs a battery, wires, and a bulb.'}, {'answer_id': 58, 'description': 'Battery, wires, bulb.'}, {'answer_id': 83, 'description': 'Zawadi should use a battery, wires, and a bulb to make a simple electric circuit.'}, {'answer_id': 108, 'description': 'Zawadi needs a battery, wires, and a bulb.'}, {'answer_id': 133, 'description': 'Zawadi needs a battery, wires, and a bulb.'}, {'answer_id': 158, 'description': 'Zawadi needs a battery, wires, and a bulb.'}, {'answer_id': 183, 'description': 'Zawadi needs a battery, wires, and a bulb.'}, {'answer_id': 208, 'description': 'Zawadi needs a battery, wires, and a bulb.'}, {'answer_id': 233, 'description': 'Zawadi needs a battery, wires, and a bulb.'}], 'rubrics': [{'skill': 'Ability to identify common electrical appliances used in day-to-day life', 'rubrics': [{'expectation': 'Exceeds', 'description': 'Identifies common electrical appliances used in day-to-day life extensively'}, {'expectation': 'Meets', 'description': 'Identifies common electrical appliances used in day-to-day life sufficiently'}, {'expectation': 'Approaches', 'description': 'Identifies some common electrical appliances used in day-to-day life'}, {'expectation': 'Below', 'description': 'Identifies some common electrical appliances used in day-to-day life with prompts'}]}, {'skill': 'Ability to identify safety measures observed when handling electrical appliances', 'rubrics': [{'expectation': 'Exceeds', 'description': 'Extensively identifies safety measures observed when handling electrical appliances'}, {'expectation': 'Meets', 'description': 'Sufficiently identifies safety measures observed when handling electrical appliances'}, {'expectation': 'Approaches', 'description': 'Identifies some safety measures observed when handling electrical appliances correctly'}, {'expectation': 'Below', 'description': 'Identifies some safety measures observed when handling electrical appliances with prompt'}]}, {'skill': 'Ability to identify sources of electricity in the environment', 'rubrics': [{'expectation': 'Exceeds', 'description': 'Identifies sources of electricity in the environment extensively'}, {'expectation': 'Meets', 'description': 'Identifies sources of electricity in the environment sufficiently'}, {'expectation': 'Approaches', 'description': 'Identifies some sources of electricity in the environment'}, {'expectation': 'Below', 'description': 'Identifies some sources of electricity in the environment with prompt'}]}]}, {'question_id': 59, 'question_description': 'Why is it important to evaluate the condition of laboratory apparatus before use?', 'expected_answer': 'Evaluating ensures the apparatus is safe and functional, preventing accidents and ensuring accurate results.', 'sub_strand': 'Laboratory Apparatus and Instruments', 'answers': [{'answer_id': 9, 'description': 'Checking the condition of lab equipment ensures they are safe to use and work properly, preventing accidents.'}, {'answer_id': 34, 'description': 'To make sure they are safe and work well.'}, {'answer_id': 59, 'description': 'To make sure they work.'}, {'answer_id': 84, 'description': 'Evaluating ensures the apparatus is safe and functional, preventing accidents and ensuring accurate results.'}, {'answer_id': 109, 'description': 'To make sure they are safe and work well.'}, {'answer_id': 134, 'description': 'To make sure they are safe and work well.'}, {'answer_id': 159, 'description': 'To make sure they are safe and work well.'}, {'answer_id': 184, 'description': 'To make sure they are safe and work well.'}, {'answer_id': 209, 'description': 'To make sure they are safe and work well.'}, {'answer_id': 234, 'description': 'To make sure they are safe and work well.'}], 'rubrics': [{'skill': 'Ability to use and care for apparatus and instruments in the laboratory', 'rubrics': [{'expectation': 'Exceeds', 'description': 'Uses and cares for apparatus and instruments in the laboratory correctly and accurately'}, {'expectation': 'Meets', 'description': 'Uses and cares for apparatus and instruments in the laboratory correctly'}, {'expectation': 'Approaches', 'description': 'Uses and cares for some apparatus and instruments in the laboratory'}, {'expectation': 'Below', 'description': 'Uses and cares for some apparatus and instruments in the laboratory with assistance'}]}]}, {'question_id': 60, 'question_description': 'What is the color change of litmus paper when it is dipped in an acid?', 'expected_answer': 'Litmus paper turns red when dipped in an acid.', 'sub_strand': 'Acids, Bases and Indicators', 'answers': [{'answer_id': 10, 'description': 'Litmus paper turns red when it is dipped in an acid.'}, {'answer_id': 35, 'description': 'Litmus paper turns red in acid.'}, {'answer_id': 60, 'description': 'Turns red in acid.'}, {'answer_id': 85, 'description': 'Litmus paper turns red when dipped in an acid.'}, {'answer_id': 110, 'description': 'Litmus paper turns red in acid.'}, {'answer_id': 135, 'description': 'Litmus paper turns red in acid.'}, {'answer_id': 160, 'description': 'Litmus paper turns red in acid.'}, {'answer_id': 185, 'description': 'Litmus paper turns red in acid.'}, {'answer_id': 210, 'description': 'Litmus paper turns red in acid.'}, {'answer_id': 235, 'description': 'Litmus paper turns red in acid.'}], 'rubrics': [{'skill': 'Ability to identify acids and bases', 'rubrics': [{'expectation': 'Exceeds', 'description': 'Correctly identifies all the provided substances as acids or bases'}, {'expectation': 'Meets', 'description': 'Correctly identifies most of the provided substances as acids or bases'}, {'expectation': 'Approaches', 'description': 'Correctly identifies some of the provided substances as acids or bases'}, {'expectation': 'Below', 'description': 'Correctly identifies a few of the provided substances as acids or bases'}]}, {'skill': 'Ability to outline applications of acids and bases in real life', 'rubrics': [{'expectation': 'Exceeds', 'description': 'Correctly outlines all the applications of acids and bases'}, {'expectation': 'Meets', 'description': 'Correctly outlines most of the applications of acids and bases'}, {'expectation': 'Approaches', 'description': 'Correctly outlines some of the applications of acids and bases'}, {'expectation': 'Below', 'description': 'Correctly outlines a few applications of either acids or bases'}]}]}, {'question_id': 61, 'question_description': 'Musa is planning his daily activities to promote kidney health. What should he include?', 'expected_answer': 'Musa should include drinking plenty of water, eating a balanced diet, and regular exercise.', 'sub_strand': 'Human Excretory System', 'answers': [{'answer_id': 11, 'description': 'Musa should drink lots of water, eat a balanced diet, and exercise regularly to keep his kidneys healthy.'}, {'answer_id': 36, 'description': 'Musa should drink water, eat well, and exercise.'}, {'answer_id': 61, 'description': 'Drink water, eat well, exercise.'}, {'answer_id': 86, 'description': 'Musa should drink plenty of water, eat a balanced diet, and exercise regularly to promote kidney health.'}, {'answer_id': 111, 'description': 'Musa should drink water, eat well, and exercise.'}, {'answer_id': 136, 'description': 'Musa should drink water, eat well, and exercise.'}, {'answer_id': 161, 'description': 'Musa should drink water, eat well, and exercise.'}, {'answer_id': 186, 'description': 'Musa should drink water, eat well, and exercise.'}, {'answer_id': 211, 'description': 'Musa should drink water, eat well, and exercise.'}, {'answer_id': 236, 'description': 'Musa should drink water, eat well, and exercise.'}], 'rubrics': [{'skill': 'Ability to develop and maintain a daily log on activities that promote skin and kidney health', 'rubrics': [{'expectation': 'Exceeds', 'description': 'Develops and maintains a purposeful daily log on activities that promote skin and kidney health'}, {'expectation': 'Meets', 'description': 'Develops and maintain a daily log on activities that promote skin and kidney health'}, {'expectation': 'Approaches', 'description': 'Develops and maintain a simple daily log on activities that promote skin and kidney health'}, {'expectation': 'Below', 'description': 'Develops and maintain a haphazard daily log on activities that promote skin and kidney health'}]}, {'skill': 'Ability to identify parts of the excretory system and their functions', 'rubrics': [{'expectation': 'Exceeds', 'description': 'Identifies parts of the excretory system and their functions comprehensively'}, {'expectation': 'Meets', 'description': 'Identifies parts of the excretory system and their functions'}, {'expectation': 'Approaches', 'description': 'Identifies parts of the excretory system and their functions partially'}, {'expectation': 'Below', 'description': 'Identifies parts of the excretory system and their functions partially with prompts'}]}]}, {'question_id': 62, 'question_description': 'Zawadi wants to create a simple electric circuit. What materials does she need?', 'expected_answer': 'Zawadi needs a battery, wires, and a bulb to create a simple electric circuit.', 'sub_strand': 'Electrical Energy', 'answers': [{'answer_id': 12, 'description': 'Zawadi needs a battery, wires, and a bulb to create a simple electric circuit.'}, {'answer_id': 37, 'description': 'Zawadi needs a battery, wires, and a bulb.'}, {'answer_id': 62, 'description': 'Battery, wires, bulb.'}, {'answer_id': 87, 'description': 'Zawadi needs a battery, wires, and a bulb to create a simple electric circuit.'}, {'answer_id': 112, 'description': 'Zawadi needs a battery, wires, and a bulb.'}, {'answer_id': 137, 'description': 'Zawadi needs a battery, wires, and a bulb.'}, {'answer_id': 162, 'description': 'Zawadi needs a battery, wires, and a bulb.'}, {'answer_id': 187, 'description': 'Zawadi needs a battery, wires, and a bulb.'}, {'answer_id': 212, 'description': 'Zawadi needs a battery, wires, and a bulb.'}, {'answer_id': 237, 'description': 'Zawadi needs a battery, wires, and a bulb.'}], 'rubrics': [{'skill': 'Ability to identify common electrical appliances used in day-to-day life', 'rubrics': [{'expectation': 'Exceeds', 'description': 'Identifies common electrical appliances used in day-to-day life extensively'}, {'expectation': 'Meets', 'description': 'Identifies common electrical appliances used in day-to-day life sufficiently'}, {'expectation': 'Approaches', 'description': 'Identifies some common electrical appliances used in day-to-day life'}, {'expectation': 'Below', 'description': 'Identifies some common electrical appliances used in day-to-day life with prompts'}]}, {'skill': 'Ability to identify safety measures observed when handling electrical appliances', 'rubrics': [{'expectation': 'Exceeds', 'description': 'Extensively identifies safety measures observed when handling electrical appliances'}, {'expectation': 'Meets', 'description': 'Sufficiently identifies safety measures observed when handling electrical appliances'}, {'expectation': 'Approaches', 'description': 'Identifies some safety measures observed when handling electrical appliances correctly'}, {'expectation': 'Below', 'description': 'Identifies some safety measures observed when handling electrical appliances with prompt'}]}, {'skill': 'Ability to identify sources of electricity in the environment', 'rubrics': [{'expectation': 'Exceeds', 'description': 'Identifies sources of electricity in the environment extensively'}, {'expectation': 'Meets', 'description': 'Identifies sources of electricity in the environment sufficiently'}, {'expectation': 'Approaches', 'description': 'Identifies some sources of electricity in the environment'}, {'expectation': 'Below', 'description': 'Identifies some sources of electricity in the environment with prompt'}]}]}, {'question_id': 63, 'question_description': 'Evaluate the importance of science in solving everyday problems.', 'expected_answer': 'Science helps in understanding natural phenomena, improving technology, and solving health and environmental issues.', 'sub_strand': 'Introduction to Integrated Science', 'answers': [{'answer_id': 13, 'description': 'Science helps us understand the world, improve technology, and solve problems like health and environmental issues.'}, {'answer_id': 38, 'description': 'Science helps solve problems and improve life.'}, {'answer_id': 63, 'description': 'Science helps solve problems.'}, {'answer_id': 88, 'description': 'Science helps us understand natural phenomena, improve technology, and solve health and environmental issues.'}, {'answer_id': 113, 'description': 'Science helps solve problems and improve life.'}, {'answer_id': 138, 'description': 'Science helps solve problems and improve life.'}, {'answer_id': 163, 'description': 'Science helps solve problems and improve life.'}, {'answer_id': 188, 'description': 'Science helps solve problems and improve life.'}, {'answer_id': 213, 'description': 'Science helps solve problems and improve life.'}, {'answer_id': 238, 'description': 'Science helps solve problems and improve life.'}], 'rubrics': [{'skill': 'Ability to explain the importance of science in daily life', 'rubrics': [{'expectation': 'Exceeds', 'description': 'Explains the importance of science in daily life extensively'}, {'expectation': 'Meets', 'description': 'Explains the importance of science in daily life'}, {'expectation': 'Approaches', 'description': 'Explains the importance of science in daily life partially'}, {'expectation': 'Below', 'description': 'Explains the importance of science in daily life partially with prompts'}]}]}, {'question_id': 64, 'question_description': 'Why is it important to evaluate the effects of physical and chemical changes in the environment?', 'expected_answer': 'Evaluating helps in understanding environmental impacts and finding ways to mitigate negative effects.', 'sub_strand': 'Physical and Chemical Changes', 'answers': [{'answer_id': 14, 'description': 'Evaluating these changes helps us understand their impact on the environment and find ways to reduce negative effects.'}, {'answer_id': 39, 'description': 'To know how they affect the environment.'}, {'answer_id': 64, 'description': 'To know the effects on the environment.'}, {'answer_id': 89, 'description': 'Evaluating helps us understand environmental impacts and find ways to mitigate negative effects.'}, {'answer_id': 114, 'description': 'To know how they affect the environment.'}, {'answer_id': 139, 'description': 'To know how they affect the environment.'}, {'answer_id': 164, 'description': 'To know how they affect the environment.'}, {'answer_id': 189, 'description': 'To know how they affect the environment.'}, {'answer_id': 214, 'description': 'To know how they affect the environment.'}, {'answer_id': 239, 'description': 'To know how they affect the environment.'}], 'rubrics': [{'skill': 'Ability to distinguish between physical and chemical changes', 'rubrics': [{'expectation': 'Exceeds', 'description': 'Clearly distinguishes between physical and chemical changes and provides real-life examples'}, {'expectation': 'Meets', 'description': 'Correctly distinguishes physical from chemical changes'}, {'expectation': 'Approaches', 'description': 'Partially distinguishes with some examples'}, {'expectation': 'Below', 'description': 'Attempts to distinguish with prompts'}]}]}, {'question_id': 65, 'question_description': 'Evaluate the importance of understanding the functions of the reproductive system during adolescence.', 'expected_answer': 'Understanding helps in managing changes, promoting health, and making informed decisions.', 'sub_strand': 'Human Reproductive System', 'answers': [{'answer_id': 15, 'description': 'Understanding the reproductive system helps adolescents manage changes, stay healthy, and make informed choices.'}, {'answer_id': 40, 'description': 'It helps in understanding changes and staying healthy.'}, {'answer_id': 65, 'description': 'Helps understand changes.'}, {'answer_id': 90, 'description': 'Understanding helps in managing changes, promoting health, and making informed decisions.'}, {'answer_id': 115, 'description': 'It helps in understanding changes and staying healthy.'}, {'answer_id': 140, 'description': 'It helps in understanding changes and staying healthy.'}, {'answer_id': 165, 'description': 'It helps in understanding changes and staying healthy.'}, {'answer_id': 190, 'description': 'It helps in understanding changes and staying healthy.'}, {'answer_id': 215, 'description': 'It helps in understanding changes and staying healthy.'}, {'answer_id': 240, 'description': 'It helps in understanding changes and staying healthy.'}], 'rubrics': [{'skill': 'Ability to describe functions of parts of the male and female reproductive system', 'rubrics': [{'expectation': 'Exceeds', 'description': 'Describes functions of parts of the male and female reproductive system precisely'}, {'expectation': 'Meets', 'description': 'Describes functions of parts of the male and female reproductive system'}, {'expectation': 'Approaches', 'description': 'Describes functions of parts of the male and female reproductive system partially'}, {'expectation': 'Below', 'description': 'Describes functions of parts of the male and female reproductive system partially with prompts'}]}, {'skill': 'Ability to develop a plan to manage developmental challenges during adolescence', 'rubrics': [{'expectation': 'Exceeds', 'description': 'Develops an innovative plan to manage developmental challenges during adolescence'}, {'expectation': 'Meets', 'description': 'Develops a plan to manage developmental challenges during adolescence'}, {'expectation': 'Approaches', 'description': 'Develops a simple plan to manage developmental challenges during adolescence'}, {'expectation': 'Below', 'description': 'Develops a sketchy plan to manage developmental challenges during adolescence'}]}]}, {'question_id': 66, 'question_description': 'Create a simple experiment to demonstrate the properties of a magnet.', 'expected_answer': 'Use a magnet to attract paper clips or iron filings to show magnetic properties.', 'sub_strand': 'Magnetism', 'answers': [{'answer_id': 16, 'description': 'You can use a magnet to pick up paper clips or iron filings to show how magnets attract certain metals.'}, {'answer_id': 41, 'description': 'Use a magnet to pick up paper clips.'}, {'answer_id': 66, 'description': 'Use a magnet to pick up clips.'}, {'answer_id': 91, 'description': 'Use a magnet to attract paper clips or iron filings to show magnetic properties.'}, {'answer_id': 116, 'description': 'Use a magnet to pick up paper clips.'}, {'answer_id': 141, 'description': 'Use a magnet to pick up paper clips.'}, {'answer_id': 166, 'description': 'Use a magnet to pick up paper clips.'}, {'answer_id': 191, 'description': 'Use a magnet to pick up paper clips.'}, {'answer_id': 216, 'description': 'Use a magnet to pick up paper clips.'}, {'answer_id': 241, 'description': 'Use a magnet to pick up paper clips.'}], 'rubrics': [{'skill': 'Ability to demonstrate the properties of a magnet', 'rubrics': [{'expectation': 'Exceeds', 'description': 'Demonstrates the properties of a magnet correctly and consistently'}, {'expectation': 'Meets', 'description': 'Demonstrates the properties of a magnet correctly'}, {'expectation': 'Approaches', 'description': 'Demonstrates the properties of a magnet partially'}, {'expectation': 'Below', 'description': 'Demonstrates some properties of a magnet with prompt'}]}, {'skill': 'Ability to identify the uses of magnets in day-to-day life', 'rubrics': [{'expectation': 'Exceeds', 'description': 'Identifies the uses of magnets in day-to-day life extensively'}, {'expectation': 'Meets', 'description': 'Identifies the uses of magnets in day-to-day life sufficiently'}, {'expectation': 'Approaches', 'description': 'Identifies some of the uses of magnets in day-to-day life correctly'}, {'expectation': 'Below', 'description': 'Identifies the uses of magnets in day-to-day life superficially with prompt'}]}]}, {'question_id': 67, 'question_description': 'Why is it important to analyze the causes of common laboratory accidents?', 'expected_answer': 'Analyzing helps in preventing accidents and ensuring a safe working environment.', 'sub_strand': 'Laboratory Safety', 'answers': [{'answer_id': 17, 'description': 'Analyzing causes of lab accidents helps prevent them and keeps the lab a safe place to work.'}, {'answer_id': 42, 'description': 'To prevent accidents in the lab.'}, {'answer_id': 67, 'description': 'To prevent accidents.'}, {'answer_id': 92, 'description': 'Analyzing helps in preventing accidents and ensuring a safe working environment.'}, {'answer_id': 117, 'description': 'To prevent accidents in the lab.'}, {'answer_id': 142, 'description': 'To prevent accidents in the lab.'}, {'answer_id': 167, 'description': 'To prevent accidents in the lab.'}, {'answer_id': 192, 'description': 'To prevent accidents in the lab.'}, {'answer_id': 217, 'description': 'To prevent accidents in the lab.'}, {'answer_id': 242, 'description': 'To prevent accidents in the lab.'}], 'rubrics': [{'skill': 'Ability to demonstrate First Aid measures for common laboratory accidents', 'rubrics': [{'expectation': 'Exceeds', 'description': 'Demonstrates First Aid measures for common laboratory accidents consistently'}, {'expectation': 'Meets', 'description': 'Demonstrates First Aid measures for common laboratory accidents'}, {'expectation': 'Approaches', 'description': 'Demonstrates some First Aid measures for common laboratory accidents'}, {'expectation': 'Below', 'description': 'Demonstrates some First Aid measures for common laboratory accidents with assistance'}]}, {'skill': 'Ability to identify common hazards and their symbols in the laboratory', 'rubrics': [{'expectation': 'Exceeds', 'description': 'Identifies common hazards and their symbols in the laboratory consistently'}, {'expectation': 'Meets', 'description': 'Identifies common hazards and their symbols in the laboratory'}, {'expectation': 'Approaches', 'description': 'Identifies some common hazards and their symbols in the laboratory'}, {'expectation': 'Below', 'description': 'Identifies some common hazards and their symbols in the laboratory with prompts'}]}]}, {'question_id': 68, 'question_description': 'Why is it important to evaluate the effects of physical and chemical changes on the environment?', 'expected_answer': 'Evaluating helps in understanding environmental impacts and finding ways to mitigate negative effects.', 'sub_strand': 'Physical and Chemical Changes', 'answers': [{'answer_id': 18, 'description': 'Evaluating these changes helps us understand their impact on the environment and find ways to reduce negative effects.'}, {'answer_id': 43, 'description': 'To know how they affect the environment.'}, {'answer_id': 68, 'description': 'To know the effects on the environment.'}, {'answer_id': 93, 'description': 'Evaluating helps us understand environmental impacts and find ways to mitigate negative effects.'}, {'answer_id': 118, 'description': 'To know how they affect the environment.'}, {'answer_id': 143, 'description': 'To know how they affect the environment.'}, {'answer_id': 168, 'description': 'To know how they affect the environment.'}, {'answer_id': 193, 'description': 'To know how they affect the environment.'}, {'answer_id': 218, 'description': 'To know how they affect the environment.'}, {'answer_id': 243, 'description': 'To know how they affect the environment.'}], 'rubrics': [{'skill': 'Ability to distinguish between physical and chemical changes', 'rubrics': [{'expectation': 'Exceeds', 'description': 'Clearly distinguishes between physical and chemical changes and provides real-life examples'}, {'expectation': 'Meets', 'description': 'Correctly distinguishes physical from chemical changes'}, {'expectation': 'Approaches', 'description': 'Partially distinguishes with some examples'}, {'expectation': 'Below', 'description': 'Attempts to distinguish with prompts'}]}]}, {'question_id': 69, 'question_description': 'How do the kidneys and skin work together to maintain a healthy body?', 'expected_answer': 'The kidneys filter waste from the blood, while the skin removes waste through sweat, both helping to maintain balance.', 'sub_strand': 'Human Excretory System', 'answers': [{'answer_id': 19, 'description': 'The kidneys filter waste from the blood, and the skin removes waste through sweat, keeping the body balanced.'}, {'answer_id': 44, 'description': 'Kidneys filter blood and skin sweats waste.'}, {'answer_id': 69, 'description': 'Kidneys clean blood, skin sweats.'}, {'answer_id': 94, 'description': 'The kidneys filter waste from the blood, and the skin removes waste through sweat, helping maintain balance.'}, {'answer_id': 119, 'description': 'Kidneys filter blood and skin sweats waste.'}, {'answer_id': 144, 'description': 'Kidneys filter blood and skin sweats waste.'}, {'answer_id': 169, 'description': 'Kidneys filter blood and skin sweats waste.'}, {'answer_id': 194, 'description': 'Kidneys filter blood and skin sweats waste.'}, {'answer_id': 219, 'description': 'Kidneys filter blood and skin sweats waste.'}, {'answer_id': 244, 'description': 'Kidneys filter blood and skin sweats waste.'}], 'rubrics': [{'skill': 'Ability to develop and maintain a daily log on activities that promote skin and kidney health', 'rubrics': [{'expectation': 'Exceeds', 'description': 'Develops and maintains a purposeful daily log on activities that promote skin and kidney health'}, {'expectation': 'Meets', 'description': 'Develops and maintain a daily log on activities that promote skin and kidney health'}, {'expectation': 'Approaches', 'description': 'Develops and maintain a simple daily log on activities that promote skin and kidney health'}, {'expectation': 'Below', 'description': 'Develops and maintain a haphazard daily log on activities that promote skin and kidney health'}]}, {'skill': 'Ability to identify parts of the excretory system and their functions', 'rubrics': [{'expectation': 'Exceeds', 'description': 'Identifies parts of the excretory system and their functions comprehensively'}, {'expectation': 'Meets', 'description': 'Identifies parts of the excretory system and their functions'}, {'expectation': 'Approaches', 'description': 'Identifies parts of the excretory system and their functions partially'}, {'expectation': 'Below', 'description': 'Identifies parts of the excretory system and their functions partially with prompts'}]}]}, {'question_id': 70, 'question_description': 'Evaluate the importance of using renewable sources of electricity in Kenya.', 'expected_answer': 'Renewable sources reduce pollution, conserve resources, and provide sustainable energy.', 'sub_strand': 'Electrical Energy', 'answers': [{'answer_id': 20, 'description': 'Using renewable energy reduces pollution, saves resources, and provides sustainable power for the future.'}, {'answer_id': 45, 'description': 'Renewable energy is clean and saves resources.'}, {'answer_id': 70, 'description': 'Renewable energy is clean.'}, {'answer_id': 95, 'description': 'Renewable sources reduce pollution, conserve resources, and provide sustainable energy.'}, {'answer_id': 120, 'description': 'Renewable energy is clean and saves resources.'}, {'answer_id': 145, 'description': 'Renewable energy is clean and saves resources.'}, {'answer_id': 170, 'description': 'Renewable energy is clean and saves resources.'}, {'answer_id': 195, 'description': 'Renewable energy is clean and saves resources.'}, {'answer_id': 220, 'description': 'Renewable energy is clean and saves resources.'}, {'answer_id': 245, 'description': 'Renewable energy is clean and saves resources.'}], 'rubrics': [{'skill': 'Ability to identify common electrical appliances used in day-to-day life', 'rubrics': [{'expectation': 'Exceeds', 'description': 'Identifies common electrical appliances used in day-to-day life extensively'}, {'expectation': 'Meets', 'description': 'Identifies common electrical appliances used in day-to-day life sufficiently'}, {'expectation': 'Approaches', 'description': 'Identifies some common electrical appliances used in day-to-day life'}, {'expectation': 'Below', 'description': 'Identifies some common electrical appliances used in day-to-day life with prompts'}]}, {'skill': 'Ability to identify safety measures observed when handling electrical appliances', 'rubrics': [{'expectation': 'Exceeds', 'description': 'Extensively identifies safety measures observed when handling electrical appliances'}, {'expectation': 'Meets', 'description': 'Sufficiently identifies safety measures observed when handling electrical appliances'}, {'expectation': 'Approaches', 'description': 'Identifies some safety measures observed when handling electrical appliances correctly'}, {'expectation': 'Below', 'description': 'Identifies some safety measures observed when handling electrical appliances with prompt'}]}, {'skill': 'Ability to identify sources of electricity in the environment', 'rubrics': [{'expectation': 'Exceeds', 'description': 'Identifies sources of electricity in the environment extensively'}, {'expectation': 'Meets', 'description': 'Identifies sources of electricity in the environment sufficiently'}, {'expectation': 'Approaches', 'description': 'Identifies some sources of electricity in the environment'}, {'expectation': 'Below', 'description': 'Identifies some sources of electricity in the environment with prompt'}]}]}, {'question_id': 71, 'question_description': 'What is the function of a thermometer in the laboratory?', 'expected_answer': 'A thermometer measures temperature.', 'sub_strand': 'Laboratory Apparatus and Instruments', 'answers': [{'answer_id': 21, 'description': 'A thermometer is used to measure temperature in the lab.'}, {'answer_id': 46, 'description': 'A thermometer measures temperature.'}, {'answer_id': 71, 'description': 'Measures temperature.'}, {'answer_id': 96, 'description': 'A thermometer measures temperature.'}, {'answer_id': 121, 'description': 'A thermometer measures temperature.'}, {'answer_id': 146, 'description': 'A thermometer measures temperature.'}, {'answer_id': 171, 'description': 'A thermometer measures temperature.'}, {'answer_id': 196, 'description': 'A thermometer measures temperature.'}, {'answer_id': 221, 'description': 'A thermometer measures temperature.'}, {'answer_id': 246, 'description': 'A thermometer measures temperature.'}], 'rubrics': [{'skill': 'Ability to use and care for apparatus and instruments in the laboratory', 'rubrics': [{'expectation': 'Exceeds', 'description': 'Uses and cares for apparatus and instruments in the laboratory correctly and accurately'}, {'expectation': 'Meets', 'description': 'Uses and cares for apparatus and instruments in the laboratory correctly'}, {'expectation': 'Approaches', 'description': 'Uses and cares for some apparatus and instruments in the laboratory'}, {'expectation': 'Below', 'description': 'Uses and cares for some apparatus and instruments in the laboratory with assistance'}]}]}, {'question_id': 72, 'question_description': 'Design a fire safety plan for your school. What should it include?', 'expected_answer': 'Include evacuation routes, fire drills, and locations of fire extinguishers.', 'sub_strand': 'Classes of Fire', 'answers': [{'answer_id': 22, 'description': 'A fire safety plan should have evacuation routes, regular fire drills, and locations of fire extinguishers.'}, {'answer_id': 47, 'description': 'Include evacuation routes and fire drills.'}, {'answer_id': 72, 'description': 'Evacuation routes and drills.'}, {'answer_id': 97, 'description': 'Include evacuation routes, fire drills, and locations of fire extinguishers.'}, {'answer_id': 122, 'description': 'Include evacuation routes and fire drills.'}, {'answer_id': 147, 'description': 'Include evacuation routes and fire drills.'}, {'answer_id': 172, 'description': 'Include evacuation routes and fire drills.'}, {'answer_id': 197, 'description': 'Include evacuation routes and fire drills.'}, {'answer_id': 222, 'description': 'Include evacuation routes and fire drills.'}, {'answer_id': 247, 'description': 'Include evacuation routes and fire drills.'}], 'rubrics': [{'skill': 'Ability to identify fire classes and use appropriate extinguishing methods', 'rubrics': [{'expectation': 'Exceeds', 'description': 'Identifies all fire classes and confidently matches them with the correct extinguishers and safety actions'}, {'expectation': 'Meets', 'description': 'Identifies most fire classes with correct extinguishers and provides suitable responses'}, {'expectation': 'Approaches', 'description': 'Identifies some fire classes and matches some extinguishers with guidance'}, {'expectation': 'Below', 'description': 'Identifies fire classes and extinguishers with prompts and limited accuracy'}]}]}, {'question_id': 73, 'question_description': 'What are the main parts of the human urinary system?', 'expected_answer': 'The main parts are the kidneys, ureters, bladder, and urethra.', 'sub_strand': 'Human Excretory System', 'answers': [{'answer_id': 23, 'description': 'The main parts of the urinary system are the kidneys, ureters, bladder, and urethra.'}, {'answer_id': 48, 'description': 'Kidneys, ureters, bladder, and urethra.'}, {'answer_id': 73, 'description': 'Kidneys, ureters, bladder, urethra.'}, {'answer_id': 98, 'description': 'The main parts are the kidneys, ureters, bladder, and urethra.'}, {'answer_id': 123, 'description': 'Kidneys, ureters, bladder, and urethra.'}, {'answer_id': 148, 'description': 'Kidneys, ureters, bladder, and urethra.'}, {'answer_id': 173, 'description': 'Kidneys, ureters, bladder, and urethra.'}, {'answer_id': 198, 'description': 'Kidneys, ureters, bladder, and urethra.'}, {'answer_id': 223, 'description': 'Kidneys, ureters, bladder, and urethra.'}, {'answer_id': 248, 'description': 'Kidneys, ureters, bladder, and urethra.'}], 'rubrics': [{'skill': 'Ability to develop and maintain a daily log on activities that promote skin and kidney health', 'rubrics': [{'expectation': 'Exceeds', 'description': 'Develops and maintains a purposeful daily log on activities that promote skin and kidney health'}, {'expectation': 'Meets', 'description': 'Develops and maintain a daily log on activities that promote skin and kidney health'}, {'expectation': 'Approaches', 'description': 'Develops and maintain a simple daily log on activities that promote skin and kidney health'}, {'expectation': 'Below', 'description': 'Develops and maintain a haphazard daily log on activities that promote skin and kidney health'}]}, {'skill': 'Ability to identify parts of the excretory system and their functions', 'rubrics': [{'expectation': 'Exceeds', 'description': 'Identifies parts of the excretory system and their functions comprehensively'}, {'expectation': 'Meets', 'description': 'Identifies parts of the excretory system and their functions'}, {'expectation': 'Approaches', 'description': 'Identifies parts of the excretory system and their functions partially'}, {'expectation': 'Below', 'description': 'Identifies parts of the excretory system and their functions partially with prompts'}]}]}, {'question_id': 74, 'question_description': 'Design a simple electric circuit to light a bulb. What components do you need?', 'expected_answer': 'You need a battery, wires, and a bulb to design a simple electric circuit.', 'sub_strand': 'Electrical Energy', 'answers': [{'answer_id': 24, 'description': 'You need a battery, wires, and a bulb to design a simple electric circuit.'}, {'answer_id': 49, 'description': 'You need a battery, wires, and a bulb.'}, {'answer_id': 74, 'description': 'Battery, wires, bulb.'}, {'answer_id': 99, 'description': 'You need a battery, wires, and a bulb to design a simple electric circuit.'}, {'answer_id': 124, 'description': 'You need a battery, wires, and a bulb.'}, {'answer_id': 149, 'description': 'You need a battery, wires, and a bulb.'}, {'answer_id': 174, 'description': 'You need a battery, wires, and a bulb.'}, {'answer_id': 199, 'description': 'You need a battery, wires, and a bulb.'}, {'answer_id': 224, 'description': 'You need a battery, wires, and a bulb.'}, {'answer_id': 249, 'description': 'You need a battery, wires, and a bulb.'}], 'rubrics': [{'skill': 'Ability to identify common electrical appliances used in day-to-day life', 'rubrics': [{'expectation': 'Exceeds', 'description': 'Identifies common electrical appliances used in day-to-day life extensively'}, {'expectation': 'Meets', 'description': 'Identifies common electrical appliances used in day-to-day life sufficiently'}, {'expectation': 'Approaches', 'description': 'Identifies some common electrical appliances used in day-to-day life'}, {'expectation': 'Below', 'description': 'Identifies some common electrical appliances used in day-to-day life with prompts'}]}, {'skill': 'Ability to identify safety measures observed when handling electrical appliances', 'rubrics': [{'expectation': 'Exceeds', 'description': 'Extensively identifies safety measures observed when handling electrical appliances'}, {'expectation': 'Meets', 'description': 'Sufficiently identifies safety measures observed when handling electrical appliances'}, {'expectation': 'Approaches', 'description': 'Identifies some safety measures observed when handling electrical appliances correctly'}, {'expectation': 'Below', 'description': 'Identifies some safety measures observed when handling electrical appliances with prompt'}]}, {'skill': 'Ability to identify sources of electricity in the environment', 'rubrics': [{'expectation': 'Exceeds', 'description': 'Identifies sources of electricity in the environment extensively'}, {'expectation': 'Meets', 'description': 'Identifies sources of electricity in the environment sufficiently'}, {'expectation': 'Approaches', 'description': 'Identifies some sources of electricity in the environment'}, {'expectation': 'Below', 'description': 'Identifies some sources of electricity in the environment with prompt'}]}]}, {'question_id': 75, 'question_description': 'Evaluate the importance of using laboratory apparatus correctly.', 'expected_answer': 'Correct use ensures accurate results and prevents accidents.', 'sub_strand': 'Laboratory Apparatus and Instruments', 'answers': [{'answer_id': 25, 'description': 'Using lab equipment correctly ensures accurate results and prevents accidents.'}, {'answer_id': 50, 'description': 'To get correct results and avoid accidents.'}, {'answer_id': 75, 'description': 'To avoid accidents.'}, {'answer_id': 100, 'description': 'Correct use ensures accurate results and prevents accidents.'}, {'answer_id': 125, 'description': 'To get correct results and avoid accidents.'}, {'answer_id': 150, 'description': 'To get correct results and avoid accidents.'}, {'answer_id': 175, 'description': 'To get correct results and avoid accidents.'}, {'answer_id': 200, 'description': 'To get correct results and avoid accidents.'}, {'answer_id': 225, 'description': 'To get correct results and avoid accidents.'}, {'answer_id': 250, 'description': 'To get correct results and avoid accidents.'}], 'rubrics': [{'skill': 'Ability to use and care for apparatus and instruments in the laboratory', 'rubrics': [{'expectation': 'Exceeds', 'description': 'Uses and cares for apparatus and instruments in the laboratory correctly and accurately'}, {'expectation': 'Meets', 'description': 'Uses and cares for apparatus and instruments in the laboratory correctly'}, {'expectation': 'Approaches', 'description': 'Uses and cares for some apparatus and instruments in the laboratory'}, {'expectation': 'Below', 'description': 'Uses and cares for some apparatus and instruments in the laboratory with assistance'}]}]}]\n"
     ]
    }
   ],
   "source": [
    "exam_answers = []\n",
    "EXAM_ANSWERS_FILE = \"data/answers.json\"\n",
    "\n",
    "with open(EXAM_ANSWERS_FILE, \"r\") as f:\n",
    "    exam_answers = json.load(f)\n",
    "\n",
    "print(exam_answers)"
   ]
  },
  {
   "cell_type": "code",
   "execution_count": 12,
   "id": "509a6026",
   "metadata": {},
   "outputs": [],
   "source": [
    "updated_exam_answers = []\n",
    "for qa in exam_answers:\n",
    "    qa['rubrics'] = sub_strand_rubrics = get_rubrics_by_sub_strand(\n",
    "            sub_strand_name=qa['sub_strand'],\n",
    "            curriculum_file=\"data/cbc_data.json\",\n",
    "        )\n",
    "    updated_exam_answers.append(qa)"
   ]
  },
  {
   "cell_type": "code",
   "execution_count": 13,
   "id": "47cbbfb9",
   "metadata": {},
   "outputs": [
    {
     "name": "stdout",
     "output_type": "stream",
     "text": [
      "✅ Updated exam answers written to data/answers.json\n"
     ]
    }
   ],
   "source": [
    "EXAM_ANSWERS_FILE = \"data/answers.json\"\n",
    "\n",
    "with open(EXAM_ANSWERS_FILE, 'w', encoding='utf-8') as f:\n",
    "    json.dump(updated_exam_answers, f, ensure_ascii=False, indent=4)\n",
    "\n",
    "print(f\"✅ Updated exam answers written to {EXAM_ANSWERS_FILE}\")"
   ]
  },
  {
   "cell_type": "code",
   "execution_count": 20,
   "id": "c44699d4",
   "metadata": {},
   "outputs": [
    {
     "name": "stdout",
     "output_type": "stream",
     "text": [
      "📝 Input token count (gpt-4o): 776\n",
      "📦 Raw LLM output:\n",
      " content='```json\\n[\\n  {\\n    \"answer_id\": \"7\",\\n    \"score\": \"4\"\\n  },\\n  {\\n    \"answer_id\": \"32\",\\n    \"score\": \"3\"\\n  },\\n  {\\n    \"answer_id\": \"57\",\\n    \"score\": \"2\"\\n  },\\n  {\\n    \"answer_id\": \"82\",\\n    \"score\": \"4\"\\n  },\\n  {\\n    \"answer_id\": \"107\",\\n    \"score\": \"3\"\\n  },\\n  {\\n    \"answer_id\": \"132\",\\n    \"score\": \"3\"\\n  },\\n  {\\n    \"answer_id\": \"157\",\\n    \"score\": \"3\"\\n  },\\n  {\\n    \"answer_id\": \"182\",\\n    \"score\": \"3\"\\n  },\\n  {\\n    \"answer_id\": \"207\",\\n    \"score\": \"3\"\\n  },\\n  {\\n    \"answer_id\": \"232\",\\n    \"score\": \"3\"\\n  }\\n]\\n```' additional_kwargs={'refusal': None} response_metadata={'token_usage': {'completion_tokens': 197, 'prompt_tokens': 783, 'total_tokens': 980, 'completion_tokens_details': {'accepted_prediction_tokens': 0, 'audio_tokens': 0, 'reasoning_tokens': 0, 'rejected_prediction_tokens': 0}, 'prompt_tokens_details': {'audio_tokens': 0, 'cached_tokens': 0}}, 'model_name': 'gpt-4o-2024-08-06', 'system_fingerprint': 'fp_d8864f8b6b', 'id': 'chatcmpl-BWOwkzs27IP65DhfYaV7XtsLmy7zZ', 'service_tier': 'default', 'finish_reason': 'stop', 'logprobs': None} id='run--607c6ec1-64f7-495b-828c-9c28bb00fd3b-0' usage_metadata={'input_tokens': 783, 'output_tokens': 197, 'total_tokens': 980, 'input_token_details': {'audio': 0, 'cache_read': 0}, 'output_token_details': {'audio': 0, 'reasoning': 0}}\n",
      "📤 Output token count (gpt-4o): 192\n",
      "🔢 Total token usage: 968\n"
     ]
    }
   ],
   "source": [
    "parsed_grades = generate_llm_answer_grading_list(\n",
    "    llm=OPENAI_LLM_4O,\n",
    "    question_data=updated_exam_answers[6],\n",
    "    is_debug=True,\n",
    ")"
   ]
  },
  {
   "cell_type": "code",
   "execution_count": 21,
   "id": "86c354c8",
   "metadata": {},
   "outputs": [
    {
     "name": "stdout",
     "output_type": "stream",
     "text": [
      "✅ Grades list written to output/grades_list.json\n"
     ]
    }
   ],
   "source": [
    "GRADES_LIST_OUTPUT_FILE = \"output/grades_list.json\"\n",
    "\n",
    "with open(GRADES_LIST_OUTPUT_FILE, 'w', encoding='utf-8') as f:\n",
    "    json.dump(parsed_grades, f, ensure_ascii=False, indent=4)\n",
    "\n",
    "print(f\"✅ Grades list written to {GRADES_LIST_OUTPUT_FILE}\")"
   ]
  }
 ],
 "metadata": {
  "kernelspec": {
   "display_name": ".venv",
   "language": "python",
   "name": "python3"
  },
  "language_info": {
   "codemirror_mode": {
    "name": "ipython",
    "version": 3
   },
   "file_extension": ".py",
   "mimetype": "text/x-python",
   "name": "python",
   "nbconvert_exporter": "python",
   "pygments_lexer": "ipython3",
   "version": "3.11.12"
  }
 },
 "nbformat": 4,
 "nbformat_minor": 5
}
