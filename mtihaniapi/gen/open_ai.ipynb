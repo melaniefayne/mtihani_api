{
 "cells": [
  {
   "cell_type": "code",
   "execution_count": 1,
   "id": "b3e9c311",
   "metadata": {},
   "outputs": [],
   "source": [
    "import sys\n",
    "import os\n",
    "sys.path.insert(0, os.path.abspath(\"..\"))\n",
    "\n",
    "from gen.curriculum import get_cbc_grouped_questions\n",
    "from gen.utils import *"
   ]
  },
  {
   "cell_type": "code",
   "execution_count": 2,
   "id": "c5a1458e",
   "metadata": {},
   "outputs": [
    {
     "name": "stdout",
     "output_type": "stream",
     "text": [
      "\n",
      "✅ Question breakdown written to /Users/melaniefayne/Desktop/mtihani/mtihani_api/mtihaniapi/gen/output/question_breakdown.json. Total: 7\n"
     ]
    }
   ],
   "source": [
    "grouped_questions = get_cbc_grouped_questions(\n",
    "    strand_ids=[2,4,1,6,3,8,9],\n",
    "    question_count=10,\n",
    "    bloom_skill_count=2,\n",
    "    is_debug=True,\n",
    ")"
   ]
  },
  {
   "cell_type": "code",
   "execution_count": 3,
   "id": "e01ea902",
   "metadata": {},
   "outputs": [
    {
     "name": "stdout",
     "output_type": "stream",
     "text": [
      "\n",
      "Acids, Bases and Indicators =========\n",
      "📝 Input token count (gpt-4-turbo): 720\n",
      "📦 Raw LLM output:\n",
      " content='[\\n    {\\n        \"question\": \"In a school science club, Kamau and his friends decide to use beetroot to create a natural pH indicator for their science fair project; they extract the juice and test it with various household substances. Explain how the color change in the beetroot extract can help determine the pH of the substances.\",\\n        \"expected_answer\": \"The beetroot extract changes color depending on the pH level of the substance it comes into contact with; acidic substances cause it to turn pink or red, while basic substances make it turn yellow or green, thus indicating the substance\\'s pH.\"\\n    },\\n    {\\n        \"question\": \"During a home science experiment, Amina observes that lemon juice turns blue litmus paper red and baking soda solution turns red litmus paper blue. Analyze why these changes in color occur and what they signify about the nature of lemon juice and baking soda solution.\",\\n        \"expected_answer\": \"The color change occurs because lemon juice is acidic, which turns blue litmus paper red, and baking soda solution is basic, which turns red litmus paper blue; this signifies that lemon juice has acidic properties and baking soda solution has basic properties.\"\\n    }\\n]' additional_kwargs={'refusal': None} response_metadata={'token_usage': {'completion_tokens': 239, 'prompt_tokens': 727, 'total_tokens': 966, 'completion_tokens_details': {'accepted_prediction_tokens': 0, 'audio_tokens': 0, 'reasoning_tokens': 0, 'rejected_prediction_tokens': 0}, 'prompt_tokens_details': {'audio_tokens': 0, 'cached_tokens': 0}}, 'model_name': 'gpt-4-turbo-2024-04-09', 'system_fingerprint': 'fp_de235176ee', 'id': 'chatcmpl-BrOZfaL4d3rV2oAPGssyc5h7GF8kV', 'service_tier': 'default', 'finish_reason': 'stop', 'logprobs': None} id='run--15c81f5a-2d70-44ac-a58b-2ca814f28e2d-0' usage_metadata={'input_tokens': 727, 'output_tokens': 239, 'total_tokens': 966, 'input_token_details': {'audio': 0, 'cache_read': 0}, 'output_token_details': {'audio': 0, 'reasoning': 0}}\n",
      "📤 Output token count (gpt-4-turbo): 239\n",
      "🔢 Total token usage: 959\n",
      "\n",
      "Human Excretory System =========\n",
      "📝 Input token count (gpt-4-turbo): 729\n",
      "📦 Raw LLM output:\n",
      " content='[\\n    {\\n        \"question\": \"After observing that her classmates often suffer from dehydration during sports activities, Amina decides to start a hydration awareness campaign in her school. She plans to include information on how dehydration affects the kidneys. Evaluate how maintaining proper hydration can impact the health and function of the kidneys.\",\\n        \"expected_answer\": \"Maintaining proper hydration helps the kidneys by ensuring they can effectively filter blood and remove waste products. Adequate water intake prevents the buildup of harmful substances in the kidneys, reduces the risk of kidney stones, and supports overall kidney function.\"\\n    },\\n    {\\n        \"question\": \"Charles, a health science student, is tasked with designing a school project to promote skin health among his peers. He decides to create a daily log app that tracks sun exposure, hydration, and use of skin care products. Explain how Charles can structure his app to encourage consistent logging and what features he might include to educate users about the importance of each tracked activity for skin health.\",\\n        \"expected_answer\": \"Charles can structure his app to include daily reminders and easy-to-use logging features to encourage consistent use. He might include educational tips on the effects of UV exposure, the benefits of hydration, and the importance of proper skin care, along with visual progress trackers and rewards for regular logging to motivate users and enhance their understanding of skin health.\"\\n    }\\n]' additional_kwargs={'refusal': None} response_metadata={'token_usage': {'completion_tokens': 272, 'prompt_tokens': 736, 'total_tokens': 1008, 'completion_tokens_details': {'accepted_prediction_tokens': 0, 'audio_tokens': 0, 'reasoning_tokens': 0, 'rejected_prediction_tokens': 0}, 'prompt_tokens_details': {'audio_tokens': 0, 'cached_tokens': 0}}, 'model_name': 'gpt-4-turbo-2024-04-09', 'system_fingerprint': 'fp_de235176ee', 'id': 'chatcmpl-BrOZm88DuEYn4qEjKPxbMQwaw3STm', 'service_tier': 'default', 'finish_reason': 'stop', 'logprobs': None} id='run--4d685cac-c665-44bd-a2b2-58738d179382-0' usage_metadata={'input_tokens': 736, 'output_tokens': 272, 'total_tokens': 1008, 'input_token_details': {'audio': 0, 'cache_read': 0}, 'output_token_details': {'audio': 0, 'reasoning': 0}}\n",
      "📤 Output token count (gpt-4-turbo): 272\n",
      "🔢 Total token usage: 1001\n",
      "\n",
      "Human Reproductive System =========\n",
      "📝 Input token count (gpt-4-turbo): 734\n",
      "📦 Raw LLM output:\n",
      " content='[\\n    {\\n        \"question\": \"During a school health club meeting, Makena and her friends discuss the challenges they face as they go through puberty; Makena mentions experiencing mood swings and acne, which make her self-conscious at school. How can Makena and her friends develop a plan to manage these developmental challenges effectively?\",\\n        \"expected_answer\": \"Makena and her friends can manage these challenges by maintaining good hygiene to manage acne, engaging in open discussions with a counselor for emotional support, keeping a journal to understand and manage mood swings, and educating themselves about puberty to better understand the changes they are experiencing.\"\\n    },\\n    {\\n        \"question\": \"In a biology class, Mr. Otieno presents a case where a student, Kamau, is curious about how the human body prepares for reproduction. Mr. Otieno asks the class to analyze the functions of the testes and ovaries in the reproductive system. What are the primary functions of these organs?\",\\n        \"expected_answer\": \"The primary function of the testes is to produce sperm and the hormone testosterone, which are essential for male reproductive capabilities. The ovaries are responsible for producing eggs and the hormones estrogen and progesterone, crucial for female reproductive health and menstrual cycle regulation.\"\\n    }\\n]' additional_kwargs={'refusal': None} response_metadata={'token_usage': {'completion_tokens': 260, 'prompt_tokens': 741, 'total_tokens': 1001, 'completion_tokens_details': {'accepted_prediction_tokens': 0, 'audio_tokens': 0, 'reasoning_tokens': 0, 'rejected_prediction_tokens': 0}, 'prompt_tokens_details': {'audio_tokens': 0, 'cached_tokens': 0}}, 'model_name': 'gpt-4-turbo-2024-04-09', 'system_fingerprint': 'fp_de235176ee', 'id': 'chatcmpl-BrOZvDpnhIvpBYERFN4E1gc3Gh1lr', 'service_tier': 'default', 'finish_reason': 'stop', 'logprobs': None} id='run--d7b19c55-193f-4a66-aab2-a580450e9d77-0' usage_metadata={'input_tokens': 741, 'output_tokens': 260, 'total_tokens': 1001, 'input_token_details': {'audio': 0, 'cache_read': 0}, 'output_token_details': {'audio': 0, 'reasoning': 0}}\n",
      "📤 Output token count (gpt-4-turbo): 260\n",
      "🔢 Total token usage: 994\n",
      "\n",
      "Laboratory Safety =========\n",
      "📝 Input token count (gpt-4-turbo): 714\n",
      "📦 Raw LLM output:\n",
      " content='[\\n    {\\n        \"question\": \"List two common laboratory hazard symbols and explain what each represents.\",\\n        \"expected_answer\": \"The skull and crossbones symbol represents toxic substances that can cause death or serious harm if inhaled, swallowed, or absorbed through the skin; the flame symbol indicates flammable materials that can ignite easily.\"\\n    },\\n    {\\n        \"question\": \"During a school science fair, Amina observes a peer accidentally mixing two chemicals that react violently. Explain why it is important to understand chemical compatibility before conducting experiments.\",\\n        \"expected_answer\": \"Understanding chemical compatibility is crucial to prevent dangerous reactions that can lead to explosions, fires, or the release of toxic gases, ensuring the safety of all participants and the integrity of the experiment.\"\\n    },\\n    {\\n        \"question\": \"In a scenario where a student spills a corrosive chemical on their skin during a laboratory session, evaluate the first aid measures that should be taken immediately.\",\\n        \"expected_answer\": \"The first aid measures include quickly rinsing the affected area with large amounts of water for at least 15 minutes to dilute and wash away the chemical, removing any contaminated clothing carefully, and seeking medical attention if necessary.\"\\n    },\\n    {\\n        \"question\": \"Imagine a school laboratory where students are tasked to redesign the layout to enhance safety; propose a plan that includes the placement of safety equipment and the flow of student movement.\",\\n        \"expected_answer\": \"The plan should include placing fire extinguishers and eyewash stations near the exits for easy access; arranging workstations in a way that minimizes congestion, ensuring clear and unobstructed paths to exits; and positioning chemical storage cabinets away from heat sources.\"\\n    }\\n]' additional_kwargs={'refusal': None} response_metadata={'token_usage': {'completion_tokens': 343, 'prompt_tokens': 721, 'total_tokens': 1064, 'completion_tokens_details': {'accepted_prediction_tokens': 0, 'audio_tokens': 0, 'reasoning_tokens': 0, 'rejected_prediction_tokens': 0}, 'prompt_tokens_details': {'audio_tokens': 0, 'cached_tokens': 0}}, 'model_name': 'gpt-4-turbo-2024-04-09', 'system_fingerprint': 'fp_de235176ee', 'id': 'chatcmpl-BrOa37sdyIPNoOpq0lWlfzcvlThZk', 'service_tier': 'default', 'finish_reason': 'stop', 'logprobs': None} id='run--47570a86-ee0c-4f5f-8025-dd9dde1f4658-0' usage_metadata={'input_tokens': 721, 'output_tokens': 343, 'total_tokens': 1064, 'input_token_details': {'audio': 0, 'cache_read': 0}, 'output_token_details': {'audio': 0, 'reasoning': 0}}\n",
      "📤 Output token count (gpt-4-turbo): 343\n",
      "🔢 Total token usage: 1057\n",
      "\n",
      "Magnetism =========\n",
      "📝 Input token count (gpt-4-turbo): 708\n",
      "📦 Raw LLM output:\n",
      " content='[\\n    {\\n        \"question\": \"List two properties of a magnet that can be demonstrated using simple classroom materials.\",\\n        \"expected_answer\": \"A magnet has two poles, north and south, and it can attract iron objects.\"\\n    },\\n    {\\n        \"question\": \"Explain why a magnet can hold a bunch of paper clips but not a plastic spoon.\",\\n        \"expected_answer\": \"A magnet can hold paper clips because they are made of iron, which is a magnetic material, whereas a plastic spoon is non-magnetic and thus not attracted to the magnet.\"\\n    },\\n    {\\n        \"question\": \"Given that a local supermarket uses magnetic sensors at its exits to prevent theft, evaluate how effective this technology is in reducing shoplifting incidents.\",\\n        \"expected_answer\": \"Magnetic sensors are highly effective in reducing shoplifting as they can detect tagged items, alerting staff when someone attempts to leave the store without paying.\"\\n    },\\n    {\\n        \"question\": \"Design a simple experiment to demonstrate how the strength of a magnet decreases with distance using everyday objects.\",\\n        \"expected_answer\": \"Place a series of paper clips in a line on a table, and slowly bring a magnet closer from one end, noting the distance at which the first paper clip is attracted; repeat by increasing the distance and observe how the magnetic effect decreases.\"\\n    }\\n]' additional_kwargs={'refusal': None} response_metadata={'token_usage': {'completion_tokens': 271, 'prompt_tokens': 715, 'total_tokens': 986, 'completion_tokens_details': {'accepted_prediction_tokens': 0, 'audio_tokens': 0, 'reasoning_tokens': 0, 'rejected_prediction_tokens': 0}, 'prompt_tokens_details': {'audio_tokens': 0, 'cached_tokens': 0}}, 'model_name': 'gpt-4-turbo-2024-04-09', 'system_fingerprint': 'fp_de235176ee', 'id': 'chatcmpl-BrOaEHqhZGA9jyzUNjfGINBywmsQL', 'service_tier': 'default', 'finish_reason': 'stop', 'logprobs': None} id='run--a8663366-fcb6-4f63-876d-1b7091437a82-0' usage_metadata={'input_tokens': 715, 'output_tokens': 271, 'total_tokens': 986, 'input_token_details': {'audio': 0, 'cache_read': 0}, 'output_token_details': {'audio': 0, 'reasoning': 0}}\n",
      "📤 Output token count (gpt-4-turbo): 271\n",
      "🔢 Total token usage: 979\n",
      "\n",
      "Mixtures =========\n",
      "📝 Input token count (gpt-4-turbo): 686\n",
      "📦 Raw LLM output:\n",
      " content='[\\n    {\\n        \"question\": \"What is the most common method used to separate a mixture of salt and water in a laboratory setting?\",\\n        \"expected_answer\": \"The most common method used to separate a mixture of salt and water is evaporation.\"\\n    },\\n    {\\n        \"question\": \"In a scenario where Juma is trying to recover sugar dissolved in water at home, explain why he might choose to use evaporation over distillation.\",\\n        \"expected_answer\": \"Juma might choose evaporation over distillation because evaporation is simpler and requires less specialized equipment, making it more suitable and cost-effective for home use.\"\\n    }\\n]' additional_kwargs={'refusal': None} response_metadata={'token_usage': {'completion_tokens': 130, 'prompt_tokens': 693, 'total_tokens': 823, 'completion_tokens_details': {'accepted_prediction_tokens': 0, 'audio_tokens': 0, 'reasoning_tokens': 0, 'rejected_prediction_tokens': 0}, 'prompt_tokens_details': {'audio_tokens': 0, 'cached_tokens': 0}}, 'model_name': 'gpt-4-turbo-2024-04-09', 'system_fingerprint': 'fp_de235176ee', 'id': 'chatcmpl-BrOaUW7C7R5YaLBa7R5qunB8KehZQ', 'service_tier': 'default', 'finish_reason': 'stop', 'logprobs': None} id='run--43490608-de9a-4e8a-bc1a-30ce0fa983c5-0' usage_metadata={'input_tokens': 693, 'output_tokens': 130, 'total_tokens': 823, 'input_token_details': {'audio': 0, 'cache_read': 0}, 'output_token_details': {'audio': 0, 'reasoning': 0}}\n",
      "📤 Output token count (gpt-4-turbo): 130\n",
      "🔢 Total token usage: 816\n",
      "\n",
      "Reproduction in Human Beings =========\n",
      "📝 Input token count (gpt-4-turbo): 712\n",
      "📦 Raw LLM output:\n",
      " content='[\\n    {\\n        \"question\": \"During a school health club meeting, Makena and her friends discuss the importance of maintaining hygiene during puberty; Makena wonders how regular bathing and use of deodorants can help during this stage. Explain how these practices contribute to personal hygiene and comfort during puberty.\",\\n        \"expected_answer\": \"Regular bathing and the use of deodorants during puberty help manage the increased sweat and body odor due to hormonal changes, thus maintaining cleanliness and increasing comfort and self-confidence.\"\\n    },\\n    {\\n        \"question\": \"In a biology class, Mr. Otieno sets up a discussion about the human reproductive system. He asks the students to analyze the role of hormones in the menstrual cycle. Describe how hormones like estrogen and progesterone influence the processes in the menstrual cycle.\",\\n        \"expected_answer\": \"Estrogen helps in the growth and thickening of the uterine lining, while progesterone maintains the lining and prepares the uterus for potential pregnancy; these hormones regulate the cycle and prepare the body for possible fertilization.\"\\n    },\\n    {\\n        \"question\": \"What are the primary functions of the testes in the male reproductive system?\",\\n        \"expected_answer\": \"The primary functions of the testes are to produce sperm and to secrete hormones, particularly testosterone.\"\\n    },\\n    {\\n        \"question\": \"Explain the process of fertilization in human beings.\",\\n        \"expected_answer\": \"Fertilization occurs when a sperm cell from a male merges with an egg cell from a female, usually in the fallopian tube; this leads to the formation of a zygote, which eventually develops into an embryo.\"\\n    }\\n]' additional_kwargs={'refusal': None} response_metadata={'token_usage': {'completion_tokens': 339, 'prompt_tokens': 719, 'total_tokens': 1058, 'completion_tokens_details': {'accepted_prediction_tokens': 0, 'audio_tokens': 0, 'reasoning_tokens': 0, 'rejected_prediction_tokens': 0}, 'prompt_tokens_details': {'audio_tokens': 0, 'cached_tokens': 0}}, 'model_name': 'gpt-4-turbo-2024-04-09', 'system_fingerprint': 'fp_de235176ee', 'id': 'chatcmpl-BrOaYRrv8otaTYWadydccX56oOmcG', 'service_tier': 'default', 'finish_reason': 'stop', 'logprobs': None} id='run--7c4ecb61-5db7-44f2-b7d5-47ad4289f087-0' usage_metadata={'input_tokens': 719, 'output_tokens': 339, 'total_tokens': 1058, 'input_token_details': {'audio': 0, 'cache_read': 0}, 'output_token_details': {'audio': 0, 'reasoning': 0}}\n",
      "📤 Output token count (gpt-4-turbo): 339\n",
      "🔢 Total token usage: 1051\n",
      "\n",
      "✅ Question list written to /Users/melaniefayne/Desktop/mtihani/mtihani_api/mtihaniapi/gen/output/question_list.json. Total: 20\n"
     ]
    }
   ],
   "source": [
    "OPENAI_LLM_4O = ChatOpenAI(\n",
    "    model_name=\"gpt-4o\",\n",
    "    temperature=0.1,\n",
    "    max_tokens=10240,\n",
    "    openai_api_key=OPENAI_API_KEY,\n",
    ")\n",
    "\n",
    "OPENAI_LLM_4_TURBO = ChatOpenAI(\n",
    "    model_name=\"gpt-4-turbo\",\n",
    "    temperature=0.1,\n",
    "    max_tokens=4096,\n",
    "    openai_api_key=OPENAI_API_KEY,\n",
    ")\n",
    "\n",
    "selected_model = OPENAI_LLM_4_TURBO\n",
    "\n",
    "all_question_list = generate_llm_question_list(\n",
    "    grouped_question_data=grouped_questions,\n",
    "    is_debug=True,\n",
    "    llm=selected_model,\n",
    ")\n",
    "\n",
    "# If there was a generation error\n",
    "if not isinstance(all_question_list, list):\n",
    "    print(all_question_list)"
   ]
  },
  {
   "cell_type": "code",
   "execution_count": 4,
   "id": "dad2a5f6",
   "metadata": {},
   "outputs": [
    {
     "name": "stdout",
     "output_type": "stream",
     "text": [
      "\n",
      "✅ Question list to /Users/melaniefayne/Desktop/mtihani/mtihani_api/mtihaniapi/gen/output/question_list.json. Total: 10\n"
     ]
    }
   ],
   "source": [
    "exam_questions = get_db_question_objects(\n",
    "    all_question_list=all_question_list,\n",
    "    is_debug=True,\n",
    ")"
   ]
  },
  {
   "cell_type": "code",
   "execution_count": 5,
   "id": "99e6f1b5",
   "metadata": {},
   "outputs": [
    {
     "name": "stdout",
     "output_type": "stream",
     "text": [
      "✅ Exam questions exported to /Users/melaniefayne/Desktop/mtihani/mtihani_api/mtihaniapi/gen/output/model_comparisons/gpt-4-turbo_EXAM.txt\n"
     ]
    }
   ],
   "source": [
    "OUTPUT_FILE = os.path.join(\n",
    "    BASE_DIR, \"output/model_comparisons\", f\"{selected_model.model_name}_EXAM.txt\")\n",
    "\n",
    "def export_exam_questions_to_txt(exam_questions, output_file=OUTPUT_FILE):\n",
    "    with open(output_file, \"w\", encoding=\"utf-8\") as f:\n",
    "        for idx, q in enumerate(exam_questions, start=1):\n",
    "            f.write(f\"\\nQuestion {idx}\\n\")\n",
    "            f.write(\"-\" * 20 + \"\\n\")\n",
    "            f.write(f\"Grade: {q.get('grade', '')}\\n\")\n",
    "            f.write(f\"Strand: {q.get('strand', '')}\\n\")\n",
    "            f.write(f\"Sub Strand: {q.get('sub_strand', '')}\\n\\n\")\n",
    "            \n",
    "            # Handle single or multiple bloom skills per question\n",
    "            bloom_skills = q.get(\"bloom_skills\", [])\n",
    "            questions = q.get(\"questions\", [])\n",
    "            answers = q.get(\"expected_answers\", [])\n",
    "            \n",
    "            # If your structure is per-skill, per-QA:\n",
    "            for b_idx, (bloom, ques, ans) in enumerate(zip(bloom_skills, questions, answers), start=1):\n",
    "                f.write(f\"Bloom Skill {b_idx}: {bloom}\\n\")\n",
    "                f.write(f\"      Q: {ques}\\n\")\n",
    "                f.write(f\"      A: {ans}\\n\\n\")\n",
    "            \n",
    "            # If your structure is single-skill per question, you can do:\n",
    "            # f.write(f\"Bloom Skill 1: {q.get('bloom_skill', '')}\\n\")\n",
    "            # f.write(f\"      Q: {q.get('description', '')}\\n\")\n",
    "            # f.write(f\"      A: {q.get('expected_answer', '')}\\n\\n\")\n",
    "                \n",
    "        print(f\"✅ Exam questions exported to {output_file}\")\n",
    "\n",
    "# Usage:\n",
    "# exam_questions = [...]  # your processed list of dicts\n",
    "export_exam_questions_to_txt(exam_questions)"
   ]
  }
 ],
 "metadata": {
  "kernelspec": {
   "display_name": "mtihani-api-py3.11",
   "language": "python",
   "name": "python3"
  },
  "language_info": {
   "codemirror_mode": {
    "name": "ipython",
    "version": 3
   },
   "file_extension": ".py",
   "mimetype": "text/x-python",
   "name": "python",
   "nbconvert_exporter": "python",
   "pygments_lexer": "ipython3",
   "version": "3.11.12"
  }
 },
 "nbformat": 4,
 "nbformat_minor": 5
}
