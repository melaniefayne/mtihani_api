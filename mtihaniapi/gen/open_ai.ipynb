{
 "cells": [
  {
   "cell_type": "code",
   "execution_count": 1,
   "id": "b3e9c311",
   "metadata": {},
   "outputs": [],
   "source": [
    "import sys\n",
    "import os\n",
    "sys.path.insert(0, os.path.abspath(\"..\"))\n",
    "\n",
    "import django\n",
    "os.environ.setdefault('DJANGO_SETTINGS_MODULE', 'mtihaniapi.settings')\n",
    "django.setup()\n",
    "\n",
    "from gen.curriculum import get_cbc_grouped_questions\n",
    "from gen.utils import *"
   ]
  },
  {
   "cell_type": "code",
   "execution_count": 2,
   "id": "c5a1458e",
   "metadata": {},
   "outputs": [
    {
     "name": "stdout",
     "output_type": "stream",
     "text": [
      "\n",
      "✅ Question breakdown written to /Users/melaniefayne/Desktop/mtihani/mtihani_api/mtihaniapi/gen/output/question_breakdown.json. Total: 7\n"
     ]
    }
   ],
   "source": [
    "grouped_questions = get_cbc_grouped_questions(\n",
    "    strand_ids=[2,4,1,6,3,8,9],\n",
    "    question_count=10,\n",
    "    bloom_skill_count=2,\n",
    "    is_debug=True,\n",
    ")"
   ]
  },
  {
   "cell_type": "code",
   "execution_count": 3,
   "id": "317046e2",
   "metadata": {},
   "outputs": [],
   "source": [
    "from asgiref.sync import sync_to_async\n",
    "\n",
    "@sync_to_async\n",
    "def get_reference_for_sub_strand(sub_strand: str) -> str:\n",
    "    from rag.models import SubStrandReference\n",
    "    try:\n",
    "        ref = SubStrandReference.objects.get(sub_strand=sub_strand)\n",
    "        return ref.reference_text or \"\"\n",
    "    except SubStrandReference.DoesNotExist:\n",
    "        return \"\""
   ]
  },
  {
   "cell_type": "code",
   "execution_count": 4,
   "id": "2c77ac65",
   "metadata": {},
   "outputs": [],
   "source": [
    "new_grouped_questions = []\n",
    "for group in grouped_questions:\n",
    "    sample_questions = await get_reference_for_sub_strand(group['sub_strand'])\n",
    "    group[\"sample_questions\"] = sample_questions\n",
    "    \n",
    "    new_grouped_questions.append(group)"
   ]
  },
  {
   "cell_type": "code",
   "execution_count": 5,
   "id": "e01ea902",
   "metadata": {},
   "outputs": [
    {
     "name": "stdout",
     "output_type": "stream",
     "text": [
      "\n",
      "Introduction to Integrated Science =========\n",
      "📝 Input token count (gpt-4-turbo): 810\n",
      "📦 Raw LLM output:\n",
      " content='[\\n    {\\n        \"question\": \"What are the main components of Integrated Science as a field of study?\",\\n        \"expected_answer\": \"The main components of Integrated Science include biology, chemistry, physics, and earth sciences, all integrated to provide a comprehensive understanding of scientific concepts.\"\\n    },\\n    {\\n        \"question\": \"Imagine that Mary, a student in Kenya, notices that plants in her garden grow better in certain types of soil; based on this observation, explain how understanding the principles of Integrated Science can help her improve her gardening.\",\\n        \"expected_answer\": \"Understanding Integrated Science can help Mary analyze the soil composition, understand the biological needs of the plants, and apply principles of chemistry to adjust soil nutrients, thereby optimizing plant growth.\"\\n    }\\n]' additional_kwargs={'refusal': None} response_metadata={'token_usage': {'completion_tokens': 151, 'prompt_tokens': 817, 'total_tokens': 968, 'completion_tokens_details': {'accepted_prediction_tokens': 0, 'audio_tokens': 0, 'reasoning_tokens': 0, 'rejected_prediction_tokens': 0}, 'prompt_tokens_details': {'audio_tokens': 0, 'cached_tokens': 0}}, 'model_name': 'gpt-4-turbo-2024-04-09', 'system_fingerprint': 'fp_de235176ee', 'id': 'chatcmpl-BspL5h9n73AYpOmjjfqJZsFqGlChx', 'service_tier': 'default', 'finish_reason': 'stop', 'logprobs': None} id='run--bbc3cbc1-dda1-45cf-8a7c-562705eb3591-0' usage_metadata={'input_tokens': 817, 'output_tokens': 151, 'total_tokens': 968, 'input_token_details': {'audio': 0, 'cache_read': 0}, 'output_token_details': {'audio': 0, 'reasoning': 0}}\n",
      "📤 Output token count (gpt-4-turbo): 151\n",
      "🔢 Total token usage: 961\n",
      "\n",
      "Laboratory Safety =========\n",
      "📝 Input token count (gpt-4-turbo): 819\n",
      "📦 Raw LLM output:\n",
      " content='[\\n    {\\n        \"question\": \"During a school science fair, Juma and Amina are demonstrating an experiment involving the reaction of sodium with water; suddenly, the reaction becomes more vigorous than expected, causing some of the mixture to splash out of the container. Evaluate Juma and Amina\\'s response if they immediately clear the area and use a sand bucket to cover the spill.\",\\n        \"expected_answer\": \"Juma and Amina\\'s response is appropriate as they prioritized safety by clearing the area to prevent injuries and used sand to contain and suppress the reaction, which is a recommended method for dealing with chemical spills, especially reactive ones like sodium.\"\\n    },\\n    {\\n        \"question\": \"In a chemistry class, students are tasked with designing a safety protocol for handling corrosive substances. Fatuma suggests using personal protective equipment (PPE), having neutralizing agents readily available, and conducting all experiments within a fume hood. Create a detailed safety checklist based on Fatuma\\'s suggestions that could be used by the students.\",\\n        \"expected_answer\": \"1. Ensure all students and staff wear appropriate PPE, including gloves, goggles, and lab coats. 2. Keep suitable neutralizing agents (such as baking soda for acids or vinegar for bases) easily accessible in the lab. 3. Conduct all experiments involving corrosive substances inside a fume hood to prevent inhalation of harmful vapors. 4. Regularly inspect and maintain PPE and fume hoods for functionality. 5. Provide clear labels and safety data sheets for all chemicals used.\"\\n    }\\n]' additional_kwargs={'refusal': None} response_metadata={'token_usage': {'completion_tokens': 319, 'prompt_tokens': 826, 'total_tokens': 1145, 'completion_tokens_details': {'accepted_prediction_tokens': 0, 'audio_tokens': 0, 'reasoning_tokens': 0, 'rejected_prediction_tokens': 0}, 'prompt_tokens_details': {'audio_tokens': 0, 'cached_tokens': 0}}, 'model_name': 'gpt-4-turbo-2024-04-09', 'system_fingerprint': 'fp_de235176ee', 'id': 'chatcmpl-BspLBi2qt9mOAHvx6Wcb7XakQ4BpO', 'service_tier': 'default', 'finish_reason': 'stop', 'logprobs': None} id='run--cd03b936-ba95-421d-8587-f68267b2c54e-0' usage_metadata={'input_tokens': 826, 'output_tokens': 319, 'total_tokens': 1145, 'input_token_details': {'audio': 0, 'cache_read': 0}, 'output_token_details': {'audio': 0, 'reasoning': 0}}\n",
      "📤 Output token count (gpt-4-turbo): 319\n",
      "🔢 Total token usage: 1138\n",
      "\n",
      "Magnetism =========\n",
      "📝 Input token count (gpt-4-turbo): 920\n",
      "📦 Raw LLM output:\n",
      " content='[\\n    {\\n        \"question\": \"List two common household items that utilize magnets and describe how magnets are used in each.\",\\n        \"expected_answer\": \"In speakers, magnets convert electrical energy into sound by interacting with a coil to create vibrations; in compasses, a small magnetized needle aligns with Earth\\'s magnetic field to indicate direction.\"\\n    },\\n    {\\n        \"question\": \"Kamau notices that his magnetic toy sticks to the fridge but not to the wooden cabinet. Explain why this happens based on the properties of magnets and the materials involved.\",\\n        \"expected_answer\": \"The fridge is made of metal which is a magnetic material that attracts the magnet in the toy, whereas wood is a non-magnetic material and does not interact with the magnet.\"\\n    },\\n    {\\n        \"question\": \"Evaluate the importance of using magnetic locks in school lockers compared to traditional key locks in terms of security and convenience.\",\\n        \"expected_answer\": \"Magnetic locks provide enhanced security as they are harder to tamper with compared to traditional locks and offer greater convenience since they do not require physical keys that can be lost or stolen.\"\\n    },\\n    {\\n        \"question\": \"Design a simple experiment that Amina could perform at home to demonstrate the repulsive force between two magnets.\",\\n        \"expected_answer\": \"Amina can take two magnets and try to bring the same poles (either north-north or south-south) close together; she will observe that the magnets repel each other and push apart.\"\\n    }\\n]' additional_kwargs={'refusal': None} response_metadata={'token_usage': {'completion_tokens': 306, 'prompt_tokens': 927, 'total_tokens': 1233, 'completion_tokens_details': {'accepted_prediction_tokens': 0, 'audio_tokens': 0, 'reasoning_tokens': 0, 'rejected_prediction_tokens': 0}, 'prompt_tokens_details': {'audio_tokens': 0, 'cached_tokens': 0}}, 'model_name': 'gpt-4-turbo-2024-04-09', 'system_fingerprint': 'fp_de235176ee', 'id': 'chatcmpl-BspLKdzCQM9wwoouHhTHl3cF3ath7', 'service_tier': 'default', 'finish_reason': 'stop', 'logprobs': None} id='run--5643068d-de6a-400a-9b38-08dd8248bd1d-0' usage_metadata={'input_tokens': 927, 'output_tokens': 306, 'total_tokens': 1233, 'input_token_details': {'audio': 0, 'cache_read': 0}, 'output_token_details': {'audio': 0, 'reasoning': 0}}\n",
      "📤 Output token count (gpt-4-turbo): 306\n",
      "🔢 Total token usage: 1226\n",
      "\n",
      "Mixtures =========\n",
      "📝 Input token count (gpt-4-turbo): 889\n",
      "📦 Raw LLM output:\n",
      " content='[\\n    {\\n        \"question\": \"In a cooking class, Juma is tasked with making a clear soup but realizes his broth is cloudy due to tiny fat droplets; how should Juma use the method of decantation to clarify his soup?\",\\n        \"expected_answer\": \"Juma should allow the soup to sit undisturbed until the fat droplets float to the top, then gently pour the clear soup into another container, leaving the fat behind.\"\\n    },\\n    {\\n        \"question\": \"During a science fair, Amina demonstrates how to obtain drinking water from muddy water using distillation; explain why distillation is an effective method for this purpose.\",\\n        \"expected_answer\": \"Distillation is effective because it involves heating the muddy water to create steam, which leaves impurities behind, and then condensing the steam back into pure water, thus separating the clean water from the mud.\"\\n    },\\n    {\\n        \"question\": \"What is the principle behind using filtration to separate a mixture of powdered charcoal and water?\",\\n        \"expected_answer\": \"The principle behind using filtration is that the water passes through the filter medium, which is fine enough to retain the larger charcoal particles, thus separating them from the water.\"\\n    },\\n    {\\n        \"question\": \"Kamau is experimenting with different methods to separate alcohol from water; which property of the components should he consider to choose the appropriate separation method?\",\\n        \"expected_answer\": \"Kamau should consider the boiling points of alcohol and water, as alcohol has a lower boiling point and can be separated by distillation when it vaporizes at a lower temperature than water.\"\\n    }\\n]' additional_kwargs={'refusal': None} response_metadata={'token_usage': {'completion_tokens': 331, 'prompt_tokens': 896, 'total_tokens': 1227, 'completion_tokens_details': {'accepted_prediction_tokens': 0, 'audio_tokens': 0, 'reasoning_tokens': 0, 'rejected_prediction_tokens': 0}, 'prompt_tokens_details': {'audio_tokens': 0, 'cached_tokens': 0}}, 'model_name': 'gpt-4-turbo-2024-04-09', 'system_fingerprint': 'fp_de235176ee', 'id': 'chatcmpl-BspLU5Gx4NqjsBukpbDOhVQa1JnJU', 'service_tier': 'default', 'finish_reason': 'stop', 'logprobs': None} id='run--5ef49f98-ea4c-4524-8723-e826da6f1846-0' usage_metadata={'input_tokens': 896, 'output_tokens': 331, 'total_tokens': 1227, 'input_token_details': {'audio': 0, 'cache_read': 0}, 'output_token_details': {'audio': 0, 'reasoning': 0}}\n",
      "📤 Output token count (gpt-4-turbo): 331\n",
      "🔢 Total token usage: 1220\n",
      "\n",
      "Movement of Materials In and Out of the Cell =========\n",
      "📝 Input token count (gpt-4-turbo): 1313\n",
      "📦 Raw LLM output:\n",
      " content='[\\n    {\\n        \"question\": \"Define osmosis as observed when Kamau places a carrot in a saltwater solution and notices it becomes limp.\",\\n        \"expected_answer\": \"Osmosis is the movement of water across a semi-permeable membrane from an area of lower solute concentration to an area of higher solute concentration.\"\\n    },\\n    {\\n        \"question\": \"Explain why the leaves of a plant watered with a very salty solution appear wilted, using the concept of osmosis.\",\\n        \"expected_answer\": \"The leaves appear wilted because the salty water creates a high solute concentration outside the plant\\'s cells, causing water to move out of the cells by osmosis, leading to cell dehydration and wilting.\"\\n    }\\n]' additional_kwargs={'refusal': None} response_metadata={'token_usage': {'completion_tokens': 156, 'prompt_tokens': 1320, 'total_tokens': 1476, 'completion_tokens_details': {'accepted_prediction_tokens': 0, 'audio_tokens': 0, 'reasoning_tokens': 0, 'rejected_prediction_tokens': 0}, 'prompt_tokens_details': {'audio_tokens': 0, 'cached_tokens': 0}}, 'model_name': 'gpt-4-turbo-2024-04-09', 'system_fingerprint': 'fp_de235176ee', 'id': 'chatcmpl-BspLdRyh9RBK39GwnqWo5xiO5z7I1', 'service_tier': 'default', 'finish_reason': 'stop', 'logprobs': None} id='run--1d689e8e-2137-4dfc-afa2-193baf72d009-0' usage_metadata={'input_tokens': 1320, 'output_tokens': 156, 'total_tokens': 1476, 'input_token_details': {'audio': 0, 'cache_read': 0}, 'output_token_details': {'audio': 0, 'reasoning': 0}}\n",
      "📤 Output token count (gpt-4-turbo): 156\n",
      "🔢 Total token usage: 1469\n",
      "\n",
      "Pollution =========\n",
      "📝 Input token count (gpt-4-turbo): 752\n",
      "📦 Raw LLM output:\n",
      " content='[\\n    {\\n        \"question\": \"After observing the increased respiratory illnesses in her community near Nairobi, Amina hypothesizes that it might be due to the local factory emissions; evaluate the validity of Amina\\'s hypothesis by considering the types of pollutants likely emitted by factories and their known health impacts.\",\\n        \"expected_answer\": \"Amina\\'s hypothesis is valid as factories often emit pollutants like sulfur dioxide and particulate matter, which are known to cause respiratory problems and other health issues.\"\\n    },\\n    {\\n        \"question\": \"Kamau is tasked with designing a school project to reduce plastic waste in his community in Mombasa; create a detailed plan for a recycling program that includes methods for collection, sorting, and reusing plastic materials.\",\\n        \"expected_answer\": \"Kamau\\'s plan could include setting up collection bins at strategic locations, organizing weekly collection schedules, partnering with local recycling facilities for sorting, and initiating programs to turn recycled plastic into reusable items like bags and containers.\"\\n    },\\n    {\\n        \"question\": \"In a small village near Kisumu, there is a noticeable increase in waterborne diseases linked to water pollution; apply your knowledge of pollution sources to suggest specific actions the community can take to improve water quality.\",\\n        \"expected_answer\": \"The community can reduce water pollution by preventing dumping of waste into water sources, treating sewage before discharge, using environmentally friendly pesticides and fertilizers in agriculture, and conducting regular clean-up drives in and around water bodies.\"\\n    },\\n    {\\n        \"question\": \"During a school science fair, Lila presents a study on the effects of car exhaust on air quality in Eldoret; analyze the data she collected on carbon monoxide levels during different times of the day to determine the peak times of pollution and suggest reasons for these variations.\",\\n        \"expected_answer\": \"The analysis might show higher carbon monoxide levels during morning and evening rush hours due to increased vehicle use; reasons for these variations include high traffic volumes and idling engines during these times, contributing to poor air quality.\"\\n    }\\n]' additional_kwargs={'refusal': None} response_metadata={'token_usage': {'completion_tokens': 412, 'prompt_tokens': 759, 'total_tokens': 1171, 'completion_tokens_details': {'accepted_prediction_tokens': 0, 'audio_tokens': 0, 'reasoning_tokens': 0, 'rejected_prediction_tokens': 0}, 'prompt_tokens_details': {'audio_tokens': 0, 'cached_tokens': 0}}, 'model_name': 'gpt-4-turbo-2024-04-09', 'system_fingerprint': 'fp_de235176ee', 'id': 'chatcmpl-BspLiGgdAh3fA9JWTEkUuf26Traev', 'service_tier': 'default', 'finish_reason': 'stop', 'logprobs': None} id='run--4a2d0014-8901-452b-bd23-8a53e44d910a-0' usage_metadata={'input_tokens': 759, 'output_tokens': 412, 'total_tokens': 1171, 'input_token_details': {'audio': 0, 'cache_read': 0}, 'output_token_details': {'audio': 0, 'reasoning': 0}}\n",
      "📤 Output token count (gpt-4-turbo): 412\n",
      "🔢 Total token usage: 1164\n",
      "\n",
      "The Cell =========\n",
      "📝 Input token count (gpt-4-turbo): 850\n",
      "📦 Raw LLM output:\n",
      " content='[\\n    {\\n        \"question\": \"During a school science fair, Kamau presents a project on how environmental factors affect cell functions in plants. He uses two sets of plants, one exposed to sunlight and another kept in the dark. How might the presence of chloroplasts in the cells of the plants exposed to sunlight influence their growth compared to those kept in the dark?\",\\n        \"expected_answer\": \"The chloroplasts in the cells of the plants exposed to sunlight enable photosynthesis, which produces the glucose necessary for growth and energy; therefore, these plants would likely grow better than those kept in the dark, which cannot photosynthesize effectively due to the absence of light.\"\\n    },\\n    {\\n        \"question\": \"In a classroom discussion, Amina and her classmates are analyzing the differences between plant and animal cells based on a recent lab observation. Amina notes that one type of cell had large vacuoles and a rigid structure, while the other did not. What conclusions should they draw about the types of cells observed and their typical functions?\",\\n        \"expected_answer\": \"Amina and her classmates should conclude that the cells with large vacuoles and a rigid structure are plant cells, which use the large vacuoles for storage and the rigid cell wall for structural support, while the cells without these features are animal cells, which lack a cell wall and have smaller vacuoles, focusing more on other cellular functions.\"\\n    }\\n]' additional_kwargs={'refusal': None} response_metadata={'token_usage': {'completion_tokens': 290, 'prompt_tokens': 857, 'total_tokens': 1147, 'completion_tokens_details': {'accepted_prediction_tokens': 0, 'audio_tokens': 0, 'reasoning_tokens': 0, 'rejected_prediction_tokens': 0}, 'prompt_tokens_details': {'audio_tokens': 0, 'cached_tokens': 0}}, 'model_name': 'gpt-4-turbo-2024-04-09', 'system_fingerprint': 'fp_de235176ee', 'id': 'chatcmpl-BspLv6fSVoO78tpPzYVuL0WpziFay', 'service_tier': 'default', 'finish_reason': 'stop', 'logprobs': None} id='run--73925feb-84e6-45d3-b6f5-8e50a9edd128-0' usage_metadata={'input_tokens': 857, 'output_tokens': 290, 'total_tokens': 1147, 'input_token_details': {'audio': 0, 'cache_read': 0}, 'output_token_details': {'audio': 0, 'reasoning': 0}}\n",
      "📤 Output token count (gpt-4-turbo): 290\n",
      "🔢 Total token usage: 1140\n",
      "\n",
      "✅ Question list written to /Users/melaniefayne/Desktop/mtihani/mtihani_api/mtihaniapi/gen/output/question_list.json. Total: 20\n"
     ]
    }
   ],
   "source": [
    "OPENAI_LLM_4O = ChatOpenAI(\n",
    "    model_name=\"gpt-4o\",\n",
    "    temperature=0.1,\n",
    "    max_tokens=10240,\n",
    "    openai_api_key=OPENAI_API_KEY,\n",
    ")\n",
    "\n",
    "OPENAI_LLM_4_TURBO = ChatOpenAI(\n",
    "    model_name=\"gpt-4-turbo\",\n",
    "    temperature=0.1,\n",
    "    max_tokens=4096,\n",
    "    openai_api_key=OPENAI_API_KEY,\n",
    ")\n",
    "\n",
    "selected_model = OPENAI_LLM_4_TURBO\n",
    "\n",
    "all_question_list = generate_llm_question_list(\n",
    "    grouped_question_data=new_grouped_questions,\n",
    "    is_debug=True,\n",
    "    llm=selected_model,\n",
    ")\n",
    "\n",
    "# If there was a generation error\n",
    "if not isinstance(all_question_list, list):\n",
    "    print(all_question_list)"
   ]
  },
  {
   "cell_type": "code",
   "execution_count": 6,
   "id": "dad2a5f6",
   "metadata": {},
   "outputs": [
    {
     "name": "stdout",
     "output_type": "stream",
     "text": [
      "\n",
      "✅ Question list to /Users/melaniefayne/Desktop/mtihani/mtihani_api/mtihaniapi/gen/output/question_list.json. Total: 10\n"
     ]
    }
   ],
   "source": [
    "exam_questions = get_db_question_objects(\n",
    "    all_question_list=all_question_list,\n",
    "    is_debug=True,\n",
    ")"
   ]
  },
  {
   "cell_type": "code",
   "execution_count": 7,
   "id": "99e6f1b5",
   "metadata": {},
   "outputs": [
    {
     "name": "stdout",
     "output_type": "stream",
     "text": [
      "✅ Exam questions exported to /Users/melaniefayne/Desktop/mtihani/mtihani_api/mtihaniapi/gen/output/model_comparisons/gpt-4-turbo_EXAM.txt\n"
     ]
    }
   ],
   "source": [
    "OUTPUT_FILE = os.path.join(\n",
    "    BASE_DIR, \"output/model_comparisons\", f\"{selected_model.model_name}_EXAM.txt\")\n",
    "\n",
    "def export_exam_questions_to_txt(exam_questions, output_file=OUTPUT_FILE):\n",
    "    with open(output_file, \"w\", encoding=\"utf-8\") as f:\n",
    "        for idx, q in enumerate(exam_questions, start=1):\n",
    "            f.write(f\"\\nQuestion {idx}\\n\")\n",
    "            f.write(\"-\" * 20 + \"\\n\")\n",
    "            f.write(f\"Grade: {q.get('grade', '')}\\n\")\n",
    "            f.write(f\"Strand: {q.get('strand', '')}\\n\")\n",
    "            f.write(f\"Sub Strand: {q.get('sub_strand', '')}\\n\\n\")\n",
    "            \n",
    "            # Handle single or multiple bloom skills per question\n",
    "            bloom_skills = q.get(\"bloom_skills\", [])\n",
    "            questions = q.get(\"questions\", [])\n",
    "            answers = q.get(\"expected_answers\", [])\n",
    "            \n",
    "            # If your structure is per-skill, per-QA:\n",
    "            for b_idx, (bloom, ques, ans) in enumerate(zip(bloom_skills, questions, answers), start=1):\n",
    "                f.write(f\"Bloom Skill {b_idx}: {bloom}\\n\")\n",
    "                f.write(f\"      Q: {ques}\\n\")\n",
    "                f.write(f\"      A: {ans}\\n\\n\")\n",
    "            \n",
    "            # If your structure is single-skill per question, you can do:\n",
    "            # f.write(f\"Bloom Skill 1: {q.get('bloom_skill', '')}\\n\")\n",
    "            # f.write(f\"      Q: {q.get('description', '')}\\n\")\n",
    "            # f.write(f\"      A: {q.get('expected_answer', '')}\\n\\n\")\n",
    "                \n",
    "        print(f\"✅ Exam questions exported to {output_file}\")\n",
    "\n",
    "# Usage:\n",
    "# exam_questions = [...]  # your processed list of dicts\n",
    "export_exam_questions_to_txt(exam_questions)"
   ]
  }
 ],
 "metadata": {
  "kernelspec": {
   "display_name": "mtihani-api-py3.11",
   "language": "python",
   "name": "python3"
  },
  "language_info": {
   "codemirror_mode": {
    "name": "ipython",
    "version": 3
   },
   "file_extension": ".py",
   "mimetype": "text/x-python",
   "name": "python",
   "nbconvert_exporter": "python",
   "pygments_lexer": "ipython3",
   "version": "3.11.12"
  }
 },
 "nbformat": 4,
 "nbformat_minor": 5
}
