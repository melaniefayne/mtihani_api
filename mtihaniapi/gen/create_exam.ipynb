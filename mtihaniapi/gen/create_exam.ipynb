{
 "cells": [
  {
   "cell_type": "code",
   "execution_count": 16,
   "id": "3e21ab12",
   "metadata": {},
   "outputs": [],
   "source": [
    "from curriculum import get_exam_curriculum\n",
    "from utils import *\n",
    "import json"
   ]
  },
  {
   "cell_type": "code",
   "execution_count": null,
   "id": "65788c73",
   "metadata": {},
   "outputs": [],
   "source": [
    "bloom_skill_count = 1"
   ]
  },
  {
   "cell_type": "code",
   "execution_count": 18,
   "id": "8b14605a",
   "metadata": {},
   "outputs": [
    {
     "name": "stdout",
     "output_type": "stream",
     "text": [
      "✅ Question breakdown written to output/question_breakdown.json\n"
     ]
    }
   ],
   "source": [
    "question_brd = get_exam_curriculum(\n",
    "    strand_ids=[1, 2, 3], \n",
    "    question_count=5, \n",
    "    is_debug=True, \n",
    "    curriculum_file=\"data/cbc_data.json\",\n",
    "    bloom_skill_count=bloom_skill_count,\n",
    ")"
   ]
  },
  {
   "cell_type": "code",
   "execution_count": 19,
   "id": "61810cd7",
   "metadata": {},
   "outputs": [
    {
     "name": "stdout",
     "output_type": "stream",
     "text": [
      "📝 Input token count (gpt-4o): 1072\n",
      "📦 Raw LLM output:\n",
      " content='[\\n    {\\n        \"questions\": [\\n            \"Zawadi is considering whether to study Integrated Science. Evaluate the components of Integrated Science and discuss how they contribute to understanding the world around us.\",\\n            \"Explain how science impacts your daily life, providing specific examples of its importance.\"\\n        ],\\n        \"expected_answers\": [\\n            \"Integrated Science includes biology, chemistry, physics, and earth science. These components help us understand living organisms, chemical reactions, physical laws, and environmental processes, which are essential for solving real-world problems.\",\\n            \"Science impacts daily life through technology, healthcare, and environmental conservation. For example, medical advancements improve health, while technology enhances communication and transportation.\"\\n        ]\\n    },\\n    {\\n        \"questions\": [\\n            \"Design a safety poster for a school laboratory that includes common hazards, their symbols, and first aid measures for accidents.\",\\n            \"Describe the symbols for flammable and toxic substances commonly found in a laboratory and explain why recognizing these symbols is important.\"\\n        ],\\n        \"expected_answers\": [\\n            \"The poster should include symbols for flammable (flame symbol) and toxic (skull and crossbones) substances. First aid measures like using a fire extinguisher for fires and washing with water for chemical spills should be included.\",\\n            \"The flammable symbol is a flame, and the toxic symbol is a skull and crossbones. Recognizing these symbols is crucial to prevent accidents and ensure proper handling of hazardous materials.\"\\n        ]\\n    },\\n    {\\n        \"questions\": [\\n            \"Evaluate the importance of proper use and maintenance of laboratory apparatus in conducting successful experiments.\",\\n            \"Name three common laboratory instruments and describe their primary uses.\"\\n        ],\\n        \"expected_answers\": [\\n            \"Proper use and maintenance of laboratory apparatus ensure accurate results, prevent accidents, and extend the lifespan of the equipment. This is crucial for reliable scientific investigations.\",\\n            \"Beaker: used for mixing and heating liquids. Bunsen burner: provides a heat source. Thermometer: measures temperature.\"\\n        ]\\n    },\\n    {\\n        \"questions\": [\\n            \"Analyze the process of separating a saltwater mixture and explain why this method is effective.\",\\n            \"Amina needs to separate a mixture of sand and salt. Apply your knowledge of separation techniques to suggest a method and justify your choice.\"\\n        ],\\n        \"expected_answers\": [\\n            \"The process involves evaporation, where water is heated until it evaporates, leaving salt behind. This method is effective because salt does not evaporate with water.\",\\n            \"Amina should use filtration to remove sand, followed by evaporation to separate salt from water. Filtration separates solids from liquids, and evaporation removes the liquid, leaving the solid salt.\"\\n        ]\\n    },\\n    {\\n        \"questions\": [\\n            \"Describe how litmus paper can be used to identify acids and bases, including the expected color changes.\",\\n            \"Synthesize a list of real-life applications of acids and bases, explaining their significance in each context.\"\\n        ],\\n        \"expected_answers\": [\\n            \"Litmus paper turns red in acidic solutions and blue in basic solutions. This color change helps identify whether a substance is an acid or a base.\",\\n            \"Acids are used in cleaning products to remove stains, while bases are used in baking to help dough rise. Both play crucial roles in food preparation and household maintenance.\"\\n        ]\\n    }\\n]' additional_kwargs={'refusal': None} response_metadata={'token_usage': {'completion_tokens': 675, 'prompt_tokens': 1079, 'total_tokens': 1754, 'completion_tokens_details': {'accepted_prediction_tokens': 0, 'audio_tokens': 0, 'reasoning_tokens': 0, 'rejected_prediction_tokens': 0}, 'prompt_tokens_details': {'audio_tokens': 0, 'cached_tokens': 0}}, 'model_name': 'gpt-4o-2024-08-06', 'system_fingerprint': 'fp_f5bdcc3276', 'id': 'chatcmpl-BTTobRtHHo936bPxNElhPnHN7tuJD', 'service_tier': 'default', 'finish_reason': 'stop', 'logprobs': None} id='run--0a40de08-2155-432d-a344-e2f7888a3c0d-0' usage_metadata={'input_tokens': 1079, 'output_tokens': 675, 'total_tokens': 1754, 'input_token_details': {'audio': 0, 'cache_read': 0}, 'output_token_details': {'audio': 0, 'reasoning': 0}}\n",
      "📤 Output token count (gpt-4o): 674\n",
      "🔢 Total token usage: 1746\n"
     ]
    }
   ],
   "source": [
    "parsed_output = generate_llm_question_list(\n",
    "    llm=OPENAI_LLM_4O,\n",
    "    input_data=question_brd,\n",
    "    bloom_skill_count=bloom_skill_count,\n",
    "    is_debug=True,\n",
    ")"
   ]
  },
  {
   "cell_type": "code",
   "execution_count": 20,
   "id": "e25fd417",
   "metadata": {},
   "outputs": [
    {
     "name": "stdout",
     "output_type": "stream",
     "text": [
      "✅ Question list written to output/question_list.json\n"
     ]
    }
   ],
   "source": [
    "QUESTION_LIST_OUTPUT_FILE = \"output/question_list.json\"\n",
    "\n",
    "with open(QUESTION_LIST_OUTPUT_FILE, 'w', encoding='utf-8') as f:\n",
    "    json.dump(parsed_output, f, ensure_ascii=False, indent=4)\n",
    "\n",
    "print(f\"✅ Question list written to {QUESTION_LIST_OUTPUT_FILE}\")"
   ]
  }
 ],
 "metadata": {
  "kernelspec": {
   "display_name": ".venv",
   "language": "python",
   "name": "python3"
  },
  "language_info": {
   "codemirror_mode": {
    "name": "ipython",
    "version": 3
   },
   "file_extension": ".py",
   "mimetype": "text/x-python",
   "name": "python",
   "nbconvert_exporter": "python",
   "pygments_lexer": "ipython3",
   "version": "3.11.12"
  }
 },
 "nbformat": 4,
 "nbformat_minor": 5
}
