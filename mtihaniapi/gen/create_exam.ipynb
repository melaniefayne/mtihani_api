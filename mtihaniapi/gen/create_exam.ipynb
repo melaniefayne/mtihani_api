{
 "cells": [
  {
   "cell_type": "code",
   "execution_count": 1,
   "id": "3e21ab12",
   "metadata": {},
   "outputs": [],
   "source": [
    "from curriculum import get_exam_curriculum\n",
    "from utils import *\n",
    "import json"
   ]
  },
  {
   "cell_type": "code",
   "execution_count": 2,
   "id": "65788c73",
   "metadata": {},
   "outputs": [],
   "source": [
    "bloom_skill_count = 2"
   ]
  },
  {
   "cell_type": "code",
   "execution_count": 3,
   "id": "8b14605a",
   "metadata": {},
   "outputs": [
    {
     "name": "stdout",
     "output_type": "stream",
     "text": [
      "✅ Question breakdown written to output/question_breakdown.json\n"
     ]
    }
   ],
   "source": [
    "question_brd = get_exam_curriculum(\n",
    "    strand_ids=[6,8,4,2], \n",
    "    question_count=10, \n",
    "    is_debug=True, \n",
    "    curriculum_file=\"data/cbc_data.json\",\n",
    "    bloom_skill_count=bloom_skill_count,\n",
    ")"
   ]
  },
  {
   "cell_type": "code",
   "execution_count": 4,
   "id": "61810cd7",
   "metadata": {},
   "outputs": [
    {
     "name": "stdout",
     "output_type": "stream",
     "text": [
      "📝 Input token count (gpt-4o): 1806\n",
      "📦 Raw LLM output:\n",
      " content='[\\n  {\\n    \"questions\": [\\n      \"Amina noticed that her bicycle chain has started to rust. Explain how rusting affects the strength and appearance of the metal.\",\\n      \"List two common uses of aluminum in everyday life.\"\\n    ],\\n    \"expected_answers\": [\\n      \"Rusting weakens the metal by forming a flaky, reddish-brown layer that can cause the metal to break or crumble. It also makes the metal look unattractive.\",\\n      \"Aluminum is commonly used for making kitchen utensils and window frames.\"\\n    ]\\n  },\\n  {\\n    \"questions\": [\\n      \"Brian wants to create a simple electric circuit to light a bulb using a battery, wires, and a switch. Describe how he can connect these components to make the bulb light up.\",\\n      \"Explain why it is important to keep electrical appliances away from water.\"\\n    ],\\n    \"expected_answers\": [\\n      \"Brian should connect one end of the wire to the positive terminal of the battery and the other end to one terminal of the switch. Then, connect another wire from the other terminal of the switch to one terminal of the bulb. Finally, connect a wire from the other terminal of the bulb back to the negative terminal of the battery.\",\\n      \"Water is a good conductor of electricity, and if it comes into contact with electrical appliances, it can cause short circuits or electric shocks, which can be dangerous.\"\\n    ]\\n  },\\n  {\\n    \"questions\": [\\n      \"Name the part of the plant cell that is responsible for photosynthesis.\",\\n      \"Zawadi is looking at a diagram of a cell. How can she tell if it is a plant cell or an animal cell?\"\\n    ],\\n    \"expected_answers\": [\\n      \"The chloroplast is responsible for photosynthesis in a plant cell.\",\\n      \"Zawadi can identify a plant cell by looking for a cell wall and chloroplasts, which are not present in animal cells.\"\\n    ]\\n  },\\n  {\\n    \"questions\": [\\n      \"Musa left his metal tools outside in the rain, and they started to rust. Explain how rusting affects the tools and what Musa can do to prevent it in the future.\",\\n      \"Name two uses of copper in everyday life.\"\\n    ],\\n    \"expected_answers\": [\\n      \"Rusting causes the tools to become weak and brittle, making them less effective and more likely to break. To prevent rusting, Musa can store the tools in a dry place and apply a protective coating like oil or paint.\",\\n      \"Copper is used in electrical wiring and plumbing pipes.\"\\n    ]\\n  },\\n  {\\n    \"questions\": [\\n      \"Amina wants to create a simple compass using a needle and a magnet. Describe the steps she should follow to make the needle act like a compass.\",\\n      \"Explain why magnets are used in refrigerator doors.\"\\n    ],\\n    \"expected_answers\": [\\n      \"Amina should rub the needle with a magnet in one direction several times to magnetize it. Then, she can place the needle on a piece of cork or foam and float it in a bowl of water. The needle will align itself with the Earth\\'s magnetic field, pointing north-south.\",\\n      \"Magnets are used in refrigerator doors to create a tight seal, keeping the door closed and preventing cold air from escaping.\"\\n    ]\\n  },\\n  {\\n    \"questions\": [\\n      \"Evaluate the importance of teaching adolescents about reproductive health and responsible behavior.\",\\n      \"Explain the function of the uterus in the human reproductive system.\"\\n    ],\\n    \"expected_answers\": [\\n      \"Teaching adolescents about reproductive health and responsible behavior is crucial as it helps them make informed decisions, understand bodily changes, and prevent health issues such as sexually transmitted infections and unintended pregnancies.\",\\n      \"The uterus is where a fertilized egg implants and develops into a fetus during pregnancy.\"\\n    ]\\n  },\\n  {\\n    \"questions\": [\\n      \"Zawadi is testing different household liquids with litmus paper. She notices that lemon juice turns blue litmus paper red. Analyze what this indicates about lemon juice.\",\\n      \"Describe one real-life application of acids and one of bases.\"\\n    ],\\n    \"expected_answers\": [\\n      \"The change of blue litmus paper to red indicates that lemon juice is acidic.\",\\n      \"Acids are used in cleaning products like vinegar for removing stains, while bases are used in baking, such as baking soda, to help dough rise.\"\\n    ]\\n  },\\n  {\\n    \"questions\": [\\n      \"Brian wants to demonstrate how a magnet can attract certain materials. Describe a simple experiment he can conduct to show this property.\",\\n      \"Analyze why magnets are used in speakers.\"\\n    ],\\n    \"expected_answers\": [\\n      \"Brian can gather various small objects like paper clips, coins, and plastic buttons. He can then bring a magnet close to these objects to see which ones are attracted to the magnet, demonstrating that only magnetic materials like paper clips are attracted.\",\\n      \"Magnets are used in speakers to create a magnetic field that interacts with the voice coil, causing it to move and produce sound by vibrating the speaker cone.\"\\n    ]\\n  },\\n  {\\n    \"questions\": [\\n      \"Amina is looking at a diagram of a cell. How can she analyze the differences between a plant cell and an animal cell?\",\\n      \"Explain the role of the cell membrane in both plant and animal cells.\"\\n    ],\\n    \"expected_answers\": [\\n      \"Amina can look for the presence of a cell wall and chloroplasts, which are found in plant cells but not in animal cells. Plant cells also have a larger central vacuole compared to animal cells.\",\\n      \"The cell membrane controls the movement of substances in and out of the cell, providing protection and maintaining the cell\\'s environment.\"\\n    ]\\n  },\\n  {\\n    \"questions\": [\\n      \"Design a simple plan to prevent rusting of a metal gate exposed to rain.\",\\n      \"Explain why iron is commonly used in construction.\"\\n    ],\\n    \"expected_answers\": [\\n      \"To prevent rusting, the metal gate can be painted with a rust-resistant paint, regularly cleaned to remove moisture and dirt, and coated with oil or grease to create a protective barrier.\",\\n      \"Iron is strong, durable, and relatively inexpensive, making it ideal for use in construction for structures like beams and frames.\"\\n    ]\\n  }\\n]' additional_kwargs={'refusal': None} response_metadata={'token_usage': {'completion_tokens': 1275, 'prompt_tokens': 1813, 'total_tokens': 3088, 'completion_tokens_details': {'accepted_prediction_tokens': 0, 'audio_tokens': 0, 'reasoning_tokens': 0, 'rejected_prediction_tokens': 0}, 'prompt_tokens_details': {'audio_tokens': 0, 'cached_tokens': 0}}, 'model_name': 'gpt-4o-2024-08-06', 'system_fingerprint': 'fp_9052abe5a7', 'id': 'chatcmpl-BVIEdOVh4BKCpTsKWIkVnv1hPe6I7', 'service_tier': 'default', 'finish_reason': 'stop', 'logprobs': None} id='run--0145277b-bb13-456a-9984-e7f15f31fde3-0' usage_metadata={'input_tokens': 1813, 'output_tokens': 1275, 'total_tokens': 3088, 'input_token_details': {'audio': 0, 'cache_read': 0}, 'output_token_details': {'audio': 0, 'reasoning': 0}}\n",
      "📤 Output token count (gpt-4o): 1274\n",
      "🔢 Total token usage: 3080\n"
     ]
    }
   ],
   "source": [
    "parsed_output = generate_llm_question_list(\n",
    "    llm=OPENAI_LLM_4O,\n",
    "    input_data=question_brd,\n",
    "    bloom_skill_count=bloom_skill_count,\n",
    "    is_debug=True,\n",
    ")"
   ]
  },
  {
   "cell_type": "code",
   "execution_count": 5,
   "id": "e25fd417",
   "metadata": {},
   "outputs": [
    {
     "name": "stdout",
     "output_type": "stream",
     "text": [
      "✅ Question list written to output/question_list.json\n"
     ]
    }
   ],
   "source": [
    "QUESTION_LIST_OUTPUT_FILE = \"output/question_list.json\"\n",
    "\n",
    "with open(QUESTION_LIST_OUTPUT_FILE, 'w', encoding='utf-8') as f:\n",
    "    json.dump(parsed_output, f, ensure_ascii=False, indent=4)\n",
    "\n",
    "print(f\"✅ Question list written to {QUESTION_LIST_OUTPUT_FILE}\")"
   ]
  }
 ],
 "metadata": {
  "kernelspec": {
   "display_name": ".venv",
   "language": "python",
   "name": "python3"
  },
  "language_info": {
   "codemirror_mode": {
    "name": "ipython",
    "version": 3
   },
   "file_extension": ".py",
   "mimetype": "text/x-python",
   "name": "python",
   "nbconvert_exporter": "python",
   "pygments_lexer": "ipython3",
   "version": "3.11.12"
  }
 },
 "nbformat": 4,
 "nbformat_minor": 5
}
