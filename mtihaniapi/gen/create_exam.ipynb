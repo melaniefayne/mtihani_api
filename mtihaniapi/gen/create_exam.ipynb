{
 "cells": [
  {
   "cell_type": "code",
   "execution_count": 20,
   "id": "3e21ab12",
   "metadata": {},
   "outputs": [],
   "source": [
    "from langchain_openai import ChatOpenAI\n",
    "from langchain.prompts import PromptTemplate\n",
    "from langchain.chains import LLMChain\n",
    "from langchain.schema import BaseOutputParser\n",
    "from pydantic import BaseModel, Field, RootModel\n",
    "from typing import List, Dict, Any\n",
    "from curriculum import get_exam_curriculum\n",
    "from constants import *\n",
    "import re\n",
    "import json\n",
    "import tiktoken"
   ]
  },
  {
   "cell_type": "code",
   "execution_count": 21,
   "id": "c5568cfb",
   "metadata": {},
   "outputs": [],
   "source": [
    "# Prompt\n",
    "template = \"\"\"You are an expert Integrated Science teacher preparing a comprehensive exam for Junior Secondary School in Kenya.\n",
    "\n",
    "You will receive a list of breakdown items. For each item:\n",
    "- Generate EXACTLY one question.\n",
    "- The question MUST align strictly with the `strand`, `sub_strand`, `target_bloom_skill`, and `skills_to_assess`.\n",
    "- Use scenario-based questions (e.g. involving Mary, James, Sofia) where appropriate, especially for application and comprehension skills.\n",
    "- For knowledge-based items, use direct questions when suitable (e.g. definitions, naming, listing).\n",
    "\n",
    "Rules:\n",
    "- Do NOT mix content between strands.\n",
    "- Do NOT skip any item.\n",
    "- Keep questions academically appropriate and realistic for junior secondary learners.\n",
    "\n",
    "Use this structure per item:\n",
    "{{\n",
    "  \"question\": \"[your generated question here]\",\n",
    "  \"expected_answer\": \"[concise but accurate answer here]\"\n",
    "}}\n",
    "\n",
    "Here are the breakdown items:\n",
    "{question_breakdown}\n",
    "\n",
    "Return ONLY a valid JSON array (no explanation, no markdown). Each object must have exactly two fields: \"question\" and \"expected_answer\".\n",
    "\"\"\"\n",
    "\n",
    "prompt = PromptTemplate(\n",
    "    input_variables=[\"question_breakdown\"],\n",
    "    template=template\n",
    ")\n"
   ]
  },
  {
   "cell_type": "code",
   "execution_count": 22,
   "id": "c5dfaa51",
   "metadata": {},
   "outputs": [],
   "source": [
    "def get_token_count_from_str(text: str, llm_model: str) -> int:\n",
    "    encoding = tiktoken.encoding_for_model(llm_model)\n",
    "    return len(encoding.encode(text))\n",
    "\n",
    "def clean_llm_response(raw: str) -> str:\n",
    "    \"\"\"Strip ```json and ``` from markdown-wrapped LLM responses.\"\"\"\n",
    "    return re.sub(r\"^```json\\s*|\\s*```$\", \"\", raw.strip(), flags=re.MULTILINE)\n",
    "\n",
    "def llm_generate_exam(llm: Any, input_data: Dict[str, Any], llm_model: str = \"gpt-4o\") -> List[Dict[str, Any]]:\n",
    "    # LCEL-style prompt-to-LLM pipe\n",
    "    runnable = prompt | llm\n",
    "\n",
    "    # Format and count input\n",
    "    formatted_prompt = prompt.format(question_breakdown=json.dumps(input_data))\n",
    "    input_tokens = get_token_count_from_str(formatted_prompt, llm_model)\n",
    "    print(f\"📝 Input token count ({llm_model}): {input_tokens}\")\n",
    "\n",
    "    # Invoke model\n",
    "    response = runnable.invoke({\"question_breakdown\": json.dumps(input_data)})\n",
    "    print(\"📦 Raw LLM output:\\n\", response)\n",
    "\n",
    "    # Clean and count output tokens\n",
    "    cleaned = clean_llm_response(response.content)\n",
    "    output_tokens = get_token_count_from_str(cleaned, llm_model)\n",
    "    print(f\"📤 Output token count ({llm_model}): {output_tokens}\")\n",
    "    print(f\"🔢 Total token usage: {input_tokens + output_tokens}\")\n",
    "\n",
    "    # Parse response\n",
    "    try:\n",
    "        parsed = json.loads(cleaned)\n",
    "        return parsed\n",
    "    except json.JSONDecodeError as e:\n",
    "        print(\"❌ JSON parsing failed:\", e)\n",
    "        return [{\"raw\": response}]"
   ]
  },
  {
   "cell_type": "code",
   "execution_count": 23,
   "id": "84f5d375",
   "metadata": {},
   "outputs": [],
   "source": [
    "OPENAI_LLM_4O = ChatOpenAI(\n",
    "    model_name=\"gpt-4o\",\n",
    "    temperature=0.1,\n",
    "    max_tokens=2048,\n",
    "    openai_api_key=OPENAI_API_KEY,\n",
    ")"
   ]
  },
  {
   "cell_type": "code",
   "execution_count": 24,
   "id": "8b14605a",
   "metadata": {},
   "outputs": [
    {
     "name": "stdout",
     "output_type": "stream",
     "text": [
      "✅ Question breakdown written to output/question_breakdown.json\n"
     ]
    }
   ],
   "source": [
    "question_brd = get_exam_curriculum(strand_ids=[1,2,3,4,5,6,7,8,9,10], question_count=25)"
   ]
  },
  {
   "cell_type": "code",
   "execution_count": 25,
   "id": "61810cd7",
   "metadata": {},
   "outputs": [
    {
     "name": "stdout",
     "output_type": "stream",
     "text": [
      "📝 Input token count (gpt-4o): 3340\n",
      "📦 Raw LLM output:\n",
      " content='```json\\n[\\n    {\\n        \"question\": \"What are some basic skills required to use and care for laboratory apparatus and instruments effectively?\",\\n        \"expected_answer\": \"Basic skills include proper handling, cleaning, and storage of laboratory apparatus and instruments to ensure their longevity and accuracy.\"\\n    },\\n    {\\n        \"question\": \"How can you identify an acid and a base using litmus paper?\",\\n        \"expected_answer\": \"Acids turn blue litmus paper red, while bases turn red litmus paper blue.\"\\n    },\\n    {\\n        \"question\": \"What are the different types of pollution, and what causes them?\",\\n        \"expected_answer\": \"Types of pollution include air, water, soil, and noise pollution. Causes include industrial emissions, waste disposal, agricultural activities, and urbanization.\"\\n    },\\n    {\\n        \"question\": \"What is the mechanical advantage of a lever if the effort arm is 2 meters and the load arm is 0.5 meters?\",\\n        \"expected_answer\": \"The mechanical advantage is 4, calculated by dividing the length of the effort arm by the length of the load arm (2/0.5).\"\\n    },\\n    {\\n        \"question\": \"What class of fire involves flammable liquids, and what type of extinguisher should be used?\",\\n        \"expected_answer\": \"Class B fires involve flammable liquids, and a foam or dry chemical extinguisher should be used.\"\\n    },\\n    {\\n        \"question\": \"Why is it important to conserve the environment, and what are some methods used in environmental conservation?\",\\n        \"expected_answer\": \"Conserving the environment is important to maintain biodiversity and ensure sustainable resources. Methods include recycling, afforestation, and pollution control.\"\\n    },\\n    {\\n        \"question\": \"What are the advantages and disadvantages of hard and soft water?\",\\n        \"expected_answer\": \"Hard water can cause scaling in pipes but is beneficial for health due to minerals. Soft water is better for cleaning but lacks minerals.\"\\n    },\\n    {\\n        \"question\": \"What are some common uses of metals and alloys in everyday life?\",\\n        \"expected_answer\": \"Metals and alloys are used in construction, transportation, electrical wiring, and household appliances due to their strength and conductivity.\"\\n    },\\n    {\\n        \"question\": \"What are some properties of a magnet, and how are magnets used in daily life?\",\\n        \"expected_answer\": \"Magnets have north and south poles and attract ferromagnetic materials. They are used in compasses, motors, and magnetic locks.\"\\n    },\\n    {\\n        \"question\": \"If James accidentally spills a chemical in the laboratory, what First Aid measures should he take?\",\\n        \"expected_answer\": \"James should wash the affected area with plenty of water, remove contaminated clothing, and seek medical attention if necessary.\"\\n    },\\n    {\\n        \"question\": \"How can you distinguish between a physical change and a chemical change using an example?\",\\n        \"expected_answer\": \"A physical change, like melting ice, does not change the substance\\'s identity, while a chemical change, like rusting iron, forms a new substance.\"\\n    },\\n    {\\n        \"question\": \"How can you classify elements into metals and non-metals based on their atomic structure?\",\\n        \"expected_answer\": \"Metals have few electrons in their outer shell and tend to lose them, while non-metals have more electrons in their outer shell and tend to gain or share electrons.\"\\n    },\\n    {\\n        \"question\": \"What are some common electrical appliances used in day-to-day life, and what safety measures should be observed when handling them?\",\\n        \"expected_answer\": \"Common appliances include refrigerators, televisions, and irons. Safety measures include not overloading sockets and keeping appliances away from water.\"\\n    },\\n    {\\n        \"question\": \"How can you demonstrate the process of osmosis using a simple experiment?\",\\n        \"expected_answer\": \"Place a potato slice in saltwater and another in freshwater. The slice in freshwater will swell due to osmosis, while the one in saltwater will shrink.\"\\n    },\\n    {\\n        \"question\": \"What is the difference between an element and a compound?\",\\n        \"expected_answer\": \"An element is a pure substance made of one type of atom, while a compound consists of two or more elements chemically combined.\"\\n    },\\n    {\\n        \"question\": \"How is energy transformed from one form to another in a hydroelectric power plant?\",\\n        \"expected_answer\": \"In a hydroelectric power plant, potential energy of water is converted to kinetic energy, which is then transformed into electrical energy.\"\\n    },\\n    {\\n        \"question\": \"What are the functions of the kidneys in the human excretory system?\",\\n        \"expected_answer\": \"The kidneys filter waste products from the blood, regulate water and electrolyte balance, and produce urine.\"\\n    },\\n    {\\n        \"question\": \"What are some ways to reduce friction in machinery?\",\\n        \"expected_answer\": \"Ways to reduce friction include using lubricants, polishing surfaces, and using ball bearings.\"\\n    },\\n    {\\n        \"question\": \"Why is science important in daily life?\",\\n        \"expected_answer\": \"Science is important because it helps us understand the natural world, solve problems, and improve technology and quality of life.\"\\n    },\\n    {\\n        \"question\": \"How does pressure act differently in solids, liquids, and gases?\",\\n        \"expected_answer\": \"In solids, pressure is exerted in a specific direction; in liquids, it acts equally in all directions; in gases, it is exerted uniformly throughout the container.\"\\n    },\\n    {\\n        \"question\": \"What are the functions of the ovaries in the female reproductive system?\",\\n        \"expected_answer\": \"The ovaries produce eggs (ova) and secrete hormones like estrogen and progesterone.\"\\n    },\\n    {\\n        \"question\": \"What are the main differences between plant and animal cells?\",\\n        \"expected_answer\": \"Plant cells have a cell wall and chloroplasts, while animal cells do not. Plant cells also have a large central vacuole, unlike animal cells.\"\\n    },\\n    {\\n        \"question\": \"What is the function of the uterus in the female reproductive system?\",\\n        \"expected_answer\": \"The uterus is where a fertilized egg implants and develops into a fetus during pregnancy.\"\\n    },\\n    {\\n        \"question\": \"What is a common method used to separate a homogeneous mixture, such as saltwater?\",\\n        \"expected_answer\": \"Distillation is a common method used to separate salt from water in a homogeneous mixture like saltwater.\"\\n    },\\n    {\\n        \"question\": \"What are some basic skills required to use and care for laboratory apparatus and instruments effectively?\",\\n        \"expected_answer\": \"Basic skills include proper handling, cleaning, and storage of laboratory apparatus and instruments to ensure their longevity and accuracy.\"\\n    }\\n]\\n```' additional_kwargs={'refusal': None} response_metadata={'token_usage': {'completion_tokens': 1387, 'prompt_tokens': 3347, 'total_tokens': 4734, 'completion_tokens_details': {'accepted_prediction_tokens': 0, 'audio_tokens': 0, 'reasoning_tokens': 0, 'rejected_prediction_tokens': 0}, 'prompt_tokens_details': {'audio_tokens': 0, 'cached_tokens': 0}}, 'model_name': 'gpt-4o-2024-08-06', 'system_fingerprint': 'fp_d8864f8b6b', 'id': 'chatcmpl-BTPQNQ2HsiSnCMnUc1x86a1EggDIK', 'service_tier': 'default', 'finish_reason': 'stop', 'logprobs': None} id='run--5a83b800-d985-4ec3-b2a6-9423e2b47165-0' usage_metadata={'input_tokens': 3347, 'output_tokens': 1387, 'total_tokens': 4734, 'input_token_details': {'audio': 0, 'cache_read': 0}, 'output_token_details': {'audio': 0, 'reasoning': 0}}\n",
      "📤 Output token count (gpt-4o): 1382\n",
      "🔢 Total token usage: 4722\n"
     ]
    }
   ],
   "source": [
    "parsed_output = llm_generate_exam(\n",
    "    llm=OPENAI_LLM_4O,\n",
    "    input_data=question_brd\n",
    ")"
   ]
  },
  {
   "cell_type": "code",
   "execution_count": 27,
   "id": "e25fd417",
   "metadata": {},
   "outputs": [
    {
     "name": "stdout",
     "output_type": "stream",
     "text": [
      "✅ Question list written to output/question_list.json\n"
     ]
    }
   ],
   "source": [
    "# Save parsed_output (already a list of dicts) to JSON\n",
    "with open(QUESTION_LIST_OUTPUT_FILE, 'w', encoding='utf-8') as f:\n",
    "    json.dump(parsed_output, f, ensure_ascii=False, indent=4)\n",
    "\n",
    "print(f\"✅ Question list written to {QUESTION_LIST_OUTPUT_FILE}\")"
   ]
  }
 ],
 "metadata": {
  "kernelspec": {
   "display_name": ".venv",
   "language": "python",
   "name": "python3"
  },
  "language_info": {
   "codemirror_mode": {
    "name": "ipython",
    "version": 3
   },
   "file_extension": ".py",
   "mimetype": "text/x-python",
   "name": "python",
   "nbconvert_exporter": "python",
   "pygments_lexer": "ipython3",
   "version": "3.11.12"
  }
 },
 "nbformat": 4,
 "nbformat_minor": 5
}
